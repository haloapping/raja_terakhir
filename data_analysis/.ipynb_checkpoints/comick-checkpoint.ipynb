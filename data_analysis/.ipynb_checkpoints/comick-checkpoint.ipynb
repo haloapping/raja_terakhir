{
 "cells": [
  {
   "cell_type": "markdown",
   "id": "772de862-c265-4f86-8b08-6c4134984057",
   "metadata": {},
   "source": [
    "# Import Modules"
   ]
  },
  {
   "cell_type": "code",
   "execution_count": 1,
   "id": "d1fe9f17-5c80-4b0e-987c-ab168cd79934",
   "metadata": {},
   "outputs": [],
   "source": [
    "import pandas as pd\n",
    "import matplotlib.pyplot as plt"
   ]
  },
  {
   "cell_type": "markdown",
   "id": "c6e521b8-d653-4061-a0e3-867dfac3e0a6",
   "metadata": {},
   "source": [
    "# Plot"
   ]
  },
  {
   "cell_type": "code",
   "execution_count": 2,
   "id": "85167b4b-542b-4d5a-af14-d67608eb2243",
   "metadata": {},
   "outputs": [],
   "source": [
    "context_1_losses = pd.read_csv(\"../logs/comick/1_contexts/10-11-2022_10-29-38/epoch_losses.csv\")\n",
    "context_5_losses = pd.read_csv(\"../logs/comick/5_contexts/10-11-2022_10-46-07/epoch_losses.csv\")\n",
    "context_10_losses = pd.read_csv(\"../logs/comick/10_contexts/10-11-2022_11-02-37/epoch_losses.csv\")\n",
    "context_15_losses = pd.read_csv(\"../logs/comick/15_contexts/10-11-2022_11-34-47/epoch_losses.csv\")\n",
    "context_20_losses = pd.read_csv(\"../logs/comick/20_contexts/10-11-2022_11-58-43/epoch_losses.csv\")\n",
    "context_25_losses = pd.read_csv(\"../logs/comick/25_contexts/10-11-2022_12-21-42/epoch_losses.csv\")\n",
    "context_30_losses = pd.read_csv(\"../logs/comick/30_contexts/10-11-2022_12-44-19/epoch_losses.csv\")\n",
    "context_35_losses = pd.read_csv(\"../logs/comick/35_contexts/10-11-2022_13-22-21/epoch_losses.csv\")\n",
    "context_40_losses = pd.read_csv(\"../logs/comick/40_contexts/10-11-2022_13-47-43/epoch_losses.csv\")\n",
    "context_45_losses = pd.read_csv(\"../logs/comick/45_contexts/10-11-2022_14-39-31/epoch_losses.csv\")\n",
    "context_50_losses = pd.read_csv(\"../logs/comick/50_contexts/10-11-2022_15-24-28/epoch_losses.csv\")\n",
    "context_55_losses = pd.read_csv(\"../logs/comick/55_contexts/10-11-2022_16-08-07/epoch_losses.csv\")\n",
    "context_60_losses = pd.read_csv(\"../logs/comick/60_contexts/10-11-2022_16-36-41/epoch_losses.csv\")\n",
    "context_65_losses = pd.read_csv(\"../logs/comick/65_contexts/10-11-2022_17-31-59/epoch_losses.csv\")\n",
    "context_70_losses = pd.read_csv(\"../logs/comick/70_contexts/10-11-2022_18-03-50/epoch_losses.csv\")\n",
    "context_75_losses = pd.read_csv(\"../logs/comick/75_contexts/10-11-2022_18-36-07/epoch_losses.csv\")\n",
    "context_79_losses = pd.read_csv(\"../logs/comick/79_contexts/10-11-2022_19-39-04/epoch_losses.csv\")\n",
    "\n",
    "context_1_metrics = pd.read_csv(\"../logs/comick/1_contexts/10-11-2022_10-29-38/epoch_metric_scores.csv\")\n",
    "context_5_metrics = pd.read_csv(\"../logs/comick/5_contexts/10-11-2022_10-46-07/epoch_metric_scores.csv\")\n",
    "context_10_metrics = pd.read_csv(\"../logs/comick/10_contexts/10-11-2022_11-02-37/epoch_metric_scores.csv\")\n",
    "context_15_metrics = pd.read_csv(\"../logs/comick/15_contexts/10-11-2022_11-34-47/epoch_metric_scores.csv\")\n",
    "context_20_metrics = pd.read_csv(\"../logs/comick/20_contexts/10-11-2022_11-58-43/epoch_metric_scores.csv\")\n",
    "context_25_metrics = pd.read_csv(\"../logs/comick/25_contexts/10-11-2022_12-21-42/epoch_metric_scores.csv\")\n",
    "context_30_metrics = pd.read_csv(\"../logs/comick/30_contexts/10-11-2022_12-44-19/epoch_metric_scores.csv\")\n",
    "context_35_metrics = pd.read_csv(\"../logs/comick/35_contexts/10-11-2022_13-22-21/epoch_metric_scores.csv\")\n",
    "context_40_metrics = pd.read_csv(\"../logs/comick/40_contexts/10-11-2022_13-47-43/epoch_metric_scores.csv\")\n",
    "context_45_metrics = pd.read_csv(\"../logs/comick/45_contexts/10-11-2022_14-39-31/epoch_metric_scores.csv\")\n",
    "context_50_metrics = pd.read_csv(\"../logs/comick/50_contexts/10-11-2022_15-24-28/epoch_metric_scores.csv\")\n",
    "context_55_metrics = pd.read_csv(\"../logs/comick/55_contexts/10-11-2022_16-08-07/epoch_metric_scores.csv\")\n",
    "context_60_metrics = pd.read_csv(\"../logs/comick/60_contexts/10-11-2022_16-36-41/epoch_metric_scores.csv\")\n",
    "context_65_metrics = pd.read_csv(\"../logs/comick/65_contexts/10-11-2022_17-31-59/epoch_metric_scores.csv\")\n",
    "context_70_metrics = pd.read_csv(\"../logs/comick/70_contexts/10-11-2022_18-03-50/epoch_metric_scores.csv\")\n",
    "context_75_metrics = pd.read_csv(\"../logs/comick/75_contexts/10-11-2022_18-36-07/epoch_metric_scores.csv\")\n",
    "context_79_metrics = pd.read_csv(\"../logs/comick/79_contexts/10-11-2022_19-39-04/epoch_metric_scores.csv\")"
   ]
  },
  {
   "cell_type": "code",
   "execution_count": null,
   "id": "f887bfbb-4189-476a-85a6-ead56a01711c",
   "metadata": {},
   "outputs": [],
   "source": [
    "fig, (ax_1, ax_2) = plt.subplots(nrows=1, ncols=2, tight_layout=True, figsize=(20, 7), dpi=200)\n",
    "\n",
    "fig.suptitle(\"Comick Training\", fontsize=15);\n",
    "\n",
    "ax_1.plot(context_1_losses.epoch, context_1_losses.loss, label=f\"context=1 ({context_1_losses.loss.min():.6f})\")\n",
    "ax_1.plot(context_5_losses.epoch, context_5_losses.loss, label=f\"context=5 ({context_5_losses.loss.min():.6f})\")\n",
    "ax_1.plot(context_10_losses.epoch, context_10_losses.loss, label=f\"context=10 ({context_10_losses.loss.min():.6f})\")\n",
    "ax_1.plot(context_15_losses.epoch, context_15_losses.loss, label=f\"context=15 ({context_15_losses.loss.min():.6f})\")\n",
    "ax_1.plot(context_20_losses.epoch, context_20_losses.loss, label=f\"context=20 ({context_20_losses.loss.min():.6f})\")\n",
    "ax_1.plot(context_25_losses.epoch, context_25_losses.loss, label=f\"context=25 ({context_25_losses.loss.min():.6f})\")\n",
    "ax_1.plot(context_30_losses.epoch, context_30_losses.loss, label=f\"context=30 ({context_30_losses.loss.min():.6f})\")\n",
    "ax_1.plot(context_35_losses.epoch, context_35_losses.loss, label=f\"context=35 ({context_35_losses.loss.min():.6f})\")\n",
    "ax_1.plot(context_40_losses.epoch, context_40_losses.loss, label=f\"context=40 ({context_40_losses.loss.min():.6f})\")\n",
    "ax_1.plot(context_45_losses.epoch, context_45_losses.loss, label=f\"context=45 ({context_45_losses.loss.min():.6f})\")\n",
    "ax_1.plot(context_50_losses.epoch, context_50_losses.loss, label=f\"context=50 ({context_50_losses.loss.min():.6f})\")\n",
    "ax_1.plot(context_55_losses.epoch, context_55_losses.loss, label=f\"context=55 ({context_55_losses.loss.min():.6f})\")\n",
    "ax_1.plot(context_60_losses.epoch, context_60_losses.loss, label=f\"context=60 ({context_60_losses.loss.min():.6f})\")\n",
    "ax_1.plot(context_65_losses.epoch, context_65_losses.loss, label=f\"context=65 ({context_65_losses.loss.min():.6f})\")\n",
    "ax_1.plot(context_70_losses.epoch, context_70_losses.loss, label=f\"context=70 ({context_70_losses.loss.min():.6f})\")\n",
    "ax_1.plot(context_75_losses.epoch, context_75_losses.loss, label=f\"context=75 ({context_75_losses.loss.min():.6f})\")\n",
    "ax_1.plot(context_79_losses.epoch, context_79_losses.loss, label=f\"context=79 ({context_79_losses.loss.min():.6f})\")\n",
    "ax_1.set_title(\"Loss each of context size\")\n",
    "ax_1.set_xlabel(\"Epoch\")\n",
    "ax_1.set_ylabel(\"Loss\")\n",
    "ax_1.axvline(x=9, color='green', linestyle='--')\n",
    "ax_1.text(x=9.2, y=2, s=\"Model Convergen\")\n",
    "ax_1.legend()\n",
    "ax_1.grid()\n",
    "\n",
    "ax_2.plot(context_1_metrics.epoch, context_1_metrics.f1_score, label=f\"context=1 ({context_1_metrics.f1_score.max():.6f})\")\n",
    "ax_2.plot(context_5_metrics.epoch, context_5_metrics.f1_score, label=f\"context=5 ({context_5_metrics.f1_score.max():.6f})\")\n",
    "ax_2.plot(context_10_metrics.epoch, context_10_metrics.f1_score, label=f\"context=10 ({context_10_metrics.f1_score.max():.6f})\")\n",
    "ax_2.plot(context_15_metrics.epoch, context_15_metrics.f1_score, label=f\"context=15 ({context_15_metrics.f1_score.max():.6f})\")\n",
    "ax_2.plot(context_20_metrics.epoch, context_20_metrics.f1_score, label=f\"context=20 ({context_20_metrics.f1_score.max():.6f})\")\n",
    "ax_2.plot(context_25_metrics.epoch, context_25_metrics.f1_score, label=f\"context=25 ({context_25_metrics.f1_score.max():.6f})\")\n",
    "ax_2.plot(context_30_metrics.epoch, context_30_metrics.f1_score, label=f\"context=30 ({context_30_metrics.f1_score.max():.6f})\")\n",
    "ax_2.plot(context_35_metrics.epoch, context_35_metrics.f1_score, label=f\"context=35 ({context_35_metrics.f1_score.max():.6f})\")\n",
    "ax_2.plot(context_40_metrics.epoch, context_40_metrics.f1_score, label=f\"context=40 ({context_40_metrics.f1_score.max():.6f})\")\n",
    "ax_2.plot(context_45_metrics.epoch, context_45_metrics.f1_score, label=f\"context=45 ({context_45_metrics.f1_score.max():.6f})\")\n",
    "ax_2.plot(context_50_metrics.epoch, context_50_metrics.f1_score, label=f\"context=50 ({context_50_metrics.f1_score.max():.6f})\")\n",
    "ax_2.plot(context_55_metrics.epoch, context_55_metrics.f1_score, label=f\"context=55 ({context_55_metrics.f1_score.max():.6f})\")\n",
    "ax_2.plot(context_60_metrics.epoch, context_60_metrics.f1_score, label=f\"context=60 ({context_60_metrics.f1_score.max():.6f})\")\n",
    "ax_2.plot(context_65_metrics.epoch, context_65_metrics.f1_score, label=f\"context=65 ({context_65_metrics.f1_score.max():.6f})\")\n",
    "ax_2.plot(context_70_metrics.epoch, context_70_metrics.f1_score, label=f\"context=70 ({context_70_metrics.f1_score.max():.6f})\")\n",
    "ax_2.plot(context_75_metrics.epoch, context_75_metrics.f1_score, label=f\"context=75 ({context_75_metrics.f1_score.max():.6f})\")\n",
    "ax_2.plot(context_79_metrics.epoch, context_79_metrics.f1_score, label=f\"context=79 ({context_79_metrics.f1_score.max():.6f})\")\n",
    "ax_2.set_title(\"F1 Score each of context size\")\n",
    "ax_2.set_xlabel(\"Epoch\")\n",
    "ax_2.set_ylabel(\"F1 Score\")\n",
    "ax_2.axvline(x=9, color='green', linestyle='--')\n",
    "ax_2.text(x=9.2, y=0.7, s=\"Model Convergen\")\n",
    "ax_2.legend()\n",
    "ax_2.grid();\n",
    "\n",
    "fig.savefig(\"../images/data_analysis/comick_training.jpg\", dpi=200)"
   ]
  },
  {
   "cell_type": "code",
   "execution_count": null,
   "id": "974b399d-db21-4543-bb9e-96bf7ac2d33a",
   "metadata": {},
   "outputs": [],
   "source": []
  }
 ],
 "metadata": {
  "kernelspec": {
   "display_name": "default:Python",
   "language": "python",
   "name": "conda-env-default-py"
  },
  "language_info": {
   "codemirror_mode": {
    "name": "ipython",
    "version": 3
   },
   "file_extension": ".py",
   "mimetype": "text/x-python",
   "name": "python",
   "nbconvert_exporter": "python",
   "pygments_lexer": "ipython3",
   "version": "3.9.13"
  }
 },
 "nbformat": 4,
 "nbformat_minor": 5
}
