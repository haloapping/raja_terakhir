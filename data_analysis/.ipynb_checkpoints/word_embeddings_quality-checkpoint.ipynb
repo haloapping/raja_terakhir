{
 "cells": [
  {
   "cell_type": "markdown",
   "id": "c38fa2f5-8329-4a6e-9052-f31e21ea1a80",
   "metadata": {},
   "source": [
    "# Import Modules"
   ]
  },
  {
   "cell_type": "code",
   "execution_count": 1,
   "id": "f3aac804-7d18-4214-85e6-e23af482c824",
   "metadata": {},
   "outputs": [],
   "source": [
    "import csv\n",
    "import string\n",
    "import pandas as pd\n",
    "import numpy as np\n",
    "import plotly.express as px\n",
    "\n",
    "from tqdm.notebook import tqdm\n",
    "from umap import UMAP\n",
    "from polyglot.mapping import Embedding, CaseExpander, DigitExpander"
   ]
  },
  {
   "cell_type": "markdown",
   "id": "eef8651a-d82b-4ed3-a9b1-b14fb68e1292",
   "metadata": {},
   "source": [
    "# Read dataset and word embeddings"
   ]
  },
  {
   "cell_type": "code",
   "execution_count": 2,
   "id": "af8ebb29-da6c-4434-a58b-9dcade7ca2c6",
   "metadata": {},
   "outputs": [],
   "source": [
    "dataset = pd.read_csv(\"../datasets/raw/Indonesian_Manually_Tagged_Corpus.tsv\", sep=\"\\t\", header=None, names=[\"token\", \"tag\"], quoting=csv.QUOTE_NONE, skip_blank_lines=False)\n",
    "chars = list(string.ascii_letters + string.digits + string.punctuation)\n",
    "vocabs = set(dataset.token.values.tolist() + chars)\n",
    "vocabs.remove(np.nan)\n",
    "vocabs = list(vocabs)\n",
    "n_vocab = len(vocabs)"
   ]
  },
  {
   "cell_type": "code",
   "execution_count": 3,
   "id": "1cba2f6a-532d-4ee4-bf0b-ad35717dc2f0",
   "metadata": {},
   "outputs": [],
   "source": [
    "embeddings = Embedding.load(\"../word_embeddings/polyglot/idn_embeddings.tar.bz2\")\n",
    "embeddings.apply_expansion(DigitExpander)\n",
    "embeddings.apply_expansion(CaseExpander)"
   ]
  },
  {
   "cell_type": "code",
   "execution_count": 4,
   "id": "fcea6e67-aa88-4d0a-949a-47485ebfc3ef",
   "metadata": {},
   "outputs": [],
   "source": [
    "def count_oov(vocabs, return_vocabs=False):\n",
    "    counter = 0\n",
    "\n",
    "    if return_vocabs:\n",
    "        oov_tokens = []\n",
    "        for vocab in tqdm(vocabs):\n",
    "            if vocab not in embeddings:\n",
    "                counter += 1\n",
    "                oov_tokens.append(vocab)\n",
    "        \n",
    "        return counter, oov_tokens\n",
    "    else:\n",
    "        for vocab in tqdm(vocabs):\n",
    "            if vocab not in embeddings:\n",
    "                counter += 1        \n",
    "    \n",
    "        return counter"
   ]
  },
  {
   "cell_type": "code",
   "execution_count": 6,
   "id": "ac9365fe-b056-47b1-8cd0-99b73b53f69c",
   "metadata": {},
   "outputs": [
    {
     "data": {
      "text/plain": [
       "array([ 0.05146271,  0.175477  ,  0.02364828,  0.17820524, -0.16143638,\n",
       "       -0.12378124,  0.10014573,  0.03349239, -0.010003  ,  0.02992173,\n",
       "        0.16226327, -0.00255011,  0.09678067, -0.05368068, -0.10492601,\n",
       "        0.13786915,  0.12051689, -0.31007788, -0.04915912, -0.18144271,\n",
       "        0.12381086, -0.06993873, -0.33209538,  0.01206311, -0.06703526,\n",
       "        0.06698674, -0.06917112, -0.03930984, -0.01370085, -0.05708031,\n",
       "        0.17919478,  0.25680602, -0.01040347,  0.15579537,  0.03411534,\n",
       "        0.0319208 ,  0.2286561 ,  0.20476697,  0.00549521,  0.13434035,\n",
       "        0.00115025,  0.12270094,  0.25253975, -0.01407429,  0.1662935 ,\n",
       "       -0.02978881,  0.03272894,  0.11718407,  0.1556662 ,  0.21797928,\n",
       "       -0.22242372,  0.12555775,  0.00760012, -0.0521291 , -0.01432482,\n",
       "        0.14478272, -0.12936734,  0.05674693, -0.04861335,  0.1112802 ,\n",
       "        0.33234203, -0.14025997,  0.09417383, -0.15621948], dtype=float32)"
      ]
     },
     "execution_count": 6,
     "metadata": {},
     "output_type": "execute_result"
    }
   ],
   "source": [
    "embeddings[\"halo\"]"
   ]
  },
  {
   "cell_type": "markdown",
   "id": "e1020075-6844-4418-9347-6e460b5b122e",
   "metadata": {},
   "source": [
    "# Check character in word embedding"
   ]
  },
  {
   "cell_type": "code",
   "execution_count": 5,
   "id": "62d7f6a9-5974-4298-abe4-d2c8882dcc53",
   "metadata": {},
   "outputs": [
    {
     "data": {
      "application/vnd.jupyter.widget-view+json": {
       "model_id": "a62a7bea4b1e4792b1c01431e11b1528",
       "version_major": 2,
       "version_minor": 0
      },
      "text/plain": [
       "  0%|          | 0/94 [00:00<?, ?it/s]"
      ]
     },
     "metadata": {},
     "output_type": "display_data"
    },
    {
     "name": "stdout",
     "output_type": "stream",
     "text": [
      "Characters: ['a', 'b', 'c', 'd', 'e', 'f', 'g', 'h', 'i', 'j', 'k', 'l', 'm', 'n', 'o', 'p', 'q', 'r', 's', 't', 'u', 'v', 'w', 'x', 'y', 'z', 'A', 'B', 'C', 'D', 'E', 'F', 'G', 'H', 'I', 'J', 'K', 'L', 'M', 'N', 'O', 'P', 'Q', 'R', 'S', 'T', 'U', 'V', 'W', 'X', 'Y', 'Z', '0', '1', '2', '3', '4', '5', '6', '7', '8', '9', '!', '\"', '#', '$', '%', '&', \"'\", '(', ')', '*', '+', ',', '-', '.', '/', ':', ';', '<', '=', '>', '?', '@', '[', '\\\\', ']', '^', '_', '`', '{', '|', '}', '~']\n",
      "Number of OOV chars: 0\n",
      "OOV chars: []\n"
     ]
    }
   ],
   "source": [
    "n_oov_chars, oov_chars = count_oov(chars, return_vocabs=True)\n",
    "\n",
    "print(f\"Characters: {chars}\")\n",
    "print(f\"Number of OOV chars: {n_oov_chars}\")\n",
    "print(f\"OOV chars: {oov_chars}\")"
   ]
  },
  {
   "cell_type": "markdown",
   "id": "8d0a62cd-0f5a-43f4-ad35-0ae00babe157",
   "metadata": {},
   "source": [
    "# Filter vocabs not in words embedding"
   ]
  },
  {
   "cell_type": "code",
   "execution_count": 6,
   "id": "bfe073fb-ab23-4975-bb6e-326fe839aa00",
   "metadata": {},
   "outputs": [
    {
     "data": {
      "application/vnd.jupyter.widget-view+json": {
       "model_id": "6a67a3be4a8f477ea0b1ed46fea2c7f9",
       "version_major": 2,
       "version_minor": 0
      },
      "text/plain": [
       "  0%|          | 0/18421 [00:00<?, ?it/s]"
      ]
     },
     "metadata": {},
     "output_type": "display_data"
    },
    {
     "name": "stdout",
     "output_type": "stream",
     "text": [
      "Number of vocab: 18327\n",
      "\n",
      "Number of OOV vocab: 3748 (20.45%)\n",
      "OOV vocab: ['semaksimal mungkin', 'Perusahaan-perusahaan', 'angkatan darat', 'UKTI', 'Joelianto', 'baru-baru ini', 'Resettlement', 'Al-Hariri', 'berkali-kali', 'partikulir']\n",
      "\n",
      "Number of not OOV vocab: 14579 (79.55%)\n",
      "Not OOV vocab: ['Polri', 'keampuhan', '400', 'menetralkan', 'Fatah', 'tenang', 'system', '17,00', 'alternatif', 'Rahmat']\n"
     ]
    }
   ],
   "source": [
    "n_oov_vocab, oov_vocabs = count_oov(vocabs + chars, return_vocabs=True)\n",
    "n_not_oov_vocab, not_oov_vocabs= len(vocabs) - n_oov_vocab, list(set(vocabs).difference(set(oov_vocabs)))\n",
    "\n",
    "print(f\"Number of vocab: {n_vocab}\\n\")\n",
    "\n",
    "print(f\"Number of OOV vocab: {n_oov_vocab} ({round(n_oov_vocab / n_vocab * 100, 2)}%)\")\n",
    "print(f\"OOV vocab: {oov_vocabs[:10]}\\n\")\n",
    "\n",
    "print(f\"Number of not OOV vocab: {n_not_oov_vocab} ({round(n_not_oov_vocab / n_vocab * 100, 2)}%)\")\n",
    "print(f\"Not OOV vocab: {not_oov_vocabs[:10]}\")"
   ]
  },
  {
   "cell_type": "markdown",
   "id": "0831e2fa-bb01-4875-9b30-d7a483ff9313",
   "metadata": {},
   "source": [
    "# Visualize word embedding"
   ]
  },
  {
   "cell_type": "code",
   "execution_count": 7,
   "id": "a7e1289e-5737-435e-a976-f3d05f1a3a57",
   "metadata": {},
   "outputs": [],
   "source": [
    "word_embeddings = []\n",
    "\n",
    "for vocab in not_oov_vocabs:\n",
    "    word_embeddings.append(embeddings[vocab])\n",
    "\n",
    "word_embeddings = np.array(word_embeddings)"
   ]
  },
  {
   "cell_type": "markdown",
   "id": "10fd5a52-a22d-4a41-8f23-275aa7aa468c",
   "metadata": {},
   "source": [
    "## 2 Dimensions"
   ]
  },
  {
   "cell_type": "code",
   "execution_count": 8,
   "id": "0c44f5a6-87c3-4f92-b430-4eb398d3b785",
   "metadata": {},
   "outputs": [],
   "source": [
    "embedding_2dim = UMAP(n_neighbors=15, n_components=2, n_epochs=500, metric=\"correlation\", random_state=42).fit_transform(word_embeddings)"
   ]
  },
  {
   "cell_type": "code",
   "execution_count": 9,
   "id": "e64b6676-c236-4bf3-9cd9-00cf27043103",
   "metadata": {},
   "outputs": [],
   "source": [
    "embedding_2dim_df = pd.DataFrame(data={\n",
    "    \"dim_1\": embedding_2dim[:, 0],\n",
    "    \"dim_2\": embedding_2dim[:, 1],\n",
    "    \"vocab\": not_oov_vocabs\n",
    "})"
   ]
  },
  {
   "cell_type": "code",
   "execution_count": 10,
   "id": "57c61230-7625-4c6f-9305-810a9dac1873",
   "metadata": {},
   "outputs": [],
   "source": [
    "fig = px.scatter(embedding_2dim_df, x=\"dim_1\", y=\"dim_2\", hover_data=[\"vocab\"], width=800, height=800, title=\"Word Embedding Polyglot Quality in 2 Dimensions\")\n",
    "fig.write_html(\"../images/data_analysis/embedding_2dim.html\")"
   ]
  },
  {
   "cell_type": "markdown",
   "id": "cabb1ed8-abfa-434f-a8e2-3619dfc75e11",
   "metadata": {},
   "source": [
    "## 3 Dimensions"
   ]
  },
  {
   "cell_type": "code",
   "execution_count": 11,
   "id": "921cd3ac-bfb7-47a1-836e-3c1fcee89af0",
   "metadata": {},
   "outputs": [],
   "source": [
    "embedding_3dim = UMAP(n_neighbors=15, n_components=3, n_epochs=500, metric=\"correlation\", random_state=42).fit_transform(word_embeddings)\n",
    "\n",
    "embedding_3dim_df = pd.DataFrame(data={\n",
    "    \"dim_1\": embedding_3dim[:, 0],\n",
    "    \"dim_2\": embedding_3dim[:, 1],\n",
    "    \"dim_3\": embedding_3dim[:, 2],\n",
    "    \"vocab\": not_oov_vocabs\n",
    "})"
   ]
  },
  {
   "cell_type": "code",
   "execution_count": 12,
   "id": "b8eed7cd-ab67-4bac-a4b1-3a1840302b51",
   "metadata": {},
   "outputs": [],
   "source": [
    "fig = px.scatter_3d(embedding_3dim_df, x=\"dim_1\", y=\"dim_2\", z=\"dim_3\", hover_data=[\"vocab\"], width=800, height=800, title=\"Word Embedding Polyglot Quality in 3 Dimensions\")\n",
    "fig.write_html(\"../images/data_analysis/embedding_3dim.html\")"
   ]
  },
  {
   "cell_type": "markdown",
   "id": "dbf55f69-c2cd-4044-9618-2bd42c549c47",
   "metadata": {},
   "source": [
    "# Save vectors"
   ]
  },
  {
   "cell_type": "code",
   "execution_count": 13,
   "id": "9f60cf80-953b-4752-a749-79f724aaf530",
   "metadata": {},
   "outputs": [],
   "source": [
    "id_not_oov_embeddings = pd.DataFrame(word_embeddings, columns=[\"dim_\" + str(i) for i in range(1, 65)])\n",
    "id_not_oov_embeddings[\"token\"] = not_oov_vocabs\n",
    "id_not_oov_embeddings = id_not_oov_embeddings[[\"token\"] + [\"dim_\" + str(i) for i in range(1, 65)]]\n",
    "id_not_oov_embeddings[id_not_oov_embeddings[\"token\"] == \"p\"]\n",
    "id_not_oov_embeddings.to_csv(\"../datasets/data_analysis/id_not_oov_embeddings.csv\", index=False)"
   ]
  },
  {
   "cell_type": "markdown",
   "id": "f82ceb61-4b96-44f8-8f42-fecdfd94d865",
   "metadata": {
    "tags": []
   },
   "source": [
    "# Notes\n",
    "\n",
    "- Polyglot mengandung 100.004 vocab dengan dimensi embedding 64.\n",
    "- Polyglot mencakup 14.579 kosakata (79.55% dari keseluruhan dataset) dan sisanya 3.748 (20.45%) Out Of Vocabulary.\n",
    "- OOV umumnya berupa, singkatan, nama orang, nama tempat, nama merek (barang dan jasa), mengandung tanda baca (spasi dan kurang) dan bahasa asing.\n",
    "- Semua karakter (tanda baca, digit angka, huruf kapital, dan huruf kecil) berada dalam word embedding polyglot.\n",
    "- Polyglot mengandung semua embedding numerikal positif.\n",
    "- Nilai vektor huruf kapital dan vektor huruf kecil pada Polyglot berbeda.\n",
    "- Word embedding Polyglot memperlihatkan hasil embedding yang cukup baik. Dapat dilihat pada hasil visualisasi sebagian token dikelompokkan sesuai dengan karakteristiknya."
   ]
  },
  {
   "cell_type": "markdown",
   "id": "a1f838d9-d9f8-4f08-a3c2-96328f5ab146",
   "metadata": {},
   "source": [
    "# Questions\n",
    "- Mekanisme pengujian OOV?\n",
    "\n",
    "- Masiih ada kekeliruan dibagian data preprocessing dan model (classifier dan word embedding).\n",
    "- OOV bisa berada di kalimat lain dengan posisi dan konteks yang berbeda? Cara penanganannya bagaimana? Alternatif gunakan fungsi aggregate,seperti mean atau sum. Apakah efektif??"
   ]
  },
  {
   "cell_type": "markdown",
   "id": "db023ccf-62ff-44b8-a160-b62e625af280",
   "metadata": {},
   "source": [
    "***"
   ]
  },
  {
   "cell_type": "code",
   "execution_count": 14,
   "id": "44384ec7-016d-4920-93d1-8e44e700877f",
   "metadata": {},
   "outputs": [
    {
     "name": "stdout",
     "output_type": "stream",
     "text": [
      "UMAP(angular_rp_forest=True, metric='correlation', n_components=3, n_epochs=500, random_state=42, verbose=True)\n",
      "Thu Sep 15 03:47:16 2022 Construct fuzzy simplicial set\n",
      "Thu Sep 15 03:47:16 2022 Finding Nearest Neighbors\n",
      "Thu Sep 15 03:47:16 2022 Building RP forest with 21 trees\n",
      "Thu Sep 15 03:47:17 2022 NN descent for 17 iterations\n",
      "\t 1  /  17\n",
      "\t 2  /  17\n",
      "\t 3  /  17\n",
      "\t 4  /  17\n",
      "\t 5  /  17\n",
      "\tStopping threshold met -- exiting after 5 iterations\n",
      "Thu Sep 15 03:47:25 2022 Finished Nearest Neighbor Search\n",
      "Thu Sep 15 03:47:25 2022 Construct embedding\n"
     ]
    },
    {
     "data": {
      "application/vnd.jupyter.widget-view+json": {
       "model_id": "3a783dc0704a4f5cbc1f4e42b7fe2c8b",
       "version_major": 2,
       "version_minor": 0
      },
      "text/plain": [
       "Epochs completed:   0%|            0/500 [00:00]"
      ]
     },
     "metadata": {},
     "output_type": "display_data"
    },
    {
     "name": "stdout",
     "output_type": "stream",
     "text": [
      "Thu Sep 15 03:51:08 2022 Finished embedding\n"
     ]
    }
   ],
   "source": [
    "embedding_3dim = UMAP(n_neighbors=15, n_components=3, n_epochs=500, metric=\"correlation\", random_state=42, verbose=True).fit_transform(embeddings.vectors)\n",
    "\n",
    "embedding_3dim_df = pd.DataFrame(data={\n",
    "    \"dim_1\": embedding_3dim[:, 0],\n",
    "    \"dim_2\": embedding_3dim[:, 1],\n",
    "    \"dim_3\": embedding_3dim[:, 2],\n",
    "    \"vocab\": embeddings.words\n",
    "})\n",
    "\n",
    "fig = px.scatter_3d(embedding_3dim_df, x=\"dim_1\", y=\"dim_2\", z=\"dim_3\", hover_data=[\"vocab\"], width=800, height=800, title=\"Word Embedding Polyglot Quality in 3 Dimensions\")\n",
    "fig.write_html(\"../images/data_analysis/idn_embedding_polyglot_3dim.html\")"
   ]
  },
  {
   "cell_type": "markdown",
   "id": "2ac7a0bb-9598-4694-91e7-cd43dbabcb47",
   "metadata": {},
   "source": [
    "# Char Embedding"
   ]
  },
  {
   "cell_type": "code",
   "execution_count": 16,
   "id": "fd28a388-87c4-4337-a93e-a17700241007",
   "metadata": {
    "tags": []
   },
   "outputs": [
    {
     "data": {
      "text/plain": [
       "array([-0.17482825,  0.87193584, -0.5914492 , -0.9101373 ,  0.90669376,\n",
       "        0.8278112 ,  0.22288693,  0.04620019, -0.38666886, -0.16983712,\n",
       "        0.49672976, -0.3485728 ,  0.25323117, -1.2528229 ,  0.09312132,\n",
       "       -0.0237442 , -0.51987976,  0.35837913,  0.17233717,  0.44332522],\n",
       "      dtype=float32)"
      ]
     },
     "execution_count": 16,
     "metadata": {},
     "output_type": "execute_result"
    }
   ],
   "source": [
    "import numpy as np\n",
    "\n",
    "with open(\"../word_embeddings/chars_embedding/char_mimick_glove_d100_c20\") as f:\n",
    "    chars_embedding = f.readlines()\n",
    "\n",
    "chars_embedding = [embedding.split(\"\\n\") for embedding in chars_embedding]\n",
    "chars_embedding = [embedding[0].split(\" \") for embedding in chars_embedding]\n",
    "\n",
    "chars_embedding = np.array(chars_embedding)\n",
    "chars = chars_embedding[:, 0]\n",
    "embeddings = chars_embedding[:, 1:].astype(np.float32)\n",
    "char_embeddings = {char: embedding for char, embedding in zip(chars, embeddings)}\n",
    "char_embeddings[\"!\"]"
   ]
  },
  {
   "cell_type": "code",
   "execution_count": 18,
   "id": "3c97966a-958f-4eda-a30d-295ce1780091",
   "metadata": {},
   "outputs": [
    {
     "data": {
      "text/plain": [
       "dict_keys(['PAD', '!', '\"', '#', '$', '%', '&', \"'\", '(', ')', '*', '+', ',', '-', '.', '/', '0', '1', '2', '3', '4', '5', '6', '7', '8', '9', ':', ';', '<', '=', '>', '?', '@', '[', '\\\\', ']', '^', '_', '`', 'a', 'b', 'c', 'd', 'e', 'f', 'g', 'h', 'i', 'j', 'k', 'l', 'm', 'n', 'o', 'p', 'q', 'r', 's', 't', 'u', 'v', 'w', 'x', 'y', 'z', '{', '|', '}', '~', '¡', '¢', '£', '¤', '¥', '¨', 'ª', '«', '·', '»', '¼', '½', '¾', '¿', 'ß', 'à', 'á', 'â', 'ã', 'ä', 'å', 'æ', 'ç', 'è', 'é', 'ê', 'ë', 'ì', 'í', 'î', 'ï', 'ð', 'ñ', 'ò', 'ó', 'ô', 'õ', 'ö', 'ø', 'ù', 'ú', 'û', 'ü', 'ý', 'þ', 'ÿ', 'ā', 'ă', 'ą', 'ć', 'č', 'ď', 'đ', 'ē', 'ė', 'ę', 'ě', 'ğ', 'ġ', 'ħ', 'ĩ', 'ī', 'ı', 'ľ', 'ł', 'ń', 'ņ', 'ň', 'ŋ', 'ō', 'ŏ', 'ő', 'œ', 'ř', 'ś', 'ş', 'š', 'ţ', 'ť', 'ũ', 'ū', 'ŭ', 'ů', 'ű', 'ŵ', 'ŷ', 'ź', 'ż', 'ž', 'ƒ', 'ơ', 'ư', 'ǐ', 'ǒ', 'ǔ', 'ș', 'ț', 'ɔ', 'ə', 'ɛ', 'ɣ', 'ʃ', 'ʔ', 'ʻ', 'ʿ', '˚', '́', '̇', '̍', 'ά', 'α', 'β', 'γ', 'δ', 'ε', 'ζ', 'η', 'θ', 'ι', 'κ', 'λ', 'μ', 'ν', 'ξ', 'ο', 'π', 'ρ', 'ς', 'σ', 'τ', 'υ', 'φ', 'χ', 'ψ', 'ω', 'ό', 'ύ', 'ϕ', 'а', 'б', 'в', 'г', 'д', 'е', 'ж', 'з', 'и', 'й', 'к', 'л', 'м', 'н', 'о', 'п', 'р', 'с', 'т', 'у', 'ф', 'х', 'ч', 'ш', 'ъ', 'ы', 'ь', 'э', 'ю', 'я', 'є', 'і', 'א', 'ב', 'ד', 'ה', 'ו', 'י', 'ל', 'ן', 'ס', 'ר', 'ש', 'ת', 'آ', 'أ', 'ا', 'ب', 'ت', 'ح', 'خ', 'د', 'ر', 'س', 'ش', 'ع', 'ف', 'ل', 'م', 'ن', 'ه', 'و', 'ي', 'گ', 'ی', 'ं', 'ए', 'औ', 'क', 'प', 'म', 'र', 'स', 'ह', 'ा', 'ी', 'े', 'ै', 'ो', '्', 'ର', 'ಕ', 'ಗ', 'ಜ', 'ಟ', 'ಡ', 'ತ', 'ದ', 'ನ', 'ಪ', 'ಬ', 'ಮ', 'ಯ', 'ರ', 'ಲ', 'ಳ', 'ವ', 'ಶ', 'ಸ', 'ಹ', 'ക', 'ട', 'ത', 'പ', 'ක', 'ග', 'ත', 'ද', 'න', 'ප', 'ම', 'ය', 'ර', 'ල', 'ව', 'ස', 'ག', 'ང', 'ད', 'ན', 'བ', 'མ', 'ར', 'ལ', 'ས', 'ក', 'ត', 'ប', 'រ', 'ស', 'ḍ', 'ḥ', 'ḩ', 'ḳ', 'ṃ', 'ṇ', 'ṛ', 'ṣ', 'ṭ', 'ẕ', 'ạ', 'ả', 'ấ', 'ầ', 'ẩ', 'ẫ', 'ậ', 'ắ', 'ằ', 'ẵ', 'ặ', 'ẹ', 'ẻ', 'ế', 'ề', 'ễ', 'ệ', 'ỉ', 'ị', 'ọ', 'ố', 'ồ', 'ổ', 'ỗ', 'ộ', 'ớ', 'ờ', 'ở', 'ợ', 'ụ', 'ủ', 'ứ', 'ừ', 'ử', 'ữ', 'ự', 'ỳ', 'ỹ', 'ἐ', 'ἡ', 'ἰ', 'ὁ', 'ὶ', 'ὸ', 'ῆ', 'ῦ', '‐', '‑', '–', '—', '―', '‘', '’', '‚', '“', '”', '„', '‟', '…', '‹', '›', '⁰', '₂', '₤', '€', '⅓', '⅔', '⅛', '⅜', '⅝', '⅞', '、', '。', '一', '下', '中', '乡', '事', '京', '人', '令', '使', '侍', '兆', '区', '南', '博', '司', '同', '單', '太', '姬', '守', '宣', '察', '尚', '川', '州', '平', '年', '幽', '度', '德', '成', '戶', '揚', '昭', '曲', '書', '李', '東', '武', '河', '淮', '王', '百', '盧', '省', '社', '神', '空', '章', '義', '翔', '舍', '荊', '西', '觀', '道', '郎', '部', '镇', '門', '首', '魏', '鳳', '龍', '동', '법', '정', '행', 'ﬁ', '￥', 'UNK'])"
      ]
     },
     "execution_count": 18,
     "metadata": {},
     "output_type": "execute_result"
    }
   ],
   "source": [
    "char_embeddings.keys()"
   ]
  },
  {
   "cell_type": "markdown",
   "id": "49de4b40-10f6-4c76-b08e-4fdcc075089b",
   "metadata": {},
   "source": [
    "# OOV Embedding"
   ]
  },
  {
   "cell_type": "code",
   "execution_count": 19,
   "id": "1987576b-c1f8-4ff5-8803-24bb05a5a188",
   "metadata": {},
   "outputs": [],
   "source": [
    "import pickle\n",
    "import numpy as np\n",
    "import pandas as pd\n",
    "import plotly.express as px\n",
    "\n",
    "from umap import UMAP"
   ]
  },
  {
   "cell_type": "code",
   "execution_count": null,
   "id": "905f42d2-a015-435c-a3c6-1cac0e8938ad",
   "metadata": {},
   "outputs": [
    {
     "name": "stdout",
     "output_type": "stream",
     "text": [
      "UMAP(angular_rp_forest=True, metric='correlation', n_components=3, n_epochs=500, random_state=42, verbose=True)\n",
      "Sat Oct  1 09:16:23 2022 Construct fuzzy simplicial set\n"
     ]
    }
   ],
   "source": [
    "oov_embeddings = pickle.load(open(\"../logs/comick/79_contexts/09-29-2022_12-20-11/oov_embedding_dict.pkl\", \"rb\"))\n",
    "oov = oov_embeddings.keys()\n",
    "embedding = np.array(list(oov_embeddings.values()))\n",
    "embedding_3dim = UMAP(n_neighbors=15, n_components=3, n_epochs=500, metric=\"correlation\", random_state=42, verbose=True).fit_transform(embedding)\n",
    "\n",
    "embedding_3dim_df = pd.DataFrame(data={\n",
    "    \"dim_1\": embedding_3dim[:, 0],\n",
    "    \"dim_2\": embedding_3dim[:, 1],\n",
    "    \"dim_3\": embedding_3dim[:, 2],\n",
    "    \"vocab\": oov\n",
    "})\n",
    "\n",
    "fig = px.scatter_3d(embedding_3dim_df, x=\"dim_1\", y=\"dim_2\", z=\"dim_3\", hover_data=[\"vocab\"], width=800, height=800, title=\"Word Embedding Polyglot Quality in 3 Dimensions\")\n",
    "fig.write_html(\"../images/data_analysis/oov_embedding_polyglot_3dim.html\")"
   ]
  },
  {
   "cell_type": "code",
   "execution_count": null,
   "id": "16837fa2-dff7-47cb-8408-c1315a464ca7",
   "metadata": {},
   "outputs": [],
   "source": []
  }
 ],
 "metadata": {
  "kernelspec": {
   "display_name": "default:Python",
   "language": "python",
   "name": "conda-env-default-py"
  },
  "language_info": {
   "codemirror_mode": {
    "name": "ipython",
    "version": 3
   },
   "file_extension": ".py",
   "mimetype": "text/x-python",
   "name": "python",
   "nbconvert_exporter": "python",
   "pygments_lexer": "ipython3",
   "version": "3.9.13"
  }
 },
 "nbformat": 4,
 "nbformat_minor": 5
}
