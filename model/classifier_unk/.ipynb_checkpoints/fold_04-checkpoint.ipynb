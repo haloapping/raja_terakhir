{
 "cells": [
  {
   "cell_type": "markdown",
   "id": "8319205c-12ab-4314-8558-cfae2ca2d1bb",
   "metadata": {},
   "source": [
    "# Import modules"
   ]
  },
  {
   "cell_type": "code",
   "execution_count": 2,
   "id": "41f1e2d8-ccca-4f8b-97e8-4ab8bf6c5886",
   "metadata": {},
   "outputs": [],
   "source": [
    "import csv\n",
    "import os\n",
    "import pickle\n",
    "import pytz\n",
    "import torch\n",
    "import timeit\n",
    "import matplotlib.pyplot as plt\n",
    "import numpy as np\n",
    "import pandas as pd\n",
    "\n",
    "from copy import deepcopy\n",
    "from datetime import datetime\n",
    "from einops import rearrange\n",
    "from itertools import chain\n",
    "from time import time\n",
    "from torch import nn, optim\n",
    "from torchmetrics.classification import MulticlassAccuracy, MulticlassF1Score, MulticlassConfusionMatrix\n",
    "from torch.optim import lr_scheduler\n",
    "from tqdm.notebook import tqdm\n",
    "from torch.utils.data import TensorDataset, DataLoader\n",
    "from polyglot.mapping import Embedding, CaseExpander, DigitExpander"
   ]
  },
  {
   "cell_type": "markdown",
   "id": "3015ead4-c615-4dbc-aa8c-c7e611c3b76e",
   "metadata": {},
   "source": [
    "# Hyperparameters"
   ]
  },
  {
   "cell_type": "code",
   "execution_count": 3,
   "id": "ecab9839-baf2-480b-a00d-53dc81c66ea0",
   "metadata": {},
   "outputs": [],
   "source": [
    "class Hyperparams:\n",
    "     def __init__(\n",
    "        self,\n",
    "        fold=4,\n",
    "        max_seq_len=82,\n",
    "        input_size=64,\n",
    "        batch_size=32,\n",
    "        num_hidden_layer=1,\n",
    "        hidden_size=128,\n",
    "        dropout=0,\n",
    "        bias=True,\n",
    "        output_size=24,\n",
    "        shuffle=True,\n",
    "        lr=0.005,\n",
    "        batch_first=False,\n",
    "        bidirectional=True,\n",
    "        init_wb_with_kaiming_normal=True,\n",
    "        n_epoch=50,\n",
    "        patience=50,\n",
    "        device=\"cuda\" if torch.cuda.is_available() else \"cpu\"\n",
    "    ):\n",
    "        self.fold = fold\n",
    "        self.input_size = input_size\n",
    "        self.max_seq_len = max_seq_len\n",
    "        self.batch_size = batch_size\n",
    "        self.num_hidden_layer = num_hidden_layer\n",
    "        self.hidden_size = hidden_size\n",
    "        self.dropout = dropout\n",
    "        self.bias = bias\n",
    "        self.output_size = output_size\n",
    "        self.shuffle = shuffle\n",
    "        self.lr = lr\n",
    "        self.batch_first = batch_first\n",
    "        self.bidirectional = bidirectional\n",
    "        self.init_wb_with_kaiming_normal = init_wb_with_kaiming_normal\n",
    "        self.n_epoch = n_epoch\n",
    "        self.patience = patience\n",
    "        self.device = device\n",
    "\n",
    "hyperparams = Hyperparams()"
   ]
  },
  {
   "cell_type": "markdown",
   "id": "3651614b-b4a1-4968-88a1-ac38e4dc8323",
   "metadata": {},
   "source": [
    "# Dataset"
   ]
  },
  {
   "cell_type": "code",
   "execution_count": 4,
   "id": "6d70aa1f-c03c-4ec8-b720-0eca1d63020b",
   "metadata": {},
   "outputs": [],
   "source": [
    "id_pos_tag = pd.read_csv(\"../../datasets/raw/Indonesian_Manually_Tagged_Corpus.tsv\", sep=\"\\t\", header=None, names=[\"token\", \"tag\"], quoting=csv.QUOTE_NONE, skip_blank_lines=False) \n",
    "train = pd.read_csv(f\"../../datasets/raw/cv/train/train.0{hyperparams.fold}.tsv\", sep=\"\\t\", header=None, names=[\"token\", \"tag\"], quoting=csv.QUOTE_NONE, skip_blank_lines=False)\n",
    "val = pd.read_csv(f\"../../datasets/raw/cv/val/val.0{hyperparams.fold}.tsv\", sep=\"\\t\", header=None, names=[\"token\", \"tag\"], quoting=csv.QUOTE_NONE, skip_blank_lines=False)\n",
    "test = pd.read_csv(f\"../../datasets/raw/cv/test/test.0{hyperparams.fold}.tsv\", sep=\"\\t\", header=None, names=[\"token\", \"tag\"], quoting=csv.QUOTE_NONE, skip_blank_lines=False)"
   ]
  },
  {
   "cell_type": "markdown",
   "id": "5f7ce54d-7e46-4d41-aa8e-1dd7f33b8fa4",
   "metadata": {},
   "source": [
    "# Pre-trained Word Embedding"
   ]
  },
  {
   "cell_type": "code",
   "execution_count": 8,
   "id": "39c6717c-8302-45dd-acfc-625c92530a4d",
   "metadata": {},
   "outputs": [],
   "source": [
    "embeddings = Embedding.load(\"../../word_embeddings/polyglot/idn_embeddings.tar.bz2\")\n",
    "embeddings.apply_expansion(DigitExpander)\n",
    "embeddings.apply_expansion(CaseExpander)\n",
    "\n",
    "oov_embeddings = pickle.load(open(f\"../../logs/comick/79_contexts/10-11-2022_19-39-04/oov_embedding_dict.pkl\", \"rb\"))\n",
    "oov_embeddings = {key: embeddings[\"<UNK>\"] for key, _ in oov_embeddings.items()}"
   ]
  },
  {
   "cell_type": "markdown",
   "id": "158ed87f-c18d-4a59-a47b-c4e874b951bb",
   "metadata": {},
   "source": [
    "# Data Preprocessing"
   ]
  },
  {
   "cell_type": "markdown",
   "id": "7d29837c-9113-4d5d-b835-351bce316e07",
   "metadata": {},
   "source": [
    "## Add OOV Flag"
   ]
  },
  {
   "cell_type": "code",
   "execution_count": 9,
   "id": "08aeabff-e02c-4d83-bdee-ca428d401eaa",
   "metadata": {},
   "outputs": [
    {
     "data": {
      "application/vnd.jupyter.widget-view+json": {
       "model_id": "577e838c744f4ca987f995eb897210ee",
       "version_major": 2,
       "version_minor": 0
      },
      "text/plain": [
       "  0%|          | 0/266652 [00:00<?, ?it/s]"
      ]
     },
     "metadata": {},
     "output_type": "display_data"
    },
    {
     "data": {
      "application/vnd.jupyter.widget-view+json": {
       "model_id": "d6f9ccc651434496972f0c863c17a251",
       "version_major": 2,
       "version_minor": 0
      },
      "text/plain": [
       "  0%|          | 0/191567 [00:00<?, ?it/s]"
      ]
     },
     "metadata": {},
     "output_type": "display_data"
    },
    {
     "data": {
      "application/vnd.jupyter.widget-view+json": {
       "model_id": "0bcab1d8f68e44e2bd2f7c77568054fe",
       "version_major": 2,
       "version_minor": 0
      },
      "text/plain": [
       "  0%|          | 0/21461 [00:00<?, ?it/s]"
      ]
     },
     "metadata": {},
     "output_type": "display_data"
    },
    {
     "data": {
      "application/vnd.jupyter.widget-view+json": {
       "model_id": "f841ecfc922f431997e29c611ad4d50d",
       "version_major": 2,
       "version_minor": 0
      },
      "text/plain": [
       "  0%|          | 0/53624 [00:00<?, ?it/s]"
      ]
     },
     "metadata": {},
     "output_type": "display_data"
    }
   ],
   "source": [
    "def add_oov_flag(tokens, embeddings):\n",
    "    oov_flags = []\n",
    "    \n",
    "    for token in tqdm(tokens):\n",
    "        try:\n",
    "            if token not in embeddings:\n",
    "                oov_flags.append(True)\n",
    "            else:\n",
    "                oov_flags.append(False)\n",
    "        except:\n",
    "            oov_flags.append(False)\n",
    "        \n",
    "    return pd.DataFrame(oov_flags, columns=[\"is_oov\"])\n",
    "\n",
    "id_pos_tag_oov_flags = add_oov_flag(id_pos_tag[\"token\"].values, embeddings)\n",
    "train_oov_flags = add_oov_flag(train[\"token\"].values, embeddings)\n",
    "val_oov_flags = add_oov_flag(val[\"token\"].values, embeddings)\n",
    "test_oov_flags = add_oov_flag(test[\"token\"].values, embeddings)"
   ]
  },
  {
   "cell_type": "markdown",
   "id": "0c1a6631-74de-483c-b03d-a4176880b8af",
   "metadata": {},
   "source": [
    "## Concate OOV Flag"
   ]
  },
  {
   "cell_type": "code",
   "execution_count": 10,
   "id": "97cddb08-c462-4fd0-b348-44f5464cbb0d",
   "metadata": {},
   "outputs": [],
   "source": [
    "id_pos_tag_df = pd.concat([id_pos_tag, id_pos_tag_oov_flags], axis=1)\n",
    "train_df = pd.concat([train, train_oov_flags], axis=1)\n",
    "val_df = pd.concat([val, val_oov_flags], axis=1)\n",
    "test_df = pd.concat([test, test_oov_flags], axis=1)"
   ]
  },
  {
   "cell_type": "markdown",
   "id": "8183be89-5b99-42f8-bedf-8061a990d8b1",
   "metadata": {},
   "source": [
    "## Lowercase OOV Token"
   ]
  },
  {
   "cell_type": "code",
   "execution_count": 11,
   "id": "441d0127-b999-49e3-ae3d-73d01c5cb9fd",
   "metadata": {},
   "outputs": [],
   "source": [
    "id_pos_tag_df['token'] = np.where(id_pos_tag_df['is_oov'] == True, id_pos_tag_df['token'].str.lower(), id_pos_tag_df['token'])\n",
    "train_df['token'] = np.where(train_df['is_oov'] == True, train_df['token'].str.lower(), train_df['token'])\n",
    "val_df['token'] = np.where(val_df['is_oov'] == True, val_df['token'].str.lower(), val_df['token'])\n",
    "test_df['token'] = np.where(test_df['is_oov'] == True, test_df['token'].str.lower(), test_df['token'])"
   ]
  },
  {
   "cell_type": "markdown",
   "id": "4d866169-d378-495d-9af7-c1939feaae40",
   "metadata": {},
   "source": [
    "## Embedding Dict, Index to Token and Token to Index"
   ]
  },
  {
   "cell_type": "code",
   "execution_count": 12,
   "id": "3130fc5d-3e7e-480d-9f47-b5af4b2ce3d4",
   "metadata": {},
   "outputs": [],
   "source": [
    "tokens = list(id_pos_tag_df[[\"token\", \"tag\", \"is_oov\"]].itertuples(index=False, name=None))\n",
    "\n",
    "def embedding_dict(tokens, embeddings, oov_embeddings):\n",
    "    embedding = {}\n",
    "    \n",
    "    for token in tokens:\n",
    "        if token[0] is not np.nan:\n",
    "            if token[2] == False or token[0] in embeddings:\n",
    "                embedding[token[0]] = embeddings[token[0]]\n",
    "            else:\n",
    "                embedding[token[0]] = oov_embeddings[token[0].lower()]\n",
    "\n",
    "    return embedding\n",
    "\n",
    "embedding_dict = embedding_dict(tokens, embeddings, oov_embeddings)\n",
    "embedding_dict[\"<PAD>\"] = embeddings[\"<PAD>\"]\n",
    "word_embeddings = nn.Embedding.from_pretrained(torch.FloatTensor(np.array(list(embedding_dict.values()))), padding_idx=list(embedding_dict.keys()).index(\"<PAD>\"), freeze=True)\n",
    "\n",
    "idx_to_token = {idx: token for idx, token in enumerate(list(embedding_dict.keys()))}\n",
    "token_to_idx = {token: idx for idx, token in enumerate(list(embedding_dict.keys()))}"
   ]
  },
  {
   "cell_type": "markdown",
   "id": "6ab92441-64b9-430e-a8d6-4b4df859cefc",
   "metadata": {},
   "source": [
    "## Token to Sentence"
   ]
  },
  {
   "cell_type": "code",
   "execution_count": 13,
   "id": "c3703497-9ee3-43b9-9705-fcfd2a3f1d94",
   "metadata": {},
   "outputs": [
    {
     "data": {
      "application/vnd.jupyter.widget-view+json": {
       "model_id": "b050994e677a48f0a347de480c9b9029",
       "version_major": 2,
       "version_minor": 0
      },
      "text/plain": [
       "  0%|          | 0/266652 [00:00<?, ?it/s]"
      ]
     },
     "metadata": {},
     "output_type": "display_data"
    },
    {
     "data": {
      "application/vnd.jupyter.widget-view+json": {
       "model_id": "c63b80237c54433ba0edde668fbc564c",
       "version_major": 2,
       "version_minor": 0
      },
      "text/plain": [
       "  0%|          | 0/191567 [00:00<?, ?it/s]"
      ]
     },
     "metadata": {},
     "output_type": "display_data"
    },
    {
     "data": {
      "application/vnd.jupyter.widget-view+json": {
       "model_id": "001b5411887749a4b9a578b994575361",
       "version_major": 2,
       "version_minor": 0
      },
      "text/plain": [
       "  0%|          | 0/53624 [00:00<?, ?it/s]"
      ]
     },
     "metadata": {},
     "output_type": "display_data"
    },
    {
     "data": {
      "application/vnd.jupyter.widget-view+json": {
       "model_id": "7b88c2e3f80b47bb9429132cbe4d4bd1",
       "version_major": 2,
       "version_minor": 0
      },
      "text/plain": [
       "  0%|          | 0/21461 [00:00<?, ?it/s]"
      ]
     },
     "metadata": {},
     "output_type": "display_data"
    }
   ],
   "source": [
    "def make_sentence(tokens, max_length_sentence=hyperparams.max_seq_len):\n",
    "    sentence = []\n",
    "    sentences = []\n",
    "\n",
    "    for token in tqdm(tokens):\n",
    "        if token[0] is not np.nan:\n",
    "            sentence.append(token)\n",
    "        else:\n",
    "            sentences.append(sentence[:max_length_sentence])\n",
    "            sentence = []\n",
    "\n",
    "    return sentences\n",
    "\n",
    "all_sentence = make_sentence(list(id_pos_tag_df[[\"token\", \"tag\", \"is_oov\"]].itertuples(index=False, name=None)))\n",
    "train_sentences = make_sentence(list(train_df[[\"token\", \"tag\", \"is_oov\"]].itertuples(index=False, name=None)))\n",
    "val_sentences = make_sentence(list(test_df[[\"token\", \"tag\", \"is_oov\"]].itertuples(index=False, name=None)))\n",
    "test_sentences = make_sentence(list(val_df[[\"token\", \"tag\", \"is_oov\"]].itertuples(index=False, name=None)))"
   ]
  },
  {
   "cell_type": "markdown",
   "id": "220e44ae-dae4-421f-b35e-97e23727e90c",
   "metadata": {},
   "source": [
    "## Word Token, Padding, and Word token to Index "
   ]
  },
  {
   "cell_type": "code",
   "execution_count": 14,
   "id": "43f0cf3b-695c-4abe-b462-f5aed832efc3",
   "metadata": {},
   "outputs": [
    {
     "data": {
      "application/vnd.jupyter.widget-view+json": {
       "model_id": "a7f8eba326554d5199971732a3deca58",
       "version_major": 2,
       "version_minor": 0
      },
      "text/plain": [
       "  0%|          | 0/7222 [00:00<?, ?it/s]"
      ]
     },
     "metadata": {},
     "output_type": "display_data"
    },
    {
     "data": {
      "application/vnd.jupyter.widget-view+json": {
       "model_id": "16b316ab6f6d4035bc83d864059d262d",
       "version_major": 2,
       "version_minor": 0
      },
      "text/plain": [
       "  0%|          | 0/7222 [00:00<?, ?it/s]"
      ]
     },
     "metadata": {},
     "output_type": "display_data"
    },
    {
     "data": {
      "application/vnd.jupyter.widget-view+json": {
       "model_id": "6635e307c8a3408eb03d99c7e033199b",
       "version_major": 2,
       "version_minor": 0
      },
      "text/plain": [
       "  0%|          | 0/7222 [00:00<?, ?it/s]"
      ]
     },
     "metadata": {},
     "output_type": "display_data"
    },
    {
     "data": {
      "application/vnd.jupyter.widget-view+json": {
       "model_id": "c00f22865a444f3f9b11f441a08e6321",
       "version_major": 2,
       "version_minor": 0
      },
      "text/plain": [
       "  0%|          | 0/2006 [00:00<?, ?it/s]"
      ]
     },
     "metadata": {},
     "output_type": "display_data"
    },
    {
     "data": {
      "application/vnd.jupyter.widget-view+json": {
       "model_id": "320fba3d4bee4e78b9ed2cf9af9cd77e",
       "version_major": 2,
       "version_minor": 0
      },
      "text/plain": [
       "  0%|          | 0/2006 [00:00<?, ?it/s]"
      ]
     },
     "metadata": {},
     "output_type": "display_data"
    },
    {
     "data": {
      "application/vnd.jupyter.widget-view+json": {
       "model_id": "169f2ccd5b36441dac1155687c142c9a",
       "version_major": 2,
       "version_minor": 0
      },
      "text/plain": [
       "  0%|          | 0/2006 [00:00<?, ?it/s]"
      ]
     },
     "metadata": {},
     "output_type": "display_data"
    },
    {
     "data": {
      "application/vnd.jupyter.widget-view+json": {
       "model_id": "24a5e1e398d6456db8b7eddfb37aac18",
       "version_major": 2,
       "version_minor": 0
      },
      "text/plain": [
       "  0%|          | 0/802 [00:00<?, ?it/s]"
      ]
     },
     "metadata": {},
     "output_type": "display_data"
    },
    {
     "data": {
      "application/vnd.jupyter.widget-view+json": {
       "model_id": "cdf34fa87ee64b3d8f34190f3f926d06",
       "version_major": 2,
       "version_minor": 0
      },
      "text/plain": [
       "  0%|          | 0/802 [00:00<?, ?it/s]"
      ]
     },
     "metadata": {},
     "output_type": "display_data"
    },
    {
     "data": {
      "application/vnd.jupyter.widget-view+json": {
       "model_id": "2f7374fc074b4277aed668609e3103d3",
       "version_major": 2,
       "version_minor": 0
      },
      "text/plain": [
       "  0%|          | 0/802 [00:00<?, ?it/s]"
      ]
     },
     "metadata": {},
     "output_type": "display_data"
    }
   ],
   "source": [
    "def tokenize_docs(docs, idx_token):\n",
    "    new_sentence = []\n",
    "    sentences = []\n",
    "    \n",
    "    for sentence in tqdm(docs):\n",
    "        for token in sentence:\n",
    "            new_sentence.append(token[idx_token])\n",
    "        sentences.append(new_sentence)\n",
    "        new_sentence = []\n",
    "\n",
    "    return sentences\n",
    "\n",
    "def padding(docs, max_seq_len=hyperparams.max_seq_len, mode=\"post\", val_pad=\"<PAD>\"):\n",
    "    docs = deepcopy(docs)\n",
    "    doc_with_pad = []\n",
    "    docs_with_pad = []\n",
    "\n",
    "    for doc in tqdm(docs):\n",
    "        if mode == \"pre\":\n",
    "            for _ in range(max_seq_len - len(doc)):\n",
    "                doc.insert(0, val_pad)\n",
    "        elif mode == \"post\":\n",
    "            for _ in range(max_seq_len - len(doc)):\n",
    "                doc.append(val_pad)\n",
    "        else:\n",
    "            return f\"Mode {mode} is not available, use instead 'pre' or 'post'.\"\n",
    "        \n",
    "        docs_with_pad.append(doc)\n",
    "        \n",
    "    return np.array(docs_with_pad)\n",
    "\n",
    "def sent_to_idx(docs, token_to_idx):\n",
    "    new_sentence = []\n",
    "    sentences = []\n",
    "    \n",
    "    for sentence in tqdm(docs):\n",
    "        for token in sentence:\n",
    "            new_sentence.append(token_to_idx[token])\n",
    "        sentences.append(new_sentence)\n",
    "        new_sentence = []\n",
    "\n",
    "    return np.array(sentences)\n",
    "\n",
    "def convert_feature_to_idx(docs, idx_token, token_to_idx, max_seq_len):\n",
    "    sentences = tokenize_docs(docs, idx_token)\n",
    "    sentences_with_pad = padding(sentences, max_seq_len=max_seq_len, mode=\"post\", val_pad=\"<PAD>\")\n",
    "    sentences_to_idx = sent_to_idx(sentences_with_pad, token_to_idx)\n",
    "    \n",
    "    return sentences_to_idx\n",
    "\n",
    "train_sentence_idxs = convert_feature_to_idx(train_sentences, 0, token_to_idx, hyperparams.max_seq_len)\n",
    "val_sentence_idxs = convert_feature_to_idx(val_sentences, 0, token_to_idx, hyperparams.max_seq_len)\n",
    "test_sentence_idxs = convert_feature_to_idx(test_sentences, 0, token_to_idx, hyperparams.max_seq_len)"
   ]
  },
  {
   "cell_type": "markdown",
   "id": "26c2d150-0276-4ea8-a844-1a06b0b911c6",
   "metadata": {},
   "source": [
    "## Encode Class"
   ]
  },
  {
   "cell_type": "code",
   "execution_count": 15,
   "id": "76c9be34-f098-4b1e-8a4e-d8d06e43e96f",
   "metadata": {},
   "outputs": [
    {
     "data": {
      "application/vnd.jupyter.widget-view+json": {
       "model_id": "571410185f574762bc7d44676c9a2dd7",
       "version_major": 2,
       "version_minor": 0
      },
      "text/plain": [
       "  0%|          | 0/7222 [00:00<?, ?it/s]"
      ]
     },
     "metadata": {},
     "output_type": "display_data"
    },
    {
     "data": {
      "application/vnd.jupyter.widget-view+json": {
       "model_id": "1c67f5ce5d3a43e3bc7195935a42110a",
       "version_major": 2,
       "version_minor": 0
      },
      "text/plain": [
       "  0%|          | 0/2006 [00:00<?, ?it/s]"
      ]
     },
     "metadata": {},
     "output_type": "display_data"
    },
    {
     "data": {
      "application/vnd.jupyter.widget-view+json": {
       "model_id": "ef8a757482e04d6cb0554d0df3b0391b",
       "version_major": 2,
       "version_minor": 0
      },
      "text/plain": [
       "  0%|          | 0/802 [00:00<?, ?it/s]"
      ]
     },
     "metadata": {},
     "output_type": "display_data"
    },
    {
     "name": "stdout",
     "output_type": "stream",
     "text": [
      "Training shape   : ((7222, 82), (7222, 82))\n",
      "validation shape : ((2006, 82), (2006, 82))\n",
      "Test shape       : ((802, 82), (802, 82))\n"
     ]
    }
   ],
   "source": [
    "classes = sorted(np.delete(id_pos_tag_df[\"tag\"].unique(), 3))\n",
    "idx_to_label = {idx: label for idx, label in enumerate(classes + [\"<PAD>\"])}\n",
    "label_to_idx = {label: idx for idx, label in enumerate(classes + [\"<PAD>\"])}\n",
    "\n",
    "def encode_class(docs, label_to_idx, seq_len=hyperparams.max_seq_len):\n",
    "    class_idxs = []\n",
    "    classes = []\n",
    "    \n",
    "    for sentence in tqdm(docs):\n",
    "        for token in sentence:\n",
    "            class_idxs.append(label_to_idx[token[1]])\n",
    "            \n",
    "        for _ in range(seq_len - len(sentence)):\n",
    "            class_idxs.append(label_to_idx[\"<PAD>\"])\n",
    "                \n",
    "        classes.append(class_idxs)\n",
    "        class_idxs = []\n",
    "\n",
    "    return np.array(classes)\n",
    "        \n",
    "train_class_idxs = encode_class(train_sentences, label_to_idx)\n",
    "val_class_idxs = encode_class(val_sentences, label_to_idx)\n",
    "test_class_idxs = encode_class(test_sentences, label_to_idx)\n",
    "\n",
    "print(f\"Training shape   : {train_sentence_idxs.shape, train_class_idxs.shape}\")\n",
    "print(f\"validation shape : {val_class_idxs.shape, val_class_idxs.shape}\")\n",
    "print(f\"Test shape       : {test_sentence_idxs.shape, test_class_idxs.shape}\")"
   ]
  },
  {
   "cell_type": "markdown",
   "id": "e1d6d808-0ee8-4979-bcee-43b5020ac96f",
   "metadata": {
    "tags": []
   },
   "source": [
    "## Note\n",
    "\n",
    "- Number of sentences = 10030\n",
    "- Train : 72% (7222)\n",
    "- Val   : 8% (802)\n",
    "- Test  : 20% (2006)"
   ]
  },
  {
   "cell_type": "markdown",
   "id": "33573647-a8e8-474e-9c88-beee03332ec6",
   "metadata": {},
   "source": [
    "# Build Model"
   ]
  },
  {
   "cell_type": "markdown",
   "id": "535f0ccc-e2ca-4aa7-b1c3-d782696a3fab",
   "metadata": {},
   "source": [
    "## Feature and Actual Class"
   ]
  },
  {
   "cell_type": "code",
   "execution_count": 16,
   "id": "8927d980-8ee5-4a78-870a-7bef385dbbb3",
   "metadata": {},
   "outputs": [],
   "source": [
    "train_feature = torch.LongTensor(train_sentence_idxs)\n",
    "val_feature = torch.LongTensor(val_sentence_idxs)\n",
    "test_feature = torch.LongTensor(test_sentence_idxs)\n",
    "\n",
    "train_class = torch.LongTensor(train_class_idxs)\n",
    "val_class = torch.LongTensor(val_class_idxs)\n",
    "test_class = torch.LongTensor(test_class_idxs)"
   ]
  },
  {
   "cell_type": "code",
   "execution_count": 17,
   "id": "438bf817-b692-48d7-b7ac-3e96f4fcc6e6",
   "metadata": {},
   "outputs": [
    {
     "data": {
      "text/plain": [
       "(torch.Size([7222, 82]), torch.Size([2006, 82]), torch.Size([802, 82]))"
      ]
     },
     "execution_count": 17,
     "metadata": {},
     "output_type": "execute_result"
    }
   ],
   "source": [
    "train_feature.shape, val_feature.shape, test_feature.shape"
   ]
  },
  {
   "cell_type": "code",
   "execution_count": 18,
   "id": "dd249179-151f-4197-b90b-3b3cd4bcb15b",
   "metadata": {},
   "outputs": [
    {
     "data": {
      "text/plain": [
       "(torch.Size([7222, 82]), torch.Size([2006, 82]), torch.Size([802, 82]))"
      ]
     },
     "execution_count": 18,
     "metadata": {},
     "output_type": "execute_result"
    }
   ],
   "source": [
    "train_class.shape, val_class.shape, test_class.shape"
   ]
  },
  {
   "cell_type": "markdown",
   "id": "3c681e53-f708-4c1f-864d-ab93f19412c2",
   "metadata": {},
   "source": [
    "## Tensor Dataset"
   ]
  },
  {
   "cell_type": "code",
   "execution_count": 19,
   "id": "0ae72c8a-6bac-4736-9148-75953831a786",
   "metadata": {},
   "outputs": [],
   "source": [
    "train_dataset = TensorDataset(train_feature, train_class)\n",
    "val_dataset = TensorDataset(val_feature, val_class)\n",
    "test_dataset = TensorDataset(test_feature, test_class)"
   ]
  },
  {
   "cell_type": "markdown",
   "id": "d6a20687-dcce-432c-bcab-eda007eb35c7",
   "metadata": {},
   "source": [
    "## Dataloader"
   ]
  },
  {
   "cell_type": "code",
   "execution_count": 20,
   "id": "454a5731-663c-4776-b855-ae1b6be2cb13",
   "metadata": {},
   "outputs": [],
   "source": [
    "train_dataloader = DataLoader(train_dataset, batch_size=hyperparams.batch_size, shuffle=hyperparams.shuffle)\n",
    "val_dataloader = DataLoader(val_dataset, batch_size=hyperparams.batch_size, shuffle=hyperparams.shuffle)\n",
    "test_dataloader = DataLoader(test_dataset, batch_size=hyperparams.batch_size, shuffle=hyperparams.shuffle)"
   ]
  },
  {
   "cell_type": "markdown",
   "id": "5d1b71ac-f59f-45d3-a06a-54602ded7e95",
   "metadata": {},
   "source": [
    "## Model"
   ]
  },
  {
   "cell_type": "code",
   "execution_count": 21,
   "id": "a8bc8230-8e64-4f59-b284-da8cced683f2",
   "metadata": {},
   "outputs": [
    {
     "data": {
      "text/plain": [
       "POSTagger(\n",
       "  (feature): LSTM(64, 128, bidirectional=True)\n",
       "  (classifier): Sequential(\n",
       "    (0): Linear(in_features=256, out_features=24, bias=True)\n",
       "    (1): Softmax(dim=-1)\n",
       "  )\n",
       ")"
      ]
     },
     "execution_count": 21,
     "metadata": {},
     "output_type": "execute_result"
    }
   ],
   "source": [
    "class POSTagger(nn.Module):\n",
    "    def __init__(\n",
    "        self,\n",
    "        input_size=hyperparams.input_size,\n",
    "        hidden_size=hyperparams.hidden_size,\n",
    "        dropout=hyperparams.dropout,\n",
    "        bias=hyperparams.bias,\n",
    "        num_layers=hyperparams.num_hidden_layer,\n",
    "        output_size=hyperparams.output_size,\n",
    "        batch_first=hyperparams.batch_first,\n",
    "        bidirectional=hyperparams.bidirectional,\n",
    "        init_wb_with_kaiming_normal=hyperparams.init_wb_with_kaiming_normal\n",
    "    ):\n",
    "        super(POSTagger, self).__init__()\n",
    "        \n",
    "        self.input_size = input_size\n",
    "        self.hidden_size = hidden_size\n",
    "        self.dropout = dropout\n",
    "        self.bias = bias\n",
    "        self.num_layers = num_layers\n",
    "        self.output_size = output_size\n",
    "        self.batch_first = batch_first\n",
    "        self.bidirectional = bidirectional\n",
    "                \n",
    "        self.feature = nn.LSTM(\n",
    "            input_size = self.input_size,\n",
    "            hidden_size = self.hidden_size,\n",
    "            bias = self.bias,\n",
    "            dropout = self.dropout,\n",
    "            num_layers = self.num_layers,\n",
    "            batch_first = self.batch_first,\n",
    "            bidirectional = self.bidirectional\n",
    "        )\n",
    "        \n",
    "        self.classifier = nn.Sequential(\n",
    "            nn.Linear(in_features=2 * self.hidden_size if hyperparams.bidirectional else self.hidden_size, out_features=self.output_size, bias=self.bias),\n",
    "            nn.Softmax(dim=-1)\n",
    "        )\n",
    "        \n",
    "        if init_wb_with_kaiming_normal:\n",
    "            self.init_wb()\n",
    "\n",
    "    def init_wb(self):\n",
    "        for module in self.modules():\n",
    "            if isinstance(module, (nn.Linear, nn.LSTM)):\n",
    "                for name, param in module.named_parameters():\n",
    "                    if \"weight\" in name:\n",
    "                        nn.init.kaiming_normal_(param)\n",
    "                    else:\n",
    "                        nn.init.kaiming_normal_(param.reshape(1, -1))\n",
    "        \n",
    "    def forward(self, feature, hidden=None):\n",
    "        output, (hidden, memory) = self.feature(feature, None)\n",
    "        prob = self.classifier(output)\n",
    "\n",
    "        return prob\n",
    "    \n",
    "model = POSTagger().to(hyperparams.device)\n",
    "model"
   ]
  },
  {
   "cell_type": "markdown",
   "id": "d9d72bd6-f2e6-4f44-8b36-702e5acede59",
   "metadata": {},
   "source": [
    "## Optimizer, Criterion, and Metric"
   ]
  },
  {
   "cell_type": "code",
   "execution_count": 22,
   "id": "bfcc4414-fa93-4518-a4bf-872de25c47c6",
   "metadata": {},
   "outputs": [],
   "source": [
    "optimizer = optim.Adam(model.parameters(), lr=hyperparams.lr)\n",
    "criterion = nn.CrossEntropyLoss().to(hyperparams.device)\n",
    "train_metric = MulticlassF1Score(average=\"micro\", num_classes=24, mdmc_average=\"global\", multiclass=True, ignore_index=label_to_idx[\"<PAD>\"]).to(hyperparams.device)\n",
    "val_metric = MulticlassF1Score(average=\"micro\", num_classes=24, mdmc_average=\"global\", multiclass=True, ignore_index=label_to_idx[\"<PAD>\"]).to(hyperparams.device)\n",
    "scheduler = lr_scheduler.ReduceLROnPlateau(optimizer, mode=\"min\", verbose=True, factor=0.5)"
   ]
  },
  {
   "cell_type": "code",
   "execution_count": 23,
   "id": "0591ed5b-e957-43aa-a3d5-4735852fac96",
   "metadata": {},
   "outputs": [
    {
     "data": {
      "text/plain": [
       "204824"
      ]
     },
     "execution_count": 23,
     "metadata": {},
     "output_type": "execute_result"
    }
   ],
   "source": [
    "sum(param.numel() for param in model.parameters() if param.requires_grad)"
   ]
  },
  {
   "cell_type": "markdown",
   "id": "3b5bdeea-d9c3-41ca-95c0-c2752215f2d8",
   "metadata": {},
   "source": [
    "## Training Step"
   ]
  },
  {
   "cell_type": "code",
   "execution_count": 24,
   "id": "c5d9bdc1-f6c2-41b1-8d3f-e4bfadd2aae0",
   "metadata": {},
   "outputs": [],
   "source": [
    "def training_step(dataloader, model, optimizer, criterion, metric, scheduler=None):\n",
    "    model.train()\n",
    "    \n",
    "    batch_losses = []\n",
    "    batch_metric_scores = []\n",
    "    \n",
    "    for batch, (feature, actual_label) in enumerate(tqdm(dataloader), 1):\n",
    "        # Forward Propagation\n",
    "        feature = rearrange(feature, \"n s -> s n\")\n",
    "        actual_label = rearrange(actual_label, \"n s -> s n\")\n",
    "        embedding = word_embeddings(feature)\n",
    "        \n",
    "        prob = model(\n",
    "            embedding.to(hyperparams.device),\n",
    "            actual_label.to(hyperparams.device)\n",
    "        )\n",
    "        \n",
    "        prob = prob.reshape(-1, prob.shape[-1])\n",
    "        actual_label = actual_label.reshape(-1)\n",
    "\n",
    "        loss = criterion(prob, actual_label.to(hyperparams.device))\n",
    "        metric_score = metric(prob, actual_label.to(hyperparams.device))\n",
    "        metric_score = metric.compute()\n",
    "                \n",
    "        if scheduler is not None:\n",
    "            scheduler.step(loss)\n",
    "        \n",
    "        batch_losses.append(loss.item())\n",
    "        batch_metric_scores.append(metric_score)\n",
    "        \n",
    "        if len(dataloader) < 10:\n",
    "            if batch % 1 == 0 or batch == len(dataloader):\n",
    "                batch_name = \"Batch-\" + str(batch)\n",
    "                print(f\"{batch_name.ljust(9)}: {str(criterion).split('(')[0]}={(loss.item()):.4f} | {str(metric).split('(')[0]}={(metric_score):.4f}\")\n",
    "                with open(f\"../../logs/unk/fold_{hyperparams.fold}/{path_name}/training_history.txt\", \"a\") as f:\n",
    "                    f.write(f\"{batch_name.ljust(9)}: {str(criterion).split('(')[0]}={(loss.item()):.4f} | {str(metric).split('(')[0]}={(metric_score):.4f}\\n\")\n",
    "        else:\n",
    "            if batch % 15 == 0 or batch == len(dataloader):\n",
    "                batch_name = \"Batch-\" + str(batch)\n",
    "                print(f\"{batch_name.ljust(9)}: {str(criterion).split('(')[0]}={(loss.item()):.4f} | {str(metric).split('(')[0]}={(metric_score):.4f}\")\n",
    "                with open(f\"../../logs/unk/fold_{hyperparams.fold}/{path_name}/training_history.txt\", \"a\") as f:\n",
    "                    f.write(f\"{batch_name.ljust(9)}: {str(criterion).split('(')[0]}={(loss.item()):.4f} | {str(metric).split('(')[0]}={(metric_score):.4f}\\n\")\n",
    "            \n",
    "        # Backward Propagation\n",
    "        optimizer.zero_grad()\n",
    "        loss.backward()\n",
    "        optimizer.step()\n",
    "    \n",
    "    return batch_losses, batch_metric_scores"
   ]
  },
  {
   "cell_type": "markdown",
   "id": "659ead5e-da1c-44ec-ac87-48c4891f19cb",
   "metadata": {},
   "source": [
    "## Validation Step"
   ]
  },
  {
   "cell_type": "code",
   "execution_count": 26,
   "id": "0310cd28-75cb-433e-938b-ed4e4989eaec",
   "metadata": {},
   "outputs": [],
   "source": [
    "def validation_step(dataloader, model, criterion, metric):\n",
    "    model.eval()\n",
    "    \n",
    "    batch_losses = []\n",
    "    batch_metric_scores = []\n",
    "    \n",
    "    with torch.inference_mode():\n",
    "        for batch, (feature, actual_label) in enumerate(tqdm(dataloader), 1):\n",
    "            # Forward Propagation\n",
    "            feature = rearrange(feature, \"n s -> s n\")\n",
    "            actual_label = rearrange(actual_label, \"n s -> s n\")\n",
    "            embedding = word_embeddings(feature)\n",
    "\n",
    "            prob = model(\n",
    "                embedding.to(hyperparams.device),\n",
    "                actual_label.to(hyperparams.device)\n",
    "            )\n",
    "\n",
    "            prob = prob.reshape(-1, prob.shape[-1])\n",
    "            actual_label = actual_label.reshape(-1)\n",
    "\n",
    "            loss = criterion(prob, actual_label.to(hyperparams.device))\n",
    "            metric_score = metric(prob, actual_label.to(hyperparams.device))\n",
    "            metric_score = metric.compute()\n",
    "\n",
    "            batch_losses.append(loss.item())\n",
    "            batch_metric_scores.append(metric_score)\n",
    "            \n",
    "            if len(dataloader) < 10 and (batch % 1 == 0 or batch == len(dataloader)):\n",
    "                batch_name = \"Batch-\" + str(batch)\n",
    "                print(f\"{batch_name.ljust(9)}: {str(criterion).split('(')[0]}={(loss.item()):.4f} | {str(metric).split('(')[0]}={(metric_score):.4f}\")\n",
    "                with open(f\"../../logs/unk/fold_{hyperparams.fold}/{path_name}/training_history.txt\", \"a\") as f:\n",
    "                    f.write(f\"{batch_name.ljust(9)}: {str(criterion).split('(')[0]}={(loss.item()):.4f} | {str(metric).split('(')[0]}={(metric_score):.4f}\\n\")\n",
    "            else:\n",
    "                if batch % 15 == 0 or batch == len(dataloader):\n",
    "                    batch_name = \"Batch-\" + str(batch)\n",
    "                    print(f\"{batch_name.ljust(9)}: {str(criterion).split('(')[0]}={(loss.item()):.4f} | {str(metric).split('(')[0]}={(metric_score):.4f}\")\n",
    "                    with open(f\"../../logs/unk/fold_{hyperparams.fold}/{path_name}/training_history.txt\", \"a\") as f:\n",
    "                        f.write(f\"{batch_name.ljust(9)}: {str(criterion).split('(')[0]}={(loss.item()):.4f} | {str(metric).split('(')[0]}={(metric_score):.4f}\\n\")\n",
    "    \n",
    "    return batch_losses, batch_metric_scores"
   ]
  },
  {
   "cell_type": "markdown",
   "id": "a97e1189-3368-496b-83ea-a9a98a30826e",
   "metadata": {},
   "source": [
    "## Looping Step"
   ]
  },
  {
   "cell_type": "code",
   "execution_count": 27,
   "id": "d929b35d-23fc-411b-9352-187dbb4ca310",
   "metadata": {},
   "outputs": [
    {
     "name": "stdout",
     "output_type": "stream",
     "text": [
      "EPOCH-1\n",
      "Training Step\n"
     ]
    },
    {
     "data": {
      "application/vnd.jupyter.widget-view+json": {
       "model_id": "b8b06754979e482a890f7c45f477ed1d",
       "version_major": 2,
       "version_minor": 0
      },
      "text/plain": [
       "  0%|          | 0/226 [00:00<?, ?it/s]"
      ]
     },
     "metadata": {},
     "output_type": "display_data"
    },
    {
     "name": "stdout",
     "output_type": "stream",
     "text": [
      "Batch-15 : CrossEntropyLoss=2.5274 | MulticlassF1Score=0.1044\n",
      "Batch-30 : CrossEntropyLoss=2.4868 | MulticlassF1Score=0.1719\n",
      "Batch-45 : CrossEntropyLoss=2.4445 | MulticlassF1Score=0.2222\n",
      "Batch-60 : CrossEntropyLoss=2.4130 | MulticlassF1Score=0.2659\n",
      "Batch-75 : CrossEntropyLoss=2.4293 | MulticlassF1Score=0.3003\n",
      "Batch-90 : CrossEntropyLoss=2.3907 | MulticlassF1Score=0.3356\n",
      "Batch-105: CrossEntropyLoss=2.4029 | MulticlassF1Score=0.3619\n",
      "Batch-120: CrossEntropyLoss=2.4183 | MulticlassF1Score=0.3842\n",
      "Batch-135: CrossEntropyLoss=2.3740 | MulticlassF1Score=0.4039\n",
      "Batch-150: CrossEntropyLoss=2.3916 | MulticlassF1Score=0.4255\n",
      "Batch-165: CrossEntropyLoss=2.3654 | MulticlassF1Score=0.4448\n",
      "Batch-180: CrossEntropyLoss=2.3603 | MulticlassF1Score=0.4619\n",
      "Batch-195: CrossEntropyLoss=2.3592 | MulticlassF1Score=0.4757\n",
      "Batch-210: CrossEntropyLoss=2.3513 | MulticlassF1Score=0.4884\n",
      "Batch-225: CrossEntropyLoss=2.3547 | MulticlassF1Score=0.4989\n",
      "Batch-226: CrossEntropyLoss=2.3547 | MulticlassF1Score=0.4994\n",
      "\n",
      "Validation Step\n"
     ]
    },
    {
     "data": {
      "application/vnd.jupyter.widget-view+json": {
       "model_id": "74b08a9c1bbe4577aec57c2040c431ca",
       "version_major": 2,
       "version_minor": 0
      },
      "text/plain": [
       "  0%|          | 0/63 [00:00<?, ?it/s]"
      ]
     },
     "metadata": {},
     "output_type": "display_data"
    },
    {
     "name": "stdout",
     "output_type": "stream",
     "text": [
      "Batch-15 : CrossEntropyLoss=2.3563 | MulticlassF1Score=0.6473\n",
      "Batch-30 : CrossEntropyLoss=2.3545 | MulticlassF1Score=0.6503\n",
      "Batch-45 : CrossEntropyLoss=2.3559 | MulticlassF1Score=0.6536\n",
      "Batch-60 : CrossEntropyLoss=2.3796 | MulticlassF1Score=0.6499\n",
      "Batch-63 : CrossEntropyLoss=2.3684 | MulticlassF1Score=0.6501\n",
      "\n",
      "Training   : Mean CrossEntropyLoss = 2.4118 | Mean MulticlassF1Score = 0.3430\n",
      "Validation : Mean CrossEntropyLoss = 2.3575 | Mean MulticlassF1Score = 0.6497\n",
      "================================================================================\n",
      "\n",
      "EPOCH-2\n",
      "Training Step\n"
     ]
    },
    {
     "data": {
      "application/vnd.jupyter.widget-view+json": {
       "model_id": "6366252028934028aa73ecfe4ee7e429",
       "version_major": 2,
       "version_minor": 0
      },
      "text/plain": [
       "  0%|          | 0/226 [00:00<?, ?it/s]"
      ]
     },
     "metadata": {},
     "output_type": "display_data"
    },
    {
     "name": "stdout",
     "output_type": "stream",
     "text": [
      "Batch-15 : CrossEntropyLoss=2.3395 | MulticlassF1Score=0.6706\n",
      "Batch-30 : CrossEntropyLoss=2.3495 | MulticlassF1Score=0.6823\n",
      "Batch-45 : CrossEntropyLoss=2.3328 | MulticlassF1Score=0.6865\n",
      "Batch-60 : CrossEntropyLoss=2.3444 | MulticlassF1Score=0.6896\n",
      "Batch-75 : CrossEntropyLoss=2.3420 | MulticlassF1Score=0.6903\n",
      "Batch-90 : CrossEntropyLoss=2.3406 | MulticlassF1Score=0.6915\n",
      "Batch-105: CrossEntropyLoss=2.3322 | MulticlassF1Score=0.6972\n",
      "Batch-120: CrossEntropyLoss=2.3454 | MulticlassF1Score=0.7026\n",
      "Batch-135: CrossEntropyLoss=2.3270 | MulticlassF1Score=0.7071\n",
      "Batch-150: CrossEntropyLoss=2.3237 | MulticlassF1Score=0.7107\n",
      "Batch-165: CrossEntropyLoss=2.3159 | MulticlassF1Score=0.7152\n",
      "Batch-180: CrossEntropyLoss=2.3213 | MulticlassF1Score=0.7195\n",
      "Batch-195: CrossEntropyLoss=2.3197 | MulticlassF1Score=0.7229\n",
      "Batch-210: CrossEntropyLoss=2.3133 | MulticlassF1Score=0.7263\n",
      "Batch-225: CrossEntropyLoss=2.3280 | MulticlassF1Score=0.7292\n",
      "Batch-226: CrossEntropyLoss=2.3300 | MulticlassF1Score=0.7293\n",
      "\n",
      "Validation Step\n"
     ]
    },
    {
     "data": {
      "application/vnd.jupyter.widget-view+json": {
       "model_id": "dfa569163f66416eab31a2740e8ed4cb",
       "version_major": 2,
       "version_minor": 0
      },
      "text/plain": [
       "  0%|          | 0/63 [00:00<?, ?it/s]"
      ]
     },
     "metadata": {},
     "output_type": "display_data"
    },
    {
     "name": "stdout",
     "output_type": "stream",
     "text": [
      "Batch-15 : CrossEntropyLoss=2.3230 | MulticlassF1Score=0.7665\n",
      "Batch-30 : CrossEntropyLoss=2.3329 | MulticlassF1Score=0.7693\n",
      "Batch-45 : CrossEntropyLoss=2.3124 | MulticlassF1Score=0.7697\n",
      "Batch-60 : CrossEntropyLoss=2.3140 | MulticlassF1Score=0.7699\n",
      "Batch-63 : CrossEntropyLoss=2.3273 | MulticlassF1Score=0.7696\n",
      "\n",
      "Yeah 🎉😄! Model improved.\n",
      "\n",
      "Training   : Mean CrossEntropyLoss = 2.3325 | Mean MulticlassF1Score = 0.7013\n",
      "Validation : Mean CrossEntropyLoss = 2.3199 | Mean MulticlassF1Score = 0.7683\n",
      "================================================================================\n",
      "\n",
      "EPOCH-3\n",
      "Training Step\n"
     ]
    },
    {
     "data": {
      "application/vnd.jupyter.widget-view+json": {
       "model_id": "a64e4c316dfa429f9a224b55c48f6984",
       "version_major": 2,
       "version_minor": 0
      },
      "text/plain": [
       "  0%|          | 0/226 [00:00<?, ?it/s]"
      ]
     },
     "metadata": {},
     "output_type": "display_data"
    },
    {
     "name": "stdout",
     "output_type": "stream",
     "text": [
      "Batch-15 : CrossEntropyLoss=2.3206 | MulticlassF1Score=0.7722\n",
      "Batch-30 : CrossEntropyLoss=2.3164 | MulticlassF1Score=0.7676\n",
      "Batch-45 : CrossEntropyLoss=2.3196 | MulticlassF1Score=0.7696\n",
      "Batch-60 : CrossEntropyLoss=2.3196 | MulticlassF1Score=0.7700\n",
      "Batch-75 : CrossEntropyLoss=2.3146 | MulticlassF1Score=0.7699\n",
      "Batch-90 : CrossEntropyLoss=2.3127 | MulticlassF1Score=0.7698\n",
      "Batch-105: CrossEntropyLoss=2.3107 | MulticlassF1Score=0.7705\n",
      "Batch-120: CrossEntropyLoss=2.3087 | MulticlassF1Score=0.7705\n",
      "Batch-135: CrossEntropyLoss=2.3101 | MulticlassF1Score=0.7707\n",
      "Batch-150: CrossEntropyLoss=2.3161 | MulticlassF1Score=0.7703\n",
      "Batch-165: CrossEntropyLoss=2.3124 | MulticlassF1Score=0.7711\n",
      "Batch-180: CrossEntropyLoss=2.3208 | MulticlassF1Score=0.7712\n",
      "Batch-195: CrossEntropyLoss=2.3128 | MulticlassF1Score=0.7717\n",
      "Batch-210: CrossEntropyLoss=2.3121 | MulticlassF1Score=0.7716\n",
      "Batch-225: CrossEntropyLoss=2.3130 | MulticlassF1Score=0.7715\n",
      "Batch-226: CrossEntropyLoss=2.3278 | MulticlassF1Score=0.7715\n",
      "\n",
      "Validation Step\n"
     ]
    },
    {
     "data": {
      "application/vnd.jupyter.widget-view+json": {
       "model_id": "8383d96ecea740d0b40fa9ee05798002",
       "version_major": 2,
       "version_minor": 0
      },
      "text/plain": [
       "  0%|          | 0/63 [00:00<?, ?it/s]"
      ]
     },
     "metadata": {},
     "output_type": "display_data"
    },
    {
     "name": "stdout",
     "output_type": "stream",
     "text": [
      "Batch-15 : CrossEntropyLoss=2.3155 | MulticlassF1Score=0.7865\n",
      "Batch-30 : CrossEntropyLoss=2.3147 | MulticlassF1Score=0.7873\n",
      "Batch-45 : CrossEntropyLoss=2.3138 | MulticlassF1Score=0.7873\n",
      "Batch-60 : CrossEntropyLoss=2.3188 | MulticlassF1Score=0.7876\n",
      "Batch-63 : CrossEntropyLoss=2.3110 | MulticlassF1Score=0.7880\n",
      "\n",
      "Yeah 🎉😄! Model improved.\n",
      "\n",
      "Training   : Mean CrossEntropyLoss = 2.3186 | Mean MulticlassF1Score = 0.7700\n",
      "Validation : Mean CrossEntropyLoss = 2.3154 | Mean MulticlassF1Score = 0.7859\n",
      "================================================================================\n",
      "\n",
      "EPOCH-4\n",
      "Training Step\n"
     ]
    },
    {
     "data": {
      "application/vnd.jupyter.widget-view+json": {
       "model_id": "79790484862e410f8dbb220f3f4ec9ac",
       "version_major": 2,
       "version_minor": 0
      },
      "text/plain": [
       "  0%|          | 0/226 [00:00<?, ?it/s]"
      ]
     },
     "metadata": {},
     "output_type": "display_data"
    },
    {
     "name": "stdout",
     "output_type": "stream",
     "text": [
      "Batch-15 : CrossEntropyLoss=2.2998 | MulticlassF1Score=0.7937\n",
      "Batch-30 : CrossEntropyLoss=2.3194 | MulticlassF1Score=0.7949\n",
      "Batch-45 : CrossEntropyLoss=2.3181 | MulticlassF1Score=0.7969\n",
      "Batch-60 : CrossEntropyLoss=2.3073 | MulticlassF1Score=0.7966\n",
      "Batch-75 : CrossEntropyLoss=2.3053 | MulticlassF1Score=0.7947\n",
      "Batch-90 : CrossEntropyLoss=2.3185 | MulticlassF1Score=0.7944\n",
      "Batch-105: CrossEntropyLoss=2.3147 | MulticlassF1Score=0.7935\n",
      "Batch-120: CrossEntropyLoss=2.3199 | MulticlassF1Score=0.7953\n",
      "Batch-135: CrossEntropyLoss=2.3050 | MulticlassF1Score=0.7969\n",
      "Batch-150: CrossEntropyLoss=2.3020 | MulticlassF1Score=0.7973\n",
      "Batch-165: CrossEntropyLoss=2.3019 | MulticlassF1Score=0.7990\n",
      "Batch-180: CrossEntropyLoss=2.3049 | MulticlassF1Score=0.8000\n",
      "Batch-195: CrossEntropyLoss=2.2973 | MulticlassF1Score=0.8014\n",
      "Batch-210: CrossEntropyLoss=2.3078 | MulticlassF1Score=0.8028\n",
      "Batch-225: CrossEntropyLoss=2.3035 | MulticlassF1Score=0.8041\n",
      "Batch-226: CrossEntropyLoss=2.3121 | MulticlassF1Score=0.8041\n",
      "\n",
      "Validation Step\n"
     ]
    },
    {
     "data": {
      "application/vnd.jupyter.widget-view+json": {
       "model_id": "baf9501e81c54839b634ce084d751968",
       "version_major": 2,
       "version_minor": 0
      },
      "text/plain": [
       "  0%|          | 0/63 [00:00<?, ?it/s]"
      ]
     },
     "metadata": {},
     "output_type": "display_data"
    },
    {
     "name": "stdout",
     "output_type": "stream",
     "text": [
      "Batch-15 : CrossEntropyLoss=2.3055 | MulticlassF1Score=0.8166\n",
      "Batch-30 : CrossEntropyLoss=2.3053 | MulticlassF1Score=0.8184\n",
      "Batch-45 : CrossEntropyLoss=2.3130 | MulticlassF1Score=0.8184\n",
      "Batch-60 : CrossEntropyLoss=2.2948 | MulticlassF1Score=0.8193\n",
      "Batch-63 : CrossEntropyLoss=2.3070 | MulticlassF1Score=0.8190\n",
      "\n",
      "Yeah 🎉😄! Model improved.\n",
      "\n",
      "Training   : Mean CrossEntropyLoss = 2.3086 | Mean MulticlassF1Score = 0.7970\n",
      "Validation : Mean CrossEntropyLoss = 2.3046 | Mean MulticlassF1Score = 0.8163\n",
      "================================================================================\n",
      "\n",
      "EPOCH-5\n",
      "Training Step\n"
     ]
    },
    {
     "data": {
      "application/vnd.jupyter.widget-view+json": {
       "model_id": "e8c308dca7524cf7a60910f836b79b6a",
       "version_major": 2,
       "version_minor": 0
      },
      "text/plain": [
       "  0%|          | 0/226 [00:00<?, ?it/s]"
      ]
     },
     "metadata": {},
     "output_type": "display_data"
    },
    {
     "name": "stdout",
     "output_type": "stream",
     "text": [
      "Batch-15 : CrossEntropyLoss=2.2955 | MulticlassF1Score=0.8247\n",
      "Batch-30 : CrossEntropyLoss=2.3031 | MulticlassF1Score=0.8249\n",
      "Batch-45 : CrossEntropyLoss=2.3040 | MulticlassF1Score=0.8253\n",
      "Batch-60 : CrossEntropyLoss=2.2905 | MulticlassF1Score=0.8257\n",
      "Batch-75 : CrossEntropyLoss=2.2997 | MulticlassF1Score=0.8286\n",
      "Batch-90 : CrossEntropyLoss=2.3041 | MulticlassF1Score=0.8298\n",
      "Batch-105: CrossEntropyLoss=2.3023 | MulticlassF1Score=0.8313\n",
      "Batch-120: CrossEntropyLoss=2.3131 | MulticlassF1Score=0.8324\n",
      "Batch-135: CrossEntropyLoss=2.2934 | MulticlassF1Score=0.8324\n",
      "Batch-150: CrossEntropyLoss=2.3022 | MulticlassF1Score=0.8327\n",
      "Batch-165: CrossEntropyLoss=2.3002 | MulticlassF1Score=0.8330\n",
      "Batch-180: CrossEntropyLoss=2.2909 | MulticlassF1Score=0.8342\n",
      "Batch-195: CrossEntropyLoss=2.3023 | MulticlassF1Score=0.8344\n",
      "Batch-210: CrossEntropyLoss=2.2936 | MulticlassF1Score=0.8350\n",
      "Batch-225: CrossEntropyLoss=2.2952 | MulticlassF1Score=0.8355\n",
      "Batch-226: CrossEntropyLoss=2.3029 | MulticlassF1Score=0.8355\n",
      "\n",
      "Validation Step\n"
     ]
    },
    {
     "data": {
      "application/vnd.jupyter.widget-view+json": {
       "model_id": "eb7c5bd52c6d45b5beea4ec13722c4a3",
       "version_major": 2,
       "version_minor": 0
      },
      "text/plain": [
       "  0%|          | 0/63 [00:00<?, ?it/s]"
      ]
     },
     "metadata": {},
     "output_type": "display_data"
    },
    {
     "name": "stdout",
     "output_type": "stream",
     "text": [
      "Batch-15 : CrossEntropyLoss=2.3004 | MulticlassF1Score=0.8379\n",
      "Batch-30 : CrossEntropyLoss=2.2922 | MulticlassF1Score=0.8422\n",
      "Batch-45 : CrossEntropyLoss=2.2936 | MulticlassF1Score=0.8420\n",
      "Batch-60 : CrossEntropyLoss=2.2952 | MulticlassF1Score=0.8411\n",
      "Batch-63 : CrossEntropyLoss=2.3118 | MulticlassF1Score=0.8410\n",
      "\n",
      "Yeah 🎉😄! Model improved.\n",
      "\n",
      "Training   : Mean CrossEntropyLoss = 2.2991 | Mean MulticlassF1Score = 0.8303\n",
      "Validation : Mean CrossEntropyLoss = 2.2978 | Mean MulticlassF1Score = 0.8406\n",
      "================================================================================\n",
      "\n",
      "EPOCH-6\n",
      "Training Step\n"
     ]
    },
    {
     "data": {
      "application/vnd.jupyter.widget-view+json": {
       "model_id": "f77fb0be844f46b28cbf298fbbf4d3e5",
       "version_major": 2,
       "version_minor": 0
      },
      "text/plain": [
       "  0%|          | 0/226 [00:00<?, ?it/s]"
      ]
     },
     "metadata": {},
     "output_type": "display_data"
    },
    {
     "name": "stdout",
     "output_type": "stream",
     "text": [
      "Batch-15 : CrossEntropyLoss=2.2956 | MulticlassF1Score=0.8447\n",
      "Batch-30 : CrossEntropyLoss=2.2978 | MulticlassF1Score=0.8439\n",
      "Batch-45 : CrossEntropyLoss=2.3003 | MulticlassF1Score=0.8431\n",
      "Batch-60 : CrossEntropyLoss=2.3058 | MulticlassF1Score=0.8435\n",
      "Batch-75 : CrossEntropyLoss=2.2964 | MulticlassF1Score=0.8448\n",
      "Batch-90 : CrossEntropyLoss=2.2961 | MulticlassF1Score=0.8462\n",
      "Batch-105: CrossEntropyLoss=2.2901 | MulticlassF1Score=0.8452\n",
      "Batch-120: CrossEntropyLoss=2.2935 | MulticlassF1Score=0.8453\n",
      "Batch-135: CrossEntropyLoss=2.2955 | MulticlassF1Score=0.8449\n",
      "Batch-150: CrossEntropyLoss=2.2926 | MulticlassF1Score=0.8448\n",
      "Batch-165: CrossEntropyLoss=2.2925 | MulticlassF1Score=0.8448\n",
      "Batch-180: CrossEntropyLoss=2.2930 | MulticlassF1Score=0.8445\n",
      "Batch-195: CrossEntropyLoss=2.3021 | MulticlassF1Score=0.8444\n",
      "Batch-210: CrossEntropyLoss=2.2934 | MulticlassF1Score=0.8440\n",
      "Batch-225: CrossEntropyLoss=2.2995 | MulticlassF1Score=0.8440\n",
      "Batch-226: CrossEntropyLoss=2.3055 | MulticlassF1Score=0.8440\n",
      "\n",
      "Validation Step\n"
     ]
    },
    {
     "data": {
      "application/vnd.jupyter.widget-view+json": {
       "model_id": "05de80b74e794f47a64cbab7c7e65ce3",
       "version_major": 2,
       "version_minor": 0
      },
      "text/plain": [
       "  0%|          | 0/63 [00:00<?, ?it/s]"
      ]
     },
     "metadata": {},
     "output_type": "display_data"
    },
    {
     "name": "stdout",
     "output_type": "stream",
     "text": [
      "Batch-15 : CrossEntropyLoss=2.3013 | MulticlassF1Score=0.8479\n",
      "Batch-30 : CrossEntropyLoss=2.3038 | MulticlassF1Score=0.8438\n",
      "Batch-45 : CrossEntropyLoss=2.2932 | MulticlassF1Score=0.8432\n",
      "Batch-60 : CrossEntropyLoss=2.2959 | MulticlassF1Score=0.8437\n",
      "Batch-63 : CrossEntropyLoss=2.3062 | MulticlassF1Score=0.8433\n",
      "\n",
      "Yeah 🎉😄! Model improved.\n",
      "\n",
      "Training   : Mean CrossEntropyLoss = 2.2962 | Mean MulticlassF1Score = 0.8449\n",
      "Validation : Mean CrossEntropyLoss = 2.2968 | Mean MulticlassF1Score = 0.8448\n",
      "================================================================================\n",
      "\n",
      "EPOCH-7\n",
      "Training Step\n"
     ]
    },
    {
     "data": {
      "application/vnd.jupyter.widget-view+json": {
       "model_id": "c81e0353e47b4e2a8c721ef9c15f8874",
       "version_major": 2,
       "version_minor": 0
      },
      "text/plain": [
       "  0%|          | 0/226 [00:00<?, ?it/s]"
      ]
     },
     "metadata": {},
     "output_type": "display_data"
    },
    {
     "name": "stdout",
     "output_type": "stream",
     "text": [
      "Batch-15 : CrossEntropyLoss=2.2889 | MulticlassF1Score=0.8465\n",
      "Batch-30 : CrossEntropyLoss=2.2991 | MulticlassF1Score=0.8450\n",
      "Batch-45 : CrossEntropyLoss=2.2887 | MulticlassF1Score=0.8471\n",
      "Batch-60 : CrossEntropyLoss=2.2906 | MulticlassF1Score=0.8491\n",
      "Batch-75 : CrossEntropyLoss=2.2971 | MulticlassF1Score=0.8484\n",
      "Batch-90 : CrossEntropyLoss=2.2927 | MulticlassF1Score=0.8484\n",
      "Batch-105: CrossEntropyLoss=2.2946 | MulticlassF1Score=0.8490\n",
      "Batch-120: CrossEntropyLoss=2.2884 | MulticlassF1Score=0.8510\n",
      "Batch-135: CrossEntropyLoss=2.2833 | MulticlassF1Score=0.8529\n",
      "Batch-150: CrossEntropyLoss=2.2889 | MulticlassF1Score=0.8550\n",
      "Batch-165: CrossEntropyLoss=2.2907 | MulticlassF1Score=0.8564\n",
      "Batch-180: CrossEntropyLoss=2.3032 | MulticlassF1Score=0.8579\n",
      "Batch-195: CrossEntropyLoss=2.2877 | MulticlassF1Score=0.8591\n",
      "Batch-210: CrossEntropyLoss=2.2793 | MulticlassF1Score=0.8598\n",
      "Batch-225: CrossEntropyLoss=2.2859 | MulticlassF1Score=0.8607\n",
      "Batch-226: CrossEntropyLoss=2.2893 | MulticlassF1Score=0.8607\n",
      "\n",
      "Validation Step\n"
     ]
    },
    {
     "data": {
      "application/vnd.jupyter.widget-view+json": {
       "model_id": "bf821cb9a22c41c2b447799d81e2a7d1",
       "version_major": 2,
       "version_minor": 0
      },
      "text/plain": [
       "  0%|          | 0/63 [00:00<?, ?it/s]"
      ]
     },
     "metadata": {},
     "output_type": "display_data"
    },
    {
     "name": "stdout",
     "output_type": "stream",
     "text": [
      "Batch-15 : CrossEntropyLoss=2.2801 | MulticlassF1Score=0.8726\n",
      "Batch-30 : CrossEntropyLoss=2.2854 | MulticlassF1Score=0.8704\n",
      "Batch-45 : CrossEntropyLoss=2.2921 | MulticlassF1Score=0.8708\n",
      "Batch-60 : CrossEntropyLoss=2.2758 | MulticlassF1Score=0.8716\n",
      "Batch-63 : CrossEntropyLoss=2.2900 | MulticlassF1Score=0.8723\n",
      "\n",
      "Yeah 🎉😄! Model improved.\n",
      "\n",
      "Training   : Mean CrossEntropyLoss = 2.2911 | Mean MulticlassF1Score = 0.8522\n",
      "Validation : Mean CrossEntropyLoss = 2.2879 | Mean MulticlassF1Score = 0.8707\n",
      "================================================================================\n",
      "\n",
      "EPOCH-8\n",
      "Training Step\n"
     ]
    },
    {
     "data": {
      "application/vnd.jupyter.widget-view+json": {
       "model_id": "aced0c62ef6b434fadaf82355063467a",
       "version_major": 2,
       "version_minor": 0
      },
      "text/plain": [
       "  0%|          | 0/226 [00:00<?, ?it/s]"
      ]
     },
     "metadata": {},
     "output_type": "display_data"
    },
    {
     "name": "stdout",
     "output_type": "stream",
     "text": [
      "Batch-15 : CrossEntropyLoss=2.2864 | MulticlassF1Score=0.8810\n",
      "Batch-30 : CrossEntropyLoss=2.2924 | MulticlassF1Score=0.8782\n",
      "Batch-45 : CrossEntropyLoss=2.2839 | MulticlassF1Score=0.8774\n",
      "Batch-60 : CrossEntropyLoss=2.2844 | MulticlassF1Score=0.8775\n",
      "Batch-75 : CrossEntropyLoss=2.2796 | MulticlassF1Score=0.8778\n",
      "Batch-90 : CrossEntropyLoss=2.2861 | MulticlassF1Score=0.8776\n",
      "Batch-105: CrossEntropyLoss=2.2910 | MulticlassF1Score=0.8782\n",
      "Batch-120: CrossEntropyLoss=2.2864 | MulticlassF1Score=0.8781\n",
      "Batch-135: CrossEntropyLoss=2.2905 | MulticlassF1Score=0.8781\n",
      "Batch-150: CrossEntropyLoss=2.2793 | MulticlassF1Score=0.8779\n",
      "Batch-165: CrossEntropyLoss=2.2934 | MulticlassF1Score=0.8777\n",
      "Batch-180: CrossEntropyLoss=2.2798 | MulticlassF1Score=0.8782\n",
      "Batch-195: CrossEntropyLoss=2.2802 | MulticlassF1Score=0.8784\n",
      "Batch-210: CrossEntropyLoss=2.2897 | MulticlassF1Score=0.8787\n",
      "Batch-225: CrossEntropyLoss=2.2865 | MulticlassF1Score=0.8787\n",
      "Batch-226: CrossEntropyLoss=2.2878 | MulticlassF1Score=0.8787\n",
      "\n",
      "Validation Step\n"
     ]
    },
    {
     "data": {
      "application/vnd.jupyter.widget-view+json": {
       "model_id": "93ff57379f5e4c1bb78ac4527416b45f",
       "version_major": 2,
       "version_minor": 0
      },
      "text/plain": [
       "  0%|          | 0/63 [00:00<?, ?it/s]"
      ]
     },
     "metadata": {},
     "output_type": "display_data"
    },
    {
     "name": "stdout",
     "output_type": "stream",
     "text": [
      "Batch-15 : CrossEntropyLoss=2.2842 | MulticlassF1Score=0.8787\n",
      "Batch-30 : CrossEntropyLoss=2.2892 | MulticlassF1Score=0.8792\n",
      "Batch-45 : CrossEntropyLoss=2.2752 | MulticlassF1Score=0.8789\n",
      "Batch-60 : CrossEntropyLoss=2.2912 | MulticlassF1Score=0.8779\n",
      "Batch-63 : CrossEntropyLoss=2.2996 | MulticlassF1Score=0.8766\n",
      "\n",
      "Yeah 🎉😄! Model improved.\n",
      "\n",
      "Training   : Mean CrossEntropyLoss = 2.2855 | Mean MulticlassF1Score = 0.8787\n",
      "Validation : Mean CrossEntropyLoss = 2.2864 | Mean MulticlassF1Score = 0.8792\n",
      "================================================================================\n",
      "\n",
      "EPOCH-9\n",
      "Training Step\n"
     ]
    },
    {
     "data": {
      "application/vnd.jupyter.widget-view+json": {
       "model_id": "f1c025db94134c038b0ac391846db050",
       "version_major": 2,
       "version_minor": 0
      },
      "text/plain": [
       "  0%|          | 0/226 [00:00<?, ?it/s]"
      ]
     },
     "metadata": {},
     "output_type": "display_data"
    },
    {
     "name": "stdout",
     "output_type": "stream",
     "text": [
      "Batch-15 : CrossEntropyLoss=2.2821 | MulticlassF1Score=0.8852\n",
      "Batch-30 : CrossEntropyLoss=2.2884 | MulticlassF1Score=0.8849\n",
      "Batch-45 : CrossEntropyLoss=2.2768 | MulticlassF1Score=0.8847\n",
      "Batch-60 : CrossEntropyLoss=2.2855 | MulticlassF1Score=0.8838\n",
      "Batch-75 : CrossEntropyLoss=2.2880 | MulticlassF1Score=0.8839\n",
      "Batch-90 : CrossEntropyLoss=2.2733 | MulticlassF1Score=0.8839\n",
      "Batch-105: CrossEntropyLoss=2.2833 | MulticlassF1Score=0.8840\n",
      "Batch-120: CrossEntropyLoss=2.2930 | MulticlassF1Score=0.8834\n",
      "Batch-135: CrossEntropyLoss=2.2905 | MulticlassF1Score=0.8830\n",
      "Batch-150: CrossEntropyLoss=2.2777 | MulticlassF1Score=0.8831\n",
      "Batch-165: CrossEntropyLoss=2.2858 | MulticlassF1Score=0.8827\n",
      "Batch-180: CrossEntropyLoss=2.2873 | MulticlassF1Score=0.8828\n",
      "Batch-195: CrossEntropyLoss=2.2935 | MulticlassF1Score=0.8823\n",
      "Batch-210: CrossEntropyLoss=2.2851 | MulticlassF1Score=0.8826\n",
      "Batch-225: CrossEntropyLoss=2.2823 | MulticlassF1Score=0.8828\n",
      "Batch-226: CrossEntropyLoss=2.2911 | MulticlassF1Score=0.8828\n",
      "\n",
      "Validation Step\n"
     ]
    },
    {
     "data": {
      "application/vnd.jupyter.widget-view+json": {
       "model_id": "888850bccf424bfc8bb18d74f077bc34",
       "version_major": 2,
       "version_minor": 0
      },
      "text/plain": [
       "  0%|          | 0/63 [00:00<?, ?it/s]"
      ]
     },
     "metadata": {},
     "output_type": "display_data"
    },
    {
     "name": "stdout",
     "output_type": "stream",
     "text": [
      "Batch-15 : CrossEntropyLoss=2.2855 | MulticlassF1Score=0.8808\n",
      "Batch-30 : CrossEntropyLoss=2.2805 | MulticlassF1Score=0.8794\n",
      "Batch-45 : CrossEntropyLoss=2.2830 | MulticlassF1Score=0.8777\n",
      "Batch-60 : CrossEntropyLoss=2.2804 | MulticlassF1Score=0.8781\n",
      "Batch-63 : CrossEntropyLoss=2.2825 | MulticlassF1Score=0.8780\n",
      "\n",
      "Yeah 🎉😄! Model improved.\n",
      "\n",
      "Training   : Mean CrossEntropyLoss = 2.2842 | Mean MulticlassF1Score = 0.8836\n",
      "Validation : Mean CrossEntropyLoss = 2.2859 | Mean MulticlassF1Score = 0.8796\n",
      "================================================================================\n",
      "\n",
      "EPOCH-10\n",
      "Training Step\n"
     ]
    },
    {
     "data": {
      "application/vnd.jupyter.widget-view+json": {
       "model_id": "fa77331827d2452cb3206071fb9f94df",
       "version_major": 2,
       "version_minor": 0
      },
      "text/plain": [
       "  0%|          | 0/226 [00:00<?, ?it/s]"
      ]
     },
     "metadata": {},
     "output_type": "display_data"
    },
    {
     "name": "stdout",
     "output_type": "stream",
     "text": [
      "Batch-15 : CrossEntropyLoss=2.2841 | MulticlassF1Score=0.8836\n",
      "Batch-30 : CrossEntropyLoss=2.2731 | MulticlassF1Score=0.8870\n",
      "Batch-45 : CrossEntropyLoss=2.2875 | MulticlassF1Score=0.8856\n",
      "Batch-60 : CrossEntropyLoss=2.2884 | MulticlassF1Score=0.8851\n",
      "Batch-75 : CrossEntropyLoss=2.2835 | MulticlassF1Score=0.8854\n",
      "Batch-90 : CrossEntropyLoss=2.2879 | MulticlassF1Score=0.8861\n",
      "Batch-105: CrossEntropyLoss=2.2839 | MulticlassF1Score=0.8855\n",
      "Batch-120: CrossEntropyLoss=2.2849 | MulticlassF1Score=0.8858\n",
      "Batch-135: CrossEntropyLoss=2.2812 | MulticlassF1Score=0.8860\n",
      "Batch-150: CrossEntropyLoss=2.2747 | MulticlassF1Score=0.8858\n",
      "Batch-165: CrossEntropyLoss=2.2848 | MulticlassF1Score=0.8859\n",
      "Batch-180: CrossEntropyLoss=2.2784 | MulticlassF1Score=0.8855\n",
      "Batch-195: CrossEntropyLoss=2.2836 | MulticlassF1Score=0.8854\n",
      "Batch-210: CrossEntropyLoss=2.2860 | MulticlassF1Score=0.8856\n",
      "Batch-225: CrossEntropyLoss=2.2720 | MulticlassF1Score=0.8856\n",
      "Batch-226: CrossEntropyLoss=2.2825 | MulticlassF1Score=0.8856\n",
      "\n",
      "Validation Step\n"
     ]
    },
    {
     "data": {
      "application/vnd.jupyter.widget-view+json": {
       "model_id": "80b7abca82aa49189af726881a06d76a",
       "version_major": 2,
       "version_minor": 0
      },
      "text/plain": [
       "  0%|          | 0/63 [00:00<?, ?it/s]"
      ]
     },
     "metadata": {},
     "output_type": "display_data"
    },
    {
     "name": "stdout",
     "output_type": "stream",
     "text": [
      "Batch-15 : CrossEntropyLoss=2.2922 | MulticlassF1Score=0.8783\n",
      "Batch-30 : CrossEntropyLoss=2.2922 | MulticlassF1Score=0.8782\n",
      "Batch-45 : CrossEntropyLoss=2.2897 | MulticlassF1Score=0.8792\n",
      "Batch-60 : CrossEntropyLoss=2.2857 | MulticlassF1Score=0.8793\n",
      "Batch-63 : CrossEntropyLoss=2.2948 | MulticlassF1Score=0.8788\n",
      "\n",
      "Yeah 🎉😄! Model improved.\n",
      "\n",
      "Training   : Mean CrossEntropyLoss = 2.2832 | Mean MulticlassF1Score = 0.8853\n",
      "Validation : Mean CrossEntropyLoss = 2.2856 | Mean MulticlassF1Score = 0.8790\n",
      "================================================================================\n",
      "\n",
      "EPOCH-11\n",
      "Training Step\n"
     ]
    },
    {
     "data": {
      "application/vnd.jupyter.widget-view+json": {
       "model_id": "c7d690a3e87249cbb7bd8053259894ce",
       "version_major": 2,
       "version_minor": 0
      },
      "text/plain": [
       "  0%|          | 0/226 [00:00<?, ?it/s]"
      ]
     },
     "metadata": {},
     "output_type": "display_data"
    },
    {
     "name": "stdout",
     "output_type": "stream",
     "text": [
      "Batch-15 : CrossEntropyLoss=2.2832 | MulticlassF1Score=0.8890\n",
      "Batch-30 : CrossEntropyLoss=2.2808 | MulticlassF1Score=0.8912\n",
      "Batch-45 : CrossEntropyLoss=2.2781 | MulticlassF1Score=0.8907\n",
      "Batch-60 : CrossEntropyLoss=2.2827 | MulticlassF1Score=0.8902\n",
      "Batch-75 : CrossEntropyLoss=2.2791 | MulticlassF1Score=0.8898\n",
      "Batch-90 : CrossEntropyLoss=2.2897 | MulticlassF1Score=0.8891\n",
      "Batch-105: CrossEntropyLoss=2.2885 | MulticlassF1Score=0.8882\n",
      "Batch-120: CrossEntropyLoss=2.2893 | MulticlassF1Score=0.8878\n",
      "Batch-135: CrossEntropyLoss=2.2785 | MulticlassF1Score=0.8875\n",
      "Batch-150: CrossEntropyLoss=2.2843 | MulticlassF1Score=0.8880\n",
      "Batch-165: CrossEntropyLoss=2.2781 | MulticlassF1Score=0.8886\n",
      "Batch-180: CrossEntropyLoss=2.2812 | MulticlassF1Score=0.8884\n",
      "Batch-195: CrossEntropyLoss=2.2790 | MulticlassF1Score=0.8880\n",
      "Batch-210: CrossEntropyLoss=2.2821 | MulticlassF1Score=0.8880\n",
      "Batch-225: CrossEntropyLoss=2.2851 | MulticlassF1Score=0.8877\n",
      "Batch-226: CrossEntropyLoss=2.2786 | MulticlassF1Score=0.8878\n",
      "\n",
      "Validation Step\n"
     ]
    },
    {
     "data": {
      "application/vnd.jupyter.widget-view+json": {
       "model_id": "170c57b7fbbb4334acb972f60af7946e",
       "version_major": 2,
       "version_minor": 0
      },
      "text/plain": [
       "  0%|          | 0/63 [00:00<?, ?it/s]"
      ]
     },
     "metadata": {},
     "output_type": "display_data"
    },
    {
     "name": "stdout",
     "output_type": "stream",
     "text": [
      "Batch-15 : CrossEntropyLoss=2.2922 | MulticlassF1Score=0.8814\n",
      "Batch-30 : CrossEntropyLoss=2.2904 | MulticlassF1Score=0.8788\n",
      "Batch-45 : CrossEntropyLoss=2.2790 | MulticlassF1Score=0.8795\n",
      "Batch-60 : CrossEntropyLoss=2.2916 | MulticlassF1Score=0.8786\n",
      "Batch-63 : CrossEntropyLoss=2.2883 | MulticlassF1Score=0.8785\n",
      "\n",
      "Yeah 🎉😄! Model improved.\n",
      "\n",
      "Training   : Mean CrossEntropyLoss = 2.2825 | Mean MulticlassF1Score = 0.8887\n",
      "Validation : Mean CrossEntropyLoss = 2.2856 | Mean MulticlassF1Score = 0.8795\n",
      "================================================================================\n",
      "\n",
      "EPOCH-12\n",
      "Training Step\n"
     ]
    },
    {
     "data": {
      "application/vnd.jupyter.widget-view+json": {
       "model_id": "103fb773dafe418a9110b8fdb96599c0",
       "version_major": 2,
       "version_minor": 0
      },
      "text/plain": [
       "  0%|          | 0/226 [00:00<?, ?it/s]"
      ]
     },
     "metadata": {},
     "output_type": "display_data"
    },
    {
     "name": "stdout",
     "output_type": "stream",
     "text": [
      "Batch-15 : CrossEntropyLoss=2.2775 | MulticlassF1Score=0.8951\n",
      "Batch-30 : CrossEntropyLoss=2.2785 | MulticlassF1Score=0.8945\n",
      "Batch-45 : CrossEntropyLoss=2.2797 | MulticlassF1Score=0.8971\n",
      "Batch-60 : CrossEntropyLoss=2.2713 | MulticlassF1Score=0.9015\n",
      "Batch-75 : CrossEntropyLoss=2.2813 | MulticlassF1Score=0.9024\n",
      "Batch-90 : CrossEntropyLoss=2.2712 | MulticlassF1Score=0.9041\n",
      "Batch-105: CrossEntropyLoss=2.2768 | MulticlassF1Score=0.9047\n",
      "Batch-120: CrossEntropyLoss=2.2761 | MulticlassF1Score=0.9058\n",
      "Batch-135: CrossEntropyLoss=2.2799 | MulticlassF1Score=0.9059\n",
      "Batch-150: CrossEntropyLoss=2.2675 | MulticlassF1Score=0.9066\n",
      "Batch-165: CrossEntropyLoss=2.2714 | MulticlassF1Score=0.9071\n",
      "Batch-180: CrossEntropyLoss=2.2747 | MulticlassF1Score=0.9073\n",
      "Batch-195: CrossEntropyLoss=2.2825 | MulticlassF1Score=0.9075\n",
      "Batch-210: CrossEntropyLoss=2.2736 | MulticlassF1Score=0.9079\n",
      "Batch-225: CrossEntropyLoss=2.2754 | MulticlassF1Score=0.9086\n",
      "Batch-226: CrossEntropyLoss=2.2812 | MulticlassF1Score=0.9085\n",
      "\n",
      "Validation Step\n"
     ]
    },
    {
     "data": {
      "application/vnd.jupyter.widget-view+json": {
       "model_id": "00b3a73d83464ac5bed49fad3e6d0557",
       "version_major": 2,
       "version_minor": 0
      },
      "text/plain": [
       "  0%|          | 0/63 [00:00<?, ?it/s]"
      ]
     },
     "metadata": {},
     "output_type": "display_data"
    },
    {
     "name": "stdout",
     "output_type": "stream",
     "text": [
      "Batch-15 : CrossEntropyLoss=2.2730 | MulticlassF1Score=0.9023\n",
      "Batch-30 : CrossEntropyLoss=2.2766 | MulticlassF1Score=0.9060\n",
      "Batch-45 : CrossEntropyLoss=2.2752 | MulticlassF1Score=0.9064\n",
      "Batch-60 : CrossEntropyLoss=2.2780 | MulticlassF1Score=0.9068\n",
      "Batch-63 : CrossEntropyLoss=2.2774 | MulticlassF1Score=0.9072\n",
      "\n",
      "Yeah 🎉😄! Model improved.\n",
      "\n",
      "Training   : Mean CrossEntropyLoss = 2.2762 | Mean MulticlassF1Score = 0.9037\n",
      "Validation : Mean CrossEntropyLoss = 2.2770 | Mean MulticlassF1Score = 0.9036\n",
      "================================================================================\n",
      "\n",
      "EPOCH-13\n",
      "Training Step\n"
     ]
    },
    {
     "data": {
      "application/vnd.jupyter.widget-view+json": {
       "model_id": "8ff457b8ee534ff5902fc5bc1041a2a4",
       "version_major": 2,
       "version_minor": 0
      },
      "text/plain": [
       "  0%|          | 0/226 [00:00<?, ?it/s]"
      ]
     },
     "metadata": {},
     "output_type": "display_data"
    },
    {
     "name": "stdout",
     "output_type": "stream",
     "text": [
      "Batch-15 : CrossEntropyLoss=2.2710 | MulticlassF1Score=0.9214\n",
      "Batch-30 : CrossEntropyLoss=2.2767 | MulticlassF1Score=0.9180\n",
      "Batch-45 : CrossEntropyLoss=2.2741 | MulticlassF1Score=0.9175\n",
      "Batch-60 : CrossEntropyLoss=2.2739 | MulticlassF1Score=0.9178\n",
      "Batch-75 : CrossEntropyLoss=2.2750 | MulticlassF1Score=0.9189\n",
      "Batch-90 : CrossEntropyLoss=2.2712 | MulticlassF1Score=0.9190\n",
      "Batch-105: CrossEntropyLoss=2.2687 | MulticlassF1Score=0.9194\n",
      "Batch-120: CrossEntropyLoss=2.2672 | MulticlassF1Score=0.9202\n",
      "Batch-135: CrossEntropyLoss=2.2675 | MulticlassF1Score=0.9204\n",
      "Batch-150: CrossEntropyLoss=2.2703 | MulticlassF1Score=0.9201\n",
      "Batch-165: CrossEntropyLoss=2.2699 | MulticlassF1Score=0.9205\n",
      "Batch-180: CrossEntropyLoss=2.2701 | MulticlassF1Score=0.9199\n",
      "Batch-195: CrossEntropyLoss=2.2725 | MulticlassF1Score=0.9203\n",
      "Batch-210: CrossEntropyLoss=2.2727 | MulticlassF1Score=0.9203\n",
      "Batch-225: CrossEntropyLoss=2.2696 | MulticlassF1Score=0.9203\n",
      "Batch-226: CrossEntropyLoss=2.2676 | MulticlassF1Score=0.9203\n",
      "\n",
      "Validation Step\n"
     ]
    },
    {
     "data": {
      "application/vnd.jupyter.widget-view+json": {
       "model_id": "759cd324c08849dd9507251d2bef97fb",
       "version_major": 2,
       "version_minor": 0
      },
      "text/plain": [
       "  0%|          | 0/63 [00:00<?, ?it/s]"
      ]
     },
     "metadata": {},
     "output_type": "display_data"
    },
    {
     "name": "stdout",
     "output_type": "stream",
     "text": [
      "Batch-15 : CrossEntropyLoss=2.2793 | MulticlassF1Score=0.9139\n",
      "Batch-30 : CrossEntropyLoss=2.2708 | MulticlassF1Score=0.9136\n",
      "Batch-45 : CrossEntropyLoss=2.2735 | MulticlassF1Score=0.9128\n",
      "Batch-60 : CrossEntropyLoss=2.2764 | MulticlassF1Score=0.9119\n",
      "Batch-63 : CrossEntropyLoss=2.2710 | MulticlassF1Score=0.9118\n",
      "\n",
      "Yeah 🎉😄! Model improved.\n",
      "\n",
      "Training   : Mean CrossEntropyLoss = 2.2725 | Mean MulticlassF1Score = 0.9194\n",
      "Validation : Mean CrossEntropyLoss = 2.2753 | Mean MulticlassF1Score = 0.9129\n",
      "================================================================================\n",
      "\n",
      "EPOCH-14\n",
      "Training Step\n"
     ]
    },
    {
     "data": {
      "application/vnd.jupyter.widget-view+json": {
       "model_id": "9b41337635f44df68132e94ce02b0ce6",
       "version_major": 2,
       "version_minor": 0
      },
      "text/plain": [
       "  0%|          | 0/226 [00:00<?, ?it/s]"
      ]
     },
     "metadata": {},
     "output_type": "display_data"
    },
    {
     "name": "stdout",
     "output_type": "stream",
     "text": [
      "Batch-15 : CrossEntropyLoss=2.2730 | MulticlassF1Score=0.9247\n",
      "Batch-30 : CrossEntropyLoss=2.2691 | MulticlassF1Score=0.9242\n",
      "Batch-45 : CrossEntropyLoss=2.2694 | MulticlassF1Score=0.9235\n",
      "Batch-60 : CrossEntropyLoss=2.2752 | MulticlassF1Score=0.9226\n",
      "Batch-75 : CrossEntropyLoss=2.2726 | MulticlassF1Score=0.9233\n",
      "Batch-90 : CrossEntropyLoss=2.2741 | MulticlassF1Score=0.9223\n",
      "Batch-105: CrossEntropyLoss=2.2651 | MulticlassF1Score=0.9230\n",
      "Batch-120: CrossEntropyLoss=2.2675 | MulticlassF1Score=0.9235\n",
      "Batch-135: CrossEntropyLoss=2.2765 | MulticlassF1Score=0.9231\n",
      "Batch-150: CrossEntropyLoss=2.2772 | MulticlassF1Score=0.9232\n",
      "Batch-165: CrossEntropyLoss=2.2673 | MulticlassF1Score=0.9233\n",
      "Batch-180: CrossEntropyLoss=2.2713 | MulticlassF1Score=0.9235\n",
      "Batch-195: CrossEntropyLoss=2.2726 | MulticlassF1Score=0.9232\n",
      "Batch-210: CrossEntropyLoss=2.2693 | MulticlassF1Score=0.9232\n",
      "Batch-225: CrossEntropyLoss=2.2683 | MulticlassF1Score=0.9231\n",
      "Batch-226: CrossEntropyLoss=2.2754 | MulticlassF1Score=0.9230\n",
      "\n",
      "Validation Step\n"
     ]
    },
    {
     "data": {
      "application/vnd.jupyter.widget-view+json": {
       "model_id": "02b80583dfaa42f59fa9018dd11d08ac",
       "version_major": 2,
       "version_minor": 0
      },
      "text/plain": [
       "  0%|          | 0/63 [00:00<?, ?it/s]"
      ]
     },
     "metadata": {},
     "output_type": "display_data"
    },
    {
     "name": "stdout",
     "output_type": "stream",
     "text": [
      "Batch-15 : CrossEntropyLoss=2.2715 | MulticlassF1Score=0.9135\n",
      "Batch-30 : CrossEntropyLoss=2.2723 | MulticlassF1Score=0.9116\n",
      "Batch-45 : CrossEntropyLoss=2.2788 | MulticlassF1Score=0.9114\n",
      "Batch-60 : CrossEntropyLoss=2.2766 | MulticlassF1Score=0.9110\n",
      "Batch-63 : CrossEntropyLoss=2.2727 | MulticlassF1Score=0.9111\n",
      "\n",
      "Yeah 🎉😄! Model improved.\n",
      "\n",
      "Training   : Mean CrossEntropyLoss = 2.2716 | Mean MulticlassF1Score = 0.9232\n",
      "Validation : Mean CrossEntropyLoss = 2.2754 | Mean MulticlassF1Score = 0.9111\n",
      "================================================================================\n",
      "\n",
      "EPOCH-15\n",
      "Training Step\n"
     ]
    },
    {
     "data": {
      "application/vnd.jupyter.widget-view+json": {
       "model_id": "a93a2fe42b4d43bd9e09f528988a9fd8",
       "version_major": 2,
       "version_minor": 0
      },
      "text/plain": [
       "  0%|          | 0/226 [00:00<?, ?it/s]"
      ]
     },
     "metadata": {},
     "output_type": "display_data"
    },
    {
     "name": "stdout",
     "output_type": "stream",
     "text": [
      "Batch-15 : CrossEntropyLoss=2.2652 | MulticlassF1Score=0.9247\n",
      "Batch-30 : CrossEntropyLoss=2.2646 | MulticlassF1Score=0.9253\n",
      "Batch-45 : CrossEntropyLoss=2.2714 | MulticlassF1Score=0.9241\n",
      "Batch-60 : CrossEntropyLoss=2.2702 | MulticlassF1Score=0.9233\n",
      "Batch-75 : CrossEntropyLoss=2.2720 | MulticlassF1Score=0.9241\n",
      "Batch-90 : CrossEntropyLoss=2.2673 | MulticlassF1Score=0.9242\n",
      "Batch-105: CrossEntropyLoss=2.2718 | MulticlassF1Score=0.9241\n",
      "Batch-120: CrossEntropyLoss=2.2689 | MulticlassF1Score=0.9246\n",
      "Batch-135: CrossEntropyLoss=2.2714 | MulticlassF1Score=0.9238\n",
      "Batch-150: CrossEntropyLoss=2.2746 | MulticlassF1Score=0.9239\n",
      "Batch-165: CrossEntropyLoss=2.2684 | MulticlassF1Score=0.9240\n",
      "Batch-180: CrossEntropyLoss=2.2712 | MulticlassF1Score=0.9244\n",
      "Batch-195: CrossEntropyLoss=2.2711 | MulticlassF1Score=0.9245\n",
      "Batch-210: CrossEntropyLoss=2.2794 | MulticlassF1Score=0.9245\n",
      "Batch-225: CrossEntropyLoss=2.2736 | MulticlassF1Score=0.9244\n",
      "Batch-226: CrossEntropyLoss=2.2726 | MulticlassF1Score=0.9243\n",
      "\n",
      "Validation Step\n"
     ]
    },
    {
     "data": {
      "application/vnd.jupyter.widget-view+json": {
       "model_id": "61516280787c4b619708349d84e4be50",
       "version_major": 2,
       "version_minor": 0
      },
      "text/plain": [
       "  0%|          | 0/63 [00:00<?, ?it/s]"
      ]
     },
     "metadata": {},
     "output_type": "display_data"
    },
    {
     "name": "stdout",
     "output_type": "stream",
     "text": [
      "Batch-15 : CrossEntropyLoss=2.2792 | MulticlassF1Score=0.9110\n",
      "Batch-30 : CrossEntropyLoss=2.2706 | MulticlassF1Score=0.9126\n",
      "Batch-45 : CrossEntropyLoss=2.2753 | MulticlassF1Score=0.9123\n",
      "Batch-60 : CrossEntropyLoss=2.2736 | MulticlassF1Score=0.9112\n",
      "Batch-63 : CrossEntropyLoss=2.2677 | MulticlassF1Score=0.9114\n",
      "\n",
      "Yeah 🎉😄! Model improved.\n",
      "\n",
      "Training   : Mean CrossEntropyLoss = 2.2711 | Mean MulticlassF1Score = 0.9242\n",
      "Validation : Mean CrossEntropyLoss = 2.2752 | Mean MulticlassF1Score = 0.9128\n",
      "================================================================================\n",
      "\n",
      "EPOCH-16\n",
      "Training Step\n"
     ]
    },
    {
     "data": {
      "application/vnd.jupyter.widget-view+json": {
       "model_id": "a2f24712bb5841dab0b0c5615519f757",
       "version_major": 2,
       "version_minor": 0
      },
      "text/plain": [
       "  0%|          | 0/226 [00:00<?, ?it/s]"
      ]
     },
     "metadata": {},
     "output_type": "display_data"
    },
    {
     "name": "stdout",
     "output_type": "stream",
     "text": [
      "Batch-15 : CrossEntropyLoss=2.2699 | MulticlassF1Score=0.9248\n",
      "Batch-30 : CrossEntropyLoss=2.2717 | MulticlassF1Score=0.9247\n",
      "Batch-45 : CrossEntropyLoss=2.2704 | MulticlassF1Score=0.9260\n",
      "Batch-60 : CrossEntropyLoss=2.2733 | MulticlassF1Score=0.9268\n",
      "Batch-75 : CrossEntropyLoss=2.2757 | MulticlassF1Score=0.9275\n",
      "Batch-90 : CrossEntropyLoss=2.2666 | MulticlassF1Score=0.9274\n",
      "Batch-105: CrossEntropyLoss=2.2730 | MulticlassF1Score=0.9279\n",
      "Batch-120: CrossEntropyLoss=2.2682 | MulticlassF1Score=0.9281\n",
      "Batch-135: CrossEntropyLoss=2.2673 | MulticlassF1Score=0.9281\n",
      "Batch-150: CrossEntropyLoss=2.2673 | MulticlassF1Score=0.9283\n",
      "Batch-165: CrossEntropyLoss=2.2687 | MulticlassF1Score=0.9284\n",
      "Batch-180: CrossEntropyLoss=2.2694 | MulticlassF1Score=0.9285\n",
      "Batch-195: CrossEntropyLoss=2.2697 | MulticlassF1Score=0.9285\n",
      "Batch-210: CrossEntropyLoss=2.2717 | MulticlassF1Score=0.9283\n",
      "Batch-225: CrossEntropyLoss=2.2667 | MulticlassF1Score=0.9284\n",
      "Batch-226: CrossEntropyLoss=2.2654 | MulticlassF1Score=0.9285\n",
      "\n",
      "Validation Step\n"
     ]
    },
    {
     "data": {
      "application/vnd.jupyter.widget-view+json": {
       "model_id": "857b01c95ebe40bfaeea2f414b79ccec",
       "version_major": 2,
       "version_minor": 0
      },
      "text/plain": [
       "  0%|          | 0/63 [00:00<?, ?it/s]"
      ]
     },
     "metadata": {},
     "output_type": "display_data"
    },
    {
     "name": "stdout",
     "output_type": "stream",
     "text": [
      "Batch-15 : CrossEntropyLoss=2.2689 | MulticlassF1Score=0.9126\n",
      "Batch-30 : CrossEntropyLoss=2.2701 | MulticlassF1Score=0.9153\n",
      "Batch-45 : CrossEntropyLoss=2.2705 | MulticlassF1Score=0.9164\n",
      "Batch-60 : CrossEntropyLoss=2.2701 | MulticlassF1Score=0.9162\n",
      "Batch-63 : CrossEntropyLoss=2.2752 | MulticlassF1Score=0.9158\n",
      "\n",
      "Yeah 🎉😄! Model improved.\n",
      "\n",
      "Training   : Mean CrossEntropyLoss = 2.2698 | Mean MulticlassF1Score = 0.9277\n",
      "Validation : Mean CrossEntropyLoss = 2.2740 | Mean MulticlassF1Score = 0.9143\n",
      "================================================================================\n",
      "\n",
      "EPOCH-17\n",
      "Training Step\n"
     ]
    },
    {
     "data": {
      "application/vnd.jupyter.widget-view+json": {
       "model_id": "b079b340ea3e48bb8a1b14308da480e0",
       "version_major": 2,
       "version_minor": 0
      },
      "text/plain": [
       "  0%|          | 0/226 [00:00<?, ?it/s]"
      ]
     },
     "metadata": {},
     "output_type": "display_data"
    },
    {
     "name": "stdout",
     "output_type": "stream",
     "text": [
      "Batch-15 : CrossEntropyLoss=2.2690 | MulticlassF1Score=0.9262\n",
      "Batch-30 : CrossEntropyLoss=2.2679 | MulticlassF1Score=0.9285\n",
      "Batch-45 : CrossEntropyLoss=2.2718 | MulticlassF1Score=0.9299\n",
      "Batch-60 : CrossEntropyLoss=2.2687 | MulticlassF1Score=0.9305\n",
      "Batch-75 : CrossEntropyLoss=2.2699 | MulticlassF1Score=0.9308\n",
      "Batch-90 : CrossEntropyLoss=2.2698 | MulticlassF1Score=0.9307\n",
      "Batch-105: CrossEntropyLoss=2.2665 | MulticlassF1Score=0.9302\n",
      "Batch-120: CrossEntropyLoss=2.2648 | MulticlassF1Score=0.9301\n",
      "Batch-135: CrossEntropyLoss=2.2717 | MulticlassF1Score=0.9302\n",
      "Batch-150: CrossEntropyLoss=2.2707 | MulticlassF1Score=0.9303\n",
      "Batch-165: CrossEntropyLoss=2.2674 | MulticlassF1Score=0.9305\n",
      "Batch-180: CrossEntropyLoss=2.2647 | MulticlassF1Score=0.9303\n",
      "Batch-195: CrossEntropyLoss=2.2747 | MulticlassF1Score=0.9304\n",
      "Batch-210: CrossEntropyLoss=2.2710 | MulticlassF1Score=0.9306\n",
      "Batch-225: CrossEntropyLoss=2.2655 | MulticlassF1Score=0.9308\n",
      "Batch-226: CrossEntropyLoss=2.2624 | MulticlassF1Score=0.9308\n",
      "\n",
      "Validation Step\n"
     ]
    },
    {
     "data": {
      "application/vnd.jupyter.widget-view+json": {
       "model_id": "ae78526ce66e4761b465fa23b00419df",
       "version_major": 2,
       "version_minor": 0
      },
      "text/plain": [
       "  0%|          | 0/63 [00:00<?, ?it/s]"
      ]
     },
     "metadata": {},
     "output_type": "display_data"
    },
    {
     "name": "stdout",
     "output_type": "stream",
     "text": [
      "Batch-15 : CrossEntropyLoss=2.2798 | MulticlassF1Score=0.9172\n",
      "Batch-30 : CrossEntropyLoss=2.2734 | MulticlassF1Score=0.9166\n",
      "Batch-45 : CrossEntropyLoss=2.2693 | MulticlassF1Score=0.9176\n",
      "Batch-60 : CrossEntropyLoss=2.2713 | MulticlassF1Score=0.9167\n",
      "Batch-63 : CrossEntropyLoss=2.2670 | MulticlassF1Score=0.9170\n",
      "\n",
      "Yeah 🎉😄! Model improved.\n",
      "\n",
      "Training   : Mean CrossEntropyLoss = 2.2690 | Mean MulticlassF1Score = 0.9299\n",
      "Validation : Mean CrossEntropyLoss = 2.2736 | Mean MulticlassF1Score = 0.9175\n",
      "================================================================================\n",
      "\n",
      "EPOCH-18\n",
      "Training Step\n"
     ]
    },
    {
     "data": {
      "application/vnd.jupyter.widget-view+json": {
       "model_id": "29dbc1ec0266444ca32723b8fb66fed8",
       "version_major": 2,
       "version_minor": 0
      },
      "text/plain": [
       "  0%|          | 0/226 [00:00<?, ?it/s]"
      ]
     },
     "metadata": {},
     "output_type": "display_data"
    },
    {
     "name": "stdout",
     "output_type": "stream",
     "text": [
      "Batch-15 : CrossEntropyLoss=2.2746 | MulticlassF1Score=0.9330\n",
      "Batch-30 : CrossEntropyLoss=2.2690 | MulticlassF1Score=0.9328\n",
      "Batch-45 : CrossEntropyLoss=2.2679 | MulticlassF1Score=0.9331\n",
      "Batch-60 : CrossEntropyLoss=2.2631 | MulticlassF1Score=0.9330\n",
      "Batch-75 : CrossEntropyLoss=2.2640 | MulticlassF1Score=0.9335\n",
      "Batch-90 : CrossEntropyLoss=2.2710 | MulticlassF1Score=0.9333\n",
      "Batch-105: CrossEntropyLoss=2.2737 | MulticlassF1Score=0.9330\n",
      "Batch-120: CrossEntropyLoss=2.2690 | MulticlassF1Score=0.9332\n",
      "Batch-135: CrossEntropyLoss=2.2684 | MulticlassF1Score=0.9334\n",
      "Batch-150: CrossEntropyLoss=2.2681 | MulticlassF1Score=0.9328\n",
      "Batch-165: CrossEntropyLoss=2.2725 | MulticlassF1Score=0.9329\n",
      "Batch-180: CrossEntropyLoss=2.2683 | MulticlassF1Score=0.9328\n",
      "Batch-195: CrossEntropyLoss=2.2688 | MulticlassF1Score=0.9330\n",
      "Batch-210: CrossEntropyLoss=2.2673 | MulticlassF1Score=0.9329\n",
      "Batch-225: CrossEntropyLoss=2.2695 | MulticlassF1Score=0.9326\n",
      "Batch-226: CrossEntropyLoss=2.2644 | MulticlassF1Score=0.9326\n",
      "\n",
      "Validation Step\n"
     ]
    },
    {
     "data": {
      "application/vnd.jupyter.widget-view+json": {
       "model_id": "f9f1ecc22b3f45f0829c235cc0ed3fce",
       "version_major": 2,
       "version_minor": 0
      },
      "text/plain": [
       "  0%|          | 0/63 [00:00<?, ?it/s]"
      ]
     },
     "metadata": {},
     "output_type": "display_data"
    },
    {
     "name": "stdout",
     "output_type": "stream",
     "text": [
      "Batch-15 : CrossEntropyLoss=2.2730 | MulticlassF1Score=0.9181\n",
      "Batch-30 : CrossEntropyLoss=2.2706 | MulticlassF1Score=0.9163\n",
      "Batch-45 : CrossEntropyLoss=2.2738 | MulticlassF1Score=0.9165\n",
      "Batch-60 : CrossEntropyLoss=2.2752 | MulticlassF1Score=0.9168\n",
      "Batch-63 : CrossEntropyLoss=2.2776 | MulticlassF1Score=0.9166\n",
      "\n",
      "Yeah 🎉😄! Model improved.\n",
      "\n",
      "Training   : Mean CrossEntropyLoss = 2.2684 | Mean MulticlassF1Score = 0.9330\n",
      "Validation : Mean CrossEntropyLoss = 2.2737 | Mean MulticlassF1Score = 0.9175\n",
      "================================================================================\n",
      "\n",
      "EPOCH-19\n",
      "Training Step\n"
     ]
    },
    {
     "data": {
      "application/vnd.jupyter.widget-view+json": {
       "model_id": "3a4f87b694cc4484bb19f81ebcd5eb73",
       "version_major": 2,
       "version_minor": 0
      },
      "text/plain": [
       "  0%|          | 0/226 [00:00<?, ?it/s]"
      ]
     },
     "metadata": {},
     "output_type": "display_data"
    },
    {
     "name": "stdout",
     "output_type": "stream",
     "text": [
      "Batch-15 : CrossEntropyLoss=2.2654 | MulticlassF1Score=0.9369\n",
      "Batch-30 : CrossEntropyLoss=2.2692 | MulticlassF1Score=0.9356\n",
      "Batch-45 : CrossEntropyLoss=2.2651 | MulticlassF1Score=0.9347\n",
      "Batch-60 : CrossEntropyLoss=2.2636 | MulticlassF1Score=0.9348\n",
      "Batch-75 : CrossEntropyLoss=2.2671 | MulticlassF1Score=0.9344\n",
      "Batch-90 : CrossEntropyLoss=2.2712 | MulticlassF1Score=0.9340\n",
      "Batch-105: CrossEntropyLoss=2.2656 | MulticlassF1Score=0.9343\n",
      "Batch-120: CrossEntropyLoss=2.2664 | MulticlassF1Score=0.9343\n",
      "Batch-135: CrossEntropyLoss=2.2615 | MulticlassF1Score=0.9342\n",
      "Batch-150: CrossEntropyLoss=2.2660 | MulticlassF1Score=0.9344\n",
      "Batch-165: CrossEntropyLoss=2.2649 | MulticlassF1Score=0.9342\n",
      "Batch-180: CrossEntropyLoss=2.2675 | MulticlassF1Score=0.9345\n",
      "Batch-195: CrossEntropyLoss=2.2662 | MulticlassF1Score=0.9343\n",
      "Batch-210: CrossEntropyLoss=2.2647 | MulticlassF1Score=0.9340\n",
      "Batch-225: CrossEntropyLoss=2.2700 | MulticlassF1Score=0.9337\n",
      "Batch-226: CrossEntropyLoss=2.2604 | MulticlassF1Score=0.9338\n",
      "\n",
      "Validation Step\n"
     ]
    },
    {
     "data": {
      "application/vnd.jupyter.widget-view+json": {
       "model_id": "7ccab0a6ca9b4ec394e80a596ad4b536",
       "version_major": 2,
       "version_minor": 0
      },
      "text/plain": [
       "  0%|          | 0/63 [00:00<?, ?it/s]"
      ]
     },
     "metadata": {},
     "output_type": "display_data"
    },
    {
     "name": "stdout",
     "output_type": "stream",
     "text": [
      "Batch-15 : CrossEntropyLoss=2.2734 | MulticlassF1Score=0.9119\n",
      "Batch-30 : CrossEntropyLoss=2.2743 | MulticlassF1Score=0.9147\n",
      "Batch-45 : CrossEntropyLoss=2.2689 | MulticlassF1Score=0.9170\n",
      "Batch-60 : CrossEntropyLoss=2.2819 | MulticlassF1Score=0.9168\n",
      "Batch-63 : CrossEntropyLoss=2.2703 | MulticlassF1Score=0.9167\n",
      "\n",
      "Yeah 🎉😄! Model improved.\n",
      "\n",
      "Training   : Mean CrossEntropyLoss = 2.2681 | Mean MulticlassF1Score = 0.9344\n",
      "Validation : Mean CrossEntropyLoss = 2.2736 | Mean MulticlassF1Score = 0.9160\n",
      "================================================================================\n",
      "\n",
      "EPOCH-20\n",
      "Training Step\n"
     ]
    },
    {
     "data": {
      "application/vnd.jupyter.widget-view+json": {
       "model_id": "6f794e5bdf564433988176ea9cd6d1f5",
       "version_major": 2,
       "version_minor": 0
      },
      "text/plain": [
       "  0%|          | 0/226 [00:00<?, ?it/s]"
      ]
     },
     "metadata": {},
     "output_type": "display_data"
    },
    {
     "name": "stdout",
     "output_type": "stream",
     "text": [
      "Batch-15 : CrossEntropyLoss=2.2674 | MulticlassF1Score=0.9405\n",
      "Batch-30 : CrossEntropyLoss=2.2683 | MulticlassF1Score=0.9363\n",
      "Batch-45 : CrossEntropyLoss=2.2661 | MulticlassF1Score=0.9368\n",
      "Batch-60 : CrossEntropyLoss=2.2691 | MulticlassF1Score=0.9359\n",
      "Batch-75 : CrossEntropyLoss=2.2663 | MulticlassF1Score=0.9356\n",
      "Batch-90 : CrossEntropyLoss=2.2683 | MulticlassF1Score=0.9351\n",
      "Batch-105: CrossEntropyLoss=2.2667 | MulticlassF1Score=0.9350\n",
      "Batch-120: CrossEntropyLoss=2.2655 | MulticlassF1Score=0.9349\n",
      "Batch-135: CrossEntropyLoss=2.2715 | MulticlassF1Score=0.9348\n",
      "Batch-150: CrossEntropyLoss=2.2670 | MulticlassF1Score=0.9348\n",
      "Batch-165: CrossEntropyLoss=2.2593 | MulticlassF1Score=0.9348\n",
      "Batch-180: CrossEntropyLoss=2.2657 | MulticlassF1Score=0.9347\n",
      "Batch-195: CrossEntropyLoss=2.2710 | MulticlassF1Score=0.9346\n",
      "Batch-210: CrossEntropyLoss=2.2689 | MulticlassF1Score=0.9348\n",
      "Batch-225: CrossEntropyLoss=2.2701 | MulticlassF1Score=0.9346\n",
      "Batch-226: CrossEntropyLoss=2.2739 | MulticlassF1Score=0.9346\n",
      "\n",
      "Validation Step\n"
     ]
    },
    {
     "data": {
      "application/vnd.jupyter.widget-view+json": {
       "model_id": "7652f34f1a004b98a84b42f28370acef",
       "version_major": 2,
       "version_minor": 0
      },
      "text/plain": [
       "  0%|          | 0/63 [00:00<?, ?it/s]"
      ]
     },
     "metadata": {},
     "output_type": "display_data"
    },
    {
     "name": "stdout",
     "output_type": "stream",
     "text": [
      "Batch-15 : CrossEntropyLoss=2.2755 | MulticlassF1Score=0.9182\n",
      "Batch-30 : CrossEntropyLoss=2.2738 | MulticlassF1Score=0.9182\n",
      "Batch-45 : CrossEntropyLoss=2.2748 | MulticlassF1Score=0.9176\n",
      "Batch-60 : CrossEntropyLoss=2.2734 | MulticlassF1Score=0.9173\n",
      "Batch-63 : CrossEntropyLoss=2.2707 | MulticlassF1Score=0.9174\n",
      "\n",
      "Yeah 🎉😄! Model improved.\n",
      "\n",
      "Training   : Mean CrossEntropyLoss = 2.2678 | Mean MulticlassF1Score = 0.9354\n",
      "Validation : Mean CrossEntropyLoss = 2.2734 | Mean MulticlassF1Score = 0.9193\n",
      "================================================================================\n",
      "\n",
      "EPOCH-21\n",
      "Training Step\n"
     ]
    },
    {
     "data": {
      "application/vnd.jupyter.widget-view+json": {
       "model_id": "2aa9e05d0dae49108efc7f57b0f0abce",
       "version_major": 2,
       "version_minor": 0
      },
      "text/plain": [
       "  0%|          | 0/226 [00:00<?, ?it/s]"
      ]
     },
     "metadata": {},
     "output_type": "display_data"
    },
    {
     "name": "stdout",
     "output_type": "stream",
     "text": [
      "Batch-15 : CrossEntropyLoss=2.2740 | MulticlassF1Score=0.9354\n",
      "Batch-30 : CrossEntropyLoss=2.2630 | MulticlassF1Score=0.9371\n",
      "Batch-45 : CrossEntropyLoss=2.2708 | MulticlassF1Score=0.9363\n",
      "Batch-60 : CrossEntropyLoss=2.2683 | MulticlassF1Score=0.9358\n",
      "Batch-75 : CrossEntropyLoss=2.2682 | MulticlassF1Score=0.9357\n",
      "Batch-90 : CrossEntropyLoss=2.2759 | MulticlassF1Score=0.9352\n",
      "Batch-105: CrossEntropyLoss=2.2719 | MulticlassF1Score=0.9352\n",
      "Batch-120: CrossEntropyLoss=2.2653 | MulticlassF1Score=0.9351\n",
      "Batch-135: CrossEntropyLoss=2.2691 | MulticlassF1Score=0.9353\n",
      "Batch-150: CrossEntropyLoss=2.2700 | MulticlassF1Score=0.9352\n",
      "Batch-165: CrossEntropyLoss=2.2656 | MulticlassF1Score=0.9356\n",
      "Batch-180: CrossEntropyLoss=2.2675 | MulticlassF1Score=0.9353\n",
      "Batch-195: CrossEntropyLoss=2.2676 | MulticlassF1Score=0.9353\n",
      "Batch-210: CrossEntropyLoss=2.2658 | MulticlassF1Score=0.9353\n",
      "Batch-225: CrossEntropyLoss=2.2645 | MulticlassF1Score=0.9352\n",
      "Batch-226: CrossEntropyLoss=2.2730 | MulticlassF1Score=0.9351\n",
      "\n",
      "Validation Step\n"
     ]
    },
    {
     "data": {
      "application/vnd.jupyter.widget-view+json": {
       "model_id": "f660bd0487984098aba8e3097d5ecda9",
       "version_major": 2,
       "version_minor": 0
      },
      "text/plain": [
       "  0%|          | 0/63 [00:00<?, ?it/s]"
      ]
     },
     "metadata": {},
     "output_type": "display_data"
    },
    {
     "name": "stdout",
     "output_type": "stream",
     "text": [
      "Batch-15 : CrossEntropyLoss=2.2759 | MulticlassF1Score=0.9142\n",
      "Batch-30 : CrossEntropyLoss=2.2707 | MulticlassF1Score=0.9160\n",
      "Batch-45 : CrossEntropyLoss=2.2754 | MulticlassF1Score=0.9163\n",
      "Batch-60 : CrossEntropyLoss=2.2717 | MulticlassF1Score=0.9160\n",
      "Batch-63 : CrossEntropyLoss=2.2765 | MulticlassF1Score=0.9164\n",
      "\n",
      "Yeah 🎉😄! Model improved.\n",
      "\n",
      "Training   : Mean CrossEntropyLoss = 2.2676 | Mean MulticlassF1Score = 0.9356\n",
      "Validation : Mean CrossEntropyLoss = 2.2737 | Mean MulticlassF1Score = 0.9161\n",
      "================================================================================\n",
      "\n",
      "EPOCH-22\n",
      "Training Step\n"
     ]
    },
    {
     "data": {
      "application/vnd.jupyter.widget-view+json": {
       "model_id": "d90051ff5138415cb2523170a09d91c4",
       "version_major": 2,
       "version_minor": 0
      },
      "text/plain": [
       "  0%|          | 0/226 [00:00<?, ?it/s]"
      ]
     },
     "metadata": {},
     "output_type": "display_data"
    },
    {
     "name": "stdout",
     "output_type": "stream",
     "text": [
      "Batch-15 : CrossEntropyLoss=2.2685 | MulticlassF1Score=0.9351\n",
      "Batch-30 : CrossEntropyLoss=2.2715 | MulticlassF1Score=0.9356\n",
      "Batch-45 : CrossEntropyLoss=2.2671 | MulticlassF1Score=0.9359\n",
      "Batch-60 : CrossEntropyLoss=2.2625 | MulticlassF1Score=0.9352\n",
      "Batch-75 : CrossEntropyLoss=2.2648 | MulticlassF1Score=0.9348\n",
      "Batch-90 : CrossEntropyLoss=2.2678 | MulticlassF1Score=0.9355\n",
      "Batch-105: CrossEntropyLoss=2.2693 | MulticlassF1Score=0.9359\n",
      "Batch-120: CrossEntropyLoss=2.2654 | MulticlassF1Score=0.9361\n",
      "Batch-135: CrossEntropyLoss=2.2648 | MulticlassF1Score=0.9361\n",
      "Batch-150: CrossEntropyLoss=2.2675 | MulticlassF1Score=0.9361\n",
      "Batch-165: CrossEntropyLoss=2.2720 | MulticlassF1Score=0.9358\n",
      "Batch-180: CrossEntropyLoss=2.2706 | MulticlassF1Score=0.9360\n",
      "Batch-195: CrossEntropyLoss=2.2624 | MulticlassF1Score=0.9361\n",
      "Batch-210: CrossEntropyLoss=2.2693 | MulticlassF1Score=0.9361\n",
      "Batch-225: CrossEntropyLoss=2.2662 | MulticlassF1Score=0.9358\n",
      "Batch-226: CrossEntropyLoss=2.2630 | MulticlassF1Score=0.9358\n",
      "\n",
      "Validation Step\n"
     ]
    },
    {
     "data": {
      "application/vnd.jupyter.widget-view+json": {
       "model_id": "13b5ea1bcf2e48edb2046d2a4fe96926",
       "version_major": 2,
       "version_minor": 0
      },
      "text/plain": [
       "  0%|          | 0/63 [00:00<?, ?it/s]"
      ]
     },
     "metadata": {},
     "output_type": "display_data"
    },
    {
     "name": "stdout",
     "output_type": "stream",
     "text": [
      "Batch-15 : CrossEntropyLoss=2.2695 | MulticlassF1Score=0.9211\n",
      "Batch-30 : CrossEntropyLoss=2.2684 | MulticlassF1Score=0.9208\n",
      "Batch-45 : CrossEntropyLoss=2.2804 | MulticlassF1Score=0.9205\n",
      "Batch-60 : CrossEntropyLoss=2.2842 | MulticlassF1Score=0.9182\n",
      "Batch-63 : CrossEntropyLoss=2.2748 | MulticlassF1Score=0.9177\n",
      "\n",
      "Yeah 🎉😄! Model improved.\n",
      "\n",
      "Training   : Mean CrossEntropyLoss = 2.2674 | Mean MulticlassF1Score = 0.9358\n",
      "Validation : Mean CrossEntropyLoss = 2.2732 | Mean MulticlassF1Score = 0.9200\n",
      "================================================================================\n",
      "\n",
      "EPOCH-23\n",
      "Training Step\n"
     ]
    },
    {
     "data": {
      "application/vnd.jupyter.widget-view+json": {
       "model_id": "37a015ef18ae444a83ef0845536a92cb",
       "version_major": 2,
       "version_minor": 0
      },
      "text/plain": [
       "  0%|          | 0/226 [00:00<?, ?it/s]"
      ]
     },
     "metadata": {},
     "output_type": "display_data"
    },
    {
     "name": "stdout",
     "output_type": "stream",
     "text": [
      "Batch-15 : CrossEntropyLoss=2.2615 | MulticlassF1Score=0.9414\n",
      "Batch-30 : CrossEntropyLoss=2.2679 | MulticlassF1Score=0.9399\n",
      "Batch-45 : CrossEntropyLoss=2.2702 | MulticlassF1Score=0.9373\n",
      "Batch-60 : CrossEntropyLoss=2.2662 | MulticlassF1Score=0.9383\n",
      "Batch-75 : CrossEntropyLoss=2.2645 | MulticlassF1Score=0.9385\n",
      "Batch-90 : CrossEntropyLoss=2.2683 | MulticlassF1Score=0.9375\n",
      "Batch-105: CrossEntropyLoss=2.2624 | MulticlassF1Score=0.9372\n",
      "Batch-120: CrossEntropyLoss=2.2746 | MulticlassF1Score=0.9367\n",
      "Batch-135: CrossEntropyLoss=2.2672 | MulticlassF1Score=0.9367\n",
      "Batch-150: CrossEntropyLoss=2.2695 | MulticlassF1Score=0.9366\n",
      "Batch-165: CrossEntropyLoss=2.2663 | MulticlassF1Score=0.9366\n",
      "Batch-180: CrossEntropyLoss=2.2635 | MulticlassF1Score=0.9366\n",
      "Batch-195: CrossEntropyLoss=2.2696 | MulticlassF1Score=0.9364\n",
      "Batch-210: CrossEntropyLoss=2.2698 | MulticlassF1Score=0.9365\n",
      "Batch-225: CrossEntropyLoss=2.2623 | MulticlassF1Score=0.9365\n",
      "Batch-226: CrossEntropyLoss=2.2672 | MulticlassF1Score=0.9365\n",
      "\n",
      "Validation Step\n"
     ]
    },
    {
     "data": {
      "application/vnd.jupyter.widget-view+json": {
       "model_id": "d77083a8a41e4c808a40d579eeb2a5e9",
       "version_major": 2,
       "version_minor": 0
      },
      "text/plain": [
       "  0%|          | 0/63 [00:00<?, ?it/s]"
      ]
     },
     "metadata": {},
     "output_type": "display_data"
    },
    {
     "name": "stdout",
     "output_type": "stream",
     "text": [
      "Batch-15 : CrossEntropyLoss=2.2725 | MulticlassF1Score=0.9188\n",
      "Batch-30 : CrossEntropyLoss=2.2750 | MulticlassF1Score=0.9159\n",
      "Batch-45 : CrossEntropyLoss=2.2723 | MulticlassF1Score=0.9171\n",
      "Batch-60 : CrossEntropyLoss=2.2732 | MulticlassF1Score=0.9174\n",
      "Batch-63 : CrossEntropyLoss=2.2706 | MulticlassF1Score=0.9178\n",
      "\n",
      "Yeah 🎉😄! Model improved.\n",
      "\n",
      "Training   : Mean CrossEntropyLoss = 2.2671 | Mean MulticlassF1Score = 0.9376\n",
      "Validation : Mean CrossEntropyLoss = 2.2732 | Mean MulticlassF1Score = 0.9174\n",
      "================================================================================\n",
      "\n",
      "EPOCH-24\n",
      "Training Step\n"
     ]
    },
    {
     "data": {
      "application/vnd.jupyter.widget-view+json": {
       "model_id": "2c69ef037a5c4aeb9d4cf507d34f3eda",
       "version_major": 2,
       "version_minor": 0
      },
      "text/plain": [
       "  0%|          | 0/226 [00:00<?, ?it/s]"
      ]
     },
     "metadata": {},
     "output_type": "display_data"
    },
    {
     "name": "stdout",
     "output_type": "stream",
     "text": [
      "Batch-15 : CrossEntropyLoss=2.2714 | MulticlassF1Score=0.9335\n",
      "Batch-30 : CrossEntropyLoss=2.2665 | MulticlassF1Score=0.9353\n",
      "Batch-45 : CrossEntropyLoss=2.2701 | MulticlassF1Score=0.9357\n",
      "Batch-60 : CrossEntropyLoss=2.2617 | MulticlassF1Score=0.9360\n",
      "Batch-75 : CrossEntropyLoss=2.2669 | MulticlassF1Score=0.9348\n",
      "Batch-90 : CrossEntropyLoss=2.2664 | MulticlassF1Score=0.9357\n",
      "Batch-105: CrossEntropyLoss=2.2721 | MulticlassF1Score=0.9360\n",
      "Batch-120: CrossEntropyLoss=2.2679 | MulticlassF1Score=0.9365\n",
      "Batch-135: CrossEntropyLoss=2.2657 | MulticlassF1Score=0.9368\n",
      "Batch-150: CrossEntropyLoss=2.2608 | MulticlassF1Score=0.9371\n",
      "Batch-165: CrossEntropyLoss=2.2665 | MulticlassF1Score=0.9370\n",
      "Batch-180: CrossEntropyLoss=2.2669 | MulticlassF1Score=0.9372\n",
      "Batch-195: CrossEntropyLoss=2.2705 | MulticlassF1Score=0.9372\n",
      "Batch-210: CrossEntropyLoss=2.2675 | MulticlassF1Score=0.9372\n",
      "Batch-225: CrossEntropyLoss=2.2686 | MulticlassF1Score=0.9372\n",
      "Batch-226: CrossEntropyLoss=2.2706 | MulticlassF1Score=0.9372\n",
      "\n",
      "Validation Step\n"
     ]
    },
    {
     "data": {
      "application/vnd.jupyter.widget-view+json": {
       "model_id": "23bff5de3cc5402a9e39fb1e6347c456",
       "version_major": 2,
       "version_minor": 0
      },
      "text/plain": [
       "  0%|          | 0/63 [00:00<?, ?it/s]"
      ]
     },
     "metadata": {},
     "output_type": "display_data"
    },
    {
     "name": "stdout",
     "output_type": "stream",
     "text": [
      "Batch-15 : CrossEntropyLoss=2.2692 | MulticlassF1Score=0.9173\n",
      "Batch-30 : CrossEntropyLoss=2.2742 | MulticlassF1Score=0.9173\n",
      "Batch-45 : CrossEntropyLoss=2.2726 | MulticlassF1Score=0.9169\n",
      "Batch-60 : CrossEntropyLoss=2.2707 | MulticlassF1Score=0.9174\n",
      "Batch-63 : CrossEntropyLoss=2.2694 | MulticlassF1Score=0.9172\n",
      "\n",
      "Yeah 🎉😄! Model improved.\n",
      "\n",
      "Training   : Mean CrossEntropyLoss = 2.2669 | Mean MulticlassF1Score = 0.9362\n",
      "Validation : Mean CrossEntropyLoss = 2.2734 | Mean MulticlassF1Score = 0.9176\n",
      "================================================================================\n",
      "\n",
      "EPOCH-25\n",
      "Training Step\n"
     ]
    },
    {
     "data": {
      "application/vnd.jupyter.widget-view+json": {
       "model_id": "26142e97b9e64231b972d24898a61232",
       "version_major": 2,
       "version_minor": 0
      },
      "text/plain": [
       "  0%|          | 0/226 [00:00<?, ?it/s]"
      ]
     },
     "metadata": {},
     "output_type": "display_data"
    },
    {
     "name": "stdout",
     "output_type": "stream",
     "text": [
      "Batch-15 : CrossEntropyLoss=2.2676 | MulticlassF1Score=0.9327\n",
      "Batch-30 : CrossEntropyLoss=2.2652 | MulticlassF1Score=0.9376\n",
      "Batch-45 : CrossEntropyLoss=2.2679 | MulticlassF1Score=0.9388\n",
      "Batch-60 : CrossEntropyLoss=2.2620 | MulticlassF1Score=0.9387\n",
      "Batch-75 : CrossEntropyLoss=2.2682 | MulticlassF1Score=0.9380\n",
      "Batch-90 : CrossEntropyLoss=2.2697 | MulticlassF1Score=0.9378\n",
      "Batch-105: CrossEntropyLoss=2.2701 | MulticlassF1Score=0.9375\n",
      "Batch-120: CrossEntropyLoss=2.2666 | MulticlassF1Score=0.9373\n",
      "Batch-135: CrossEntropyLoss=2.2659 | MulticlassF1Score=0.9375\n",
      "Batch-150: CrossEntropyLoss=2.2707 | MulticlassF1Score=0.9375\n",
      "Batch-165: CrossEntropyLoss=2.2676 | MulticlassF1Score=0.9373\n",
      "Batch-180: CrossEntropyLoss=2.2648 | MulticlassF1Score=0.9377\n",
      "Batch-195: CrossEntropyLoss=2.2613 | MulticlassF1Score=0.9377\n",
      "Batch-210: CrossEntropyLoss=2.2659 | MulticlassF1Score=0.9378\n",
      "Batch-225: CrossEntropyLoss=2.2673 | MulticlassF1Score=0.9376\n",
      "Batch-226: CrossEntropyLoss=2.2663 | MulticlassF1Score=0.9376\n",
      "\n",
      "Validation Step\n"
     ]
    },
    {
     "data": {
      "application/vnd.jupyter.widget-view+json": {
       "model_id": "dbd1e1ec385343ffa454faf12a6589df",
       "version_major": 2,
       "version_minor": 0
      },
      "text/plain": [
       "  0%|          | 0/63 [00:00<?, ?it/s]"
      ]
     },
     "metadata": {},
     "output_type": "display_data"
    },
    {
     "name": "stdout",
     "output_type": "stream",
     "text": [
      "Batch-15 : CrossEntropyLoss=2.2741 | MulticlassF1Score=0.9204\n",
      "Batch-30 : CrossEntropyLoss=2.2697 | MulticlassF1Score=0.9162\n",
      "Batch-45 : CrossEntropyLoss=2.2733 | MulticlassF1Score=0.9171\n",
      "Batch-60 : CrossEntropyLoss=2.2708 | MulticlassF1Score=0.9169\n",
      "Batch-63 : CrossEntropyLoss=2.2746 | MulticlassF1Score=0.9171\n",
      "\n",
      "Yeah 🎉😄! Model improved.\n",
      "\n",
      "Training   : Mean CrossEntropyLoss = 2.2668 | Mean MulticlassF1Score = 0.9373\n",
      "Validation : Mean CrossEntropyLoss = 2.2733 | Mean MulticlassF1Score = 0.9182\n",
      "================================================================================\n",
      "\n",
      "EPOCH-26\n",
      "Training Step\n"
     ]
    },
    {
     "data": {
      "application/vnd.jupyter.widget-view+json": {
       "model_id": "f05e6e338dc243e7b220ed1802453a65",
       "version_major": 2,
       "version_minor": 0
      },
      "text/plain": [
       "  0%|          | 0/226 [00:00<?, ?it/s]"
      ]
     },
     "metadata": {},
     "output_type": "display_data"
    },
    {
     "name": "stdout",
     "output_type": "stream",
     "text": [
      "Batch-15 : CrossEntropyLoss=2.2709 | MulticlassF1Score=0.9358\n",
      "Batch-30 : CrossEntropyLoss=2.2677 | MulticlassF1Score=0.9380\n",
      "Batch-45 : CrossEntropyLoss=2.2688 | MulticlassF1Score=0.9382\n",
      "Batch-60 : CrossEntropyLoss=2.2645 | MulticlassF1Score=0.9378\n",
      "Batch-75 : CrossEntropyLoss=2.2684 | MulticlassF1Score=0.9376\n",
      "Batch-90 : CrossEntropyLoss=2.2640 | MulticlassF1Score=0.9379\n",
      "Batch-105: CrossEntropyLoss=2.2673 | MulticlassF1Score=0.9379\n",
      "Batch-120: CrossEntropyLoss=2.2679 | MulticlassF1Score=0.9380\n",
      "Batch-135: CrossEntropyLoss=2.2682 | MulticlassF1Score=0.9382\n",
      "Batch-150: CrossEntropyLoss=2.2656 | MulticlassF1Score=0.9378\n",
      "Batch-165: CrossEntropyLoss=2.2674 | MulticlassF1Score=0.9376\n",
      "Batch-180: CrossEntropyLoss=2.2757 | MulticlassF1Score=0.9374\n",
      "Batch-195: CrossEntropyLoss=2.2652 | MulticlassF1Score=0.9377\n",
      "Batch-210: CrossEntropyLoss=2.2663 | MulticlassF1Score=0.9381\n",
      "Batch-225: CrossEntropyLoss=2.2684 | MulticlassF1Score=0.9380\n",
      "Batch-226: CrossEntropyLoss=2.2684 | MulticlassF1Score=0.9380\n",
      "\n",
      "Validation Step\n"
     ]
    },
    {
     "data": {
      "application/vnd.jupyter.widget-view+json": {
       "model_id": "8beb58c4eefd4d9f93c1a46dfa9ba917",
       "version_major": 2,
       "version_minor": 0
      },
      "text/plain": [
       "  0%|          | 0/63 [00:00<?, ?it/s]"
      ]
     },
     "metadata": {},
     "output_type": "display_data"
    },
    {
     "name": "stdout",
     "output_type": "stream",
     "text": [
      "Batch-15 : CrossEntropyLoss=2.2710 | MulticlassF1Score=0.9180\n",
      "Batch-30 : CrossEntropyLoss=2.2783 | MulticlassF1Score=0.9157\n",
      "Batch-45 : CrossEntropyLoss=2.2682 | MulticlassF1Score=0.9163\n",
      "Batch-60 : CrossEntropyLoss=2.2740 | MulticlassF1Score=0.9173\n",
      "Batch-63 : CrossEntropyLoss=2.2719 | MulticlassF1Score=0.9173\n",
      "\n",
      "Yeah 🎉😄! Model improved.\n",
      "\n",
      "Training   : Mean CrossEntropyLoss = 2.2667 | Mean MulticlassF1Score = 0.9375\n",
      "Validation : Mean CrossEntropyLoss = 2.2734 | Mean MulticlassF1Score = 0.9169\n",
      "================================================================================\n",
      "\n",
      "EPOCH-27\n",
      "Training Step\n"
     ]
    },
    {
     "data": {
      "application/vnd.jupyter.widget-view+json": {
       "model_id": "3aaf36b11b28461993f5b5e69194b99d",
       "version_major": 2,
       "version_minor": 0
      },
      "text/plain": [
       "  0%|          | 0/226 [00:00<?, ?it/s]"
      ]
     },
     "metadata": {},
     "output_type": "display_data"
    },
    {
     "name": "stdout",
     "output_type": "stream",
     "text": [
      "Batch-15 : CrossEntropyLoss=2.2642 | MulticlassF1Score=0.9407\n",
      "Batch-30 : CrossEntropyLoss=2.2691 | MulticlassF1Score=0.9401\n",
      "Batch-45 : CrossEntropyLoss=2.2672 | MulticlassF1Score=0.9397\n",
      "Batch-60 : CrossEntropyLoss=2.2626 | MulticlassF1Score=0.9392\n",
      "Batch-75 : CrossEntropyLoss=2.2671 | MulticlassF1Score=0.9391\n",
      "Batch-90 : CrossEntropyLoss=2.2618 | MulticlassF1Score=0.9392\n",
      "Batch-105: CrossEntropyLoss=2.2669 | MulticlassF1Score=0.9391\n",
      "Batch-120: CrossEntropyLoss=2.2629 | MulticlassF1Score=0.9389\n",
      "Batch-135: CrossEntropyLoss=2.2661 | MulticlassF1Score=0.9394\n",
      "Batch-150: CrossEntropyLoss=2.2656 | MulticlassF1Score=0.9388\n",
      "Batch-165: CrossEntropyLoss=2.2690 | MulticlassF1Score=0.9387\n",
      "Batch-180: CrossEntropyLoss=2.2630 | MulticlassF1Score=0.9388\n",
      "Batch-195: CrossEntropyLoss=2.2678 | MulticlassF1Score=0.9387\n",
      "Batch-210: CrossEntropyLoss=2.2707 | MulticlassF1Score=0.9386\n",
      "Batch-225: CrossEntropyLoss=2.2724 | MulticlassF1Score=0.9387\n",
      "Batch-226: CrossEntropyLoss=2.2661 | MulticlassF1Score=0.9388\n",
      "\n",
      "Validation Step\n"
     ]
    },
    {
     "data": {
      "application/vnd.jupyter.widget-view+json": {
       "model_id": "497ad173c19243a497b390ab3f870abb",
       "version_major": 2,
       "version_minor": 0
      },
      "text/plain": [
       "  0%|          | 0/63 [00:00<?, ?it/s]"
      ]
     },
     "metadata": {},
     "output_type": "display_data"
    },
    {
     "name": "stdout",
     "output_type": "stream",
     "text": [
      "Batch-15 : CrossEntropyLoss=2.2772 | MulticlassF1Score=0.9160\n",
      "Batch-30 : CrossEntropyLoss=2.2731 | MulticlassF1Score=0.9195\n",
      "Batch-45 : CrossEntropyLoss=2.2759 | MulticlassF1Score=0.9181\n",
      "Batch-60 : CrossEntropyLoss=2.2668 | MulticlassF1Score=0.9184\n",
      "Batch-63 : CrossEntropyLoss=2.2750 | MulticlassF1Score=0.9183\n",
      "\n",
      "Yeah 🎉😄! Model improved.\n",
      "\n",
      "Training   : Mean CrossEntropyLoss = 2.2664 | Mean MulticlassF1Score = 0.9392\n",
      "Validation : Mean CrossEntropyLoss = 2.2731 | Mean MulticlassF1Score = 0.9184\n",
      "================================================================================\n",
      "\n",
      "EPOCH-28\n",
      "Training Step\n"
     ]
    },
    {
     "data": {
      "application/vnd.jupyter.widget-view+json": {
       "model_id": "aea60ff1020e455bbe11466bb23b8480",
       "version_major": 2,
       "version_minor": 0
      },
      "text/plain": [
       "  0%|          | 0/226 [00:00<?, ?it/s]"
      ]
     },
     "metadata": {},
     "output_type": "display_data"
    },
    {
     "name": "stdout",
     "output_type": "stream",
     "text": [
      "Batch-15 : CrossEntropyLoss=2.2651 | MulticlassF1Score=0.9425\n",
      "Batch-30 : CrossEntropyLoss=2.2710 | MulticlassF1Score=0.9406\n",
      "Batch-45 : CrossEntropyLoss=2.2650 | MulticlassF1Score=0.9402\n",
      "Batch-60 : CrossEntropyLoss=2.2688 | MulticlassF1Score=0.9391\n",
      "Batch-75 : CrossEntropyLoss=2.2679 | MulticlassF1Score=0.9391\n",
      "Batch-90 : CrossEntropyLoss=2.2623 | MulticlassF1Score=0.9390\n",
      "Batch-105: CrossEntropyLoss=2.2644 | MulticlassF1Score=0.9391\n",
      "Batch-120: CrossEntropyLoss=2.2676 | MulticlassF1Score=0.9390\n",
      "Batch-135: CrossEntropyLoss=2.2700 | MulticlassF1Score=0.9391\n",
      "Batch-150: CrossEntropyLoss=2.2657 | MulticlassF1Score=0.9394\n",
      "Batch-165: CrossEntropyLoss=2.2719 | MulticlassF1Score=0.9393\n",
      "Batch-180: CrossEntropyLoss=2.2739 | MulticlassF1Score=0.9390\n",
      "Batch-195: CrossEntropyLoss=2.2673 | MulticlassF1Score=0.9390\n",
      "Batch-210: CrossEntropyLoss=2.2685 | MulticlassF1Score=0.9393\n",
      "Batch-225: CrossEntropyLoss=2.2677 | MulticlassF1Score=0.9394\n",
      "Batch-226: CrossEntropyLoss=2.2629 | MulticlassF1Score=0.9394\n",
      "\n",
      "Validation Step\n"
     ]
    },
    {
     "data": {
      "application/vnd.jupyter.widget-view+json": {
       "model_id": "47e84400b5c04fb1864808c6aa5ae12d",
       "version_major": 2,
       "version_minor": 0
      },
      "text/plain": [
       "  0%|          | 0/63 [00:00<?, ?it/s]"
      ]
     },
     "metadata": {},
     "output_type": "display_data"
    },
    {
     "name": "stdout",
     "output_type": "stream",
     "text": [
      "Batch-15 : CrossEntropyLoss=2.2775 | MulticlassF1Score=0.9168\n",
      "Batch-30 : CrossEntropyLoss=2.2673 | MulticlassF1Score=0.9197\n",
      "Batch-45 : CrossEntropyLoss=2.2798 | MulticlassF1Score=0.9186\n",
      "Batch-60 : CrossEntropyLoss=2.2799 | MulticlassF1Score=0.9187\n",
      "Batch-63 : CrossEntropyLoss=2.2694 | MulticlassF1Score=0.9188\n",
      "\n",
      "Yeah 🎉😄! Model improved.\n",
      "\n",
      "Training   : Mean CrossEntropyLoss = 2.2662 | Mean MulticlassF1Score = 0.9398\n",
      "Validation : Mean CrossEntropyLoss = 2.2729 | Mean MulticlassF1Score = 0.9188\n",
      "================================================================================\n",
      "\n",
      "EPOCH-29\n",
      "Training Step\n"
     ]
    },
    {
     "data": {
      "application/vnd.jupyter.widget-view+json": {
       "model_id": "def454d8462a4985a6149ee5cf756e39",
       "version_major": 2,
       "version_minor": 0
      },
      "text/plain": [
       "  0%|          | 0/226 [00:00<?, ?it/s]"
      ]
     },
     "metadata": {},
     "output_type": "display_data"
    },
    {
     "name": "stdout",
     "output_type": "stream",
     "text": [
      "Batch-15 : CrossEntropyLoss=2.2658 | MulticlassF1Score=0.9435\n",
      "Batch-30 : CrossEntropyLoss=2.2656 | MulticlassF1Score=0.9418\n",
      "Batch-45 : CrossEntropyLoss=2.2615 | MulticlassF1Score=0.9407\n",
      "Batch-60 : CrossEntropyLoss=2.2699 | MulticlassF1Score=0.9409\n",
      "Batch-75 : CrossEntropyLoss=2.2609 | MulticlassF1Score=0.9412\n",
      "Batch-90 : CrossEntropyLoss=2.2687 | MulticlassF1Score=0.9407\n",
      "Batch-105: CrossEntropyLoss=2.2685 | MulticlassF1Score=0.9409\n",
      "Batch-120: CrossEntropyLoss=2.2646 | MulticlassF1Score=0.9404\n",
      "Batch-135: CrossEntropyLoss=2.2657 | MulticlassF1Score=0.9405\n",
      "Batch-150: CrossEntropyLoss=2.2648 | MulticlassF1Score=0.9404\n",
      "Batch-165: CrossEntropyLoss=2.2653 | MulticlassF1Score=0.9400\n",
      "Batch-180: CrossEntropyLoss=2.2602 | MulticlassF1Score=0.9402\n",
      "Batch-195: CrossEntropyLoss=2.2649 | MulticlassF1Score=0.9402\n",
      "Batch-210: CrossEntropyLoss=2.2635 | MulticlassF1Score=0.9399\n",
      "Batch-225: CrossEntropyLoss=2.2695 | MulticlassF1Score=0.9397\n",
      "Batch-226: CrossEntropyLoss=2.2637 | MulticlassF1Score=0.9397\n",
      "\n",
      "Validation Step\n"
     ]
    },
    {
     "data": {
      "application/vnd.jupyter.widget-view+json": {
       "model_id": "1bd292c3d57349f28f16c8e6757e0fa4",
       "version_major": 2,
       "version_minor": 0
      },
      "text/plain": [
       "  0%|          | 0/63 [00:00<?, ?it/s]"
      ]
     },
     "metadata": {},
     "output_type": "display_data"
    },
    {
     "name": "stdout",
     "output_type": "stream",
     "text": [
      "Batch-15 : CrossEntropyLoss=2.2734 | MulticlassF1Score=0.9168\n",
      "Batch-30 : CrossEntropyLoss=2.2735 | MulticlassF1Score=0.9172\n",
      "Batch-45 : CrossEntropyLoss=2.2712 | MulticlassF1Score=0.9182\n",
      "Batch-60 : CrossEntropyLoss=2.2741 | MulticlassF1Score=0.9183\n",
      "Batch-63 : CrossEntropyLoss=2.2699 | MulticlassF1Score=0.9186\n",
      "\n",
      "Yeah 🎉😄! Model improved.\n",
      "\n",
      "Training   : Mean CrossEntropyLoss = 2.2661 | Mean MulticlassF1Score = 0.9408\n",
      "Validation : Mean CrossEntropyLoss = 2.2730 | Mean MulticlassF1Score = 0.9172\n",
      "================================================================================\n",
      "\n",
      "EPOCH-30\n",
      "Training Step\n"
     ]
    },
    {
     "data": {
      "application/vnd.jupyter.widget-view+json": {
       "model_id": "6eae47e83e9c4b65a88c8921134e5bd9",
       "version_major": 2,
       "version_minor": 0
      },
      "text/plain": [
       "  0%|          | 0/226 [00:00<?, ?it/s]"
      ]
     },
     "metadata": {},
     "output_type": "display_data"
    },
    {
     "name": "stdout",
     "output_type": "stream",
     "text": [
      "Batch-15 : CrossEntropyLoss=2.2651 | MulticlassF1Score=0.9416\n",
      "Batch-30 : CrossEntropyLoss=2.2687 | MulticlassF1Score=0.9414\n",
      "Batch-45 : CrossEntropyLoss=2.2628 | MulticlassF1Score=0.9425\n",
      "Batch-60 : CrossEntropyLoss=2.2617 | MulticlassF1Score=0.9426\n",
      "Batch-75 : CrossEntropyLoss=2.2654 | MulticlassF1Score=0.9418\n",
      "Batch-90 : CrossEntropyLoss=2.2595 | MulticlassF1Score=0.9415\n",
      "Batch-105: CrossEntropyLoss=2.2663 | MulticlassF1Score=0.9413\n",
      "Batch-120: CrossEntropyLoss=2.2670 | MulticlassF1Score=0.9415\n",
      "Batch-135: CrossEntropyLoss=2.2589 | MulticlassF1Score=0.9410\n",
      "Batch-150: CrossEntropyLoss=2.2673 | MulticlassF1Score=0.9409\n",
      "Batch-165: CrossEntropyLoss=2.2676 | MulticlassF1Score=0.9406\n",
      "Batch-180: CrossEntropyLoss=2.2581 | MulticlassF1Score=0.9419\n",
      "Batch-195: CrossEntropyLoss=2.2599 | MulticlassF1Score=0.9433\n",
      "Batch-210: CrossEntropyLoss=2.2599 | MulticlassF1Score=0.9441\n",
      "Batch-225: CrossEntropyLoss=2.2585 | MulticlassF1Score=0.9449\n",
      "Batch-226: CrossEntropyLoss=2.2603 | MulticlassF1Score=0.9449\n",
      "\n",
      "Validation Step\n"
     ]
    },
    {
     "data": {
      "application/vnd.jupyter.widget-view+json": {
       "model_id": "351dced9f3db4ac8802ce917264dab80",
       "version_major": 2,
       "version_minor": 0
      },
      "text/plain": [
       "  0%|          | 0/63 [00:00<?, ?it/s]"
      ]
     },
     "metadata": {},
     "output_type": "display_data"
    },
    {
     "name": "stdout",
     "output_type": "stream",
     "text": [
      "Batch-15 : CrossEntropyLoss=2.2649 | MulticlassF1Score=0.9357\n",
      "Batch-30 : CrossEntropyLoss=2.2671 | MulticlassF1Score=0.9370\n",
      "Batch-45 : CrossEntropyLoss=2.2716 | MulticlassF1Score=0.9372\n",
      "Batch-60 : CrossEntropyLoss=2.2676 | MulticlassF1Score=0.9367\n",
      "Batch-63 : CrossEntropyLoss=2.2715 | MulticlassF1Score=0.9364\n",
      "\n",
      "Yeah 🎉😄! Model improved.\n",
      "\n",
      "Training   : Mean CrossEntropyLoss = 2.2645 | Mean MulticlassF1Score = 0.9419\n",
      "Validation : Mean CrossEntropyLoss = 2.2675 | Mean MulticlassF1Score = 0.9368\n",
      "================================================================================\n",
      "\n",
      "EPOCH-31\n",
      "Training Step\n"
     ]
    },
    {
     "data": {
      "application/vnd.jupyter.widget-view+json": {
       "model_id": "faf3ad036a1c418a8dea5bcb347c2bc5",
       "version_major": 2,
       "version_minor": 0
      },
      "text/plain": [
       "  0%|          | 0/226 [00:00<?, ?it/s]"
      ]
     },
     "metadata": {},
     "output_type": "display_data"
    },
    {
     "name": "stdout",
     "output_type": "stream",
     "text": [
      "Batch-15 : CrossEntropyLoss=2.2564 | MulticlassF1Score=0.9620\n",
      "Batch-30 : CrossEntropyLoss=2.2580 | MulticlassF1Score=0.9599\n",
      "Batch-45 : CrossEntropyLoss=2.2627 | MulticlassF1Score=0.9604\n",
      "Batch-60 : CrossEntropyLoss=2.2624 | MulticlassF1Score=0.9597\n",
      "Batch-75 : CrossEntropyLoss=2.2618 | MulticlassF1Score=0.9597\n",
      "Batch-90 : CrossEntropyLoss=2.2590 | MulticlassF1Score=0.9598\n",
      "Batch-105: CrossEntropyLoss=2.2598 | MulticlassF1Score=0.9598\n",
      "Batch-120: CrossEntropyLoss=2.2588 | MulticlassF1Score=0.9601\n",
      "Batch-135: CrossEntropyLoss=2.2606 | MulticlassF1Score=0.9600\n",
      "Batch-150: CrossEntropyLoss=2.2577 | MulticlassF1Score=0.9599\n",
      "Batch-165: CrossEntropyLoss=2.2589 | MulticlassF1Score=0.9599\n",
      "Batch-180: CrossEntropyLoss=2.2577 | MulticlassF1Score=0.9597\n",
      "Batch-195: CrossEntropyLoss=2.2623 | MulticlassF1Score=0.9598\n",
      "Batch-210: CrossEntropyLoss=2.2634 | MulticlassF1Score=0.9598\n",
      "Batch-225: CrossEntropyLoss=2.2607 | MulticlassF1Score=0.9598\n",
      "Batch-226: CrossEntropyLoss=2.2646 | MulticlassF1Score=0.9598\n",
      "\n",
      "Validation Step\n"
     ]
    },
    {
     "data": {
      "application/vnd.jupyter.widget-view+json": {
       "model_id": "a74cbc1beef448a78ee3d88f90717da7",
       "version_major": 2,
       "version_minor": 0
      },
      "text/plain": [
       "  0%|          | 0/63 [00:00<?, ?it/s]"
      ]
     },
     "metadata": {},
     "output_type": "display_data"
    },
    {
     "name": "stdout",
     "output_type": "stream",
     "text": [
      "Batch-15 : CrossEntropyLoss=2.2628 | MulticlassF1Score=0.9369\n",
      "Batch-30 : CrossEntropyLoss=2.2605 | MulticlassF1Score=0.9392\n",
      "Batch-45 : CrossEntropyLoss=2.2686 | MulticlassF1Score=0.9399\n",
      "Batch-60 : CrossEntropyLoss=2.2656 | MulticlassF1Score=0.9389\n",
      "Batch-63 : CrossEntropyLoss=2.2659 | MulticlassF1Score=0.9382\n",
      "\n",
      "Yeah 🎉😄! Model improved.\n",
      "\n",
      "Training   : Mean CrossEntropyLoss = 2.2600 | Mean MulticlassF1Score = 0.9600\n",
      "Validation : Mean CrossEntropyLoss = 2.2669 | Mean MulticlassF1Score = 0.9381\n",
      "================================================================================\n",
      "\n",
      "EPOCH-32\n",
      "Training Step\n"
     ]
    },
    {
     "data": {
      "application/vnd.jupyter.widget-view+json": {
       "model_id": "458ea954aa3240b88e63c6bfb8246128",
       "version_major": 2,
       "version_minor": 0
      },
      "text/plain": [
       "  0%|          | 0/226 [00:00<?, ?it/s]"
      ]
     },
     "metadata": {},
     "output_type": "display_data"
    },
    {
     "name": "stdout",
     "output_type": "stream",
     "text": [
      "Batch-15 : CrossEntropyLoss=2.2618 | MulticlassF1Score=0.9609\n",
      "Batch-30 : CrossEntropyLoss=2.2611 | MulticlassF1Score=0.9596\n",
      "Batch-45 : CrossEntropyLoss=2.2573 | MulticlassF1Score=0.9600\n",
      "Batch-60 : CrossEntropyLoss=2.2606 | MulticlassF1Score=0.9604\n",
      "Batch-75 : CrossEntropyLoss=2.2587 | MulticlassF1Score=0.9601\n",
      "Batch-90 : CrossEntropyLoss=2.2593 | MulticlassF1Score=0.9604\n",
      "Batch-105: CrossEntropyLoss=2.2596 | MulticlassF1Score=0.9609\n",
      "Batch-120: CrossEntropyLoss=2.2576 | MulticlassF1Score=0.9609\n",
      "Batch-135: CrossEntropyLoss=2.2555 | MulticlassF1Score=0.9611\n",
      "Batch-150: CrossEntropyLoss=2.2556 | MulticlassF1Score=0.9605\n",
      "Batch-165: CrossEntropyLoss=2.2554 | MulticlassF1Score=0.9604\n",
      "Batch-180: CrossEntropyLoss=2.2586 | MulticlassF1Score=0.9607\n",
      "Batch-195: CrossEntropyLoss=2.2588 | MulticlassF1Score=0.9604\n",
      "Batch-210: CrossEntropyLoss=2.2577 | MulticlassF1Score=0.9605\n",
      "Batch-225: CrossEntropyLoss=2.2603 | MulticlassF1Score=0.9604\n",
      "Batch-226: CrossEntropyLoss=2.2563 | MulticlassF1Score=0.9605\n",
      "\n",
      "Validation Step\n"
     ]
    },
    {
     "data": {
      "application/vnd.jupyter.widget-view+json": {
       "model_id": "68270562c60c4203b9b1bd7c79cac5d1",
       "version_major": 2,
       "version_minor": 0
      },
      "text/plain": [
       "  0%|          | 0/63 [00:00<?, ?it/s]"
      ]
     },
     "metadata": {},
     "output_type": "display_data"
    },
    {
     "name": "stdout",
     "output_type": "stream",
     "text": [
      "Batch-15 : CrossEntropyLoss=2.2668 | MulticlassF1Score=0.9373\n",
      "Batch-30 : CrossEntropyLoss=2.2657 | MulticlassF1Score=0.9366\n",
      "Batch-45 : CrossEntropyLoss=2.2660 | MulticlassF1Score=0.9359\n",
      "Batch-60 : CrossEntropyLoss=2.2736 | MulticlassF1Score=0.9376\n",
      "Batch-63 : CrossEntropyLoss=2.2632 | MulticlassF1Score=0.9377\n",
      "\n",
      "Yeah 🎉😄! Model improved.\n",
      "\n",
      "Training   : Mean CrossEntropyLoss = 2.2597 | Mean MulticlassF1Score = 0.9604\n",
      "Validation : Mean CrossEntropyLoss = 2.2669 | Mean MulticlassF1Score = 0.9367\n",
      "================================================================================\n",
      "\n",
      "EPOCH-33\n",
      "Training Step\n"
     ]
    },
    {
     "data": {
      "application/vnd.jupyter.widget-view+json": {
       "model_id": "f1b3a18681f1491b90ce9375f17ef804",
       "version_major": 2,
       "version_minor": 0
      },
      "text/plain": [
       "  0%|          | 0/226 [00:00<?, ?it/s]"
      ]
     },
     "metadata": {},
     "output_type": "display_data"
    },
    {
     "name": "stdout",
     "output_type": "stream",
     "text": [
      "Batch-15 : CrossEntropyLoss=2.2614 | MulticlassF1Score=0.9612\n",
      "Batch-30 : CrossEntropyLoss=2.2602 | MulticlassF1Score=0.9599\n",
      "Batch-45 : CrossEntropyLoss=2.2596 | MulticlassF1Score=0.9603\n",
      "Batch-60 : CrossEntropyLoss=2.2556 | MulticlassF1Score=0.9606\n",
      "Batch-75 : CrossEntropyLoss=2.2615 | MulticlassF1Score=0.9611\n",
      "Batch-90 : CrossEntropyLoss=2.2581 | MulticlassF1Score=0.9608\n",
      "Batch-105: CrossEntropyLoss=2.2592 | MulticlassF1Score=0.9613\n",
      "Batch-120: CrossEntropyLoss=2.2616 | MulticlassF1Score=0.9612\n",
      "Batch-135: CrossEntropyLoss=2.2635 | MulticlassF1Score=0.9614\n",
      "Batch-150: CrossEntropyLoss=2.2596 | MulticlassF1Score=0.9614\n",
      "Batch-165: CrossEntropyLoss=2.2588 | MulticlassF1Score=0.9613\n",
      "Batch-180: CrossEntropyLoss=2.2654 | MulticlassF1Score=0.9614\n",
      "Batch-195: CrossEntropyLoss=2.2570 | MulticlassF1Score=0.9611\n",
      "Batch-210: CrossEntropyLoss=2.2601 | MulticlassF1Score=0.9610\n",
      "Batch-225: CrossEntropyLoss=2.2591 | MulticlassF1Score=0.9609\n",
      "Batch-226: CrossEntropyLoss=2.2602 | MulticlassF1Score=0.9609\n",
      "\n",
      "Validation Step\n"
     ]
    },
    {
     "data": {
      "application/vnd.jupyter.widget-view+json": {
       "model_id": "bbcf04a55e6b43269183e031650080d7",
       "version_major": 2,
       "version_minor": 0
      },
      "text/plain": [
       "  0%|          | 0/63 [00:00<?, ?it/s]"
      ]
     },
     "metadata": {},
     "output_type": "display_data"
    },
    {
     "name": "stdout",
     "output_type": "stream",
     "text": [
      "Batch-15 : CrossEntropyLoss=2.2699 | MulticlassF1Score=0.9362\n",
      "Batch-30 : CrossEntropyLoss=2.2697 | MulticlassF1Score=0.9369\n",
      "Batch-45 : CrossEntropyLoss=2.2716 | MulticlassF1Score=0.9376\n",
      "Batch-60 : CrossEntropyLoss=2.2692 | MulticlassF1Score=0.9374\n",
      "Batch-63 : CrossEntropyLoss=2.2701 | MulticlassF1Score=0.9373\n",
      "\n",
      "Yeah 🎉😄! Model improved.\n",
      "\n",
      "Training   : Mean CrossEntropyLoss = 2.2595 | Mean MulticlassF1Score = 0.9611\n",
      "Validation : Mean CrossEntropyLoss = 2.2671 | Mean MulticlassF1Score = 0.9372\n",
      "================================================================================\n",
      "\n",
      "EPOCH-34\n",
      "Training Step\n"
     ]
    },
    {
     "data": {
      "application/vnd.jupyter.widget-view+json": {
       "model_id": "14888106fc9440caaf9da6db99803056",
       "version_major": 2,
       "version_minor": 0
      },
      "text/plain": [
       "  0%|          | 0/226 [00:00<?, ?it/s]"
      ]
     },
     "metadata": {},
     "output_type": "display_data"
    },
    {
     "name": "stdout",
     "output_type": "stream",
     "text": [
      "Batch-15 : CrossEntropyLoss=2.2561 | MulticlassF1Score=0.9618\n",
      "Batch-30 : CrossEntropyLoss=2.2628 | MulticlassF1Score=0.9615\n",
      "Batch-45 : CrossEntropyLoss=2.2579 | MulticlassF1Score=0.9617\n",
      "Batch-60 : CrossEntropyLoss=2.2639 | MulticlassF1Score=0.9601\n",
      "Batch-75 : CrossEntropyLoss=2.2567 | MulticlassF1Score=0.9604\n",
      "Batch-90 : CrossEntropyLoss=2.2606 | MulticlassF1Score=0.9605\n",
      "Batch-105: CrossEntropyLoss=2.2583 | MulticlassF1Score=0.9606\n",
      "Batch-120: CrossEntropyLoss=2.2574 | MulticlassF1Score=0.9607\n",
      "Batch-135: CrossEntropyLoss=2.2565 | MulticlassF1Score=0.9608\n",
      "Batch-150: CrossEntropyLoss=2.2566 | MulticlassF1Score=0.9607\n",
      "Batch-165: CrossEntropyLoss=2.2570 | MulticlassF1Score=0.9608\n",
      "Batch-180: CrossEntropyLoss=2.2596 | MulticlassF1Score=0.9608\n",
      "Batch-195: CrossEntropyLoss=2.2609 | MulticlassF1Score=0.9606\n",
      "Batch-210: CrossEntropyLoss=2.2625 | MulticlassF1Score=0.9606\n",
      "Batch-225: CrossEntropyLoss=2.2571 | MulticlassF1Score=0.9608\n",
      "Batch-226: CrossEntropyLoss=2.2571 | MulticlassF1Score=0.9608\n",
      "\n",
      "Validation Step\n"
     ]
    },
    {
     "data": {
      "application/vnd.jupyter.widget-view+json": {
       "model_id": "e674e4e4016241e486953f85e9840bd2",
       "version_major": 2,
       "version_minor": 0
      },
      "text/plain": [
       "  0%|          | 0/63 [00:00<?, ?it/s]"
      ]
     },
     "metadata": {},
     "output_type": "display_data"
    },
    {
     "name": "stdout",
     "output_type": "stream",
     "text": [
      "Batch-15 : CrossEntropyLoss=2.2681 | MulticlassF1Score=0.9357\n",
      "Batch-30 : CrossEntropyLoss=2.2697 | MulticlassF1Score=0.9377\n",
      "Batch-45 : CrossEntropyLoss=2.2656 | MulticlassF1Score=0.9377\n",
      "Batch-60 : CrossEntropyLoss=2.2621 | MulticlassF1Score=0.9380\n",
      "Batch-63 : CrossEntropyLoss=2.2713 | MulticlassF1Score=0.9380\n",
      "\n",
      "Huft 😥! Model not improved.\n",
      "\n",
      "Training   : Mean CrossEntropyLoss = 2.2596 | Mean MulticlassF1Score = 0.9608\n",
      "Validation : Mean CrossEntropyLoss = 2.2669 | Mean MulticlassF1Score = 0.9376\n",
      "Patience = 1/50❗\n",
      "================================================================================\n",
      "\n",
      "EPOCH-35\n",
      "Training Step\n"
     ]
    },
    {
     "data": {
      "application/vnd.jupyter.widget-view+json": {
       "model_id": "0d02cb68d67543c0b1217804eaa9331b",
       "version_major": 2,
       "version_minor": 0
      },
      "text/plain": [
       "  0%|          | 0/226 [00:00<?, ?it/s]"
      ]
     },
     "metadata": {},
     "output_type": "display_data"
    },
    {
     "name": "stdout",
     "output_type": "stream",
     "text": [
      "Batch-15 : CrossEntropyLoss=2.2616 | MulticlassF1Score=0.9615\n",
      "Batch-30 : CrossEntropyLoss=2.2591 | MulticlassF1Score=0.9612\n",
      "Batch-45 : CrossEntropyLoss=2.2690 | MulticlassF1Score=0.9612\n",
      "Batch-60 : CrossEntropyLoss=2.2572 | MulticlassF1Score=0.9613\n",
      "Batch-75 : CrossEntropyLoss=2.2611 | MulticlassF1Score=0.9608\n",
      "Batch-90 : CrossEntropyLoss=2.2590 | MulticlassF1Score=0.9612\n",
      "Batch-105: CrossEntropyLoss=2.2577 | MulticlassF1Score=0.9612\n",
      "Batch-120: CrossEntropyLoss=2.2583 | MulticlassF1Score=0.9611\n",
      "Batch-135: CrossEntropyLoss=2.2589 | MulticlassF1Score=0.9613\n",
      "Batch-150: CrossEntropyLoss=2.2592 | MulticlassF1Score=0.9612\n",
      "Batch-165: CrossEntropyLoss=2.2590 | MulticlassF1Score=0.9613\n",
      "Batch-180: CrossEntropyLoss=2.2607 | MulticlassF1Score=0.9617\n",
      "Batch-195: CrossEntropyLoss=2.2615 | MulticlassF1Score=0.9615\n",
      "Batch-210: CrossEntropyLoss=2.2580 | MulticlassF1Score=0.9615\n",
      "Batch-225: CrossEntropyLoss=2.2581 | MulticlassF1Score=0.9617\n",
      "Batch-226: CrossEntropyLoss=2.2572 | MulticlassF1Score=0.9617\n",
      "\n",
      "Validation Step\n"
     ]
    },
    {
     "data": {
      "application/vnd.jupyter.widget-view+json": {
       "model_id": "f1396d664b4546cead2e93820c9fd54e",
       "version_major": 2,
       "version_minor": 0
      },
      "text/plain": [
       "  0%|          | 0/63 [00:00<?, ?it/s]"
      ]
     },
     "metadata": {},
     "output_type": "display_data"
    },
    {
     "name": "stdout",
     "output_type": "stream",
     "text": [
      "Batch-15 : CrossEntropyLoss=2.2627 | MulticlassF1Score=0.9359\n",
      "Batch-30 : CrossEntropyLoss=2.2688 | MulticlassF1Score=0.9372\n",
      "Batch-45 : CrossEntropyLoss=2.2622 | MulticlassF1Score=0.9373\n",
      "Batch-60 : CrossEntropyLoss=2.2639 | MulticlassF1Score=0.9387\n",
      "Batch-63 : CrossEntropyLoss=2.2670 | MulticlassF1Score=0.9386\n",
      "\n",
      "Yeah 🎉😄! Model improved.\n",
      "\n",
      "Training   : Mean CrossEntropyLoss = 2.2593 | Mean MulticlassF1Score = 0.9614\n",
      "Validation : Mean CrossEntropyLoss = 2.2666 | Mean MulticlassF1Score = 0.9368\n",
      "================================================================================\n",
      "\n",
      "EPOCH-36\n",
      "Training Step\n"
     ]
    },
    {
     "data": {
      "application/vnd.jupyter.widget-view+json": {
       "model_id": "b463e33abef54f85ac58b00465cc7c79",
       "version_major": 2,
       "version_minor": 0
      },
      "text/plain": [
       "  0%|          | 0/226 [00:00<?, ?it/s]"
      ]
     },
     "metadata": {},
     "output_type": "display_data"
    },
    {
     "name": "stdout",
     "output_type": "stream",
     "text": [
      "Batch-15 : CrossEntropyLoss=2.2587 | MulticlassF1Score=0.9623\n",
      "Batch-30 : CrossEntropyLoss=2.2669 | MulticlassF1Score=0.9612\n",
      "Batch-45 : CrossEntropyLoss=2.2562 | MulticlassF1Score=0.9615\n",
      "Batch-60 : CrossEntropyLoss=2.2607 | MulticlassF1Score=0.9622\n",
      "Batch-75 : CrossEntropyLoss=2.2601 | MulticlassF1Score=0.9620\n",
      "Batch-90 : CrossEntropyLoss=2.2585 | MulticlassF1Score=0.9620\n",
      "Batch-105: CrossEntropyLoss=2.2576 | MulticlassF1Score=0.9618\n",
      "Batch-120: CrossEntropyLoss=2.2622 | MulticlassF1Score=0.9616\n",
      "Batch-135: CrossEntropyLoss=2.2628 | MulticlassF1Score=0.9616\n",
      "Batch-150: CrossEntropyLoss=2.2566 | MulticlassF1Score=0.9620\n",
      "Batch-165: CrossEntropyLoss=2.2592 | MulticlassF1Score=0.9617\n",
      "Batch-180: CrossEntropyLoss=2.2595 | MulticlassF1Score=0.9618\n",
      "Batch-195: CrossEntropyLoss=2.2580 | MulticlassF1Score=0.9619\n",
      "Batch-210: CrossEntropyLoss=2.2577 | MulticlassF1Score=0.9619\n",
      "Batch-225: CrossEntropyLoss=2.2596 | MulticlassF1Score=0.9618\n",
      "Batch-226: CrossEntropyLoss=2.2539 | MulticlassF1Score=0.9619\n",
      "\n",
      "Validation Step\n"
     ]
    },
    {
     "data": {
      "application/vnd.jupyter.widget-view+json": {
       "model_id": "d824b3f52f65491b8d899f97ced7443f",
       "version_major": 2,
       "version_minor": 0
      },
      "text/plain": [
       "  0%|          | 0/63 [00:00<?, ?it/s]"
      ]
     },
     "metadata": {},
     "output_type": "display_data"
    },
    {
     "name": "stdout",
     "output_type": "stream",
     "text": [
      "Batch-15 : CrossEntropyLoss=2.2656 | MulticlassF1Score=0.9385\n",
      "Batch-30 : CrossEntropyLoss=2.2707 | MulticlassF1Score=0.9382\n",
      "Batch-45 : CrossEntropyLoss=2.2701 | MulticlassF1Score=0.9382\n",
      "Batch-60 : CrossEntropyLoss=2.2631 | MulticlassF1Score=0.9386\n",
      "Batch-63 : CrossEntropyLoss=2.2643 | MulticlassF1Score=0.9389\n",
      "\n",
      "Yeah 🎉😄! Model improved.\n",
      "\n",
      "Training   : Mean CrossEntropyLoss = 2.2593 | Mean MulticlassF1Score = 0.9620\n",
      "Validation : Mean CrossEntropyLoss = 2.2666 | Mean MulticlassF1Score = 0.9387\n",
      "================================================================================\n",
      "\n",
      "EPOCH-37\n",
      "Training Step\n"
     ]
    },
    {
     "data": {
      "application/vnd.jupyter.widget-view+json": {
       "model_id": "040b43468b6043ebb69fcd648d7e2017",
       "version_major": 2,
       "version_minor": 0
      },
      "text/plain": [
       "  0%|          | 0/226 [00:00<?, ?it/s]"
      ]
     },
     "metadata": {},
     "output_type": "display_data"
    },
    {
     "name": "stdout",
     "output_type": "stream",
     "text": [
      "Batch-15 : CrossEntropyLoss=2.2655 | MulticlassF1Score=0.9590\n",
      "Batch-30 : CrossEntropyLoss=2.2590 | MulticlassF1Score=0.9612\n",
      "Batch-45 : CrossEntropyLoss=2.2596 | MulticlassF1Score=0.9617\n",
      "Batch-60 : CrossEntropyLoss=2.2582 | MulticlassF1Score=0.9626\n",
      "Batch-75 : CrossEntropyLoss=2.2600 | MulticlassF1Score=0.9624\n",
      "Batch-90 : CrossEntropyLoss=2.2568 | MulticlassF1Score=0.9626\n",
      "Batch-105: CrossEntropyLoss=2.2597 | MulticlassF1Score=0.9627\n",
      "Batch-120: CrossEntropyLoss=2.2561 | MulticlassF1Score=0.9623\n",
      "Batch-135: CrossEntropyLoss=2.2601 | MulticlassF1Score=0.9622\n",
      "Batch-150: CrossEntropyLoss=2.2591 | MulticlassF1Score=0.9624\n",
      "Batch-165: CrossEntropyLoss=2.2559 | MulticlassF1Score=0.9623\n",
      "Batch-180: CrossEntropyLoss=2.2563 | MulticlassF1Score=0.9621\n",
      "Batch-195: CrossEntropyLoss=2.2582 | MulticlassF1Score=0.9620\n",
      "Batch-210: CrossEntropyLoss=2.2596 | MulticlassF1Score=0.9621\n",
      "Batch-225: CrossEntropyLoss=2.2576 | MulticlassF1Score=0.9621\n",
      "Batch-226: CrossEntropyLoss=2.2571 | MulticlassF1Score=0.9621\n",
      "\n",
      "Validation Step\n"
     ]
    },
    {
     "data": {
      "application/vnd.jupyter.widget-view+json": {
       "model_id": "9649f20f32e84772b82b0b27811387dd",
       "version_major": 2,
       "version_minor": 0
      },
      "text/plain": [
       "  0%|          | 0/63 [00:00<?, ?it/s]"
      ]
     },
     "metadata": {},
     "output_type": "display_data"
    },
    {
     "name": "stdout",
     "output_type": "stream",
     "text": [
      "Batch-15 : CrossEntropyLoss=2.2711 | MulticlassF1Score=0.9349\n",
      "Batch-30 : CrossEntropyLoss=2.2681 | MulticlassF1Score=0.9359\n",
      "Batch-45 : CrossEntropyLoss=2.2691 | MulticlassF1Score=0.9361\n",
      "Batch-60 : CrossEntropyLoss=2.2686 | MulticlassF1Score=0.9374\n",
      "Batch-63 : CrossEntropyLoss=2.2653 | MulticlassF1Score=0.9373\n",
      "\n",
      "Yeah 🎉😄! Model improved.\n",
      "\n",
      "Training   : Mean CrossEntropyLoss = 2.2592 | Mean MulticlassF1Score = 0.9620\n",
      "Validation : Mean CrossEntropyLoss = 2.2671 | Mean MulticlassF1Score = 0.9360\n",
      "================================================================================\n",
      "\n",
      "EPOCH-38\n",
      "Training Step\n"
     ]
    },
    {
     "data": {
      "application/vnd.jupyter.widget-view+json": {
       "model_id": "f297770bcf3a47c88381e90893fdec05",
       "version_major": 2,
       "version_minor": 0
      },
      "text/plain": [
       "  0%|          | 0/226 [00:00<?, ?it/s]"
      ]
     },
     "metadata": {},
     "output_type": "display_data"
    },
    {
     "name": "stdout",
     "output_type": "stream",
     "text": [
      "Batch-15 : CrossEntropyLoss=2.2613 | MulticlassF1Score=0.9619\n",
      "Batch-30 : CrossEntropyLoss=2.2592 | MulticlassF1Score=0.9631\n",
      "Batch-45 : CrossEntropyLoss=2.2578 | MulticlassF1Score=0.9621\n",
      "Batch-60 : CrossEntropyLoss=2.2607 | MulticlassF1Score=0.9613\n",
      "Batch-75 : CrossEntropyLoss=2.2529 | MulticlassF1Score=0.9617\n",
      "Batch-90 : CrossEntropyLoss=2.2651 | MulticlassF1Score=0.9613\n",
      "Batch-105: CrossEntropyLoss=2.2595 | MulticlassF1Score=0.9614\n",
      "Batch-120: CrossEntropyLoss=2.2648 | MulticlassF1Score=0.9614\n",
      "Batch-135: CrossEntropyLoss=2.2598 | MulticlassF1Score=0.9616\n",
      "Batch-150: CrossEntropyLoss=2.2564 | MulticlassF1Score=0.9620\n",
      "Batch-165: CrossEntropyLoss=2.2587 | MulticlassF1Score=0.9625\n",
      "Batch-180: CrossEntropyLoss=2.2590 | MulticlassF1Score=0.9621\n",
      "Batch-195: CrossEntropyLoss=2.2569 | MulticlassF1Score=0.9624\n",
      "Batch-210: CrossEntropyLoss=2.2582 | MulticlassF1Score=0.9623\n",
      "Batch-225: CrossEntropyLoss=2.2575 | MulticlassF1Score=0.9622\n",
      "Batch-226: CrossEntropyLoss=2.2589 | MulticlassF1Score=0.9622\n",
      "\n",
      "Validation Step\n"
     ]
    },
    {
     "data": {
      "application/vnd.jupyter.widget-view+json": {
       "model_id": "eaecfb703ef248d8bf15100b094c7370",
       "version_major": 2,
       "version_minor": 0
      },
      "text/plain": [
       "  0%|          | 0/63 [00:00<?, ?it/s]"
      ]
     },
     "metadata": {},
     "output_type": "display_data"
    },
    {
     "name": "stdout",
     "output_type": "stream",
     "text": [
      "Batch-15 : CrossEntropyLoss=2.2708 | MulticlassF1Score=0.9384\n",
      "Batch-30 : CrossEntropyLoss=2.2653 | MulticlassF1Score=0.9396\n",
      "Batch-45 : CrossEntropyLoss=2.2676 | MulticlassF1Score=0.9390\n",
      "Batch-60 : CrossEntropyLoss=2.2663 | MulticlassF1Score=0.9389\n",
      "Batch-63 : CrossEntropyLoss=2.2611 | MulticlassF1Score=0.9391\n",
      "\n",
      "Yeah 🎉😄! Model improved.\n",
      "\n",
      "Training   : Mean CrossEntropyLoss = 2.2592 | Mean MulticlassF1Score = 0.9620\n",
      "Validation : Mean CrossEntropyLoss = 2.2664 | Mean MulticlassF1Score = 0.9384\n",
      "================================================================================\n",
      "\n",
      "EPOCH-39\n",
      "Training Step\n"
     ]
    },
    {
     "data": {
      "application/vnd.jupyter.widget-view+json": {
       "model_id": "0d579c1064db43349e58c01fe58e9892",
       "version_major": 2,
       "version_minor": 0
      },
      "text/plain": [
       "  0%|          | 0/226 [00:00<?, ?it/s]"
      ]
     },
     "metadata": {},
     "output_type": "display_data"
    },
    {
     "name": "stdout",
     "output_type": "stream",
     "text": [
      "Batch-15 : CrossEntropyLoss=2.2622 | MulticlassF1Score=0.9628\n",
      "Batch-30 : CrossEntropyLoss=2.2578 | MulticlassF1Score=0.9632\n",
      "Batch-45 : CrossEntropyLoss=2.2599 | MulticlassF1Score=0.9616\n",
      "Batch-60 : CrossEntropyLoss=2.2581 | MulticlassF1Score=0.9623\n",
      "Batch-75 : CrossEntropyLoss=2.2584 | MulticlassF1Score=0.9628\n",
      "Batch-90 : CrossEntropyLoss=2.2604 | MulticlassF1Score=0.9630\n",
      "Batch-105: CrossEntropyLoss=2.2618 | MulticlassF1Score=0.9632\n",
      "Batch-120: CrossEntropyLoss=2.2623 | MulticlassF1Score=0.9633\n",
      "Batch-135: CrossEntropyLoss=2.2600 | MulticlassF1Score=0.9634\n",
      "Batch-150: CrossEntropyLoss=2.2614 | MulticlassF1Score=0.9635\n",
      "Batch-165: CrossEntropyLoss=2.2569 | MulticlassF1Score=0.9636\n",
      "Batch-180: CrossEntropyLoss=2.2587 | MulticlassF1Score=0.9634\n",
      "Batch-195: CrossEntropyLoss=2.2641 | MulticlassF1Score=0.9632\n",
      "Batch-210: CrossEntropyLoss=2.2598 | MulticlassF1Score=0.9633\n",
      "Batch-225: CrossEntropyLoss=2.2613 | MulticlassF1Score=0.9633\n",
      "Batch-226: CrossEntropyLoss=2.2578 | MulticlassF1Score=0.9633\n",
      "\n",
      "Validation Step\n"
     ]
    },
    {
     "data": {
      "application/vnd.jupyter.widget-view+json": {
       "model_id": "b41f05676f1d49669935d8c0fb03f4b9",
       "version_major": 2,
       "version_minor": 0
      },
      "text/plain": [
       "  0%|          | 0/63 [00:00<?, ?it/s]"
      ]
     },
     "metadata": {},
     "output_type": "display_data"
    },
    {
     "name": "stdout",
     "output_type": "stream",
     "text": [
      "Batch-15 : CrossEntropyLoss=2.2692 | MulticlassF1Score=0.9422\n",
      "Batch-30 : CrossEntropyLoss=2.2634 | MulticlassF1Score=0.9409\n",
      "Batch-45 : CrossEntropyLoss=2.2672 | MulticlassF1Score=0.9397\n",
      "Batch-60 : CrossEntropyLoss=2.2673 | MulticlassF1Score=0.9399\n",
      "Batch-63 : CrossEntropyLoss=2.2647 | MulticlassF1Score=0.9399\n",
      "\n",
      "Yeah 🎉😄! Model improved.\n",
      "\n",
      "Training   : Mean CrossEntropyLoss = 2.2588 | Mean MulticlassF1Score = 0.9632\n",
      "Validation : Mean CrossEntropyLoss = 2.2663 | Mean MulticlassF1Score = 0.9412\n",
      "================================================================================\n",
      "\n",
      "EPOCH-40\n",
      "Training Step\n"
     ]
    },
    {
     "data": {
      "application/vnd.jupyter.widget-view+json": {
       "model_id": "687a4816e32747d6a5e525a9bde6c45a",
       "version_major": 2,
       "version_minor": 0
      },
      "text/plain": [
       "  0%|          | 0/226 [00:00<?, ?it/s]"
      ]
     },
     "metadata": {},
     "output_type": "display_data"
    },
    {
     "name": "stdout",
     "output_type": "stream",
     "text": [
      "Batch-15 : CrossEntropyLoss=2.2622 | MulticlassF1Score=0.9663\n",
      "Batch-30 : CrossEntropyLoss=2.2586 | MulticlassF1Score=0.9661\n",
      "Batch-45 : CrossEntropyLoss=2.2585 | MulticlassF1Score=0.9655\n",
      "Batch-60 : CrossEntropyLoss=2.2613 | MulticlassF1Score=0.9656\n",
      "Batch-75 : CrossEntropyLoss=2.2638 | MulticlassF1Score=0.9654\n",
      "Batch-90 : CrossEntropyLoss=2.2615 | MulticlassF1Score=0.9651\n",
      "Batch-105: CrossEntropyLoss=2.2603 | MulticlassF1Score=0.9643\n",
      "Batch-120: CrossEntropyLoss=2.2625 | MulticlassF1Score=0.9642\n",
      "Batch-135: CrossEntropyLoss=2.2589 | MulticlassF1Score=0.9643\n",
      "Batch-150: CrossEntropyLoss=2.2565 | MulticlassF1Score=0.9645\n",
      "Batch-165: CrossEntropyLoss=2.2599 | MulticlassF1Score=0.9647\n",
      "Batch-180: CrossEntropyLoss=2.2580 | MulticlassF1Score=0.9649\n",
      "Batch-195: CrossEntropyLoss=2.2583 | MulticlassF1Score=0.9647\n",
      "Batch-210: CrossEntropyLoss=2.2582 | MulticlassF1Score=0.9645\n",
      "Batch-225: CrossEntropyLoss=2.2580 | MulticlassF1Score=0.9643\n",
      "Batch-226: CrossEntropyLoss=2.2586 | MulticlassF1Score=0.9643\n",
      "\n",
      "Validation Step\n"
     ]
    },
    {
     "data": {
      "application/vnd.jupyter.widget-view+json": {
       "model_id": "e374122855434fd0b9d8daa3852626d6",
       "version_major": 2,
       "version_minor": 0
      },
      "text/plain": [
       "  0%|          | 0/63 [00:00<?, ?it/s]"
      ]
     },
     "metadata": {},
     "output_type": "display_data"
    },
    {
     "name": "stdout",
     "output_type": "stream",
     "text": [
      "Batch-15 : CrossEntropyLoss=2.2643 | MulticlassF1Score=0.9424\n",
      "Batch-30 : CrossEntropyLoss=2.2644 | MulticlassF1Score=0.9410\n",
      "Batch-45 : CrossEntropyLoss=2.2733 | MulticlassF1Score=0.9398\n",
      "Batch-60 : CrossEntropyLoss=2.2673 | MulticlassF1Score=0.9397\n",
      "Batch-63 : CrossEntropyLoss=2.2677 | MulticlassF1Score=0.9399\n",
      "\n",
      "Yeah 🎉😄! Model improved.\n",
      "\n",
      "Training   : Mean CrossEntropyLoss = 2.2585 | Mean MulticlassF1Score = 0.9650\n",
      "Validation : Mean CrossEntropyLoss = 2.2663 | Mean MulticlassF1Score = 0.9405\n",
      "================================================================================\n",
      "\n",
      "EPOCH-41\n",
      "Training Step\n"
     ]
    },
    {
     "data": {
      "application/vnd.jupyter.widget-view+json": {
       "model_id": "6f2d1ec6d959453387fe108401ec5692",
       "version_major": 2,
       "version_minor": 0
      },
      "text/plain": [
       "  0%|          | 0/226 [00:00<?, ?it/s]"
      ]
     },
     "metadata": {},
     "output_type": "display_data"
    },
    {
     "name": "stdout",
     "output_type": "stream",
     "text": [
      "Batch-15 : CrossEntropyLoss=2.2591 | MulticlassF1Score=0.9638\n",
      "Batch-30 : CrossEntropyLoss=2.2541 | MulticlassF1Score=0.9654\n",
      "Batch-45 : CrossEntropyLoss=2.2568 | MulticlassF1Score=0.9655\n",
      "Batch-60 : CrossEntropyLoss=2.2586 | MulticlassF1Score=0.9651\n",
      "Batch-75 : CrossEntropyLoss=2.2602 | MulticlassF1Score=0.9650\n",
      "Batch-90 : CrossEntropyLoss=2.2606 | MulticlassF1Score=0.9656\n",
      "Batch-105: CrossEntropyLoss=2.2590 | MulticlassF1Score=0.9657\n",
      "Batch-120: CrossEntropyLoss=2.2597 | MulticlassF1Score=0.9656\n",
      "Batch-135: CrossEntropyLoss=2.2627 | MulticlassF1Score=0.9650\n",
      "Batch-150: CrossEntropyLoss=2.2590 | MulticlassF1Score=0.9653\n",
      "Batch-165: CrossEntropyLoss=2.2545 | MulticlassF1Score=0.9652\n",
      "Batch-180: CrossEntropyLoss=2.2601 | MulticlassF1Score=0.9650\n",
      "Batch-195: CrossEntropyLoss=2.2583 | MulticlassF1Score=0.9650\n",
      "Batch-210: CrossEntropyLoss=2.2606 | MulticlassF1Score=0.9651\n",
      "Batch-225: CrossEntropyLoss=2.2596 | MulticlassF1Score=0.9648\n",
      "Batch-226: CrossEntropyLoss=2.2595 | MulticlassF1Score=0.9648\n",
      "\n",
      "Validation Step\n"
     ]
    },
    {
     "data": {
      "application/vnd.jupyter.widget-view+json": {
       "model_id": "d9cd786fa0c6428f854f085c2302398c",
       "version_major": 2,
       "version_minor": 0
      },
      "text/plain": [
       "  0%|          | 0/63 [00:00<?, ?it/s]"
      ]
     },
     "metadata": {},
     "output_type": "display_data"
    },
    {
     "name": "stdout",
     "output_type": "stream",
     "text": [
      "Batch-15 : CrossEntropyLoss=2.2674 | MulticlassF1Score=0.9389\n",
      "Batch-30 : CrossEntropyLoss=2.2704 | MulticlassF1Score=0.9402\n",
      "Batch-45 : CrossEntropyLoss=2.2638 | MulticlassF1Score=0.9394\n",
      "Batch-60 : CrossEntropyLoss=2.2654 | MulticlassF1Score=0.9403\n",
      "Batch-63 : CrossEntropyLoss=2.2708 | MulticlassF1Score=0.9404\n",
      "\n",
      "Yeah 🎉😄! Model improved.\n",
      "\n",
      "Training   : Mean CrossEntropyLoss = 2.2583 | Mean MulticlassF1Score = 0.9650\n",
      "Validation : Mean CrossEntropyLoss = 2.2661 | Mean MulticlassF1Score = 0.9397\n",
      "================================================================================\n",
      "\n",
      "EPOCH-42\n",
      "Training Step\n"
     ]
    },
    {
     "data": {
      "application/vnd.jupyter.widget-view+json": {
       "model_id": "294b87297edd4e5a93568377d825c2df",
       "version_major": 2,
       "version_minor": 0
      },
      "text/plain": [
       "  0%|          | 0/226 [00:00<?, ?it/s]"
      ]
     },
     "metadata": {},
     "output_type": "display_data"
    },
    {
     "name": "stdout",
     "output_type": "stream",
     "text": [
      "Batch-15 : CrossEntropyLoss=2.2629 | MulticlassF1Score=0.9648\n",
      "Batch-30 : CrossEntropyLoss=2.2561 | MulticlassF1Score=0.9654\n",
      "Batch-45 : CrossEntropyLoss=2.2567 | MulticlassF1Score=0.9665\n",
      "Batch-60 : CrossEntropyLoss=2.2573 | MulticlassF1Score=0.9664\n",
      "Batch-75 : CrossEntropyLoss=2.2593 | MulticlassF1Score=0.9661\n",
      "Batch-90 : CrossEntropyLoss=2.2591 | MulticlassF1Score=0.9658\n",
      "Batch-105: CrossEntropyLoss=2.2625 | MulticlassF1Score=0.9656\n",
      "Batch-120: CrossEntropyLoss=2.2628 | MulticlassF1Score=0.9656\n",
      "Batch-135: CrossEntropyLoss=2.2555 | MulticlassF1Score=0.9658\n",
      "Batch-150: CrossEntropyLoss=2.2596 | MulticlassF1Score=0.9654\n",
      "Batch-165: CrossEntropyLoss=2.2574 | MulticlassF1Score=0.9652\n",
      "Batch-180: CrossEntropyLoss=2.2582 | MulticlassF1Score=0.9649\n",
      "Batch-195: CrossEntropyLoss=2.2598 | MulticlassF1Score=0.9649\n",
      "Batch-210: CrossEntropyLoss=2.2612 | MulticlassF1Score=0.9648\n",
      "Batch-225: CrossEntropyLoss=2.2573 | MulticlassF1Score=0.9649\n",
      "Batch-226: CrossEntropyLoss=2.2549 | MulticlassF1Score=0.9649\n",
      "\n",
      "Validation Step\n"
     ]
    },
    {
     "data": {
      "application/vnd.jupyter.widget-view+json": {
       "model_id": "930058963f004cedbf338cb654e2964f",
       "version_major": 2,
       "version_minor": 0
      },
      "text/plain": [
       "  0%|          | 0/63 [00:00<?, ?it/s]"
      ]
     },
     "metadata": {},
     "output_type": "display_data"
    },
    {
     "name": "stdout",
     "output_type": "stream",
     "text": [
      "Batch-15 : CrossEntropyLoss=2.2628 | MulticlassF1Score=0.9442\n",
      "Batch-30 : CrossEntropyLoss=2.2712 | MulticlassF1Score=0.9400\n",
      "Batch-45 : CrossEntropyLoss=2.2691 | MulticlassF1Score=0.9417\n",
      "Batch-60 : CrossEntropyLoss=2.2686 | MulticlassF1Score=0.9397\n",
      "Batch-63 : CrossEntropyLoss=2.2670 | MulticlassF1Score=0.9400\n",
      "\n",
      "Yeah 🎉😄! Model improved.\n",
      "\n",
      "Training   : Mean CrossEntropyLoss = 2.2583 | Mean MulticlassF1Score = 0.9654\n",
      "Validation : Mean CrossEntropyLoss = 2.2662 | Mean MulticlassF1Score = 0.9420\n",
      "================================================================================\n",
      "\n",
      "EPOCH-43\n",
      "Training Step\n"
     ]
    },
    {
     "data": {
      "application/vnd.jupyter.widget-view+json": {
       "model_id": "1f575d8d685f46eabda84905d9d6fe5a",
       "version_major": 2,
       "version_minor": 0
      },
      "text/plain": [
       "  0%|          | 0/226 [00:00<?, ?it/s]"
      ]
     },
     "metadata": {},
     "output_type": "display_data"
    },
    {
     "name": "stdout",
     "output_type": "stream",
     "text": [
      "Batch-15 : CrossEntropyLoss=2.2597 | MulticlassF1Score=0.9665\n",
      "Batch-30 : CrossEntropyLoss=2.2572 | MulticlassF1Score=0.9654\n",
      "Batch-45 : CrossEntropyLoss=2.2588 | MulticlassF1Score=0.9658\n",
      "Batch-60 : CrossEntropyLoss=2.2572 | MulticlassF1Score=0.9658\n",
      "Batch-75 : CrossEntropyLoss=2.2605 | MulticlassF1Score=0.9653\n",
      "Batch-90 : CrossEntropyLoss=2.2573 | MulticlassF1Score=0.9654\n",
      "Batch-105: CrossEntropyLoss=2.2559 | MulticlassF1Score=0.9655\n",
      "Batch-120: CrossEntropyLoss=2.2599 | MulticlassF1Score=0.9654\n",
      "Batch-135: CrossEntropyLoss=2.2566 | MulticlassF1Score=0.9653\n",
      "Batch-150: CrossEntropyLoss=2.2592 | MulticlassF1Score=0.9653\n",
      "Batch-165: CrossEntropyLoss=2.2557 | MulticlassF1Score=0.9655\n",
      "Batch-180: CrossEntropyLoss=2.2598 | MulticlassF1Score=0.9656\n",
      "Batch-195: CrossEntropyLoss=2.2594 | MulticlassF1Score=0.9655\n",
      "Batch-210: CrossEntropyLoss=2.2592 | MulticlassF1Score=0.9656\n",
      "Batch-225: CrossEntropyLoss=2.2605 | MulticlassF1Score=0.9656\n",
      "Batch-226: CrossEntropyLoss=2.2553 | MulticlassF1Score=0.9657\n",
      "\n",
      "Validation Step\n"
     ]
    },
    {
     "data": {
      "application/vnd.jupyter.widget-view+json": {
       "model_id": "5435705c709f4e7ab288a42444830f9f",
       "version_major": 2,
       "version_minor": 0
      },
      "text/plain": [
       "  0%|          | 0/63 [00:00<?, ?it/s]"
      ]
     },
     "metadata": {},
     "output_type": "display_data"
    },
    {
     "name": "stdout",
     "output_type": "stream",
     "text": [
      "Batch-15 : CrossEntropyLoss=2.2659 | MulticlassF1Score=0.9403\n",
      "Batch-30 : CrossEntropyLoss=2.2675 | MulticlassF1Score=0.9412\n",
      "Batch-45 : CrossEntropyLoss=2.2687 | MulticlassF1Score=0.9409\n",
      "Batch-60 : CrossEntropyLoss=2.2637 | MulticlassF1Score=0.9405\n",
      "Batch-63 : CrossEntropyLoss=2.2658 | MulticlassF1Score=0.9406\n",
      "\n",
      "Yeah 🎉😄! Model improved.\n",
      "\n",
      "Training   : Mean CrossEntropyLoss = 2.2580 | Mean MulticlassF1Score = 0.9657\n",
      "Validation : Mean CrossEntropyLoss = 2.2661 | Mean MulticlassF1Score = 0.9400\n",
      "================================================================================\n",
      "\n",
      "EPOCH-44\n",
      "Training Step\n"
     ]
    },
    {
     "data": {
      "application/vnd.jupyter.widget-view+json": {
       "model_id": "8630ee78d51f484c8c83d2fbb51fbda4",
       "version_major": 2,
       "version_minor": 0
      },
      "text/plain": [
       "  0%|          | 0/226 [00:00<?, ?it/s]"
      ]
     },
     "metadata": {},
     "output_type": "display_data"
    },
    {
     "name": "stdout",
     "output_type": "stream",
     "text": [
      "Batch-15 : CrossEntropyLoss=2.2600 | MulticlassF1Score=0.9659\n",
      "Batch-30 : CrossEntropyLoss=2.2575 | MulticlassF1Score=0.9663\n",
      "Batch-45 : CrossEntropyLoss=2.2537 | MulticlassF1Score=0.9666\n",
      "Batch-60 : CrossEntropyLoss=2.2584 | MulticlassF1Score=0.9661\n",
      "Batch-75 : CrossEntropyLoss=2.2609 | MulticlassF1Score=0.9661\n",
      "Batch-90 : CrossEntropyLoss=2.2573 | MulticlassF1Score=0.9661\n",
      "Batch-105: CrossEntropyLoss=2.2563 | MulticlassF1Score=0.9660\n",
      "Batch-120: CrossEntropyLoss=2.2575 | MulticlassF1Score=0.9659\n",
      "Batch-135: CrossEntropyLoss=2.2558 | MulticlassF1Score=0.9660\n",
      "Batch-150: CrossEntropyLoss=2.2586 | MulticlassF1Score=0.9661\n",
      "Batch-165: CrossEntropyLoss=2.2586 | MulticlassF1Score=0.9662\n",
      "Batch-180: CrossEntropyLoss=2.2615 | MulticlassF1Score=0.9661\n",
      "Batch-195: CrossEntropyLoss=2.2599 | MulticlassF1Score=0.9660\n",
      "Batch-210: CrossEntropyLoss=2.2579 | MulticlassF1Score=0.9657\n",
      "Batch-225: CrossEntropyLoss=2.2585 | MulticlassF1Score=0.9658\n",
      "Batch-226: CrossEntropyLoss=2.2626 | MulticlassF1Score=0.9657\n",
      "\n",
      "Validation Step\n"
     ]
    },
    {
     "data": {
      "application/vnd.jupyter.widget-view+json": {
       "model_id": "595b391042354ddb8e3efed93d047627",
       "version_major": 2,
       "version_minor": 0
      },
      "text/plain": [
       "  0%|          | 0/63 [00:00<?, ?it/s]"
      ]
     },
     "metadata": {},
     "output_type": "display_data"
    },
    {
     "name": "stdout",
     "output_type": "stream",
     "text": [
      "Batch-15 : CrossEntropyLoss=2.2692 | MulticlassF1Score=0.9350\n",
      "Batch-30 : CrossEntropyLoss=2.2668 | MulticlassF1Score=0.9388\n",
      "Batch-45 : CrossEntropyLoss=2.2659 | MulticlassF1Score=0.9397\n",
      "Batch-60 : CrossEntropyLoss=2.2681 | MulticlassF1Score=0.9399\n",
      "Batch-63 : CrossEntropyLoss=2.2629 | MulticlassF1Score=0.9397\n",
      "\n",
      "Yeah 🎉😄! Model improved.\n",
      "\n",
      "Training   : Mean CrossEntropyLoss = 2.2580 | Mean MulticlassF1Score = 0.9661\n",
      "Validation : Mean CrossEntropyLoss = 2.2663 | Mean MulticlassF1Score = 0.9379\n",
      "================================================================================\n",
      "\n",
      "EPOCH-45\n",
      "Training Step\n"
     ]
    },
    {
     "data": {
      "application/vnd.jupyter.widget-view+json": {
       "model_id": "b92560e26e1d4e6483f6499e78352ff5",
       "version_major": 2,
       "version_minor": 0
      },
      "text/plain": [
       "  0%|          | 0/226 [00:00<?, ?it/s]"
      ]
     },
     "metadata": {},
     "output_type": "display_data"
    },
    {
     "name": "stdout",
     "output_type": "stream",
     "text": [
      "Batch-15 : CrossEntropyLoss=2.2560 | MulticlassF1Score=0.9661\n",
      "Batch-30 : CrossEntropyLoss=2.2593 | MulticlassF1Score=0.9659\n",
      "Batch-45 : CrossEntropyLoss=2.2573 | MulticlassF1Score=0.9662\n",
      "Batch-60 : CrossEntropyLoss=2.2558 | MulticlassF1Score=0.9665\n",
      "Batch-75 : CrossEntropyLoss=2.2550 | MulticlassF1Score=0.9671\n",
      "Batch-90 : CrossEntropyLoss=2.2552 | MulticlassF1Score=0.9669\n",
      "Batch-105: CrossEntropyLoss=2.2606 | MulticlassF1Score=0.9669\n",
      "Batch-120: CrossEntropyLoss=2.2583 | MulticlassF1Score=0.9667\n",
      "Batch-135: CrossEntropyLoss=2.2556 | MulticlassF1Score=0.9668\n",
      "Batch-150: CrossEntropyLoss=2.2568 | MulticlassF1Score=0.9667\n",
      "Batch-165: CrossEntropyLoss=2.2643 | MulticlassF1Score=0.9662\n",
      "Batch-180: CrossEntropyLoss=2.2537 | MulticlassF1Score=0.9660\n",
      "Batch-195: CrossEntropyLoss=2.2550 | MulticlassF1Score=0.9659\n",
      "Batch-210: CrossEntropyLoss=2.2580 | MulticlassF1Score=0.9659\n",
      "Batch-225: CrossEntropyLoss=2.2589 | MulticlassF1Score=0.9659\n",
      "Batch-226: CrossEntropyLoss=2.2593 | MulticlassF1Score=0.9659\n",
      "\n",
      "Validation Step\n"
     ]
    },
    {
     "data": {
      "application/vnd.jupyter.widget-view+json": {
       "model_id": "dfc3d454384e4dd0822aeeab22457ce0",
       "version_major": 2,
       "version_minor": 0
      },
      "text/plain": [
       "  0%|          | 0/63 [00:00<?, ?it/s]"
      ]
     },
     "metadata": {},
     "output_type": "display_data"
    },
    {
     "name": "stdout",
     "output_type": "stream",
     "text": [
      "Batch-15 : CrossEntropyLoss=2.2667 | MulticlassF1Score=0.9404\n",
      "Batch-30 : CrossEntropyLoss=2.2621 | MulticlassF1Score=0.9401\n",
      "Batch-45 : CrossEntropyLoss=2.2682 | MulticlassF1Score=0.9401\n",
      "Batch-60 : CrossEntropyLoss=2.2629 | MulticlassF1Score=0.9400\n",
      "Batch-63 : CrossEntropyLoss=2.2586 | MulticlassF1Score=0.9406\n",
      "\n",
      "Yeah 🎉😄! Model improved.\n",
      "\n",
      "Training   : Mean CrossEntropyLoss = 2.2579 | Mean MulticlassF1Score = 0.9664\n",
      "Validation : Mean CrossEntropyLoss = 2.2660 | Mean MulticlassF1Score = 0.9389\n",
      "================================================================================\n",
      "\n",
      "EPOCH-46\n",
      "Training Step\n"
     ]
    },
    {
     "data": {
      "application/vnd.jupyter.widget-view+json": {
       "model_id": "c666996d0ece4c5b81d63b91a5b26cbb",
       "version_major": 2,
       "version_minor": 0
      },
      "text/plain": [
       "  0%|          | 0/226 [00:00<?, ?it/s]"
      ]
     },
     "metadata": {},
     "output_type": "display_data"
    },
    {
     "name": "stdout",
     "output_type": "stream",
     "text": [
      "Batch-15 : CrossEntropyLoss=2.2614 | MulticlassF1Score=0.9628\n",
      "Batch-30 : CrossEntropyLoss=2.2562 | MulticlassF1Score=0.9634\n",
      "Batch-45 : CrossEntropyLoss=2.2634 | MulticlassF1Score=0.9643\n",
      "Batch-60 : CrossEntropyLoss=2.2527 | MulticlassF1Score=0.9650\n",
      "Batch-75 : CrossEntropyLoss=2.2574 | MulticlassF1Score=0.9650\n",
      "Batch-90 : CrossEntropyLoss=2.2556 | MulticlassF1Score=0.9652\n",
      "Batch-105: CrossEntropyLoss=2.2554 | MulticlassF1Score=0.9652\n",
      "Batch-120: CrossEntropyLoss=2.2601 | MulticlassF1Score=0.9651\n",
      "Batch-135: CrossEntropyLoss=2.2596 | MulticlassF1Score=0.9653\n",
      "Batch-150: CrossEntropyLoss=2.2590 | MulticlassF1Score=0.9654\n",
      "Batch-165: CrossEntropyLoss=2.2564 | MulticlassF1Score=0.9655\n",
      "Batch-180: CrossEntropyLoss=2.2610 | MulticlassF1Score=0.9655\n",
      "Batch-195: CrossEntropyLoss=2.2574 | MulticlassF1Score=0.9654\n",
      "Batch-210: CrossEntropyLoss=2.2587 | MulticlassF1Score=0.9656\n",
      "Batch-225: CrossEntropyLoss=2.2591 | MulticlassF1Score=0.9657\n",
      "Batch-226: CrossEntropyLoss=2.2593 | MulticlassF1Score=0.9657\n",
      "\n",
      "Validation Step\n"
     ]
    },
    {
     "data": {
      "application/vnd.jupyter.widget-view+json": {
       "model_id": "c4461bbc83a64957b5e22f6fe7597d34",
       "version_major": 2,
       "version_minor": 0
      },
      "text/plain": [
       "  0%|          | 0/63 [00:00<?, ?it/s]"
      ]
     },
     "metadata": {},
     "output_type": "display_data"
    },
    {
     "name": "stdout",
     "output_type": "stream",
     "text": [
      "Batch-15 : CrossEntropyLoss=2.2699 | MulticlassF1Score=0.9399\n",
      "Batch-30 : CrossEntropyLoss=2.2687 | MulticlassF1Score=0.9407\n",
      "Batch-45 : CrossEntropyLoss=2.2653 | MulticlassF1Score=0.9411\n",
      "Batch-60 : CrossEntropyLoss=2.2684 | MulticlassF1Score=0.9404\n",
      "Batch-63 : CrossEntropyLoss=2.2693 | MulticlassF1Score=0.9406\n",
      "\n",
      "Huft 😥! Model not improved.\n",
      "\n",
      "Training   : Mean CrossEntropyLoss = 2.2580 | Mean MulticlassF1Score = 0.9650\n",
      "Validation : Mean CrossEntropyLoss = 2.2661 | Mean MulticlassF1Score = 0.9404\n",
      "Patience = 2/50❗\n",
      "================================================================================\n",
      "\n",
      "EPOCH-47\n",
      "Training Step\n"
     ]
    },
    {
     "data": {
      "application/vnd.jupyter.widget-view+json": {
       "model_id": "6f2d7642c03044b085b00d565fadcb2d",
       "version_major": 2,
       "version_minor": 0
      },
      "text/plain": [
       "  0%|          | 0/226 [00:00<?, ?it/s]"
      ]
     },
     "metadata": {},
     "output_type": "display_data"
    },
    {
     "name": "stdout",
     "output_type": "stream",
     "text": [
      "Batch-15 : CrossEntropyLoss=2.2622 | MulticlassF1Score=0.9673\n",
      "Batch-30 : CrossEntropyLoss=2.2533 | MulticlassF1Score=0.9658\n",
      "Batch-45 : CrossEntropyLoss=2.2576 | MulticlassF1Score=0.9664\n",
      "Batch-60 : CrossEntropyLoss=2.2562 | MulticlassF1Score=0.9664\n",
      "Batch-75 : CrossEntropyLoss=2.2586 | MulticlassF1Score=0.9668\n",
      "Batch-90 : CrossEntropyLoss=2.2571 | MulticlassF1Score=0.9665\n",
      "Batch-105: CrossEntropyLoss=2.2561 | MulticlassF1Score=0.9663\n",
      "Batch-120: CrossEntropyLoss=2.2591 | MulticlassF1Score=0.9661\n",
      "Batch-135: CrossEntropyLoss=2.2607 | MulticlassF1Score=0.9663\n",
      "Batch-150: CrossEntropyLoss=2.2523 | MulticlassF1Score=0.9664\n",
      "Batch-165: CrossEntropyLoss=2.2564 | MulticlassF1Score=0.9663\n",
      "Batch-180: CrossEntropyLoss=2.2595 | MulticlassF1Score=0.9663\n",
      "Batch-195: CrossEntropyLoss=2.2584 | MulticlassF1Score=0.9662\n",
      "Batch-210: CrossEntropyLoss=2.2557 | MulticlassF1Score=0.9662\n",
      "Batch-225: CrossEntropyLoss=2.2566 | MulticlassF1Score=0.9659\n",
      "Batch-226: CrossEntropyLoss=2.2595 | MulticlassF1Score=0.9659\n",
      "\n",
      "Validation Step\n"
     ]
    },
    {
     "data": {
      "application/vnd.jupyter.widget-view+json": {
       "model_id": "52385a9851e14cd49f303c1b91daf616",
       "version_major": 2,
       "version_minor": 0
      },
      "text/plain": [
       "  0%|          | 0/63 [00:00<?, ?it/s]"
      ]
     },
     "metadata": {},
     "output_type": "display_data"
    },
    {
     "name": "stdout",
     "output_type": "stream",
     "text": [
      "Batch-15 : CrossEntropyLoss=2.2671 | MulticlassF1Score=0.9389\n",
      "Batch-30 : CrossEntropyLoss=2.2634 | MulticlassF1Score=0.9422\n",
      "Batch-45 : CrossEntropyLoss=2.2660 | MulticlassF1Score=0.9405\n",
      "Batch-60 : CrossEntropyLoss=2.2619 | MulticlassF1Score=0.9404\n",
      "Batch-63 : CrossEntropyLoss=2.2665 | MulticlassF1Score=0.9398\n",
      "\n",
      "Yeah 🎉😄! Model improved.\n",
      "\n",
      "Training   : Mean CrossEntropyLoss = 2.2580 | Mean MulticlassF1Score = 0.9665\n",
      "Validation : Mean CrossEntropyLoss = 2.2662 | Mean MulticlassF1Score = 0.9398\n",
      "================================================================================\n",
      "\n",
      "EPOCH-48\n",
      "Training Step\n"
     ]
    },
    {
     "data": {
      "application/vnd.jupyter.widget-view+json": {
       "model_id": "fab4c603fff94250bf57891715532056",
       "version_major": 2,
       "version_minor": 0
      },
      "text/plain": [
       "  0%|          | 0/226 [00:00<?, ?it/s]"
      ]
     },
     "metadata": {},
     "output_type": "display_data"
    },
    {
     "name": "stdout",
     "output_type": "stream",
     "text": [
      "Batch-15 : CrossEntropyLoss=2.2622 | MulticlassF1Score=0.9647\n",
      "Batch-30 : CrossEntropyLoss=2.2611 | MulticlassF1Score=0.9662\n",
      "Batch-45 : CrossEntropyLoss=2.2570 | MulticlassF1Score=0.9664\n",
      "Batch-60 : CrossEntropyLoss=2.2601 | MulticlassF1Score=0.9663\n",
      "Batch-75 : CrossEntropyLoss=2.2568 | MulticlassF1Score=0.9655\n",
      "Batch-90 : CrossEntropyLoss=2.2519 | MulticlassF1Score=0.9658\n",
      "Batch-105: CrossEntropyLoss=2.2588 | MulticlassF1Score=0.9661\n",
      "Batch-120: CrossEntropyLoss=2.2584 | MulticlassF1Score=0.9664\n",
      "Batch-135: CrossEntropyLoss=2.2606 | MulticlassF1Score=0.9663\n",
      "Batch-150: CrossEntropyLoss=2.2606 | MulticlassF1Score=0.9663\n",
      "Batch-165: CrossEntropyLoss=2.2576 | MulticlassF1Score=0.9664\n",
      "Batch-180: CrossEntropyLoss=2.2571 | MulticlassF1Score=0.9665\n",
      "Batch-195: CrossEntropyLoss=2.2585 | MulticlassF1Score=0.9664\n",
      "Batch-210: CrossEntropyLoss=2.2570 | MulticlassF1Score=0.9663\n",
      "Batch-225: CrossEntropyLoss=2.2582 | MulticlassF1Score=0.9662\n",
      "Batch-226: CrossEntropyLoss=2.2574 | MulticlassF1Score=0.9662\n",
      "\n",
      "Validation Step\n"
     ]
    },
    {
     "data": {
      "application/vnd.jupyter.widget-view+json": {
       "model_id": "24276f9c35c345d6b342fbabff89fb5f",
       "version_major": 2,
       "version_minor": 0
      },
      "text/plain": [
       "  0%|          | 0/63 [00:00<?, ?it/s]"
      ]
     },
     "metadata": {},
     "output_type": "display_data"
    },
    {
     "name": "stdout",
     "output_type": "stream",
     "text": [
      "Batch-15 : CrossEntropyLoss=2.2669 | MulticlassF1Score=0.9418\n",
      "Batch-30 : CrossEntropyLoss=2.2692 | MulticlassF1Score=0.9410\n",
      "Batch-45 : CrossEntropyLoss=2.2656 | MulticlassF1Score=0.9396\n",
      "Batch-60 : CrossEntropyLoss=2.2663 | MulticlassF1Score=0.9405\n",
      "Batch-63 : CrossEntropyLoss=2.2726 | MulticlassF1Score=0.9404\n",
      "\n",
      "Yeah 🎉😄! Model improved.\n",
      "\n",
      "Training   : Mean CrossEntropyLoss = 2.2579 | Mean MulticlassF1Score = 0.9660\n",
      "Validation : Mean CrossEntropyLoss = 2.2661 | Mean MulticlassF1Score = 0.9411\n",
      "================================================================================\n",
      "\n",
      "EPOCH-49\n",
      "Training Step\n"
     ]
    },
    {
     "data": {
      "application/vnd.jupyter.widget-view+json": {
       "model_id": "fddfeae6e55841f194ebf49c7c965908",
       "version_major": 2,
       "version_minor": 0
      },
      "text/plain": [
       "  0%|          | 0/226 [00:00<?, ?it/s]"
      ]
     },
     "metadata": {},
     "output_type": "display_data"
    },
    {
     "name": "stdout",
     "output_type": "stream",
     "text": [
      "Batch-15 : CrossEntropyLoss=2.2579 | MulticlassF1Score=0.9684\n",
      "Batch-30 : CrossEntropyLoss=2.2559 | MulticlassF1Score=0.9670\n",
      "Batch-45 : CrossEntropyLoss=2.2584 | MulticlassF1Score=0.9659\n",
      "Batch-60 : CrossEntropyLoss=2.2569 | MulticlassF1Score=0.9662\n",
      "Batch-75 : CrossEntropyLoss=2.2583 | MulticlassF1Score=0.9658\n",
      "Batch-90 : CrossEntropyLoss=2.2597 | MulticlassF1Score=0.9656\n",
      "Batch-105: CrossEntropyLoss=2.2551 | MulticlassF1Score=0.9659\n",
      "Batch-120: CrossEntropyLoss=2.2557 | MulticlassF1Score=0.9662\n",
      "Batch-135: CrossEntropyLoss=2.2583 | MulticlassF1Score=0.9661\n",
      "Batch-150: CrossEntropyLoss=2.2538 | MulticlassF1Score=0.9664\n",
      "Batch-165: CrossEntropyLoss=2.2600 | MulticlassF1Score=0.9666\n",
      "Batch-180: CrossEntropyLoss=2.2579 | MulticlassF1Score=0.9667\n",
      "Batch-195: CrossEntropyLoss=2.2541 | MulticlassF1Score=0.9667\n",
      "Batch-210: CrossEntropyLoss=2.2597 | MulticlassF1Score=0.9666\n",
      "Batch-225: CrossEntropyLoss=2.2548 | MulticlassF1Score=0.9665\n",
      "Batch-226: CrossEntropyLoss=2.2550 | MulticlassF1Score=0.9666\n",
      "\n",
      "Validation Step\n"
     ]
    },
    {
     "data": {
      "application/vnd.jupyter.widget-view+json": {
       "model_id": "f4a765c25aca4d408fe541259b82c122",
       "version_major": 2,
       "version_minor": 0
      },
      "text/plain": [
       "  0%|          | 0/63 [00:00<?, ?it/s]"
      ]
     },
     "metadata": {},
     "output_type": "display_data"
    },
    {
     "name": "stdout",
     "output_type": "stream",
     "text": [
      "Batch-15 : CrossEntropyLoss=2.2650 | MulticlassF1Score=0.9425\n",
      "Batch-30 : CrossEntropyLoss=2.2677 | MulticlassF1Score=0.9401\n",
      "Batch-45 : CrossEntropyLoss=2.2648 | MulticlassF1Score=0.9399\n",
      "Batch-60 : CrossEntropyLoss=2.2673 | MulticlassF1Score=0.9405\n",
      "Batch-63 : CrossEntropyLoss=2.2663 | MulticlassF1Score=0.9403\n",
      "\n",
      "Yeah 🎉😄! Model improved.\n",
      "\n",
      "Training   : Mean CrossEntropyLoss = 2.2577 | Mean MulticlassF1Score = 0.9666\n",
      "Validation : Mean CrossEntropyLoss = 2.2661 | Mean MulticlassF1Score = 0.9402\n",
      "================================================================================\n",
      "\n",
      "EPOCH-50\n",
      "Training Step\n"
     ]
    },
    {
     "data": {
      "application/vnd.jupyter.widget-view+json": {
       "model_id": "6ac9e86e7f254a6687fd6fad8ab3d200",
       "version_major": 2,
       "version_minor": 0
      },
      "text/plain": [
       "  0%|          | 0/226 [00:00<?, ?it/s]"
      ]
     },
     "metadata": {},
     "output_type": "display_data"
    },
    {
     "name": "stdout",
     "output_type": "stream",
     "text": [
      "Batch-15 : CrossEntropyLoss=2.2574 | MulticlassF1Score=0.9685\n",
      "Batch-30 : CrossEntropyLoss=2.2568 | MulticlassF1Score=0.9675\n",
      "Batch-45 : CrossEntropyLoss=2.2590 | MulticlassF1Score=0.9668\n",
      "Batch-60 : CrossEntropyLoss=2.2586 | MulticlassF1Score=0.9664\n",
      "Batch-75 : CrossEntropyLoss=2.2585 | MulticlassF1Score=0.9671\n",
      "Batch-90 : CrossEntropyLoss=2.2556 | MulticlassF1Score=0.9671\n",
      "Batch-105: CrossEntropyLoss=2.2584 | MulticlassF1Score=0.9671\n",
      "Batch-120: CrossEntropyLoss=2.2573 | MulticlassF1Score=0.9668\n",
      "Batch-135: CrossEntropyLoss=2.2568 | MulticlassF1Score=0.9670\n",
      "Batch-150: CrossEntropyLoss=2.2534 | MulticlassF1Score=0.9672\n",
      "Batch-165: CrossEntropyLoss=2.2571 | MulticlassF1Score=0.9671\n",
      "Batch-180: CrossEntropyLoss=2.2561 | MulticlassF1Score=0.9672\n",
      "Batch-195: CrossEntropyLoss=2.2556 | MulticlassF1Score=0.9672\n",
      "Batch-210: CrossEntropyLoss=2.2593 | MulticlassF1Score=0.9671\n",
      "Batch-225: CrossEntropyLoss=2.2609 | MulticlassF1Score=0.9671\n",
      "Batch-226: CrossEntropyLoss=2.2584 | MulticlassF1Score=0.9671\n",
      "\n",
      "Validation Step\n"
     ]
    },
    {
     "data": {
      "application/vnd.jupyter.widget-view+json": {
       "model_id": "d502b173a128481aa8714d572312d368",
       "version_major": 2,
       "version_minor": 0
      },
      "text/plain": [
       "  0%|          | 0/63 [00:00<?, ?it/s]"
      ]
     },
     "metadata": {},
     "output_type": "display_data"
    },
    {
     "name": "stdout",
     "output_type": "stream",
     "text": [
      "Batch-15 : CrossEntropyLoss=2.2653 | MulticlassF1Score=0.9378\n",
      "Batch-30 : CrossEntropyLoss=2.2673 | MulticlassF1Score=0.9412\n",
      "Batch-45 : CrossEntropyLoss=2.2718 | MulticlassF1Score=0.9400\n",
      "Batch-60 : CrossEntropyLoss=2.2679 | MulticlassF1Score=0.9403\n",
      "Batch-63 : CrossEntropyLoss=2.2668 | MulticlassF1Score=0.9402\n",
      "\n",
      "Yeah 🎉😄! Model improved.\n",
      "\n",
      "Training   : Mean CrossEntropyLoss = 2.2576 | Mean MulticlassF1Score = 0.9674\n",
      "Validation : Mean CrossEntropyLoss = 2.2661 | Mean MulticlassF1Score = 0.9394\n",
      "================================================================================\n",
      "\n",
      "TRAINING SUMMARY\n",
      "Best CrossEntropyLoss training    : 2.2576\n",
      "Best CrossEntropyLoss training    : 2.2661\n",
      "Best MulticlassF1Score validation : 0.9674\n",
      "Best MulticlassF1Score validation : 0.9394\n",
      "Training duration                 : 1.9725 minutes.\n",
      "Training date                     : 2022-10-24 18:41:34.425110+08:00\n"
     ]
    },
    {
     "data": {
      "image/png": "[encoded data removed]",
      "text/plain": [
       "<Figure size 1080x360 with 2 Axes>"
      ]
     },
     "metadata": {
      "needs_background": "light"
     },
     "output_type": "display_data"
    }
   ],
   "source": [
    "now = datetime.now(pytz.timezone(\"Asia/Ujung_Pandang\"))\n",
    "path_name = now.strftime(\"%m-%d-%Y_%H-%M-%S\")\n",
    "root_path = f\"../../logs/unk/fold_{hyperparams.fold}/{path_name}\"\n",
    "os.makedirs(root_path)\n",
    "\n",
    "def looping_step(train_dataloader, val_dataloader, model, optimizer, criterion, train_metric, val_metric, n_epoch=hyperparams.n_epoch, patience=hyperparams.patience, monitor=\"loss\"):    \n",
    "    start_time = time()\n",
    "    \n",
    "    epoch_training_losses = []\n",
    "    epoch_training_metric_scores = []\n",
    "    epoch_val_losses = []\n",
    "    epoch_val_metric_scores = []\n",
    "    patience_counter = 0\n",
    "    \n",
    "    # Hyperparameters\n",
    "    with open(f\"{root_path}/training_history.txt\", \"a\") as f:\n",
    "        f.write(f\"HYPERPARAMETERS\\n\")\n",
    "        f.write(f\"{'-' * 80}\\n\")\n",
    "        for name, value in vars(hyperparams).items():\n",
    "            f.write(f\"{name}: {value}\\n\")\n",
    "        \n",
    "        f.write(\"\\n\\nTRAINING PROGRESS\\n\")\n",
    "        f.write(f\"{'-' * 80}\\n\")\n",
    "    \n",
    "    # Training Progress\n",
    "    for epoch in range(1, n_epoch + 1):\n",
    "        print(f\"EPOCH-{epoch}\")\n",
    "        with open(f\"{root_path}/training_history.txt\", \"a\") as f:\n",
    "            f.write(f\"EPOCH-{epoch}\\n\")\n",
    "            f.write(f\"Training Step\\n\")\n",
    "            \n",
    "        # Training Step\n",
    "        print(\"Training Step\")\n",
    "        batch_training_losses, batch_training_metric_scores = training_step(train_dataloader, model, optimizer, criterion, train_metric, scheduler=None)\n",
    "        epoch_training_loss = torch.mean(torch.FloatTensor(batch_training_losses))\n",
    "\n",
    "        epoch_training_loss = torch.mean(torch.FloatTensor(batch_training_losses))\n",
    "        epoch_training_losses.append(epoch_training_loss.item())\n",
    "\n",
    "        epoch_training_metric_score = torch.mean(torch.FloatTensor(batch_training_metric_scores))\n",
    "        epoch_training_metric_scores.append(epoch_training_metric_score.item())\n",
    "        \n",
    "        # Validation Step\n",
    "        with open(f\"{root_path}/training_history.txt\", \"a\") as f:\n",
    "            f.write(f\"\\nValidation Step\\n\")\n",
    "            \n",
    "        print(\"\\nValidation Step\")\n",
    "        batch_val_losses, batch_val_metric_scores = validation_step(val_dataloader, model, criterion, val_metric)\n",
    "        epoch_val_loss = torch.mean(torch.FloatTensor(batch_val_losses))\n",
    "\n",
    "        epoch_val_loss = torch.mean(torch.FloatTensor(batch_val_losses))\n",
    "        epoch_val_losses.append(epoch_val_loss.item())\n",
    "\n",
    "        epoch_val_metric_score = torch.mean(torch.FloatTensor(batch_val_metric_scores))\n",
    "        epoch_val_metric_scores.append(epoch_val_metric_score.item())\n",
    "        \n",
    "        with open(f\"{root_path}/training_history.txt\", \"a\") as f:\n",
    "            if monitor == \"loss\":\n",
    "                if epoch == 1:\n",
    "                    best_state_dict = model.state_dict()\n",
    "                    best_training_loss = epoch_training_loss\n",
    "                    best_training_metric = epoch_training_metric_score\n",
    "                    best_val_loss = epoch_val_loss\n",
    "                    best_val_metric = epoch_val_metric_score\n",
    "                    \n",
    "                    print(f\"\\nTraining   : Mean {str(criterion).split('(')[0]} = {(epoch_training_loss):.4f} | Mean {str(train_metric).split('(')[0]} = {(epoch_training_metric_score):.4f}\")\n",
    "                    print(f\"Validation : Mean {str(criterion).split('(')[0]} = {(epoch_val_loss):.4f} | Mean {str(val_metric).split('(')[0]} = {(epoch_val_metric_score):.4f}\")\n",
    "                    \n",
    "                    f.write(f\"\\nTraining   : Mean {str(criterion).split('(')[0]} = {(epoch_training_loss):.4f} | Mean {str(train_metric).split('(')[0]} = {(epoch_training_metric_score):.4f}\\n\")\n",
    "                    f.write(f\"Validation : Mean {str(criterion).split('(')[0]} = {(epoch_val_loss):.4f} | Mean {str(val_metric).split('(')[0]} = {(epoch_val_metric_score):.4f}\\n\")\n",
    "                elif epoch_training_losses[-1] < epoch_training_losses[-2]:\n",
    "                    best_state_dict = model.state_dict()\n",
    "                    best_training_loss = epoch_training_loss\n",
    "                    best_training_metric = epoch_training_metric_score\n",
    "                    best_val_loss = epoch_val_loss\n",
    "                    best_val_metric = epoch_val_metric_score\n",
    "                    \n",
    "                    print(\"\\nYeah 🎉😄! Model improved.\")\n",
    "                    print(f\"\\nTraining   : Mean {str(criterion).split('(')[0]} = {(epoch_training_loss):.4f} | Mean {str(train_metric).split('(')[0]} = {(epoch_training_metric_score):.4f}\")\n",
    "                    print(f\"Validation : Mean {str(criterion).split('(')[0]} = {(epoch_val_loss):.4f} | Mean {str(val_metric).split('(')[0]} = {(epoch_val_metric_score):.4f}\")\n",
    "                    \n",
    "                    f.write(\"\\nYeah 🎉😄! Model improved.\\n\")\n",
    "                    f.write(f\"\\nTraining   : Mean {str(criterion).split('(')[0]} = {(epoch_training_loss):.4f} | Mean {str(train_metric).split('(')[0]} = {(epoch_training_metric_score):.4f}\\n\")\n",
    "                    f.write(f\"Validation : Mean {str(criterion).split('(')[0]} = {(epoch_val_loss):.4f} | Mean {str(val_metric).split('(')[0]} = {(epoch_val_metric_score):.4f}\\n\")\n",
    "                else:\n",
    "                    patience_counter += 1\n",
    "                    \n",
    "                    print(\"\\nHuft 😥! Model not improved.\")\n",
    "                    print(f\"\\nTraining   : Mean {str(criterion).split('(')[0]} = {(epoch_training_loss):.4f} | Mean {str(train_metric).split('(')[0]} = {(epoch_training_metric_score):.4f}\")\n",
    "                    print(f\"Validation : Mean {str(criterion).split('(')[0]} = {(epoch_val_loss):.4f} | Mean {str(val_metric).split('(')[0]} = {(epoch_val_metric_score):.4f}\")\n",
    "                    print(f\"Patience = {patience_counter}/{patience}❗\")\n",
    "                    \n",
    "                    f.write(\"\\nHuft 😥! Model not improved.\\n\")\n",
    "                    f.write(f\"\\nTraining   : Mean {str(criterion).split('(')[0]} = {(epoch_training_loss):.4f} | Mean {str(train_metric).split('(')[0]} = {(epoch_training_metric_score):.4f}\\n\")\n",
    "                    f.write(f\"Validation : Mean {str(criterion).split('(')[0]} = {(epoch_val_loss):.4f} | Mean {str(val_metric).split('(')[0]} = {(epoch_val_metric_score):.4f}\\n\")\n",
    "                    f.write(f\"Patience = {patience_counter}/{patience}❗\\n\")\n",
    "            else:\n",
    "                if epoch == 1:\n",
    "                    best_state_dict = model.state_dict()\n",
    "                    best_training_loss = epoch_training_loss\n",
    "                    best_training_metric = epoch_training_metric_score\n",
    "                    best_val_loss = epoch_val_loss\n",
    "                    best_val_metric = epoch_val_metric_score\n",
    "                    \n",
    "                    print(f\"\\nTraining   : Mean {str(criterion).split('(')[0]} = {(epoch_training_loss):.4f} | Mean {str(train_metric).split('(')[0]} = {(epoch_training_metric_score):.4f}\")\n",
    "                    print(f\"Validation : Mean {str(criterion).split('(')[0]} = {(epoch_val_loss):.4f} | Mean {str(val_metric).split('(')[0]} = {(epoch_val_metric_score):.4f}\")\n",
    "                    \n",
    "                    f.write(f\"\\nTraining   : Mean {str(criterion).split('(')[0]} = {(epoch_training_loss):.4f} | Mean {str(train_metric).split('(')[0]} = {(epoch_training_metric_score):.4f}\\n\")\n",
    "                    f.write(f\"Validation : Mean {str(criterion).split('(')[0]} = {(epoch_val_loss):.4f} | Mean {str(val_metric).split('(')[0]} = {(epoch_val_metric_score):.4f}\\n\")\n",
    "                elif epoch_training_metric_scores[-1] > epoch_training_metric_scores[-2]:\n",
    "                    best_state_dict = model.state_dict()\n",
    "                    best_training_loss = epoch_training_loss\n",
    "                    best_training_metric = epoch_training_metric_score\n",
    "                    best_val_loss = epoch_val_loss\n",
    "                    best_val_metric = epoch_val_metric_score\n",
    "                    \n",
    "                    print(\"\\nYeah 🎉😄! Model improved.\")\n",
    "                    print(f\"\\nTraining   : Mean {str(criterion).split('(')[0]} = {(epoch_training_loss):.4f} | Mean {str(train_metric).split('(')[0]} = {(epoch_training_metric_score):.4f}\")\n",
    "                    print(f\"Validation : Mean {str(criterion).split('(')[0]} = {(epoch_val_loss):.4f} | Mean {str(val_metric).split('(')[0]} = {(epoch_val_metric_score):.4f}\")\n",
    "                    \n",
    "                    f.write(\"\\nYeah 🎉😄! Model improved.\\n\")\n",
    "                    f.write(f\"\\nTraining   : Mean {str(criterion).split('(')[0]} = {(epoch_training_loss):.4f} | Mean {str(train_metric).split('(')[0]} = {(epoch_training_metric_score):.4f}\\n\")\n",
    "                    f.write(f\"Validation : Mean {str(criterion).split('(')[0]} = {(epoch_val_loss):.4f} | Mean {str(val_metric).split('(')[0]} = {(epoch_val_metric_score):.4f}\\n\")\n",
    "                else:\n",
    "                    patience_counter += 1\n",
    "                    \n",
    "                    print(\"\\nHuft 😥! Model not improved.\")\n",
    "                    print(f\"\\nTraining   : Mean {str(criterion).split('(')[0]} = {(epoch_training_loss):.4f} | Mean {str(train_metric).split('(')[0]} = {(epoch_training_metric_score):.4f}\")\n",
    "                    print(f\"Validation : Mean {str(criterion).split('(')[0]} = {(epoch_val_loss):.4f} | Mean {str(val_metric).split('(')[0]} = {(epoch_val_metric_score):.4f}\")\n",
    "                    print(f\"Patience = {patience_counter}/{patience}❗\\n\")\n",
    "                    \n",
    "                    f.write(\"\\nHuft 😥! Model not improved.\\n\")\n",
    "                    f.write(f\"\\nTraining   : Mean {str(criterion).split('(')[0]} = {(epoch_training_loss):.4f} | Mean {str(train_metric).split('(')[0]} = {(epoch_training_metric_score):.4f}\\n\")\n",
    "                    f.write(f\"Validation : Mean {str(criterion).split('(')[0]} = {(epoch_val_loss):.4f} | Mean {str(val_metric).split('(')[0]} = {(epoch_val_metric_score):.4f}\\n\")\n",
    "                    f.write(f\"Patience = {patience_counter}/{patience}❗\\n\")\n",
    "                    \n",
    "            print(\"=\" * 80, end=\"\\n\\n\")\n",
    "            \n",
    "            f.write(f\"{'=' * 80}\\n\\n\")\n",
    "            \n",
    "            if patience_counter == patience:\n",
    "                print(f\"Early stopping, patience = {patience_counter}/{patience}❗\\n\")\n",
    "                \n",
    "                f.write(f\"Early stopping, patience = {patience_counter}/{patience}❗\\n\")\n",
    "                break\n",
    "        \n",
    "        train_metric.reset()\n",
    "        val_metric.reset()\n",
    "        \n",
    "    finish_time = time()\n",
    "    \n",
    "    # Training plot \n",
    "    fig, (ax_loss, ax_metric_score) = plt.subplots(nrows=1, ncols=2, figsize=(15, 5))\n",
    "\n",
    "    fig.suptitle(f\"Training with oov embedding = unknown polyglot\")\n",
    "\n",
    "    ax_loss.set_title(\"Loss\")\n",
    "    ax_loss.set_xlabel(\"Epoch\")\n",
    "    ax_loss.set_ylabel(\"Score\")\n",
    "    ax_loss.plot(epoch_training_losses, \"green\", label=\"Training\")\n",
    "    ax_loss.plot(epoch_val_losses, \"orange\", label=\"Validation\")\n",
    "    ax_loss.legend()\n",
    "    ax_loss.grid()\n",
    "\n",
    "    ax_metric_score.set_title(\"F1 Score\")\n",
    "    ax_metric_score.set_xlabel(\"Epoch\")\n",
    "    ax_metric_score.set_ylabel(\"Score\")\n",
    "    ax_metric_score.plot(epoch_training_metric_scores, \"green\", label=\"Training\")\n",
    "    ax_metric_score.plot(epoch_val_metric_scores, \"orange\", label=\"Validation\")\n",
    "    ax_metric_score.legend()\n",
    "    ax_metric_score.grid()\n",
    "\n",
    "    plt.savefig(f\"{root_path}/training_plot.jpg\", dpi=200)                        \n",
    "    \n",
    "    print(\"TRAINING SUMMARY\")\n",
    "    name_best_training_loss = f\"Best {str(criterion).split('(')[0]} training\".ljust(34)\n",
    "    name_best_training_metric = f\"Best {str(train_metric).split('(')[0]} validation\".ljust(34)\n",
    "    name_best_validation_loss = f\"Best {str(criterion).split('(')[0]} training\".ljust(34)\n",
    "    name_best_validation_metric = f\"Best {str(val_metric).split('(')[0]} validation\".ljust(34)\n",
    "    name_training_time = f\"Training duration\".ljust(34)\n",
    "    name_training_date = f\"Training date\".ljust(34)\n",
    "    \n",
    "    print(f\"{name_best_training_loss}: {best_training_loss:.4f}\")\n",
    "    print(f\"{name_best_validation_loss}: {best_val_loss:.4f}\")\n",
    "    print(f\"{name_best_training_metric}: {best_training_metric:.4f}\")\n",
    "    print(f\"{name_best_validation_metric}: {best_val_metric:.4f}\")\n",
    "    print(f\"{name_training_time}: {((finish_time - start_time) / 60):.4f} minutes.\")\n",
    "    print(f\"{name_training_date}: {now}\")\n",
    "    \n",
    "    with open(f\"{root_path}/training_history.txt\", \"a\") as f:\n",
    "        f.write(\"\\nTRAINING SUMMARY\\n\")\n",
    "        f.write(f\"{'-' * 80}\\n\")\n",
    "        f.write(f\"{name_best_training_loss}: {best_training_loss:.4f}\\n\")\n",
    "        f.write(f\"{name_best_validation_loss}: {best_val_loss:.4f}\\n\")\n",
    "        f.write(f\"{name_best_training_metric}: {best_training_metric:.4f}\\n\")\n",
    "        f.write(f\"{name_best_validation_metric}: {best_val_metric:.4f}\\n\")\n",
    "        f.write(f\"{name_training_time}: {((finish_time - start_time) / 60):.4f} minutes.\\n\")\n",
    "        f.write(f\"{name_training_date}: {now}\\n\")\n",
    "    \n",
    "    # Save epoch losses, epoch metric scores, model, state dict, and oov embedding dict\n",
    "    pd.DataFrame({\n",
    "        \"epoch\": list(range(1, hyperparams.n_epoch + 1)),\n",
    "        \"loss\": epoch_training_losses\n",
    "    }).to_csv(f\"{root_path}/training_losses.csv\", index=False)\n",
    "    \n",
    "    pd.DataFrame({\n",
    "        \"epoch\": list(range(1, hyperparams.n_epoch + 1)),\n",
    "        \"f1_score\": epoch_training_metric_scores\n",
    "    }).to_csv(f\"{root_path}/training_metric_scores.csv\", index=False)\n",
    "    \n",
    "    pd.DataFrame({\n",
    "        \"epoch\": list(range(1, hyperparams.n_epoch + 1)),\n",
    "        \"loss\": epoch_val_losses\n",
    "    }).to_csv(f\"{root_path}/val_losses.csv\", index=False)\n",
    "    \n",
    "    pd.DataFrame({\n",
    "        \"epoch\": list(range(1, hyperparams.n_epoch + 1)),\n",
    "        \"f1_score\": epoch_val_metric_scores\n",
    "    }).to_csv(f\"{root_path}/val_metric_scores.csv\", index=False)    \n",
    "    \n",
    "    filename_model_params = f\"{root_path}/model_params.pth\"\n",
    "    torch.save(best_state_dict, filename_model_params)\n",
    "    \n",
    "    return epoch_training_losses, epoch_training_metric_scores, epoch_val_losses, epoch_val_metric_scores\n",
    "\n",
    "epoch_training_losses, epoch_training_metric_scores, epoch_val_losses, epoch_val_metric_scores = looping_step(train_dataloader, val_dataloader, model, optimizer, criterion, train_metric, val_metric)"
   ]
  },
  {
   "cell_type": "markdown",
   "id": "39c1ab00-060c-492c-b731-b5b78bc10bc0",
   "metadata": {},
   "source": [
    "## End Training"
   ]
  },
  {
   "cell_type": "markdown",
   "id": "dd1d19df-0c5b-42c0-9619-f3409774cf4b",
   "metadata": {},
   "source": [
    "# Evaluation"
   ]
  },
  {
   "cell_type": "code",
   "execution_count": 29,
   "id": "8aa68954-9917-497d-9be1-15bafefe7a68",
   "metadata": {},
   "outputs": [
    {
     "data": {
      "application/vnd.jupyter.widget-view+json": {
       "model_id": "c775a38f359f45c8889bde0415a13671",
       "version_major": 2,
       "version_minor": 0
      },
      "text/plain": [
       "  0%|          | 0/1 [00:00<?, ?it/s]"
      ]
     },
     "metadata": {},
     "output_type": "display_data"
    },
    {
     "data": {
      "application/vnd.jupyter.widget-view+json": {
       "model_id": "1ee00ff0c7e5491d8c9fa43762491eeb",
       "version_major": 2,
       "version_minor": 0
      },
      "text/plain": [
       "  0%|          | 0/1 [00:00<?, ?it/s]"
      ]
     },
     "metadata": {},
     "output_type": "display_data"
    },
    {
     "data": {
      "application/vnd.jupyter.widget-view+json": {
       "model_id": "58042c3cf69b42179c665b5def44b1f3",
       "version_major": 2,
       "version_minor": 0
      },
      "text/plain": [
       "  0%|          | 0/1 [00:00<?, ?it/s]"
      ]
     },
     "metadata": {},
     "output_type": "display_data"
    }
   ],
   "source": [
    "def evaluation(dataloader, model, criterion, metric):\n",
    "    model.eval()\n",
    "    \n",
    "    with torch.inference_mode():\n",
    "        for batch, (feature, actual_label) in enumerate(tqdm(dataloader), 1):\n",
    "            # Forward Propagation\n",
    "            feature = rearrange(feature, \"n s -> s n\")\n",
    "            actual_label = rearrange(actual_label, \"n s -> s n\")\n",
    "            embedding = word_embeddings(feature)\n",
    "\n",
    "            prob = model(\n",
    "                embedding.to(hyperparams.device),\n",
    "                actual_label.to(hyperparams.device)\n",
    "            )\n",
    "\n",
    "            prob = prob.reshape(-1, prob.shape[-1])\n",
    "            actual_label = actual_label.reshape(-1)\n",
    "            pred = rearrange(prob.argmax(dim=1).reshape(feature.shape[0], len(dataloader.dataset)), \"s n -> n s\")\n",
    "\n",
    "            loss = criterion(prob, actual_label.to(hyperparams.device))\n",
    "            metric_score = metric(prob.argmax(dim=1), actual_label.to(hyperparams.device))\n",
    "            metric_score = metric.compute()\n",
    "\n",
    "    return loss, metric_score, pred\n",
    "\n",
    "train_dataloader = DataLoader(train_dataset, batch_size=len(train_dataset))\n",
    "val_dataloader = DataLoader(val_dataset, batch_size=len(val_dataset))\n",
    "test_dataloader = DataLoader(test_dataset, batch_size=len(test_dataset))\n",
    "\n",
    "criterion = nn.CrossEntropyLoss().to(hyperparams.device)\n",
    "metric = MulticlassF1Score(average=\"micro\", num_classes=24, mdmc_average=\"samplewise\", multiclass=True, ignore_index=label_to_idx[\"<PAD>\"]).to(hyperparams.device)\n",
    "train_loss, train_f1_score, train_pred_label = evaluation(train_dataloader, model, criterion, metric)\n",
    "\n",
    "criterion = nn.CrossEntropyLoss().to(hyperparams.device)\n",
    "metric = MulticlassF1Score(average=\"micro\", num_classes=24, mdmc_average=\"samplewise\", multiclass=True, ignore_index=label_to_idx[\"<PAD>\"]).to(hyperparams.device)\n",
    "val_loss, val_f1_score, val_pred_label = evaluation(val_dataloader, model, criterion, metric)\n",
    "\n",
    "criterion = nn.CrossEntropyLoss().to(hyperparams.device)\n",
    "metric = MulticlassF1Score(average=\"micro\", num_classes=24, mdmc_average=\"samplewise\", multiclass=True, ignore_index=label_to_idx[\"<PAD>\"]).to(hyperparams.device)\n",
    "test_loss, test_f1_score, test_pred_label = evaluation(test_dataloader, model, criterion, metric)"
   ]
  },
  {
   "cell_type": "code",
   "execution_count": null,
   "id": "bf283357-3263-43eb-88e0-b3726c41fa47",
   "metadata": {},
   "outputs": [],
   "source": [
    "train_f1_score, val_f1_score, test_f1_score"
   ]
  },
  {
   "cell_type": "code",
   "execution_count": null,
   "id": "61d776c1-f3d8-48ce-9092-d5919ef6c645",
   "metadata": {},
   "outputs": [],
   "source": [
    "train_f1_score, val_f1_score, test_f1_score"
   ]
  },
  {
   "cell_type": "markdown",
   "id": "3fee85a3-646f-4e0b-8dfa-8b89f3e0a473",
   "metadata": {},
   "source": [
    "## Heatmap"
   ]
  },
  {
   "cell_type": "code",
   "execution_count": null,
   "id": "8948cb64-711c-4407-bdd6-78bf02161505",
   "metadata": {},
   "outputs": [],
   "source": [
    "import seaborn as sns\n",
    "\n",
    "def viz_evaluation(pred_label, actual_label, title):\n",
    "    plt.figure(figsize=(15, 7), dpi=200)\n",
    "    sns.heatmap(pred_label.detach().cpu() == actual_label, cbar=True, cmap=\"binary_r\")\n",
    "    plt.xlabel(\"Sentence Length\")\n",
    "    plt.ylabel(\"Sentence\")\n",
    "    plt.title(title)\n",
    "    plt.savefig(f\"{root_path}/heatmap_{title.lower()}.jpg\", dpi=200)\n",
    "    plt.show()\n",
    "\n",
    "train_actual_label = train_dataloader.dataset.tensors[1]\n",
    "val_actual_label = val_dataloader.dataset.tensors[1]\n",
    "test_actual_label = test_dataloader.dataset.tensors[1]\n",
    "\n",
    "viz_evaluation(train_pred_label, train_actual_label, f\"Training (F1-Score: {(train_f1_score):.4f})\")\n",
    "viz_evaluation(val_pred_label, val_actual_label, f\"Validation (F1-Score: {(val_f1_score):.4f})\")\n",
    "viz_evaluation(test_pred_label, test_actual_label, f\"Test (F1-Score: {(test_f1_score):.4f})\")"
   ]
  },
  {
   "cell_type": "markdown",
   "id": "e88a7dca-8191-47cc-a4be-45abd1a9b1d1",
   "metadata": {},
   "source": [
    "## Confusion Matrix"
   ]
  },
  {
   "cell_type": "code",
   "execution_count": null,
   "id": "4d68452f-f3ad-4899-868b-8aff317e0eda",
   "metadata": {},
   "outputs": [],
   "source": [
    "def confusion_matrix(pred_class, actual_class, title, normalize=None):\n",
    "    conf_mat = MulticlassConfusionMatrix(num_classes=24, normalize=normalize)\n",
    "    plt.figure(figsize=(20, 10), dpi=200)\n",
    "    sns.heatmap(conf_mat(pred_class.detach().cpu(), actual_class), annot=True, fmt=\".2g\", xticklabels=list(label_to_idx.keys()), yticklabels=list(label_to_idx.keys()));\n",
    "    plt.yticks(rotation=0)\n",
    "    plt.title(title)\n",
    "    plt.xlabel(\"Actual Class\")\n",
    "    plt.ylabel(\"Predict Class\")\n",
    "    plt.savefig(f\"{root_path}/conf_matrix_{title.lower()}.jpg\", dpi=200)\n",
    "\n",
    "confusion_matrix(train_pred_label, train_actual_label, \"Training\", \"pred\")\n",
    "confusion_matrix(val_pred_label,val_actual_label, \"Validation\", \"pred\")\n",
    "confusion_matrix(test_pred_label, test_actual_label, \"Test\", \"pred\")"
   ]
  },
  {
   "cell_type": "markdown",
   "id": "ada17c56-345a-4eba-914a-b093ce956d27",
   "metadata": {},
   "source": [
    "## Prediction Table"
   ]
  },
  {
   "cell_type": "code",
   "execution_count": null,
   "id": "3467f514-d6a6-46e4-b9bb-295686c5a572",
   "metadata": {},
   "outputs": [],
   "source": [
    "def number_wrong_pred_each_class(pred_class, actual_class):\n",
    "    classes, count_class = actual_class.flatten().unique(return_counts=True)\n",
    "    conf_mat = MulticlassConfusionMatrix(num_classes=24, normalize=\"none\")\n",
    "    correct_pred_count_class = conf_mat(pred_class.detach().cpu(), actual_class).diag()\n",
    "    \n",
    "    correct_pred = {idx_to_label[label.item()]: count.item() for label, count in zip(classes, (correct_pred_count_class))}\n",
    "    wrong_pred = {idx_to_label[label.item()]: count.item() for label, count in zip(classes, (count_class - correct_pred_count_class))}\n",
    "    \n",
    "    return correct_pred, wrong_pred\n",
    "\n",
    "correct_pred, wrong_pred = number_wrong_pred_each_class(train_pred_label, train_actual_label)\n",
    "print(f\"| {'Number class'.ljust(14)} | {'Correct prediction'.ljust(12)} | {'Wrong prediction'.ljust(12)} |\")\n",
    "for (label_correct_pred, count_correct_pred), (label_wrong_pred, count_wrong_pred) in zip(correct_pred.items(), wrong_pred.items()):\n",
    "    print(f\"| {str(label_correct_pred).ljust(6)}: {str(count_correct_pred + count_wrong_pred).ljust(7)}| {label_correct_pred.ljust(6)}: {str(count_correct_pred).ljust(10)} | {label_wrong_pred.ljust(6)}: {str(count_wrong_pred).ljust(8)} |\")"
   ]
  },
  {
   "cell_type": "code",
   "execution_count": null,
   "id": "4bc2b172-d261-42d3-b9c3-69f67cd0d622",
   "metadata": {},
   "outputs": [],
   "source": [
    "train_actual_label[308], train_pred_label[308]"
   ]
  },
  {
   "cell_type": "code",
   "execution_count": null,
   "id": "925c3a3f-2f10-44f8-b394-bedaf19e2540",
   "metadata": {},
   "outputs": [],
   "source": [
    "train_actual_label[308].detach().cpu() == train_pred_label[308].detach().cpu()"
   ]
  },
  {
   "cell_type": "markdown",
   "id": "77f44bd5-cd73-4184-9078-63d2b5718078",
   "metadata": {},
   "source": [
    "## OOV prediction is correct "
   ]
  },
  {
   "cell_type": "code",
   "execution_count": null,
   "id": "c4a4df60-901f-49d3-8dfb-b37fab4773be",
   "metadata": {},
   "outputs": [],
   "source": [
    "def oov_flag_token(sentences, max_seq_len=hyperparams.max_seq_len):\n",
    "    sent_copy = deepcopy(sentences)\n",
    "    sent = []\n",
    "    oov_flag = []\n",
    "    \n",
    "    for sentence in tqdm(sent_copy):\n",
    "        for token in sentence:\n",
    "            sent.append(token[2])\n",
    "        \n",
    "        for _ in range(max_seq_len- len(sentence)):\n",
    "            sent.append(False)\n",
    "        \n",
    "        oov_flag.append(sent)\n",
    "        sent = []\n",
    "        \n",
    "    return np.array(oov_flag)\n",
    "\n",
    "train_oov_flag = oov_flag_token(train_sentences, max_seq_len=hyperparams.max_seq_len)\n",
    "val_oov_flag = oov_flag_token(val_sentences, max_seq_len=hyperparams.max_seq_len)\n",
    "test_oov_flag = oov_flag_token(test_sentences, max_seq_len=hyperparams.max_seq_len)\n",
    "\n",
    "def pencentage_oov_pred_correct(pred_oov_flag, oov_flag_tensor):\n",
    "    oov_correct_counter = 0\n",
    "    oov_wrong_counter = 0\n",
    "\n",
    "    for pred, oov_label in tqdm(zip(pred_oov_flag, oov_flag_tensor)):\n",
    "        if pred == True and oov_label == True:\n",
    "            oov_correct_counter += 1\n",
    "        elif pred == False and oov_label == True:\n",
    "            oov_wrong_counter += 1\n",
    "        else:\n",
    "            continue\n",
    "            \n",
    "    return oov_correct_counter, oov_wrong_counter\n",
    "\n",
    "train_pred_oov_flag = (train_actual_label == train_pred_label.detach().cpu()).flatten()\n",
    "val_pred_oov_flag = (val_actual_label == val_pred_label.detach().cpu()).flatten()\n",
    "test_pred_oov_flag = (test_actual_label == test_pred_label.detach().cpu()).flatten()\n",
    "train_oov_flag_tensor = torch.tensor(train_oov_flag).flatten()\n",
    "val_oov_flag_tensor = torch.tensor(val_oov_flag).flatten()\n",
    "test_oov_flag_tensor = torch.tensor(test_oov_flag).flatten()\n",
    "\n",
    "train_oov_correct_counter, train_oov_wrong_counter = pencentage_oov_pred_correct(train_pred_oov_flag, train_oov_flag_tensor)\n",
    "val_oov_correct_counter, val_oov_wrong_counter = pencentage_oov_pred_correct(val_pred_oov_flag, val_oov_flag_tensor)\n",
    "test_oov_correct_counter, test_oov_wrong_counter = pencentage_oov_pred_correct(test_pred_oov_flag, test_oov_flag_tensor)"
   ]
  },
  {
   "cell_type": "code",
   "execution_count": null,
   "id": "1e59490d-6b9f-4c4d-833b-28eaf624d445",
   "metadata": {},
   "outputs": [],
   "source": [
    "def print_percentage_pred_oov(title, oov_correct_counter, oov_wrong_counter):\n",
    "    print(f\"{title}\")\n",
    "    print(f\"Number OOV token            : {oov_correct_counter + oov_wrong_counter}\")\n",
    "    print(f\"Correct prediction          : {oov_correct_counter}\")\n",
    "    print(f\"Wrong prediction            : {oov_wrong_counter}\")\n",
    "    print(f\"Percentage correct oov pred : {oov_correct_counter / (oov_correct_counter + oov_wrong_counter) * 100}\\n\")\n",
    "    \n",
    "    with open(f\"{root_path}/oov_summary.txt\", \"a\") as f:\n",
    "        f.write(f\"{title}\\n\")\n",
    "        f.write(f\"Number OOV token            : {oov_correct_counter + oov_wrong_counter}\\n\")\n",
    "        f.write(f\"Correct prediction          : {oov_correct_counter}\\n\")\n",
    "        f.write(f\"Wrong prediction            : {oov_wrong_counter}\\n\")\n",
    "        f.write(f\"Percentage correct oov pred : {oov_correct_counter / (oov_correct_counter + oov_wrong_counter) * 100}\\n\\n\")"
   ]
  },
  {
   "cell_type": "code",
   "execution_count": null,
   "id": "c6cda2e3-0629-4e3c-8459-4324b513ddaa",
   "metadata": {},
   "outputs": [],
   "source": [
    "print_percentage_pred_oov(\"Training\", train_oov_correct_counter, train_oov_wrong_counter)\n",
    "print_percentage_pred_oov(\"Validation\", val_oov_correct_counter, val_oov_wrong_counter)\n",
    "print_percentage_pred_oov(\"Test\", test_oov_correct_counter, test_oov_wrong_counter)"
   ]
  },
  {
   "cell_type": "code",
   "execution_count": null,
   "id": "4efce585-5e19-45eb-8781-6818b8369819",
   "metadata": {},
   "outputs": [],
   "source": [
    "plt.figure(figsize=(15, 7))\n",
    "sns.heatmap(train_oov_flag, cmap=plt.cm.binary_r);"
   ]
  },
  {
   "cell_type": "code",
   "execution_count": null,
   "id": "97963f81-d9bf-4239-842d-ef30df0dfb51",
   "metadata": {},
   "outputs": [],
   "source": [
    "plt.figure(figsize=(15, 7))\n",
    "sns.heatmap(val_oov_flag, cmap=plt.cm.binary_r);"
   ]
  },
  {
   "cell_type": "code",
   "execution_count": null,
   "id": "3674a992-1715-4d50-892d-bb7df050aeac",
   "metadata": {},
   "outputs": [],
   "source": [
    "plt.figure(figsize=(15, 7))\n",
    "sns.heatmap(test_oov_flag, cmap=plt.cm.binary_r);"
   ]
  },
  {
   "cell_type": "code",
   "execution_count": null,
   "id": "15fc95b3-4ee0-4cc1-b7d9-40a3e8150c8f",
   "metadata": {},
   "outputs": [],
   "source": []
  },
  {
   "cell_type": "code",
   "execution_count": null,
   "id": "b4828bfc-586d-4f3f-999f-cea4c114d2e3",
   "metadata": {},
   "outputs": [],
   "source": []
  }
 ],
 "metadata": {
  "kernelspec": {
   "display_name": "default:Python",
   "language": "python",
   "name": "conda-env-default-py"
  },
  "language_info": {
   "codemirror_mode": {
    "name": "ipython",
    "version": 3
   },
   "file_extension": ".py",
   "mimetype": "text/x-python",
   "name": "python",
   "nbconvert_exporter": "python",
   "pygments_lexer": "ipython3",
   "version": "3.9.13"
  }
 },
 "nbformat": 4,
 "nbformat_minor": 5
}
