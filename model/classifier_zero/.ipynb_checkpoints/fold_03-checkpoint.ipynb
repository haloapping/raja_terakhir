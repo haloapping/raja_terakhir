{
 "cells": [
  {
   "cell_type": "markdown",
   "id": "8319205c-12ab-4314-8558-cfae2ca2d1bb",
   "metadata": {},
   "source": [
    "# Import modules"
   ]
  },
  {
   "cell_type": "code",
   "execution_count": 1,
   "id": "41f1e2d8-ccca-4f8b-97e8-4ab8bf6c5886",
   "metadata": {},
   "outputs": [],
   "source": [
    "import csv\n",
    "import os\n",
    "import pickle\n",
    "import pytz\n",
    "import torch\n",
    "import timeit\n",
    "import matplotlib.pyplot as plt\n",
    "import numpy as np\n",
    "import pandas as pd\n",
    "\n",
    "from copy import deepcopy\n",
    "from datetime import datetime\n",
    "from einops import rearrange\n",
    "from itertools import chain\n",
    "from time import time\n",
    "from torch import nn, optim\n",
    "from torchmetrics.classification import MulticlassAccuracy, MulticlassF1Score, MulticlassConfusionMatrix\n",
    "from torch.optim import lr_scheduler\n",
    "from tqdm.notebook import tqdm\n",
    "from torch.utils.data import TensorDataset, DataLoader\n",
    "from polyglot.mapping import Embedding, CaseExpander, DigitExpander"
   ]
  },
  {
   "cell_type": "markdown",
   "id": "3015ead4-c615-4dbc-aa8c-c7e611c3b76e",
   "metadata": {},
   "source": [
    "# Hyperparameters"
   ]
  },
  {
   "cell_type": "code",
   "execution_count": 2,
   "id": "ecab9839-baf2-480b-a00d-53dc81c66ea0",
   "metadata": {},
   "outputs": [],
   "source": [
    "class Hyperparams:\n",
    "     def __init__(\n",
    "        self,\n",
    "        fold=3,\n",
    "        max_seq_len=82,\n",
    "        input_size=64,\n",
    "        batch_size=32,\n",
    "        num_hidden_layer=1,\n",
    "        hidden_size=128,\n",
    "        dropout=0,\n",
    "        bias=True,\n",
    "        output_size=24,\n",
    "        shuffle=True,\n",
    "        lr=0.005,\n",
    "        batch_first=False,\n",
    "        bidirectional=True,\n",
    "        init_wb_with_kaiming_normal=True,\n",
    "        n_epoch=50,\n",
    "        patience=50,\n",
    "        device=\"cuda\" if torch.cuda.is_available() else \"cpu\"\n",
    "    ):\n",
    "        self.fold = fold\n",
    "        self.input_size = input_size\n",
    "        self.max_seq_len = max_seq_len\n",
    "        self.batch_size = batch_size\n",
    "        self.num_hidden_layer = num_hidden_layer\n",
    "        self.hidden_size = hidden_size\n",
    "        self.dropout = dropout\n",
    "        self.bias = bias\n",
    "        self.output_size = output_size\n",
    "        self.shuffle = shuffle\n",
    "        self.lr = lr\n",
    "        self.batch_first = batch_first\n",
    "        self.bidirectional = bidirectional\n",
    "        self.init_wb_with_kaiming_normal = init_wb_with_kaiming_normal\n",
    "        self.n_epoch = n_epoch\n",
    "        self.patience = patience\n",
    "        self.device = device\n",
    "\n",
    "hyperparams = Hyperparams()"
   ]
  },
  {
   "cell_type": "markdown",
   "id": "3651614b-b4a1-4968-88a1-ac38e4dc8323",
   "metadata": {},
   "source": [
    "# Dataset"
   ]
  },
  {
   "cell_type": "code",
   "execution_count": 3,
   "id": "6d70aa1f-c03c-4ec8-b720-0eca1d63020b",
   "metadata": {},
   "outputs": [],
   "source": [
    "id_pos_tag = pd.read_csv(\"../../datasets/raw/Indonesian_Manually_Tagged_Corpus.tsv\", sep=\"\\t\", header=None, names=[\"token\", \"tag\"], quoting=csv.QUOTE_NONE, skip_blank_lines=False) \n",
    "train = pd.read_csv(f\"../../datasets/raw/cv/train/train.0{hyperparams.fold}.tsv\", sep=\"\\t\", header=None, names=[\"token\", \"tag\"], quoting=csv.QUOTE_NONE, skip_blank_lines=False)\n",
    "val = pd.read_csv(f\"../../datasets/raw/cv/val/val.0{hyperparams.fold}.tsv\", sep=\"\\t\", header=None, names=[\"token\", \"tag\"], quoting=csv.QUOTE_NONE, skip_blank_lines=False)\n",
    "test = pd.read_csv(f\"../../datasets/raw/cv/test/test.0{hyperparams.fold}.tsv\", sep=\"\\t\", header=None, names=[\"token\", \"tag\"], quoting=csv.QUOTE_NONE, skip_blank_lines=False)"
   ]
  },
  {
   "cell_type": "markdown",
   "id": "5f7ce54d-7e46-4d41-aa8e-1dd7f33b8fa4",
   "metadata": {},
   "source": [
    "# Pre-trained Word Embedding"
   ]
  },
  {
   "cell_type": "code",
   "execution_count": 4,
   "id": "39c6717c-8302-45dd-acfc-625c92530a4d",
   "metadata": {},
   "outputs": [],
   "source": [
    "embeddings = Embedding.load(\"../../word_embeddings/polyglot/idn_embeddings.tar.bz2\")\n",
    "embeddings.apply_expansion(DigitExpander)\n",
    "embeddings.apply_expansion(CaseExpander)\n",
    "\n",
    "oov_embeddings = pickle.load(open(f\"../../logs/comick/79_contexts/10-11-2022_19-39-04/oov_embedding_dict.pkl\", \"rb\"))\n",
    "oov_embeddings = {key: np.zeros((64), dtype=np.float32) for key, _ in oov_embeddings.items()}"
   ]
  },
  {
   "cell_type": "markdown",
   "id": "158ed87f-c18d-4a59-a47b-c4e874b951bb",
   "metadata": {},
   "source": [
    "# Data Preprocessing"
   ]
  },
  {
   "cell_type": "markdown",
   "id": "7d29837c-9113-4d5d-b835-351bce316e07",
   "metadata": {},
   "source": [
    "## Add OOV Flag"
   ]
  },
  {
   "cell_type": "code",
   "execution_count": 5,
   "id": "08aeabff-e02c-4d83-bdee-ca428d401eaa",
   "metadata": {},
   "outputs": [
    {
     "data": {
      "application/vnd.jupyter.widget-view+json": {
       "model_id": "7764dfd1c4604edfa9cc209b52be4a71",
       "version_major": 2,
       "version_minor": 0
      },
      "text/plain": [
       "  0%|          | 0/266652 [00:00<?, ?it/s]"
      ]
     },
     "metadata": {},
     "output_type": "display_data"
    },
    {
     "data": {
      "application/vnd.jupyter.widget-view+json": {
       "model_id": "e99dcd23118d42e1a0a5de01d3f0eabe",
       "version_major": 2,
       "version_minor": 0
      },
      "text/plain": [
       "  0%|          | 0/191567 [00:00<?, ?it/s]"
      ]
     },
     "metadata": {},
     "output_type": "display_data"
    },
    {
     "data": {
      "application/vnd.jupyter.widget-view+json": {
       "model_id": "5d15ab8a97bb42408add825128f4cd81",
       "version_major": 2,
       "version_minor": 0
      },
      "text/plain": [
       "  0%|          | 0/21461 [00:00<?, ?it/s]"
      ]
     },
     "metadata": {},
     "output_type": "display_data"
    },
    {
     "data": {
      "application/vnd.jupyter.widget-view+json": {
       "model_id": "fb59073d129e49c2b1ae8e8a13acba35",
       "version_major": 2,
       "version_minor": 0
      },
      "text/plain": [
       "  0%|          | 0/53624 [00:00<?, ?it/s]"
      ]
     },
     "metadata": {},
     "output_type": "display_data"
    }
   ],
   "source": [
    "def add_oov_flag(tokens, embeddings):\n",
    "    oov_flags = []\n",
    "    \n",
    "    for token in tqdm(tokens):\n",
    "        try:\n",
    "            if token not in embeddings:\n",
    "                oov_flags.append(True)\n",
    "            else:\n",
    "                oov_flags.append(False)\n",
    "        except:\n",
    "            oov_flags.append(False)\n",
    "        \n",
    "    return pd.DataFrame(oov_flags, columns=[\"is_oov\"])\n",
    "\n",
    "id_pos_tag_oov_flags = add_oov_flag(id_pos_tag[\"token\"].values, embeddings)\n",
    "train_oov_flags = add_oov_flag(train[\"token\"].values, embeddings)\n",
    "val_oov_flags = add_oov_flag(val[\"token\"].values, embeddings)\n",
    "test_oov_flags = add_oov_flag(test[\"token\"].values, embeddings)"
   ]
  },
  {
   "cell_type": "markdown",
   "id": "0c1a6631-74de-483c-b03d-a4176880b8af",
   "metadata": {},
   "source": [
    "## Concate OOV Flag"
   ]
  },
  {
   "cell_type": "code",
   "execution_count": 6,
   "id": "97cddb08-c462-4fd0-b348-44f5464cbb0d",
   "metadata": {},
   "outputs": [],
   "source": [
    "id_pos_tag_df = pd.concat([id_pos_tag, id_pos_tag_oov_flags], axis=1)\n",
    "train_df = pd.concat([train, train_oov_flags], axis=1)\n",
    "val_df = pd.concat([val, val_oov_flags], axis=1)\n",
    "test_df = pd.concat([test, test_oov_flags], axis=1)"
   ]
  },
  {
   "cell_type": "markdown",
   "id": "8183be89-5b99-42f8-bedf-8061a990d8b1",
   "metadata": {},
   "source": [
    "## Lowercase OOV Token"
   ]
  },
  {
   "cell_type": "code",
   "execution_count": 7,
   "id": "441d0127-b999-49e3-ae3d-73d01c5cb9fd",
   "metadata": {},
   "outputs": [],
   "source": [
    "id_pos_tag_df['token'] = np.where(id_pos_tag_df['is_oov'] == True, id_pos_tag_df['token'].str.lower(), id_pos_tag_df['token'])\n",
    "train_df['token'] = np.where(train_df['is_oov'] == True, train_df['token'].str.lower(), train_df['token'])\n",
    "val_df['token'] = np.where(val_df['is_oov'] == True, val_df['token'].str.lower(), val_df['token'])\n",
    "test_df['token'] = np.where(test_df['is_oov'] == True, test_df['token'].str.lower(), test_df['token'])"
   ]
  },
  {
   "cell_type": "markdown",
   "id": "4d866169-d378-495d-9af7-c1939feaae40",
   "metadata": {},
   "source": [
    "## Embedding Dict, Index to Token and Token to Index"
   ]
  },
  {
   "cell_type": "code",
   "execution_count": 8,
   "id": "3130fc5d-3e7e-480d-9f47-b5af4b2ce3d4",
   "metadata": {},
   "outputs": [],
   "source": [
    "tokens = list(id_pos_tag_df[[\"token\", \"tag\", \"is_oov\"]].itertuples(index=False, name=None))\n",
    "\n",
    "def embedding_dict(tokens, embeddings, oov_embeddings):\n",
    "    embedding = {}\n",
    "    \n",
    "    for token in tokens:\n",
    "        if token[0] is not np.nan:\n",
    "            if token[2] == False or token[0] in embeddings:\n",
    "                embedding[token[0]] = embeddings[token[0]]\n",
    "            else:\n",
    "                embedding[token[0]] = oov_embeddings[token[0].lower()]\n",
    "\n",
    "    return embedding\n",
    "\n",
    "embedding_dict = embedding_dict(tokens, embeddings, oov_embeddings)\n",
    "embedding_dict[\"<PAD>\"] = embeddings[\"<PAD>\"]\n",
    "word_embeddings = nn.Embedding.from_pretrained(torch.FloatTensor(np.array(list(embedding_dict.values()))), padding_idx=list(embedding_dict.keys()).index(\"<PAD>\"), freeze=True)\n",
    "\n",
    "idx_to_token = {idx: token for idx, token in enumerate(list(embedding_dict.keys()))}\n",
    "token_to_idx = {token: idx for idx, token in enumerate(list(embedding_dict.keys()))}"
   ]
  },
  {
   "cell_type": "markdown",
   "id": "6ab92441-64b9-430e-a8d6-4b4df859cefc",
   "metadata": {},
   "source": [
    "## Token to Sentence"
   ]
  },
  {
   "cell_type": "code",
   "execution_count": 9,
   "id": "c3703497-9ee3-43b9-9705-fcfd2a3f1d94",
   "metadata": {},
   "outputs": [
    {
     "data": {
      "application/vnd.jupyter.widget-view+json": {
       "model_id": "31dfddb7d790410984d378a3a27b4683",
       "version_major": 2,
       "version_minor": 0
      },
      "text/plain": [
       "  0%|          | 0/266652 [00:00<?, ?it/s]"
      ]
     },
     "metadata": {},
     "output_type": "display_data"
    },
    {
     "data": {
      "application/vnd.jupyter.widget-view+json": {
       "model_id": "33c3ef073b284609a3c2cc8e58f275c7",
       "version_major": 2,
       "version_minor": 0
      },
      "text/plain": [
       "  0%|          | 0/191567 [00:00<?, ?it/s]"
      ]
     },
     "metadata": {},
     "output_type": "display_data"
    },
    {
     "data": {
      "application/vnd.jupyter.widget-view+json": {
       "model_id": "345bfb5270d045269058ad006ed02644",
       "version_major": 2,
       "version_minor": 0
      },
      "text/plain": [
       "  0%|          | 0/53624 [00:00<?, ?it/s]"
      ]
     },
     "metadata": {},
     "output_type": "display_data"
    },
    {
     "data": {
      "application/vnd.jupyter.widget-view+json": {
       "model_id": "b49e9c1c3b6b4b02b33e2c816fb80425",
       "version_major": 2,
       "version_minor": 0
      },
      "text/plain": [
       "  0%|          | 0/21461 [00:00<?, ?it/s]"
      ]
     },
     "metadata": {},
     "output_type": "display_data"
    }
   ],
   "source": [
    "def make_sentence(tokens, max_length_sentence=hyperparams.max_seq_len):\n",
    "    sentence = []\n",
    "    sentences = []\n",
    "\n",
    "    for token in tqdm(tokens):\n",
    "        if token[0] is not np.nan:\n",
    "            sentence.append(token)\n",
    "        else:\n",
    "            sentences.append(sentence[:max_length_sentence])\n",
    "            sentence = []\n",
    "\n",
    "    return sentences\n",
    "\n",
    "all_sentence = make_sentence(list(id_pos_tag_df[[\"token\", \"tag\", \"is_oov\"]].itertuples(index=False, name=None)))\n",
    "train_sentences = make_sentence(list(train_df[[\"token\", \"tag\", \"is_oov\"]].itertuples(index=False, name=None)))\n",
    "val_sentences = make_sentence(list(test_df[[\"token\", \"tag\", \"is_oov\"]].itertuples(index=False, name=None)))\n",
    "test_sentences = make_sentence(list(val_df[[\"token\", \"tag\", \"is_oov\"]].itertuples(index=False, name=None)))"
   ]
  },
  {
   "cell_type": "markdown",
   "id": "220e44ae-dae4-421f-b35e-97e23727e90c",
   "metadata": {},
   "source": [
    "## Word Token, Padding, and Word token to Index "
   ]
  },
  {
   "cell_type": "code",
   "execution_count": 10,
   "id": "43f0cf3b-695c-4abe-b462-f5aed832efc3",
   "metadata": {},
   "outputs": [
    {
     "data": {
      "application/vnd.jupyter.widget-view+json": {
       "model_id": "27bcb15d0b4b441cb9142d354c6cf54b",
       "version_major": 2,
       "version_minor": 0
      },
      "text/plain": [
       "  0%|          | 0/7222 [00:00<?, ?it/s]"
      ]
     },
     "metadata": {},
     "output_type": "display_data"
    },
    {
     "data": {
      "application/vnd.jupyter.widget-view+json": {
       "model_id": "dbe0c378fc9d4badb50169f5c7b93398",
       "version_major": 2,
       "version_minor": 0
      },
      "text/plain": [
       "  0%|          | 0/7222 [00:00<?, ?it/s]"
      ]
     },
     "metadata": {},
     "output_type": "display_data"
    },
    {
     "data": {
      "application/vnd.jupyter.widget-view+json": {
       "model_id": "03034e40c6574965992d6618a13a6a88",
       "version_major": 2,
       "version_minor": 0
      },
      "text/plain": [
       "  0%|          | 0/7222 [00:00<?, ?it/s]"
      ]
     },
     "metadata": {},
     "output_type": "display_data"
    },
    {
     "data": {
      "application/vnd.jupyter.widget-view+json": {
       "model_id": "0d04934816da42869f0276d00318b505",
       "version_major": 2,
       "version_minor": 0
      },
      "text/plain": [
       "  0%|          | 0/2006 [00:00<?, ?it/s]"
      ]
     },
     "metadata": {},
     "output_type": "display_data"
    },
    {
     "data": {
      "application/vnd.jupyter.widget-view+json": {
       "model_id": "9da401ac14ea4222a4eafbcfa4bfaca3",
       "version_major": 2,
       "version_minor": 0
      },
      "text/plain": [
       "  0%|          | 0/2006 [00:00<?, ?it/s]"
      ]
     },
     "metadata": {},
     "output_type": "display_data"
    },
    {
     "data": {
      "application/vnd.jupyter.widget-view+json": {
       "model_id": "29e18615be5b475995582ec46d76935b",
       "version_major": 2,
       "version_minor": 0
      },
      "text/plain": [
       "  0%|          | 0/2006 [00:00<?, ?it/s]"
      ]
     },
     "metadata": {},
     "output_type": "display_data"
    },
    {
     "data": {
      "application/vnd.jupyter.widget-view+json": {
       "model_id": "f5a72e5193344d15bb15a61875e76256",
       "version_major": 2,
       "version_minor": 0
      },
      "text/plain": [
       "  0%|          | 0/802 [00:00<?, ?it/s]"
      ]
     },
     "metadata": {},
     "output_type": "display_data"
    },
    {
     "data": {
      "application/vnd.jupyter.widget-view+json": {
       "model_id": "72ed3c26a42048cfb47bbbaa2746c1ac",
       "version_major": 2,
       "version_minor": 0
      },
      "text/plain": [
       "  0%|          | 0/802 [00:00<?, ?it/s]"
      ]
     },
     "metadata": {},
     "output_type": "display_data"
    },
    {
     "data": {
      "application/vnd.jupyter.widget-view+json": {
       "model_id": "273a7aaf4afb482ebde279d7d91a8753",
       "version_major": 2,
       "version_minor": 0
      },
      "text/plain": [
       "  0%|          | 0/802 [00:00<?, ?it/s]"
      ]
     },
     "metadata": {},
     "output_type": "display_data"
    }
   ],
   "source": [
    "def tokenize_docs(docs, idx_token):\n",
    "    new_sentence = []\n",
    "    sentences = []\n",
    "    \n",
    "    for sentence in tqdm(docs):\n",
    "        for token in sentence:\n",
    "            new_sentence.append(token[idx_token])\n",
    "        sentences.append(new_sentence)\n",
    "        new_sentence = []\n",
    "\n",
    "    return sentences\n",
    "\n",
    "def padding(docs, max_seq_len=hyperparams.max_seq_len, mode=\"post\", val_pad=\"<PAD>\"):\n",
    "    docs = deepcopy(docs)\n",
    "    doc_with_pad = []\n",
    "    docs_with_pad = []\n",
    "\n",
    "    for doc in tqdm(docs):\n",
    "        if mode == \"pre\":\n",
    "            for _ in range(max_seq_len - len(doc)):\n",
    "                doc.insert(0, val_pad)\n",
    "        elif mode == \"post\":\n",
    "            for _ in range(max_seq_len - len(doc)):\n",
    "                doc.append(val_pad)\n",
    "        else:\n",
    "            return f\"Mode {mode} is not available, use instead 'pre' or 'post'.\"\n",
    "        \n",
    "        docs_with_pad.append(doc)\n",
    "        \n",
    "    return np.array(docs_with_pad)\n",
    "\n",
    "def sent_to_idx(docs, token_to_idx):\n",
    "    new_sentence = []\n",
    "    sentences = []\n",
    "    \n",
    "    for sentence in tqdm(docs):\n",
    "        for token in sentence:\n",
    "            new_sentence.append(token_to_idx[token])\n",
    "        sentences.append(new_sentence)\n",
    "        new_sentence = []\n",
    "\n",
    "    return np.array(sentences)\n",
    "\n",
    "def convert_feature_to_idx(docs, idx_token, token_to_idx, max_seq_len):\n",
    "    sentences = tokenize_docs(docs, idx_token)\n",
    "    sentences_with_pad = padding(sentences, max_seq_len=max_seq_len, mode=\"post\", val_pad=\"<PAD>\")\n",
    "    sentences_to_idx = sent_to_idx(sentences_with_pad, token_to_idx)\n",
    "    \n",
    "    return sentences_to_idx\n",
    "\n",
    "train_sentence_idxs = convert_feature_to_idx(train_sentences, 0, token_to_idx, hyperparams.max_seq_len)\n",
    "val_sentence_idxs = convert_feature_to_idx(val_sentences, 0, token_to_idx, hyperparams.max_seq_len)\n",
    "test_sentence_idxs = convert_feature_to_idx(test_sentences, 0, token_to_idx, hyperparams.max_seq_len)"
   ]
  },
  {
   "cell_type": "markdown",
   "id": "26c2d150-0276-4ea8-a844-1a06b0b911c6",
   "metadata": {},
   "source": [
    "## Encode Class"
   ]
  },
  {
   "cell_type": "code",
   "execution_count": 11,
   "id": "76c9be34-f098-4b1e-8a4e-d8d06e43e96f",
   "metadata": {},
   "outputs": [
    {
     "data": {
      "application/vnd.jupyter.widget-view+json": {
       "model_id": "9dd11ed1b16a450193e983f3ad62e38b",
       "version_major": 2,
       "version_minor": 0
      },
      "text/plain": [
       "  0%|          | 0/7222 [00:00<?, ?it/s]"
      ]
     },
     "metadata": {},
     "output_type": "display_data"
    },
    {
     "data": {
      "application/vnd.jupyter.widget-view+json": {
       "model_id": "6c859cf3079f402688c4417bfb5f2c61",
       "version_major": 2,
       "version_minor": 0
      },
      "text/plain": [
       "  0%|          | 0/2006 [00:00<?, ?it/s]"
      ]
     },
     "metadata": {},
     "output_type": "display_data"
    },
    {
     "data": {
      "application/vnd.jupyter.widget-view+json": {
       "model_id": "a4d1b3646d3a441d8858d939a7ba462c",
       "version_major": 2,
       "version_minor": 0
      },
      "text/plain": [
       "  0%|          | 0/802 [00:00<?, ?it/s]"
      ]
     },
     "metadata": {},
     "output_type": "display_data"
    },
    {
     "name": "stdout",
     "output_type": "stream",
     "text": [
      "Training shape   : ((7222, 82), (7222, 82))\n",
      "validation shape : ((2006, 82), (2006, 82))\n",
      "Test shape       : ((802, 82), (802, 82))\n"
     ]
    }
   ],
   "source": [
    "classes = sorted(np.delete(id_pos_tag_df[\"tag\"].unique(), 3))\n",
    "idx_to_label = {idx: label for idx, label in enumerate(classes + [\"<PAD>\"])}\n",
    "label_to_idx = {label: idx for idx, label in enumerate(classes + [\"<PAD>\"])}\n",
    "\n",
    "def encode_class(docs, label_to_idx, seq_len=hyperparams.max_seq_len):\n",
    "    class_idxs = []\n",
    "    classes = []\n",
    "    \n",
    "    for sentence in tqdm(docs):\n",
    "        for token in sentence:\n",
    "            class_idxs.append(label_to_idx[token[1]])\n",
    "            \n",
    "        for _ in range(seq_len - len(sentence)):\n",
    "            class_idxs.append(label_to_idx[\"<PAD>\"])\n",
    "                \n",
    "        classes.append(class_idxs)\n",
    "        class_idxs = []\n",
    "\n",
    "    return np.array(classes)\n",
    "        \n",
    "train_class_idxs = encode_class(train_sentences, label_to_idx)\n",
    "val_class_idxs = encode_class(val_sentences, label_to_idx)\n",
    "test_class_idxs = encode_class(test_sentences, label_to_idx)\n",
    "\n",
    "print(f\"Training shape   : {train_sentence_idxs.shape, train_class_idxs.shape}\")\n",
    "print(f\"validation shape : {val_class_idxs.shape, val_class_idxs.shape}\")\n",
    "print(f\"Test shape       : {test_sentence_idxs.shape, test_class_idxs.shape}\")"
   ]
  },
  {
   "cell_type": "markdown",
   "id": "e1d6d808-0ee8-4979-bcee-43b5020ac96f",
   "metadata": {
    "tags": []
   },
   "source": [
    "## Note\n",
    "\n",
    "- Number of sentences = 10030\n",
    "- Train : 72% (7222)\n",
    "- Val   : 8% (802)\n",
    "- Test  : 20% (2006)"
   ]
  },
  {
   "cell_type": "markdown",
   "id": "33573647-a8e8-474e-9c88-beee03332ec6",
   "metadata": {},
   "source": [
    "# Build Model"
   ]
  },
  {
   "cell_type": "markdown",
   "id": "535f0ccc-e2ca-4aa7-b1c3-d782696a3fab",
   "metadata": {},
   "source": [
    "## Feature and Actual Class"
   ]
  },
  {
   "cell_type": "code",
   "execution_count": 12,
   "id": "8927d980-8ee5-4a78-870a-7bef385dbbb3",
   "metadata": {},
   "outputs": [],
   "source": [
    "train_feature = torch.LongTensor(train_sentence_idxs)\n",
    "val_feature = torch.LongTensor(val_sentence_idxs)\n",
    "test_feature = torch.LongTensor(test_sentence_idxs)\n",
    "\n",
    "train_class = torch.LongTensor(train_class_idxs)\n",
    "val_class = torch.LongTensor(val_class_idxs)\n",
    "test_class = torch.LongTensor(test_class_idxs)"
   ]
  },
  {
   "cell_type": "code",
   "execution_count": 13,
   "id": "438bf817-b692-48d7-b7ac-3e96f4fcc6e6",
   "metadata": {},
   "outputs": [
    {
     "data": {
      "text/plain": [
       "(torch.Size([7222, 82]), torch.Size([2006, 82]), torch.Size([802, 82]))"
      ]
     },
     "execution_count": 13,
     "metadata": {},
     "output_type": "execute_result"
    }
   ],
   "source": [
    "train_feature.shape, val_feature.shape, test_feature.shape"
   ]
  },
  {
   "cell_type": "code",
   "execution_count": 14,
   "id": "dd249179-151f-4197-b90b-3b3cd4bcb15b",
   "metadata": {},
   "outputs": [
    {
     "data": {
      "text/plain": [
       "(torch.Size([7222, 82]), torch.Size([2006, 82]), torch.Size([802, 82]))"
      ]
     },
     "execution_count": 14,
     "metadata": {},
     "output_type": "execute_result"
    }
   ],
   "source": [
    "train_class.shape, val_class.shape, test_class.shape"
   ]
  },
  {
   "cell_type": "markdown",
   "id": "3c681e53-f708-4c1f-864d-ab93f19412c2",
   "metadata": {},
   "source": [
    "## Tensor Dataset"
   ]
  },
  {
   "cell_type": "code",
   "execution_count": 15,
   "id": "0ae72c8a-6bac-4736-9148-75953831a786",
   "metadata": {},
   "outputs": [],
   "source": [
    "train_dataset = TensorDataset(train_feature, train_class)\n",
    "val_dataset = TensorDataset(val_feature, val_class)\n",
    "test_dataset = TensorDataset(test_feature, test_class)"
   ]
  },
  {
   "cell_type": "markdown",
   "id": "d6a20687-dcce-432c-bcab-eda007eb35c7",
   "metadata": {},
   "source": [
    "## Dataloader"
   ]
  },
  {
   "cell_type": "code",
   "execution_count": 16,
   "id": "454a5731-663c-4776-b855-ae1b6be2cb13",
   "metadata": {},
   "outputs": [],
   "source": [
    "train_dataloader = DataLoader(train_dataset, batch_size=hyperparams.batch_size, shuffle=hyperparams.shuffle)\n",
    "val_dataloader = DataLoader(val_dataset, batch_size=hyperparams.batch_size, shuffle=hyperparams.shuffle)\n",
    "test_dataloader = DataLoader(test_dataset, batch_size=hyperparams.batch_size, shuffle=hyperparams.shuffle)"
   ]
  },
  {
   "cell_type": "markdown",
   "id": "5d1b71ac-f59f-45d3-a06a-54602ded7e95",
   "metadata": {},
   "source": [
    "## Model"
   ]
  },
  {
   "cell_type": "code",
   "execution_count": 17,
   "id": "a8bc8230-8e64-4f59-b284-da8cced683f2",
   "metadata": {},
   "outputs": [
    {
     "data": {
      "text/plain": [
       "POSTagger(\n",
       "  (feature): LSTM(64, 128, bidirectional=True)\n",
       "  (classifier): Sequential(\n",
       "    (0): Linear(in_features=256, out_features=24, bias=True)\n",
       "    (1): Softmax(dim=-1)\n",
       "  )\n",
       ")"
      ]
     },
     "execution_count": 17,
     "metadata": {},
     "output_type": "execute_result"
    }
   ],
   "source": [
    "class POSTagger(nn.Module):\n",
    "    def __init__(\n",
    "        self,\n",
    "        input_size=hyperparams.input_size,\n",
    "        hidden_size=hyperparams.hidden_size,\n",
    "        dropout=hyperparams.dropout,\n",
    "        bias=hyperparams.bias,\n",
    "        num_layers=hyperparams.num_hidden_layer,\n",
    "        output_size=hyperparams.output_size,\n",
    "        batch_first=hyperparams.batch_first,\n",
    "        bidirectional=hyperparams.bidirectional,\n",
    "        init_wb_with_kaiming_normal=hyperparams.init_wb_with_kaiming_normal\n",
    "    ):\n",
    "        super(POSTagger, self).__init__()\n",
    "        \n",
    "        self.input_size = input_size\n",
    "        self.hidden_size = hidden_size\n",
    "        self.dropout = dropout\n",
    "        self.bias = bias\n",
    "        self.num_layers = num_layers\n",
    "        self.output_size = output_size\n",
    "        self.batch_first = batch_first\n",
    "        self.bidirectional = bidirectional\n",
    "                \n",
    "        self.feature = nn.LSTM(\n",
    "            input_size = self.input_size,\n",
    "            hidden_size = self.hidden_size,\n",
    "            bias = self.bias,\n",
    "            dropout = self.dropout,\n",
    "            num_layers = self.num_layers,\n",
    "            batch_first = self.batch_first,\n",
    "            bidirectional = self.bidirectional\n",
    "        )\n",
    "        \n",
    "        self.classifier = nn.Sequential(\n",
    "            nn.Linear(in_features=2 * self.hidden_size if hyperparams.bidirectional else self.hidden_size, out_features=self.output_size, bias=self.bias),\n",
    "            nn.Softmax(dim=-1)\n",
    "        )\n",
    "        \n",
    "        if init_wb_with_kaiming_normal:\n",
    "            self.init_wb()\n",
    "\n",
    "    def init_wb(self):\n",
    "        for module in self.modules():\n",
    "            if isinstance(module, (nn.Linear, nn.LSTM)):\n",
    "                for name, param in module.named_parameters():\n",
    "                    if \"weight\" in name:\n",
    "                        nn.init.kaiming_normal_(param)\n",
    "                    else:\n",
    "                        nn.init.kaiming_normal_(param.reshape(1, -1))\n",
    "        \n",
    "    def forward(self, feature, hidden=None):\n",
    "        output, (hidden, memory) = self.feature(feature, None)\n",
    "        prob = self.classifier(output)\n",
    "\n",
    "        return prob\n",
    "    \n",
    "model = POSTagger().to(hyperparams.device)\n",
    "model"
   ]
  },
  {
   "cell_type": "markdown",
   "id": "d9d72bd6-f2e6-4f44-8b36-702e5acede59",
   "metadata": {},
   "source": [
    "## Optimizer, Criterion, and Metric"
   ]
  },
  {
   "cell_type": "code",
   "execution_count": 18,
   "id": "bfcc4414-fa93-4518-a4bf-872de25c47c6",
   "metadata": {},
   "outputs": [],
   "source": [
    "optimizer = optim.Adam(model.parameters(), lr=hyperparams.lr)\n",
    "criterion = nn.CrossEntropyLoss().to(hyperparams.device)\n",
    "train_metric = MulticlassF1Score(average=\"micro\", num_classes=24, mdmc_average=\"global\", multiclass=True, ignore_index=label_to_idx[\"<PAD>\"]).to(hyperparams.device)\n",
    "val_metric = MulticlassF1Score(average=\"micro\", num_classes=24, mdmc_average=\"global\", multiclass=True, ignore_index=label_to_idx[\"<PAD>\"]).to(hyperparams.device)\n",
    "scheduler = lr_scheduler.ReduceLROnPlateau(optimizer, mode=\"min\", verbose=True, factor=0.5)"
   ]
  },
  {
   "cell_type": "code",
   "execution_count": 19,
   "id": "0591ed5b-e957-43aa-a3d5-4735852fac96",
   "metadata": {},
   "outputs": [
    {
     "data": {
      "text/plain": [
       "204824"
      ]
     },
     "execution_count": 19,
     "metadata": {},
     "output_type": "execute_result"
    }
   ],
   "source": [
    "sum(param.numel() for param in model.parameters() if param.requires_grad)"
   ]
  },
  {
   "cell_type": "markdown",
   "id": "3b5bdeea-d9c3-41ca-95c0-c2752215f2d8",
   "metadata": {},
   "source": [
    "## Training Step"
   ]
  },
  {
   "cell_type": "code",
   "execution_count": 20,
   "id": "c5d9bdc1-f6c2-41b1-8d3f-e4bfadd2aae0",
   "metadata": {},
   "outputs": [],
   "source": [
    "def training_step(dataloader, model, optimizer, criterion, metric, scheduler=None):\n",
    "    model.train()\n",
    "    \n",
    "    batch_losses = []\n",
    "    batch_metric_scores = []\n",
    "    \n",
    "    for batch, (feature, actual_label) in enumerate(tqdm(dataloader), 1):\n",
    "        # Forward Propagation\n",
    "        feature = rearrange(feature, \"n s -> s n\")\n",
    "        actual_label = rearrange(actual_label, \"n s -> s n\")\n",
    "        embedding = word_embeddings(feature)\n",
    "        \n",
    "        prob = model(\n",
    "            embedding.to(hyperparams.device),\n",
    "            actual_label.to(hyperparams.device)\n",
    "        )\n",
    "        \n",
    "        prob = prob.reshape(-1, prob.shape[-1])\n",
    "        actual_label = actual_label.reshape(-1)\n",
    "\n",
    "        loss = criterion(prob, actual_label.to(hyperparams.device))\n",
    "        metric_score = metric(prob, actual_label.to(hyperparams.device))\n",
    "        metric_score = metric.compute()\n",
    "                \n",
    "        if scheduler is not None:\n",
    "            scheduler.step(loss)\n",
    "        \n",
    "        batch_losses.append(loss.item())\n",
    "        batch_metric_scores.append(metric_score)\n",
    "        \n",
    "        if len(dataloader) < 10:\n",
    "            if batch % 1 == 0 or batch == len(dataloader):\n",
    "                batch_name = \"Batch-\" + str(batch)\n",
    "                print(f\"{batch_name.ljust(9)}: {str(criterion).split('(')[0]}={(loss.item()):.4f} | {str(metric).split('(')[0]}={(metric_score):.4f}\")\n",
    "                with open(f\"../../logs/zero/fold_{hyperparams.fold}/{path_name}/training_history.txt\", \"a\") as f:\n",
    "                    f.write(f\"{batch_name.ljust(9)}: {str(criterion).split('(')[0]}={(loss.item()):.4f} | {str(metric).split('(')[0]}={(metric_score):.4f}\\n\")\n",
    "        else:\n",
    "            if batch % 15 == 0 or batch == len(dataloader):\n",
    "                batch_name = \"Batch-\" + str(batch)\n",
    "                print(f\"{batch_name.ljust(9)}: {str(criterion).split('(')[0]}={(loss.item()):.4f} | {str(metric).split('(')[0]}={(metric_score):.4f}\")\n",
    "                with open(f\"../../logs/zero/fold_{hyperparams.fold}/{path_name}/training_history.txt\", \"a\") as f:\n",
    "                    f.write(f\"{batch_name.ljust(9)}: {str(criterion).split('(')[0]}={(loss.item()):.4f} | {str(metric).split('(')[0]}={(metric_score):.4f}\\n\")\n",
    "            \n",
    "        # Backward Propagation\n",
    "        optimizer.zero_grad()\n",
    "        loss.backward()\n",
    "        optimizer.step()\n",
    "    \n",
    "    return batch_losses, batch_metric_scores"
   ]
  },
  {
   "cell_type": "markdown",
   "id": "659ead5e-da1c-44ec-ac87-48c4891f19cb",
   "metadata": {},
   "source": [
    "## Validation Step"
   ]
  },
  {
   "cell_type": "code",
   "execution_count": 21,
   "id": "0310cd28-75cb-433e-938b-ed4e4989eaec",
   "metadata": {},
   "outputs": [],
   "source": [
    "def validation_step(dataloader, model, criterion, metric):\n",
    "    model.eval()\n",
    "    \n",
    "    batch_losses = []\n",
    "    batch_metric_scores = []\n",
    "    \n",
    "    with torch.inference_mode():\n",
    "        for batch, (feature, actual_label) in enumerate(tqdm(dataloader), 1):\n",
    "            # Forward Propagation\n",
    "            feature = rearrange(feature, \"n s -> s n\")\n",
    "            actual_label = rearrange(actual_label, \"n s -> s n\")\n",
    "            embedding = word_embeddings(feature)\n",
    "\n",
    "            prob = model(\n",
    "                embedding.to(hyperparams.device),\n",
    "                actual_label.to(hyperparams.device)\n",
    "            )\n",
    "\n",
    "            prob = prob.reshape(-1, prob.shape[-1])\n",
    "            actual_label = actual_label.reshape(-1)\n",
    "\n",
    "            loss = criterion(prob, actual_label.to(hyperparams.device))\n",
    "            metric_score = metric(prob, actual_label.to(hyperparams.device))\n",
    "            metric_score = metric.compute()\n",
    "\n",
    "            batch_losses.append(loss.item())\n",
    "            batch_metric_scores.append(metric_score)\n",
    "            \n",
    "            if len(dataloader) < 10 and (batch % 1 == 0 or batch == len(dataloader)):\n",
    "                batch_name = \"Batch-\" + str(batch)\n",
    "                print(f\"{batch_name.ljust(9)}: {str(criterion).split('(')[0]}={(loss.item()):.4f} | {str(metric).split('(')[0]}={(metric_score):.4f}\")\n",
    "                with open(f\"../../logs/zero/fold_{hyperparams.fold}/{path_name}/training_history.txt\", \"a\") as f:\n",
    "                    f.write(f\"{batch_name.ljust(9)}: {str(criterion).split('(')[0]}={(loss.item()):.4f} | {str(metric).split('(')[0]}={(metric_score):.4f}\\n\")\n",
    "            else:\n",
    "                if batch % 15 == 0 or batch == len(dataloader):\n",
    "                    batch_name = \"Batch-\" + str(batch)\n",
    "                    print(f\"{batch_name.ljust(9)}: {str(criterion).split('(')[0]}={(loss.item()):.4f} | {str(metric).split('(')[0]}={(metric_score):.4f}\")\n",
    "                    with open(f\"../../logs/zero/fold_{hyperparams.fold}/{path_name}/training_history.txt\", \"a\") as f:\n",
    "                        f.write(f\"{batch_name.ljust(9)}: {str(criterion).split('(')[0]}={(loss.item()):.4f} | {str(metric).split('(')[0]}={(metric_score):.4f}\\n\")\n",
    "    \n",
    "    return batch_losses, batch_metric_scores"
   ]
  },
  {
   "cell_type": "markdown",
   "id": "a97e1189-3368-496b-83ea-a9a98a30826e",
   "metadata": {},
   "source": [
    "## Looping Step"
   ]
  },
  {
   "cell_type": "code",
   "execution_count": null,
   "id": "d929b35d-23fc-411b-9352-187dbb4ca310",
   "metadata": {},
   "outputs": [
    {
     "name": "stdout",
     "output_type": "stream",
     "text": [
      "EPOCH-1\n",
      "Training Step\n"
     ]
    },
    {
     "data": {
      "application/vnd.jupyter.widget-view+json": {
       "model_id": "b3a76161d4ea4632854f7f0fdc784e37",
       "version_major": 2,
       "version_minor": 0
      },
      "text/plain": [
       "  0%|          | 0/226 [00:00<?, ?it/s]"
      ]
     },
     "metadata": {},
     "output_type": "display_data"
    },
    {
     "name": "stdout",
     "output_type": "stream",
     "text": [
      "Batch-15 : CrossEntropyLoss=2.5119 | MulticlassF1Score=0.0705\n",
      "Batch-30 : CrossEntropyLoss=2.4722 | MulticlassF1Score=0.1555\n",
      "Batch-45 : CrossEntropyLoss=2.4668 | MulticlassF1Score=0.1831\n",
      "Batch-60 : CrossEntropyLoss=2.4770 | MulticlassF1Score=0.2040\n",
      "Batch-75 : CrossEntropyLoss=2.4531 | MulticlassF1Score=0.2379\n",
      "Batch-90 : CrossEntropyLoss=2.4042 | MulticlassF1Score=0.2876\n",
      "Batch-105: CrossEntropyLoss=2.3764 | MulticlassF1Score=0.3251\n",
      "Batch-120: CrossEntropyLoss=2.3818 | MulticlassF1Score=0.3540\n",
      "Batch-135: CrossEntropyLoss=2.3737 | MulticlassF1Score=0.3782\n",
      "Batch-150: CrossEntropyLoss=2.3354 | MulticlassF1Score=0.4023\n",
      "Batch-165: CrossEntropyLoss=2.3466 | MulticlassF1Score=0.4269\n",
      "Batch-180: CrossEntropyLoss=2.3458 | MulticlassF1Score=0.4480\n",
      "Batch-195: CrossEntropyLoss=2.3451 | MulticlassF1Score=0.4670\n",
      "Batch-210: CrossEntropyLoss=2.3299 | MulticlassF1Score=0.4824\n",
      "Batch-225: CrossEntropyLoss=2.3314 | MulticlassF1Score=0.4967\n",
      "Batch-226: CrossEntropyLoss=2.3380 | MulticlassF1Score=0.4973\n",
      "\n",
      "Validation Step\n"
     ]
    },
    {
     "data": {
      "application/vnd.jupyter.widget-view+json": {
       "model_id": "905a11c8b86443e082263f6e5b7b5b0b",
       "version_major": 2,
       "version_minor": 0
      },
      "text/plain": [
       "  0%|          | 0/63 [00:00<?, ?it/s]"
      ]
     },
     "metadata": {},
     "output_type": "display_data"
    },
    {
     "name": "stdout",
     "output_type": "stream",
     "text": [
      "Batch-15 : CrossEntropyLoss=2.3471 | MulticlassF1Score=0.6899\n",
      "Batch-30 : CrossEntropyLoss=2.3514 | MulticlassF1Score=0.6881\n",
      "Batch-45 : CrossEntropyLoss=2.3404 | MulticlassF1Score=0.6916\n",
      "Batch-60 : CrossEntropyLoss=2.3411 | MulticlassF1Score=0.6909\n",
      "Batch-63 : CrossEntropyLoss=2.3314 | MulticlassF1Score=0.6900\n",
      "\n",
      "Training   : Mean CrossEntropyLoss = 2.4143 | Mean MulticlassF1Score = 0.3148\n",
      "Validation : Mean CrossEntropyLoss = 2.3453 | Mean MulticlassF1Score = 0.6905\n",
      "================================================================================\n",
      "\n",
      "EPOCH-2\n",
      "Training Step\n"
     ]
    },
    {
     "data": {
      "application/vnd.jupyter.widget-view+json": {
       "model_id": "c7afcb2ff4f249aaaec40c0fd7268593",
       "version_major": 2,
       "version_minor": 0
      },
      "text/plain": [
       "  0%|          | 0/226 [00:00<?, ?it/s]"
      ]
     },
     "metadata": {},
     "output_type": "display_data"
    },
    {
     "name": "stdout",
     "output_type": "stream",
     "text": [
      "Batch-15 : CrossEntropyLoss=2.3353 | MulticlassF1Score=0.7002\n",
      "Batch-30 : CrossEntropyLoss=2.3333 | MulticlassF1Score=0.7040\n",
      "Batch-45 : CrossEntropyLoss=2.3425 | MulticlassF1Score=0.7158\n",
      "Batch-60 : CrossEntropyLoss=2.3274 | MulticlassF1Score=0.7192\n",
      "Batch-75 : CrossEntropyLoss=2.3278 | MulticlassF1Score=0.7279\n",
      "Batch-90 : CrossEntropyLoss=2.3259 | MulticlassF1Score=0.7332\n",
      "Batch-105: CrossEntropyLoss=2.3309 | MulticlassF1Score=0.7379\n",
      "Batch-120: CrossEntropyLoss=2.3287 | MulticlassF1Score=0.7418\n",
      "Batch-135: CrossEntropyLoss=2.3299 | MulticlassF1Score=0.7443\n",
      "Batch-150: CrossEntropyLoss=2.3242 | MulticlassF1Score=0.7465\n",
      "Batch-165: CrossEntropyLoss=2.3178 | MulticlassF1Score=0.7472\n",
      "Batch-180: CrossEntropyLoss=2.3171 | MulticlassF1Score=0.7491\n",
      "Batch-195: CrossEntropyLoss=2.3220 | MulticlassF1Score=0.7507\n",
      "Batch-210: CrossEntropyLoss=2.3321 | MulticlassF1Score=0.7519\n",
      "Batch-225: CrossEntropyLoss=2.3137 | MulticlassF1Score=0.7532\n",
      "Batch-226: CrossEntropyLoss=2.3140 | MulticlassF1Score=0.7533\n",
      "\n",
      "Validation Step\n"
     ]
    },
    {
     "data": {
      "application/vnd.jupyter.widget-view+json": {
       "model_id": "7deeb5b4a9f1440e87b98385e0eecf1b",
       "version_major": 2,
       "version_minor": 0
      },
      "text/plain": [
       "  0%|          | 0/63 [00:00<?, ?it/s]"
      ]
     },
     "metadata": {},
     "output_type": "display_data"
    },
    {
     "name": "stdout",
     "output_type": "stream",
     "text": [
      "Batch-15 : CrossEntropyLoss=2.3149 | MulticlassF1Score=0.7691\n",
      "Batch-30 : CrossEntropyLoss=2.3095 | MulticlassF1Score=0.7692\n",
      "Batch-45 : CrossEntropyLoss=2.3140 | MulticlassF1Score=0.7684\n",
      "Batch-60 : CrossEntropyLoss=2.3081 | MulticlassF1Score=0.7693\n",
      "Batch-63 : CrossEntropyLoss=2.3145 | MulticlassF1Score=0.7701\n",
      "\n",
      "Yeah 🎉😄! Model improved.\n",
      "\n",
      "Training   : Mean CrossEntropyLoss = 2.3249 | Mean MulticlassF1Score = 0.7332\n",
      "Validation : Mean CrossEntropyLoss = 2.3199 | Mean MulticlassF1Score = 0.7703\n",
      "================================================================================\n",
      "\n",
      "EPOCH-3\n",
      "Training Step\n"
     ]
    },
    {
     "data": {
      "application/vnd.jupyter.widget-view+json": {
       "model_id": "d202d0ec561f49d6a3daa44e4e74bdd3",
       "version_major": 2,
       "version_minor": 0
      },
      "text/plain": [
       "  0%|          | 0/226 [00:00<?, ?it/s]"
      ]
     },
     "metadata": {},
     "output_type": "display_data"
    },
    {
     "name": "stdout",
     "output_type": "stream",
     "text": [
      "Batch-15 : CrossEntropyLoss=2.3201 | MulticlassF1Score=0.7758\n",
      "Batch-30 : CrossEntropyLoss=2.3144 | MulticlassF1Score=0.7747\n",
      "Batch-45 : CrossEntropyLoss=2.3245 | MulticlassF1Score=0.7718\n",
      "Batch-60 : CrossEntropyLoss=2.3157 | MulticlassF1Score=0.7719\n",
      "Batch-75 : CrossEntropyLoss=2.3246 | MulticlassF1Score=0.7714\n",
      "Batch-90 : CrossEntropyLoss=2.3190 | MulticlassF1Score=0.7725\n",
      "Batch-105: CrossEntropyLoss=2.3268 | MulticlassF1Score=0.7733\n",
      "Batch-120: CrossEntropyLoss=2.3091 | MulticlassF1Score=0.7754\n",
      "Batch-135: CrossEntropyLoss=2.3052 | MulticlassF1Score=0.7769\n",
      "Batch-150: CrossEntropyLoss=2.3110 | MulticlassF1Score=0.7790\n",
      "Batch-165: CrossEntropyLoss=2.3261 | MulticlassF1Score=0.7793\n",
      "Batch-180: CrossEntropyLoss=2.3167 | MulticlassF1Score=0.7808\n",
      "Batch-195: CrossEntropyLoss=2.3101 | MulticlassF1Score=0.7829\n",
      "Batch-210: CrossEntropyLoss=2.3029 | MulticlassF1Score=0.7848\n",
      "Batch-225: CrossEntropyLoss=2.3158 | MulticlassF1Score=0.7867\n",
      "Batch-226: CrossEntropyLoss=2.3016 | MulticlassF1Score=0.7868\n",
      "\n",
      "Validation Step\n"
     ]
    },
    {
     "data": {
      "application/vnd.jupyter.widget-view+json": {
       "model_id": "942c0365fe264089ab74305fcf032d5d",
       "version_major": 2,
       "version_minor": 0
      },
      "text/plain": [
       "  0%|          | 0/63 [00:00<?, ?it/s]"
      ]
     },
     "metadata": {},
     "output_type": "display_data"
    },
    {
     "name": "stdout",
     "output_type": "stream",
     "text": [
      "Batch-15 : CrossEntropyLoss=2.3184 | MulticlassF1Score=0.8103\n",
      "Batch-30 : CrossEntropyLoss=2.3150 | MulticlassF1Score=0.8126\n",
      "Batch-45 : CrossEntropyLoss=2.3027 | MulticlassF1Score=0.8097\n",
      "Batch-60 : CrossEntropyLoss=2.3220 | MulticlassF1Score=0.8084\n",
      "Batch-63 : CrossEntropyLoss=2.3108 | MulticlassF1Score=0.8083\n",
      "\n",
      "Yeah 🎉😄! Model improved.\n",
      "\n",
      "Training   : Mean CrossEntropyLoss = 2.3141 | Mean MulticlassF1Score = 0.7765\n",
      "Validation : Mean CrossEntropyLoss = 2.3079 | Mean MulticlassF1Score = 0.8109\n",
      "================================================================================\n",
      "\n",
      "EPOCH-4\n",
      "Training Step\n"
     ]
    },
    {
     "data": {
      "application/vnd.jupyter.widget-view+json": {
       "model_id": "bf8f922904a54b38a3d2271d6604127c",
       "version_major": 2,
       "version_minor": 0
      },
      "text/plain": [
       "  0%|          | 0/226 [00:00<?, ?it/s]"
      ]
     },
     "metadata": {},
     "output_type": "display_data"
    },
    {
     "name": "stdout",
     "output_type": "stream",
     "text": [
      "Batch-15 : CrossEntropyLoss=2.3072 | MulticlassF1Score=0.8138\n",
      "Batch-30 : CrossEntropyLoss=2.2904 | MulticlassF1Score=0.8120\n",
      "Batch-45 : CrossEntropyLoss=2.3113 | MulticlassF1Score=0.8120\n",
      "Batch-60 : CrossEntropyLoss=2.3080 | MulticlassF1Score=0.8129\n",
      "Batch-75 : CrossEntropyLoss=2.3081 | MulticlassF1Score=0.8132\n",
      "Batch-90 : CrossEntropyLoss=2.3020 | MulticlassF1Score=0.8155\n",
      "Batch-105: CrossEntropyLoss=2.3033 | MulticlassF1Score=0.8170\n",
      "Batch-120: CrossEntropyLoss=2.3045 | MulticlassF1Score=0.8177\n",
      "Batch-135: CrossEntropyLoss=2.3044 | MulticlassF1Score=0.8174\n",
      "Batch-150: CrossEntropyLoss=2.3016 | MulticlassF1Score=0.8182\n",
      "Batch-165: CrossEntropyLoss=2.3021 | MulticlassF1Score=0.8179\n",
      "Batch-180: CrossEntropyLoss=2.2980 | MulticlassF1Score=0.8185\n",
      "Batch-195: CrossEntropyLoss=2.2957 | MulticlassF1Score=0.8194\n",
      "Batch-210: CrossEntropyLoss=2.2988 | MulticlassF1Score=0.8202\n",
      "Batch-225: CrossEntropyLoss=2.3093 | MulticlassF1Score=0.8201\n",
      "Batch-226: CrossEntropyLoss=2.3005 | MulticlassF1Score=0.8201\n",
      "\n",
      "Validation Step\n"
     ]
    },
    {
     "data": {
      "application/vnd.jupyter.widget-view+json": {
       "model_id": "f5495e0f740a4750a85c2f3f32dfb0ae",
       "version_major": 2,
       "version_minor": 0
      },
      "text/plain": [
       "  0%|          | 0/63 [00:00<?, ?it/s]"
      ]
     },
     "metadata": {},
     "output_type": "display_data"
    },
    {
     "name": "stdout",
     "output_type": "stream",
     "text": [
      "Batch-15 : CrossEntropyLoss=2.3144 | MulticlassF1Score=0.8199\n",
      "Batch-30 : CrossEntropyLoss=2.3036 | MulticlassF1Score=0.8218\n",
      "Batch-45 : CrossEntropyLoss=2.3081 | MulticlassF1Score=0.8219\n",
      "Batch-60 : CrossEntropyLoss=2.3042 | MulticlassF1Score=0.8219\n",
      "Batch-63 : CrossEntropyLoss=2.3022 | MulticlassF1Score=0.8217\n",
      "\n",
      "Yeah 🎉😄! Model improved.\n",
      "\n",
      "Training   : Mean CrossEntropyLoss = 2.3038 | Mean MulticlassF1Score = 0.8165\n",
      "Validation : Mean CrossEntropyLoss = 2.3035 | Mean MulticlassF1Score = 0.8218\n",
      "================================================================================\n",
      "\n",
      "EPOCH-5\n",
      "Training Step\n"
     ]
    },
    {
     "data": {
      "application/vnd.jupyter.widget-view+json": {
       "model_id": "06808aac4eb7476e80c29c4d8aa48635",
       "version_major": 2,
       "version_minor": 0
      },
      "text/plain": [
       "  0%|          | 0/226 [00:00<?, ?it/s]"
      ]
     },
     "metadata": {},
     "output_type": "display_data"
    },
    {
     "name": "stdout",
     "output_type": "stream",
     "text": [
      "Batch-15 : CrossEntropyLoss=2.2978 | MulticlassF1Score=0.8259\n",
      "Batch-30 : CrossEntropyLoss=2.3045 | MulticlassF1Score=0.8247\n",
      "Batch-45 : CrossEntropyLoss=2.3097 | MulticlassF1Score=0.8269\n",
      "Batch-60 : CrossEntropyLoss=2.3005 | MulticlassF1Score=0.8266\n",
      "Batch-75 : CrossEntropyLoss=2.2935 | MulticlassF1Score=0.8267\n",
      "Batch-90 : CrossEntropyLoss=2.2857 | MulticlassF1Score=0.8267\n",
      "Batch-105: CrossEntropyLoss=2.2919 | MulticlassF1Score=0.8273\n",
      "Batch-120: CrossEntropyLoss=2.2908 | MulticlassF1Score=0.8267\n",
      "Batch-135: CrossEntropyLoss=2.3075 | MulticlassF1Score=0.8265\n",
      "Batch-150: CrossEntropyLoss=2.2909 | MulticlassF1Score=0.8264\n",
      "Batch-165: CrossEntropyLoss=2.3114 | MulticlassF1Score=0.8262\n",
      "Batch-180: CrossEntropyLoss=2.3017 | MulticlassF1Score=0.8260\n",
      "Batch-195: CrossEntropyLoss=2.3021 | MulticlassF1Score=0.8257\n",
      "Batch-210: CrossEntropyLoss=2.3028 | MulticlassF1Score=0.8254\n",
      "Batch-225: CrossEntropyLoss=2.2964 | MulticlassF1Score=0.8253\n",
      "Batch-226: CrossEntropyLoss=2.2968 | MulticlassF1Score=0.8253\n",
      "\n",
      "Validation Step\n"
     ]
    },
    {
     "data": {
      "application/vnd.jupyter.widget-view+json": {
       "model_id": "3c99428a6c354a23b16fc7ebea4f4821",
       "version_major": 2,
       "version_minor": 0
      },
      "text/plain": [
       "  0%|          | 0/63 [00:00<?, ?it/s]"
      ]
     },
     "metadata": {},
     "output_type": "display_data"
    },
    {
     "name": "stdout",
     "output_type": "stream",
     "text": [
      "Batch-15 : CrossEntropyLoss=2.3160 | MulticlassF1Score=0.8162\n",
      "Batch-30 : CrossEntropyLoss=2.3055 | MulticlassF1Score=0.8187\n",
      "Batch-45 : CrossEntropyLoss=2.2930 | MulticlassF1Score=0.8224\n",
      "Batch-60 : CrossEntropyLoss=2.3028 | MulticlassF1Score=0.8241\n",
      "Batch-63 : CrossEntropyLoss=2.3014 | MulticlassF1Score=0.8241\n",
      "\n",
      "Yeah 🎉😄! Model improved.\n",
      "\n",
      "Training   : Mean CrossEntropyLoss = 2.3020 | Mean MulticlassF1Score = 0.8258\n",
      "Validation : Mean CrossEntropyLoss = 2.3025 | Mean MulticlassF1Score = 0.8206\n",
      "================================================================================\n",
      "\n",
      "EPOCH-6\n",
      "Training Step\n"
     ]
    },
    {
     "data": {
      "application/vnd.jupyter.widget-view+json": {
       "model_id": "c6088d75f0194428b0a9773631fdfb83",
       "version_major": 2,
       "version_minor": 0
      },
      "text/plain": [
       "  0%|          | 0/226 [00:00<?, ?it/s]"
      ]
     },
     "metadata": {},
     "output_type": "display_data"
    },
    {
     "name": "stdout",
     "output_type": "stream",
     "text": [
      "Batch-15 : CrossEntropyLoss=2.2992 | MulticlassF1Score=0.8211\n",
      "Batch-30 : CrossEntropyLoss=2.2990 | MulticlassF1Score=0.8251\n",
      "Batch-45 : CrossEntropyLoss=2.3076 | MulticlassF1Score=0.8270\n",
      "Batch-60 : CrossEntropyLoss=2.2909 | MulticlassF1Score=0.8280\n",
      "Batch-75 : CrossEntropyLoss=2.3124 | MulticlassF1Score=0.8288\n",
      "Batch-90 : CrossEntropyLoss=2.3004 | MulticlassF1Score=0.8286\n",
      "Batch-105: CrossEntropyLoss=2.2978 | MulticlassF1Score=0.8290\n",
      "Batch-120: CrossEntropyLoss=2.2990 | MulticlassF1Score=0.8288\n",
      "Batch-135: CrossEntropyLoss=2.2892 | MulticlassF1Score=0.8284\n",
      "Batch-150: CrossEntropyLoss=2.2940 | MulticlassF1Score=0.8278\n",
      "Batch-165: CrossEntropyLoss=2.2934 | MulticlassF1Score=0.8281\n",
      "Batch-180: CrossEntropyLoss=2.3030 | MulticlassF1Score=0.8280\n",
      "Batch-195: CrossEntropyLoss=2.3034 | MulticlassF1Score=0.8284\n",
      "Batch-210: CrossEntropyLoss=2.3112 | MulticlassF1Score=0.8281\n",
      "Batch-225: CrossEntropyLoss=2.3020 | MulticlassF1Score=0.8282\n",
      "Batch-226: CrossEntropyLoss=2.2917 | MulticlassF1Score=0.8283\n",
      "\n",
      "Validation Step\n"
     ]
    },
    {
     "data": {
      "application/vnd.jupyter.widget-view+json": {
       "model_id": "ddf9d1d0ed984267856ab2f3ce298c2c",
       "version_major": 2,
       "version_minor": 0
      },
      "text/plain": [
       "  0%|          | 0/63 [00:00<?, ?it/s]"
      ]
     },
     "metadata": {},
     "output_type": "display_data"
    },
    {
     "name": "stdout",
     "output_type": "stream",
     "text": [
      "Batch-15 : CrossEntropyLoss=2.3036 | MulticlassF1Score=0.8292\n",
      "Batch-30 : CrossEntropyLoss=2.2948 | MulticlassF1Score=0.8277\n",
      "Batch-45 : CrossEntropyLoss=2.3043 | MulticlassF1Score=0.8263\n",
      "Batch-60 : CrossEntropyLoss=2.3040 | MulticlassF1Score=0.8257\n",
      "Batch-63 : CrossEntropyLoss=2.2980 | MulticlassF1Score=0.8262\n",
      "\n",
      "Yeah 🎉😄! Model improved.\n",
      "\n",
      "Training   : Mean CrossEntropyLoss = 2.3009 | Mean MulticlassF1Score = 0.8274\n",
      "Validation : Mean CrossEntropyLoss = 2.3018 | Mean MulticlassF1Score = 0.8266\n",
      "================================================================================\n",
      "\n",
      "EPOCH-7\n",
      "Training Step\n"
     ]
    },
    {
     "data": {
      "application/vnd.jupyter.widget-view+json": {
       "model_id": "0de4de10683a4d888e3ecc865280b8dd",
       "version_major": 2,
       "version_minor": 0
      },
      "text/plain": [
       "  0%|          | 0/226 [00:00<?, ?it/s]"
      ]
     },
     "metadata": {},
     "output_type": "display_data"
    },
    {
     "name": "stdout",
     "output_type": "stream",
     "text": [
      "Batch-15 : CrossEntropyLoss=2.2983 | MulticlassF1Score=0.8277\n",
      "Batch-30 : CrossEntropyLoss=2.2889 | MulticlassF1Score=0.8279\n",
      "Batch-45 : CrossEntropyLoss=2.2994 | MulticlassF1Score=0.8299\n",
      "Batch-60 : CrossEntropyLoss=2.2991 | MulticlassF1Score=0.8298\n",
      "Batch-75 : CrossEntropyLoss=2.2948 | MulticlassF1Score=0.8310\n",
      "Batch-90 : CrossEntropyLoss=2.3026 | MulticlassF1Score=0.8307\n",
      "Batch-105: CrossEntropyLoss=2.3030 | MulticlassF1Score=0.8316\n",
      "Batch-120: CrossEntropyLoss=2.2962 | MulticlassF1Score=0.8342\n",
      "Batch-135: CrossEntropyLoss=2.2937 | MulticlassF1Score=0.8366\n",
      "Batch-150: CrossEntropyLoss=2.2961 | MulticlassF1Score=0.8385\n",
      "Batch-165: CrossEntropyLoss=2.3021 | MulticlassF1Score=0.8396\n",
      "Batch-180: CrossEntropyLoss=2.2922 | MulticlassF1Score=0.8402\n",
      "Batch-195: CrossEntropyLoss=2.2981 | MulticlassF1Score=0.8413\n",
      "Batch-210: CrossEntropyLoss=2.2775 | MulticlassF1Score=0.8426\n",
      "Batch-225: CrossEntropyLoss=2.2932 | MulticlassF1Score=0.8434\n",
      "Batch-226: CrossEntropyLoss=2.2844 | MulticlassF1Score=0.8435\n",
      "\n",
      "Validation Step\n"
     ]
    },
    {
     "data": {
      "application/vnd.jupyter.widget-view+json": {
       "model_id": "060f6ac6477c4c12b9f1a0d3629a1deb",
       "version_major": 2,
       "version_minor": 0
      },
      "text/plain": [
       "  0%|          | 0/63 [00:00<?, ?it/s]"
      ]
     },
     "metadata": {},
     "output_type": "display_data"
    },
    {
     "name": "stdout",
     "output_type": "stream",
     "text": [
      "Batch-15 : CrossEntropyLoss=2.2981 | MulticlassF1Score=0.8502\n",
      "Batch-30 : CrossEntropyLoss=2.2991 | MulticlassF1Score=0.8519\n",
      "Batch-45 : CrossEntropyLoss=2.3045 | MulticlassF1Score=0.8496\n",
      "Batch-60 : CrossEntropyLoss=2.2966 | MulticlassF1Score=0.8513\n",
      "Batch-63 : CrossEntropyLoss=2.3063 | MulticlassF1Score=0.8507\n",
      "\n",
      "Yeah 🎉😄! Model improved.\n",
      "\n",
      "Training   : Mean CrossEntropyLoss = 2.2963 | Mean MulticlassF1Score = 0.8345\n",
      "Validation : Mean CrossEntropyLoss = 2.2946 | Mean MulticlassF1Score = 0.8499\n",
      "================================================================================\n",
      "\n",
      "EPOCH-8\n",
      "Training Step\n"
     ]
    },
    {
     "data": {
      "application/vnd.jupyter.widget-view+json": {
       "model_id": "d6bb713f9796446f8bddc3115d97604d",
       "version_major": 2,
       "version_minor": 0
      },
      "text/plain": [
       "  0%|          | 0/226 [00:00<?, ?it/s]"
      ]
     },
     "metadata": {},
     "output_type": "display_data"
    },
    {
     "name": "stdout",
     "output_type": "stream",
     "text": [
      "Batch-15 : CrossEntropyLoss=2.2891 | MulticlassF1Score=0.8669\n",
      "Batch-30 : CrossEntropyLoss=2.2882 | MulticlassF1Score=0.8615\n",
      "Batch-45 : CrossEntropyLoss=2.2878 | MulticlassF1Score=0.8608\n",
      "Batch-60 : CrossEntropyLoss=2.2882 | MulticlassF1Score=0.8595\n",
      "Batch-75 : CrossEntropyLoss=2.2891 | MulticlassF1Score=0.8591\n",
      "Batch-90 : CrossEntropyLoss=2.2889 | MulticlassF1Score=0.8592\n",
      "Batch-105: CrossEntropyLoss=2.2792 | MulticlassF1Score=0.8608\n",
      "Batch-120: CrossEntropyLoss=2.2917 | MulticlassF1Score=0.8618\n",
      "Batch-135: CrossEntropyLoss=2.2841 | MulticlassF1Score=0.8629\n",
      "Batch-150: CrossEntropyLoss=2.2859 | MulticlassF1Score=0.8640\n",
      "Batch-165: CrossEntropyLoss=2.2848 | MulticlassF1Score=0.8652\n",
      "Batch-180: CrossEntropyLoss=2.2856 | MulticlassF1Score=0.8662\n",
      "Batch-195: CrossEntropyLoss=2.2849 | MulticlassF1Score=0.8664\n",
      "Batch-210: CrossEntropyLoss=2.2854 | MulticlassF1Score=0.8672\n",
      "Batch-225: CrossEntropyLoss=2.2929 | MulticlassF1Score=0.8681\n",
      "Batch-226: CrossEntropyLoss=2.2907 | MulticlassF1Score=0.8681\n",
      "\n",
      "Validation Step\n"
     ]
    },
    {
     "data": {
      "application/vnd.jupyter.widget-view+json": {
       "model_id": "3589dafb39e348c2bd9ad2e6e04e5a3e",
       "version_major": 2,
       "version_minor": 0
      },
      "text/plain": [
       "  0%|          | 0/63 [00:00<?, ?it/s]"
      ]
     },
     "metadata": {},
     "output_type": "display_data"
    },
    {
     "name": "stdout",
     "output_type": "stream",
     "text": [
      "Batch-15 : CrossEntropyLoss=2.2937 | MulticlassF1Score=0.8742\n",
      "Batch-30 : CrossEntropyLoss=2.2866 | MulticlassF1Score=0.8732\n",
      "Batch-45 : CrossEntropyLoss=2.2761 | MulticlassF1Score=0.8736\n",
      "Batch-60 : CrossEntropyLoss=2.2917 | MulticlassF1Score=0.8736\n",
      "Batch-63 : CrossEntropyLoss=2.2849 | MulticlassF1Score=0.8738\n",
      "\n",
      "Yeah 🎉😄! Model improved.\n",
      "\n",
      "Training   : Mean CrossEntropyLoss = 2.2889 | Mean MulticlassF1Score = 0.8629\n",
      "Validation : Mean CrossEntropyLoss = 2.2874 | Mean MulticlassF1Score = 0.8739\n",
      "================================================================================\n",
      "\n",
      "EPOCH-9\n",
      "Training Step\n"
     ]
    },
    {
     "data": {
      "application/vnd.jupyter.widget-view+json": {
       "model_id": "80acd1e892834d44a6a431fed47384c3",
       "version_major": 2,
       "version_minor": 0
      },
      "text/plain": [
       "  0%|          | 0/226 [00:00<?, ?it/s]"
      ]
     },
     "metadata": {},
     "output_type": "display_data"
    },
    {
     "name": "stdout",
     "output_type": "stream",
     "text": [
      "Batch-15 : CrossEntropyLoss=2.2863 | MulticlassF1Score=0.8763\n",
      "Batch-30 : CrossEntropyLoss=2.2800 | MulticlassF1Score=0.8779\n",
      "Batch-45 : CrossEntropyLoss=2.2845 | MulticlassF1Score=0.8797\n",
      "Batch-60 : CrossEntropyLoss=2.2880 | MulticlassF1Score=0.8804\n",
      "Batch-75 : CrossEntropyLoss=2.2821 | MulticlassF1Score=0.8809\n",
      "Batch-90 : CrossEntropyLoss=2.2821 | MulticlassF1Score=0.8823\n",
      "Batch-105: CrossEntropyLoss=2.2840 | MulticlassF1Score=0.8846\n",
      "Batch-120: CrossEntropyLoss=2.2748 | MulticlassF1Score=0.8872\n",
      "Batch-135: CrossEntropyLoss=2.2691 | MulticlassF1Score=0.8886\n",
      "Batch-150: CrossEntropyLoss=2.2802 | MulticlassF1Score=0.8902\n",
      "Batch-165: CrossEntropyLoss=2.2748 | MulticlassF1Score=0.8919\n",
      "Batch-180: CrossEntropyLoss=2.2775 | MulticlassF1Score=0.8932\n",
      "Batch-195: CrossEntropyLoss=2.2744 | MulticlassF1Score=0.8943\n",
      "Batch-210: CrossEntropyLoss=2.2771 | MulticlassF1Score=0.8952\n",
      "Batch-225: CrossEntropyLoss=2.2787 | MulticlassF1Score=0.8958\n",
      "Batch-226: CrossEntropyLoss=2.2815 | MulticlassF1Score=0.8958\n",
      "\n",
      "Validation Step\n"
     ]
    },
    {
     "data": {
      "application/vnd.jupyter.widget-view+json": {
       "model_id": "04201302fef145df89aaf2d866b738cd",
       "version_major": 2,
       "version_minor": 0
      },
      "text/plain": [
       "  0%|          | 0/63 [00:00<?, ?it/s]"
      ]
     },
     "metadata": {},
     "output_type": "display_data"
    },
    {
     "name": "stdout",
     "output_type": "stream",
     "text": [
      "Batch-15 : CrossEntropyLoss=2.2813 | MulticlassF1Score=0.9016\n",
      "Batch-30 : CrossEntropyLoss=2.2810 | MulticlassF1Score=0.9051\n",
      "Batch-45 : CrossEntropyLoss=2.2786 | MulticlassF1Score=0.9032\n",
      "Batch-60 : CrossEntropyLoss=2.2759 | MulticlassF1Score=0.9026\n",
      "Batch-63 : CrossEntropyLoss=2.2725 | MulticlassF1Score=0.9029\n",
      "\n",
      "Yeah 🎉😄! Model improved.\n",
      "\n",
      "Training   : Mean CrossEntropyLoss = 2.2804 | Mean MulticlassF1Score = 0.8863\n",
      "Validation : Mean CrossEntropyLoss = 2.2784 | Mean MulticlassF1Score = 0.9034\n",
      "================================================================================\n",
      "\n",
      "EPOCH-10\n",
      "Training Step\n"
     ]
    },
    {
     "data": {
      "application/vnd.jupyter.widget-view+json": {
       "model_id": "065e99d3b5ac43eca2d59f9de3c5c922",
       "version_major": 2,
       "version_minor": 0
      },
      "text/plain": [
       "  0%|          | 0/226 [00:00<?, ?it/s]"
      ]
     },
     "metadata": {},
     "output_type": "display_data"
    },
    {
     "name": "stdout",
     "output_type": "stream",
     "text": [
      "Batch-15 : CrossEntropyLoss=2.2679 | MulticlassF1Score=0.9078\n",
      "Batch-30 : CrossEntropyLoss=2.2717 | MulticlassF1Score=0.9112\n",
      "Batch-45 : CrossEntropyLoss=2.2765 | MulticlassF1Score=0.9120\n",
      "Batch-60 : CrossEntropyLoss=2.2789 | MulticlassF1Score=0.9107\n",
      "Batch-75 : CrossEntropyLoss=2.2801 | MulticlassF1Score=0.9102\n",
      "Batch-90 : CrossEntropyLoss=2.2744 | MulticlassF1Score=0.9110\n",
      "Batch-105: CrossEntropyLoss=2.2709 | MulticlassF1Score=0.9112\n",
      "Batch-120: CrossEntropyLoss=2.2810 | MulticlassF1Score=0.9106\n",
      "Batch-135: CrossEntropyLoss=2.2699 | MulticlassF1Score=0.9107\n",
      "Batch-150: CrossEntropyLoss=2.2751 | MulticlassF1Score=0.9109\n",
      "Batch-165: CrossEntropyLoss=2.2767 | MulticlassF1Score=0.9107\n",
      "Batch-180: CrossEntropyLoss=2.2756 | MulticlassF1Score=0.9109\n",
      "Batch-195: CrossEntropyLoss=2.2725 | MulticlassF1Score=0.9107\n",
      "Batch-210: CrossEntropyLoss=2.2731 | MulticlassF1Score=0.9105\n",
      "Batch-225: CrossEntropyLoss=2.2744 | MulticlassF1Score=0.9106\n",
      "Batch-226: CrossEntropyLoss=2.2739 | MulticlassF1Score=0.9106\n",
      "\n",
      "Validation Step\n"
     ]
    },
    {
     "data": {
      "application/vnd.jupyter.widget-view+json": {
       "model_id": "76b9088ae85d4a4381748b599e494139",
       "version_major": 2,
       "version_minor": 0
      },
      "text/plain": [
       "  0%|          | 0/63 [00:00<?, ?it/s]"
      ]
     },
     "metadata": {},
     "output_type": "display_data"
    },
    {
     "name": "stdout",
     "output_type": "stream",
     "text": [
      "Batch-15 : CrossEntropyLoss=2.2704 | MulticlassF1Score=0.9046\n",
      "Batch-30 : CrossEntropyLoss=2.2804 | MulticlassF1Score=0.9030\n",
      "Batch-45 : CrossEntropyLoss=2.2851 | MulticlassF1Score=0.9034\n",
      "Batch-60 : CrossEntropyLoss=2.2732 | MulticlassF1Score=0.9046\n",
      "Batch-63 : CrossEntropyLoss=2.2738 | MulticlassF1Score=0.9045\n",
      "\n",
      "Yeah 🎉😄! Model improved.\n",
      "\n",
      "Training   : Mean CrossEntropyLoss = 2.2757 | Mean MulticlassF1Score = 0.9105\n",
      "Validation : Mean CrossEntropyLoss = 2.2777 | Mean MulticlassF1Score = 0.9031\n",
      "================================================================================\n",
      "\n",
      "EPOCH-11\n",
      "Training Step\n"
     ]
    },
    {
     "data": {
      "application/vnd.jupyter.widget-view+json": {
       "model_id": "22468878a937474bb40b714a34455e2c",
       "version_major": 2,
       "version_minor": 0
      },
      "text/plain": [
       "  0%|          | 0/226 [00:00<?, ?it/s]"
      ]
     },
     "metadata": {},
     "output_type": "display_data"
    },
    {
     "name": "stdout",
     "output_type": "stream",
     "text": [
      "Batch-15 : CrossEntropyLoss=2.2712 | MulticlassF1Score=0.9096\n",
      "Batch-30 : CrossEntropyLoss=2.2750 | MulticlassF1Score=0.9099\n",
      "Batch-45 : CrossEntropyLoss=2.2731 | MulticlassF1Score=0.9114\n",
      "Batch-60 : CrossEntropyLoss=2.2731 | MulticlassF1Score=0.9126\n",
      "Batch-75 : CrossEntropyLoss=2.2714 | MulticlassF1Score=0.9126\n",
      "Batch-90 : CrossEntropyLoss=2.2762 | MulticlassF1Score=0.9124\n",
      "Batch-105: CrossEntropyLoss=2.2742 | MulticlassF1Score=0.9131\n",
      "Batch-120: CrossEntropyLoss=2.2730 | MulticlassF1Score=0.9132\n",
      "Batch-135: CrossEntropyLoss=2.2704 | MulticlassF1Score=0.9136\n",
      "Batch-150: CrossEntropyLoss=2.2763 | MulticlassF1Score=0.9137\n",
      "Batch-165: CrossEntropyLoss=2.2744 | MulticlassF1Score=0.9139\n",
      "Batch-180: CrossEntropyLoss=2.2755 | MulticlassF1Score=0.9136\n",
      "Batch-195: CrossEntropyLoss=2.2685 | MulticlassF1Score=0.9139\n",
      "Batch-210: CrossEntropyLoss=2.2744 | MulticlassF1Score=0.9139\n",
      "Batch-225: CrossEntropyLoss=2.2772 | MulticlassF1Score=0.9140\n",
      "Batch-226: CrossEntropyLoss=2.2766 | MulticlassF1Score=0.9140\n",
      "\n",
      "Validation Step\n"
     ]
    },
    {
     "data": {
      "application/vnd.jupyter.widget-view+json": {
       "model_id": "d3d995b024c24a61b9751390237cc443",
       "version_major": 2,
       "version_minor": 0
      },
      "text/plain": [
       "  0%|          | 0/63 [00:00<?, ?it/s]"
      ]
     },
     "metadata": {},
     "output_type": "display_data"
    },
    {
     "name": "stdout",
     "output_type": "stream",
     "text": [
      "Batch-15 : CrossEntropyLoss=2.2760 | MulticlassF1Score=0.9048\n",
      "Batch-30 : CrossEntropyLoss=2.2769 | MulticlassF1Score=0.9031\n",
      "Batch-45 : CrossEntropyLoss=2.2766 | MulticlassF1Score=0.9039\n",
      "Batch-60 : CrossEntropyLoss=2.2789 | MulticlassF1Score=0.9048\n",
      "Batch-63 : CrossEntropyLoss=2.2744 | MulticlassF1Score=0.9057\n",
      "\n",
      "Yeah 🎉😄! Model improved.\n",
      "\n",
      "Training   : Mean CrossEntropyLoss = 2.2746 | Mean MulticlassF1Score = 0.9122\n",
      "Validation : Mean CrossEntropyLoss = 2.2772 | Mean MulticlassF1Score = 0.9044\n",
      "================================================================================\n",
      "\n",
      "EPOCH-12\n",
      "Training Step\n"
     ]
    },
    {
     "data": {
      "application/vnd.jupyter.widget-view+json": {
       "model_id": "01f764f925694571a400e42775642df7",
       "version_major": 2,
       "version_minor": 0
      },
      "text/plain": [
       "  0%|          | 0/226 [00:00<?, ?it/s]"
      ]
     },
     "metadata": {},
     "output_type": "display_data"
    },
    {
     "name": "stdout",
     "output_type": "stream",
     "text": [
      "Batch-15 : CrossEntropyLoss=2.2779 | MulticlassF1Score=0.9202\n",
      "Batch-30 : CrossEntropyLoss=2.2762 | MulticlassF1Score=0.9156\n",
      "Batch-45 : CrossEntropyLoss=2.2704 | MulticlassF1Score=0.9177\n",
      "Batch-60 : CrossEntropyLoss=2.2812 | MulticlassF1Score=0.9166\n",
      "Batch-75 : CrossEntropyLoss=2.2776 | MulticlassF1Score=0.9165\n",
      "Batch-90 : CrossEntropyLoss=2.2782 | MulticlassF1Score=0.9162\n",
      "Batch-105: CrossEntropyLoss=2.2735 | MulticlassF1Score=0.9161\n",
      "Batch-120: CrossEntropyLoss=2.2740 | MulticlassF1Score=0.9160\n",
      "Batch-135: CrossEntropyLoss=2.2799 | MulticlassF1Score=0.9160\n",
      "Batch-150: CrossEntropyLoss=2.2755 | MulticlassF1Score=0.9161\n",
      "Batch-165: CrossEntropyLoss=2.2760 | MulticlassF1Score=0.9161\n",
      "Batch-180: CrossEntropyLoss=2.2762 | MulticlassF1Score=0.9162\n",
      "Batch-195: CrossEntropyLoss=2.2733 | MulticlassF1Score=0.9163\n",
      "Batch-210: CrossEntropyLoss=2.2749 | MulticlassF1Score=0.9162\n",
      "Batch-225: CrossEntropyLoss=2.2720 | MulticlassF1Score=0.9164\n",
      "Batch-226: CrossEntropyLoss=2.2771 | MulticlassF1Score=0.9163\n",
      "\n",
      "Validation Step\n"
     ]
    },
    {
     "data": {
      "application/vnd.jupyter.widget-view+json": {
       "model_id": "965c5565830b46c5b4fdb913eb427b25",
       "version_major": 2,
       "version_minor": 0
      },
      "text/plain": [
       "  0%|          | 0/63 [00:00<?, ?it/s]"
      ]
     },
     "metadata": {},
     "output_type": "display_data"
    },
    {
     "name": "stdout",
     "output_type": "stream",
     "text": [
      "Batch-15 : CrossEntropyLoss=2.2681 | MulticlassF1Score=0.9048\n",
      "Batch-30 : CrossEntropyLoss=2.2794 | MulticlassF1Score=0.9045\n",
      "Batch-45 : CrossEntropyLoss=2.2765 | MulticlassF1Score=0.9059\n",
      "Batch-60 : CrossEntropyLoss=2.2753 | MulticlassF1Score=0.9070\n",
      "Batch-63 : CrossEntropyLoss=2.2790 | MulticlassF1Score=0.9071\n",
      "\n",
      "Yeah 🎉😄! Model improved.\n",
      "\n",
      "Training   : Mean CrossEntropyLoss = 2.2737 | Mean MulticlassF1Score = 0.9167\n",
      "Validation : Mean CrossEntropyLoss = 2.2766 | Mean MulticlassF1Score = 0.9046\n",
      "================================================================================\n",
      "\n",
      "EPOCH-13\n",
      "Training Step\n"
     ]
    },
    {
     "data": {
      "application/vnd.jupyter.widget-view+json": {
       "model_id": "e20ddb7be3f740c59161c1416f7a5c83",
       "version_major": 2,
       "version_minor": 0
      },
      "text/plain": [
       "  0%|          | 0/226 [00:00<?, ?it/s]"
      ]
     },
     "metadata": {},
     "output_type": "display_data"
    },
    {
     "name": "stdout",
     "output_type": "stream",
     "text": [
      "Batch-15 : CrossEntropyLoss=2.2768 | MulticlassF1Score=0.9233\n",
      "Batch-30 : CrossEntropyLoss=2.2695 | MulticlassF1Score=0.9245\n",
      "Batch-45 : CrossEntropyLoss=2.2748 | MulticlassF1Score=0.9220\n",
      "Batch-60 : CrossEntropyLoss=2.2680 | MulticlassF1Score=0.9222\n",
      "Batch-75 : CrossEntropyLoss=2.2704 | MulticlassF1Score=0.9216\n",
      "Batch-90 : CrossEntropyLoss=2.2655 | MulticlassF1Score=0.9213\n",
      "Batch-105: CrossEntropyLoss=2.2817 | MulticlassF1Score=0.9207\n",
      "Batch-120: CrossEntropyLoss=2.2716 | MulticlassF1Score=0.9201\n",
      "Batch-135: CrossEntropyLoss=2.2748 | MulticlassF1Score=0.9197\n",
      "Batch-150: CrossEntropyLoss=2.2761 | MulticlassF1Score=0.9196\n",
      "Batch-165: CrossEntropyLoss=2.2767 | MulticlassF1Score=0.9195\n",
      "Batch-180: CrossEntropyLoss=2.2691 | MulticlassF1Score=0.9196\n",
      "Batch-195: CrossEntropyLoss=2.2708 | MulticlassF1Score=0.9193\n",
      "Batch-210: CrossEntropyLoss=2.2644 | MulticlassF1Score=0.9190\n",
      "Batch-225: CrossEntropyLoss=2.2647 | MulticlassF1Score=0.9186\n",
      "Batch-226: CrossEntropyLoss=2.2704 | MulticlassF1Score=0.9186\n",
      "\n",
      "Validation Step\n"
     ]
    },
    {
     "data": {
      "application/vnd.jupyter.widget-view+json": {
       "model_id": "eea1e9b1aabe47909e3149277b2fd792",
       "version_major": 2,
       "version_minor": 0
      },
      "text/plain": [
       "  0%|          | 0/63 [00:00<?, ?it/s]"
      ]
     },
     "metadata": {},
     "output_type": "display_data"
    },
    {
     "name": "stdout",
     "output_type": "stream",
     "text": [
      "Batch-15 : CrossEntropyLoss=2.2766 | MulticlassF1Score=0.9021\n",
      "Batch-30 : CrossEntropyLoss=2.2745 | MulticlassF1Score=0.9048\n",
      "Batch-45 : CrossEntropyLoss=2.2824 | MulticlassF1Score=0.9061\n",
      "Batch-60 : CrossEntropyLoss=2.2785 | MulticlassF1Score=0.9076\n",
      "Batch-63 : CrossEntropyLoss=2.2712 | MulticlassF1Score=0.9076\n",
      "\n",
      "Yeah 🎉😄! Model improved.\n",
      "\n",
      "Training   : Mean CrossEntropyLoss = 2.2730 | Mean MulticlassF1Score = 0.9215\n",
      "Validation : Mean CrossEntropyLoss = 2.2765 | Mean MulticlassF1Score = 0.9063\n",
      "================================================================================\n",
      "\n",
      "EPOCH-14\n",
      "Training Step\n"
     ]
    },
    {
     "data": {
      "application/vnd.jupyter.widget-view+json": {
       "model_id": "c0d13873cfe14c5586e38105fdb3ba88",
       "version_major": 2,
       "version_minor": 0
      },
      "text/plain": [
       "  0%|          | 0/226 [00:00<?, ?it/s]"
      ]
     },
     "metadata": {},
     "output_type": "display_data"
    },
    {
     "name": "stdout",
     "output_type": "stream",
     "text": [
      "Batch-15 : CrossEntropyLoss=2.2677 | MulticlassF1Score=0.9179\n",
      "Batch-30 : CrossEntropyLoss=2.2723 | MulticlassF1Score=0.9203\n",
      "Batch-45 : CrossEntropyLoss=2.2622 | MulticlassF1Score=0.9228\n",
      "Batch-60 : CrossEntropyLoss=2.2709 | MulticlassF1Score=0.9228\n",
      "Batch-75 : CrossEntropyLoss=2.2660 | MulticlassF1Score=0.9223\n",
      "Batch-90 : CrossEntropyLoss=2.2685 | MulticlassF1Score=0.9220\n",
      "Batch-105: CrossEntropyLoss=2.2699 | MulticlassF1Score=0.9220\n",
      "Batch-120: CrossEntropyLoss=2.2681 | MulticlassF1Score=0.9225\n",
      "Batch-135: CrossEntropyLoss=2.2691 | MulticlassF1Score=0.9228\n",
      "Batch-150: CrossEntropyLoss=2.2767 | MulticlassF1Score=0.9226\n",
      "Batch-165: CrossEntropyLoss=2.2716 | MulticlassF1Score=0.9228\n",
      "Batch-180: CrossEntropyLoss=2.2737 | MulticlassF1Score=0.9229\n",
      "Batch-195: CrossEntropyLoss=2.2734 | MulticlassF1Score=0.9227\n",
      "Batch-210: CrossEntropyLoss=2.2746 | MulticlassF1Score=0.9229\n",
      "Batch-225: CrossEntropyLoss=2.2808 | MulticlassF1Score=0.9231\n",
      "Batch-226: CrossEntropyLoss=2.2672 | MulticlassF1Score=0.9231\n",
      "\n",
      "Validation Step\n"
     ]
    },
    {
     "data": {
      "application/vnd.jupyter.widget-view+json": {
       "model_id": "b73b588a33e2435da8bb84b3af14dd62",
       "version_major": 2,
       "version_minor": 0
      },
      "text/plain": [
       "  0%|          | 0/63 [00:00<?, ?it/s]"
      ]
     },
     "metadata": {},
     "output_type": "display_data"
    },
    {
     "name": "stdout",
     "output_type": "stream",
     "text": [
      "Batch-15 : CrossEntropyLoss=2.2724 | MulticlassF1Score=0.9114\n",
      "Batch-30 : CrossEntropyLoss=2.2717 | MulticlassF1Score=0.9138\n",
      "Batch-45 : CrossEntropyLoss=2.2816 | MulticlassF1Score=0.9134\n",
      "Batch-60 : CrossEntropyLoss=2.2736 | MulticlassF1Score=0.9125\n",
      "Batch-63 : CrossEntropyLoss=2.2833 | MulticlassF1Score=0.9121\n",
      "\n",
      "Yeah 🎉😄! Model improved.\n",
      "\n",
      "Training   : Mean CrossEntropyLoss = 2.2716 | Mean MulticlassF1Score = 0.9221\n",
      "Validation : Mean CrossEntropyLoss = 2.2751 | Mean MulticlassF1Score = 0.9136\n",
      "================================================================================\n",
      "\n",
      "EPOCH-15\n",
      "Training Step\n"
     ]
    },
    {
     "data": {
      "application/vnd.jupyter.widget-view+json": {
       "model_id": "6c62a3065ae947bc81c63466dfd95fd5",
       "version_major": 2,
       "version_minor": 0
      },
      "text/plain": [
       "  0%|          | 0/226 [00:00<?, ?it/s]"
      ]
     },
     "metadata": {},
     "output_type": "display_data"
    },
    {
     "name": "stdout",
     "output_type": "stream",
     "text": [
      "Batch-15 : CrossEntropyLoss=2.2676 | MulticlassF1Score=0.9263\n",
      "Batch-30 : CrossEntropyLoss=2.2709 | MulticlassF1Score=0.9281\n",
      "Batch-45 : CrossEntropyLoss=2.2722 | MulticlassF1Score=0.9270\n",
      "Batch-60 : CrossEntropyLoss=2.2726 | MulticlassF1Score=0.9267\n",
      "Batch-75 : CrossEntropyLoss=2.2678 | MulticlassF1Score=0.9272\n",
      "Batch-90 : CrossEntropyLoss=2.2726 | MulticlassF1Score=0.9260\n",
      "Batch-105: CrossEntropyLoss=2.2713 | MulticlassF1Score=0.9260\n",
      "Batch-120: CrossEntropyLoss=2.2726 | MulticlassF1Score=0.9261\n",
      "Batch-135: CrossEntropyLoss=2.2674 | MulticlassF1Score=0.9261\n",
      "Batch-150: CrossEntropyLoss=2.2729 | MulticlassF1Score=0.9264\n",
      "Batch-165: CrossEntropyLoss=2.2769 | MulticlassF1Score=0.9265\n",
      "Batch-180: CrossEntropyLoss=2.2694 | MulticlassF1Score=0.9260\n",
      "Batch-195: CrossEntropyLoss=2.2667 | MulticlassF1Score=0.9258\n",
      "Batch-210: CrossEntropyLoss=2.2739 | MulticlassF1Score=0.9260\n",
      "Batch-225: CrossEntropyLoss=2.2679 | MulticlassF1Score=0.9258\n",
      "Batch-226: CrossEntropyLoss=2.2672 | MulticlassF1Score=0.9258\n",
      "\n",
      "Validation Step\n"
     ]
    },
    {
     "data": {
      "application/vnd.jupyter.widget-view+json": {
       "model_id": "f24eccae8e23420f9ac48f9ee70dbca2",
       "version_major": 2,
       "version_minor": 0
      },
      "text/plain": [
       "  0%|          | 0/63 [00:00<?, ?it/s]"
      ]
     },
     "metadata": {},
     "output_type": "display_data"
    },
    {
     "name": "stdout",
     "output_type": "stream",
     "text": [
      "Batch-15 : CrossEntropyLoss=2.2738 | MulticlassF1Score=0.9154\n",
      "Batch-30 : CrossEntropyLoss=2.2756 | MulticlassF1Score=0.9137\n",
      "Batch-45 : CrossEntropyLoss=2.2728 | MulticlassF1Score=0.9132\n",
      "Batch-60 : CrossEntropyLoss=2.2806 | MulticlassF1Score=0.9120\n",
      "Batch-63 : CrossEntropyLoss=2.2725 | MulticlassF1Score=0.9122\n",
      "\n",
      "Yeah 🎉😄! Model improved.\n",
      "\n",
      "Training   : Mean CrossEntropyLoss = 2.2707 | Mean MulticlassF1Score = 0.9265\n",
      "Validation : Mean CrossEntropyLoss = 2.2750 | Mean MulticlassF1Score = 0.9143\n",
      "================================================================================\n",
      "\n",
      "EPOCH-16\n",
      "Training Step\n"
     ]
    },
    {
     "data": {
      "application/vnd.jupyter.widget-view+json": {
       "model_id": "f7aa0ca7f6324e7585ae73806cebc752",
       "version_major": 2,
       "version_minor": 0
      },
      "text/plain": [
       "  0%|          | 0/226 [00:00<?, ?it/s]"
      ]
     },
     "metadata": {},
     "output_type": "display_data"
    },
    {
     "name": "stdout",
     "output_type": "stream",
     "text": [
      "Batch-15 : CrossEntropyLoss=2.2766 | MulticlassF1Score=0.9255\n",
      "Batch-30 : CrossEntropyLoss=2.2707 | MulticlassF1Score=0.9284\n",
      "Batch-45 : CrossEntropyLoss=2.2681 | MulticlassF1Score=0.9290\n",
      "Batch-60 : CrossEntropyLoss=2.2710 | MulticlassF1Score=0.9288\n",
      "Batch-75 : CrossEntropyLoss=2.2670 | MulticlassF1Score=0.9285\n",
      "Batch-90 : CrossEntropyLoss=2.2660 | MulticlassF1Score=0.9283\n",
      "Batch-105: CrossEntropyLoss=2.2721 | MulticlassF1Score=0.9290\n",
      "Batch-120: CrossEntropyLoss=2.2713 | MulticlassF1Score=0.9286\n",
      "Batch-135: CrossEntropyLoss=2.2740 | MulticlassF1Score=0.9287\n",
      "Batch-150: CrossEntropyLoss=2.2665 | MulticlassF1Score=0.9287\n",
      "Batch-165: CrossEntropyLoss=2.2741 | MulticlassF1Score=0.9287\n",
      "Batch-180: CrossEntropyLoss=2.2663 | MulticlassF1Score=0.9286\n",
      "Batch-195: CrossEntropyLoss=2.2726 | MulticlassF1Score=0.9286\n",
      "Batch-210: CrossEntropyLoss=2.2685 | MulticlassF1Score=0.9283\n",
      "Batch-225: CrossEntropyLoss=2.2716 | MulticlassF1Score=0.9279\n",
      "Batch-226: CrossEntropyLoss=2.2696 | MulticlassF1Score=0.9279\n",
      "\n",
      "Validation Step\n"
     ]
    },
    {
     "data": {
      "application/vnd.jupyter.widget-view+json": {
       "model_id": "ca8d102ddf794c0c8ade8c410016029b",
       "version_major": 2,
       "version_minor": 0
      },
      "text/plain": [
       "  0%|          | 0/63 [00:00<?, ?it/s]"
      ]
     },
     "metadata": {},
     "output_type": "display_data"
    },
    {
     "name": "stdout",
     "output_type": "stream",
     "text": [
      "Batch-15 : CrossEntropyLoss=2.2754 | MulticlassF1Score=0.9091\n",
      "Batch-30 : CrossEntropyLoss=2.2782 | MulticlassF1Score=0.9116\n",
      "Batch-45 : CrossEntropyLoss=2.2839 | MulticlassF1Score=0.9117\n",
      "Batch-60 : CrossEntropyLoss=2.2741 | MulticlassF1Score=0.9136\n",
      "Batch-63 : CrossEntropyLoss=2.2844 | MulticlassF1Score=0.9134\n",
      "\n",
      "Yeah 🎉😄! Model improved.\n",
      "\n",
      "Training   : Mean CrossEntropyLoss = 2.2700 | Mean MulticlassF1Score = 0.9284\n",
      "Validation : Mean CrossEntropyLoss = 2.2748 | Mean MulticlassF1Score = 0.9108\n",
      "================================================================================\n",
      "\n",
      "EPOCH-17\n",
      "Training Step\n"
     ]
    },
    {
     "data": {
      "application/vnd.jupyter.widget-view+json": {
       "model_id": "f8ed1765855f44a3b9f1d81492991459",
       "version_major": 2,
       "version_minor": 0
      },
      "text/plain": [
       "  0%|          | 0/226 [00:00<?, ?it/s]"
      ]
     },
     "metadata": {},
     "output_type": "display_data"
    },
    {
     "name": "stdout",
     "output_type": "stream",
     "text": [
      "Batch-15 : CrossEntropyLoss=2.2688 | MulticlassF1Score=0.9273\n",
      "Batch-30 : CrossEntropyLoss=2.2679 | MulticlassF1Score=0.9279\n",
      "Batch-45 : CrossEntropyLoss=2.2664 | MulticlassF1Score=0.9272\n",
      "Batch-60 : CrossEntropyLoss=2.2670 | MulticlassF1Score=0.9283\n",
      "Batch-75 : CrossEntropyLoss=2.2718 | MulticlassF1Score=0.9278\n",
      "Batch-90 : CrossEntropyLoss=2.2618 | MulticlassF1Score=0.9280\n",
      "Batch-105: CrossEntropyLoss=2.2693 | MulticlassF1Score=0.9276\n",
      "Batch-120: CrossEntropyLoss=2.2701 | MulticlassF1Score=0.9277\n",
      "Batch-135: CrossEntropyLoss=2.2681 | MulticlassF1Score=0.9277\n",
      "Batch-150: CrossEntropyLoss=2.2696 | MulticlassF1Score=0.9276\n",
      "Batch-165: CrossEntropyLoss=2.2691 | MulticlassF1Score=0.9277\n",
      "Batch-180: CrossEntropyLoss=2.2741 | MulticlassF1Score=0.9276\n",
      "Batch-195: CrossEntropyLoss=2.2696 | MulticlassF1Score=0.9275\n",
      "Batch-210: CrossEntropyLoss=2.2722 | MulticlassF1Score=0.9273\n",
      "Batch-225: CrossEntropyLoss=2.2659 | MulticlassF1Score=0.9274\n",
      "Batch-226: CrossEntropyLoss=2.2694 | MulticlassF1Score=0.9274\n",
      "\n",
      "Validation Step\n"
     ]
    },
    {
     "data": {
      "application/vnd.jupyter.widget-view+json": {
       "model_id": "e6681d8449d046349e50fee3c5283889",
       "version_major": 2,
       "version_minor": 0
      },
      "text/plain": [
       "  0%|          | 0/63 [00:00<?, ?it/s]"
      ]
     },
     "metadata": {},
     "output_type": "display_data"
    },
    {
     "name": "stdout",
     "output_type": "stream",
     "text": [
      "Batch-15 : CrossEntropyLoss=2.2708 | MulticlassF1Score=0.9092\n",
      "Batch-30 : CrossEntropyLoss=2.2714 | MulticlassF1Score=0.9137\n",
      "Batch-45 : CrossEntropyLoss=2.2784 | MulticlassF1Score=0.9144\n",
      "Batch-60 : CrossEntropyLoss=2.2754 | MulticlassF1Score=0.9132\n",
      "Batch-63 : CrossEntropyLoss=2.2756 | MulticlassF1Score=0.9131\n",
      "\n",
      "Huft 😥! Model not improved.\n",
      "\n",
      "Training   : Mean CrossEntropyLoss = 2.2702 | Mean MulticlassF1Score = 0.9276\n",
      "Validation : Mean CrossEntropyLoss = 2.2748 | Mean MulticlassF1Score = 0.9131\n",
      "Patience = 1/50❗\n",
      "================================================================================\n",
      "\n",
      "EPOCH-18\n",
      "Training Step\n"
     ]
    },
    {
     "data": {
      "application/vnd.jupyter.widget-view+json": {
       "model_id": "8b1495f62f6c48628830eaf18e8292de",
       "version_major": 2,
       "version_minor": 0
      },
      "text/plain": [
       "  0%|          | 0/226 [00:00<?, ?it/s]"
      ]
     },
     "metadata": {},
     "output_type": "display_data"
    },
    {
     "name": "stdout",
     "output_type": "stream",
     "text": [
      "Batch-15 : CrossEntropyLoss=2.2667 | MulticlassF1Score=0.9325\n",
      "Batch-30 : CrossEntropyLoss=2.2699 | MulticlassF1Score=0.9311\n",
      "Batch-45 : CrossEntropyLoss=2.2647 | MulticlassF1Score=0.9300\n",
      "Batch-60 : CrossEntropyLoss=2.2723 | MulticlassF1Score=0.9291\n",
      "Batch-75 : CrossEntropyLoss=2.2661 | MulticlassF1Score=0.9291\n",
      "Batch-90 : CrossEntropyLoss=2.2628 | MulticlassF1Score=0.9295\n",
      "Batch-105: CrossEntropyLoss=2.2702 | MulticlassF1Score=0.9297\n",
      "Batch-120: CrossEntropyLoss=2.2668 | MulticlassF1Score=0.9296\n",
      "Batch-135: CrossEntropyLoss=2.2726 | MulticlassF1Score=0.9290\n",
      "Batch-150: CrossEntropyLoss=2.2709 | MulticlassF1Score=0.9289\n",
      "Batch-165: CrossEntropyLoss=2.2686 | MulticlassF1Score=0.9286\n",
      "Batch-180: CrossEntropyLoss=2.2698 | MulticlassF1Score=0.9283\n",
      "Batch-195: CrossEntropyLoss=2.2714 | MulticlassF1Score=0.9283\n",
      "Batch-210: CrossEntropyLoss=2.2669 | MulticlassF1Score=0.9284\n",
      "Batch-225: CrossEntropyLoss=2.2675 | MulticlassF1Score=0.9290\n",
      "Batch-226: CrossEntropyLoss=2.2748 | MulticlassF1Score=0.9290\n",
      "\n",
      "Validation Step\n"
     ]
    },
    {
     "data": {
      "application/vnd.jupyter.widget-view+json": {
       "model_id": "2a1a78500a714abc96396703fa30821d",
       "version_major": 2,
       "version_minor": 0
      },
      "text/plain": [
       "  0%|          | 0/63 [00:00<?, ?it/s]"
      ]
     },
     "metadata": {},
     "output_type": "display_data"
    },
    {
     "name": "stdout",
     "output_type": "stream",
     "text": [
      "Batch-15 : CrossEntropyLoss=2.2815 | MulticlassF1Score=0.9119\n",
      "Batch-30 : CrossEntropyLoss=2.2704 | MulticlassF1Score=0.9124\n",
      "Batch-45 : CrossEntropyLoss=2.2695 | MulticlassF1Score=0.9136\n",
      "Batch-60 : CrossEntropyLoss=2.2717 | MulticlassF1Score=0.9129\n",
      "Batch-63 : CrossEntropyLoss=2.2748 | MulticlassF1Score=0.9134\n",
      "\n",
      "Yeah 🎉😄! Model improved.\n",
      "\n",
      "Training   : Mean CrossEntropyLoss = 2.2696 | Mean MulticlassF1Score = 0.9293\n",
      "Validation : Mean CrossEntropyLoss = 2.2746 | Mean MulticlassF1Score = 0.9130\n",
      "================================================================================\n",
      "\n",
      "EPOCH-19\n",
      "Training Step\n"
     ]
    },
    {
     "data": {
      "application/vnd.jupyter.widget-view+json": {
       "model_id": "0cfc627ed31e4ea785388f9c4834a6f8",
       "version_major": 2,
       "version_minor": 0
      },
      "text/plain": [
       "  0%|          | 0/226 [00:00<?, ?it/s]"
      ]
     },
     "metadata": {},
     "output_type": "display_data"
    },
    {
     "name": "stdout",
     "output_type": "stream",
     "text": [
      "Batch-15 : CrossEntropyLoss=2.2704 | MulticlassF1Score=0.9308\n",
      "Batch-30 : CrossEntropyLoss=2.2737 | MulticlassF1Score=0.9309\n",
      "Batch-45 : CrossEntropyLoss=2.2734 | MulticlassF1Score=0.9303\n",
      "Batch-60 : CrossEntropyLoss=2.2696 | MulticlassF1Score=0.9306\n",
      "Batch-75 : CrossEntropyLoss=2.2661 | MulticlassF1Score=0.9312\n",
      "Batch-90 : CrossEntropyLoss=2.2705 | MulticlassF1Score=0.9309\n",
      "Batch-105: CrossEntropyLoss=2.2642 | MulticlassF1Score=0.9311\n",
      "Batch-120: CrossEntropyLoss=2.2749 | MulticlassF1Score=0.9310\n",
      "Batch-135: CrossEntropyLoss=2.2704 | MulticlassF1Score=0.9310\n",
      "Batch-150: CrossEntropyLoss=2.2676 | MulticlassF1Score=0.9312\n",
      "Batch-165: CrossEntropyLoss=2.2636 | MulticlassF1Score=0.9317\n",
      "Batch-180: CrossEntropyLoss=2.2650 | MulticlassF1Score=0.9320\n",
      "Batch-195: CrossEntropyLoss=2.2691 | MulticlassF1Score=0.9320\n",
      "Batch-210: CrossEntropyLoss=2.2729 | MulticlassF1Score=0.9320\n",
      "Batch-225: CrossEntropyLoss=2.2682 | MulticlassF1Score=0.9322\n",
      "Batch-226: CrossEntropyLoss=2.2608 | MulticlassF1Score=0.9323\n",
      "\n",
      "Validation Step\n"
     ]
    },
    {
     "data": {
      "application/vnd.jupyter.widget-view+json": {
       "model_id": "44e04e217ff546dcaaab30fc7d707576",
       "version_major": 2,
       "version_minor": 0
      },
      "text/plain": [
       "  0%|          | 0/63 [00:00<?, ?it/s]"
      ]
     },
     "metadata": {},
     "output_type": "display_data"
    },
    {
     "name": "stdout",
     "output_type": "stream",
     "text": [
      "Batch-15 : CrossEntropyLoss=2.2737 | MulticlassF1Score=0.9171\n",
      "Batch-30 : CrossEntropyLoss=2.2741 | MulticlassF1Score=0.9168\n",
      "Batch-45 : CrossEntropyLoss=2.2720 | MulticlassF1Score=0.9176\n",
      "Batch-60 : CrossEntropyLoss=2.2730 | MulticlassF1Score=0.9162\n",
      "Batch-63 : CrossEntropyLoss=2.2843 | MulticlassF1Score=0.9160\n",
      "\n",
      "Yeah 🎉😄! Model improved.\n",
      "\n",
      "Training   : Mean CrossEntropyLoss = 2.2685 | Mean MulticlassF1Score = 0.9310\n",
      "Validation : Mean CrossEntropyLoss = 2.2739 | Mean MulticlassF1Score = 0.9167\n",
      "================================================================================\n",
      "\n",
      "EPOCH-20\n",
      "Training Step\n"
     ]
    },
    {
     "data": {
      "application/vnd.jupyter.widget-view+json": {
       "model_id": "8eb07a25d9f74f6e94d3ac7a327e6f82",
       "version_major": 2,
       "version_minor": 0
      },
      "text/plain": [
       "  0%|          | 0/226 [00:00<?, ?it/s]"
      ]
     },
     "metadata": {},
     "output_type": "display_data"
    },
    {
     "name": "stdout",
     "output_type": "stream",
     "text": [
      "Batch-15 : CrossEntropyLoss=2.2668 | MulticlassF1Score=0.9370\n",
      "Batch-30 : CrossEntropyLoss=2.2684 | MulticlassF1Score=0.9356\n",
      "Batch-45 : CrossEntropyLoss=2.2689 | MulticlassF1Score=0.9344\n",
      "Batch-60 : CrossEntropyLoss=2.2650 | MulticlassF1Score=0.9336\n",
      "Batch-75 : CrossEntropyLoss=2.2630 | MulticlassF1Score=0.9338\n",
      "Batch-90 : CrossEntropyLoss=2.2678 | MulticlassF1Score=0.9332\n",
      "Batch-105: CrossEntropyLoss=2.2645 | MulticlassF1Score=0.9334\n",
      "Batch-120: CrossEntropyLoss=2.2682 | MulticlassF1Score=0.9334\n",
      "Batch-135: CrossEntropyLoss=2.2662 | MulticlassF1Score=0.9332\n",
      "Batch-150: CrossEntropyLoss=2.2644 | MulticlassF1Score=0.9334\n",
      "Batch-165: CrossEntropyLoss=2.2654 | MulticlassF1Score=0.9334\n",
      "Batch-180: CrossEntropyLoss=2.2712 | MulticlassF1Score=0.9333\n",
      "Batch-195: CrossEntropyLoss=2.2696 | MulticlassF1Score=0.9334\n",
      "Batch-210: CrossEntropyLoss=2.2683 | MulticlassF1Score=0.9334\n",
      "Batch-225: CrossEntropyLoss=2.2696 | MulticlassF1Score=0.9332\n",
      "Batch-226: CrossEntropyLoss=2.2703 | MulticlassF1Score=0.9332\n",
      "\n",
      "Validation Step\n"
     ]
    },
    {
     "data": {
      "application/vnd.jupyter.widget-view+json": {
       "model_id": "de11deed47444a70a33d4dd0bda46426",
       "version_major": 2,
       "version_minor": 0
      },
      "text/plain": [
       "  0%|          | 0/63 [00:00<?, ?it/s]"
      ]
     },
     "metadata": {},
     "output_type": "display_data"
    },
    {
     "name": "stdout",
     "output_type": "stream",
     "text": [
      "Batch-15 : CrossEntropyLoss=2.2749 | MulticlassF1Score=0.9162\n",
      "Batch-30 : CrossEntropyLoss=2.2743 | MulticlassF1Score=0.9146\n",
      "Batch-45 : CrossEntropyLoss=2.2684 | MulticlassF1Score=0.9158\n",
      "Batch-60 : CrossEntropyLoss=2.2758 | MulticlassF1Score=0.9144\n",
      "Batch-63 : CrossEntropyLoss=2.2686 | MulticlassF1Score=0.9147\n",
      "\n",
      "Yeah 🎉😄! Model improved.\n",
      "\n",
      "Training   : Mean CrossEntropyLoss = 2.2682 | Mean MulticlassF1Score = 0.9337\n",
      "Validation : Mean CrossEntropyLoss = 2.2742 | Mean MulticlassF1Score = 0.9167\n",
      "================================================================================\n",
      "\n",
      "EPOCH-21\n",
      "Training Step\n"
     ]
    },
    {
     "data": {
      "application/vnd.jupyter.widget-view+json": {
       "model_id": "868ea573a2b84dcd884418e7261590a9",
       "version_major": 2,
       "version_minor": 0
      },
      "text/plain": [
       "  0%|          | 0/226 [00:00<?, ?it/s]"
      ]
     },
     "metadata": {},
     "output_type": "display_data"
    },
    {
     "name": "stdout",
     "output_type": "stream",
     "text": [
      "Batch-15 : CrossEntropyLoss=2.2668 | MulticlassF1Score=0.9320\n",
      "Batch-30 : CrossEntropyLoss=2.2731 | MulticlassF1Score=0.9313\n",
      "Batch-45 : CrossEntropyLoss=2.2712 | MulticlassF1Score=0.9316\n",
      "Batch-60 : CrossEntropyLoss=2.2681 | MulticlassF1Score=0.9315\n",
      "Batch-75 : CrossEntropyLoss=2.2681 | MulticlassF1Score=0.9326\n",
      "Batch-90 : CrossEntropyLoss=2.2658 | MulticlassF1Score=0.9328\n",
      "Batch-105: CrossEntropyLoss=2.2652 | MulticlassF1Score=0.9326\n",
      "Batch-120: CrossEntropyLoss=2.2685 | MulticlassF1Score=0.9324\n",
      "Batch-135: CrossEntropyLoss=2.2759 | MulticlassF1Score=0.9325\n",
      "Batch-150: CrossEntropyLoss=2.2677 | MulticlassF1Score=0.9327\n",
      "Batch-165: CrossEntropyLoss=2.2704 | MulticlassF1Score=0.9326\n",
      "Batch-180: CrossEntropyLoss=2.2688 | MulticlassF1Score=0.9330\n",
      "Batch-195: CrossEntropyLoss=2.2669 | MulticlassF1Score=0.9331\n",
      "Batch-210: CrossEntropyLoss=2.2682 | MulticlassF1Score=0.9336\n",
      "Batch-225: CrossEntropyLoss=2.2612 | MulticlassF1Score=0.9339\n",
      "Batch-226: CrossEntropyLoss=2.2638 | MulticlassF1Score=0.9339\n",
      "\n",
      "Validation Step\n"
     ]
    },
    {
     "data": {
      "application/vnd.jupyter.widget-view+json": {
       "model_id": "7a6a56db960f43cd9377c8b31273adf1",
       "version_major": 2,
       "version_minor": 0
      },
      "text/plain": [
       "  0%|          | 0/63 [00:00<?, ?it/s]"
      ]
     },
     "metadata": {},
     "output_type": "display_data"
    },
    {
     "name": "stdout",
     "output_type": "stream",
     "text": [
      "Batch-15 : CrossEntropyLoss=2.2765 | MulticlassF1Score=0.9159\n",
      "Batch-30 : CrossEntropyLoss=2.2748 | MulticlassF1Score=0.9146\n",
      "Batch-45 : CrossEntropyLoss=2.2755 | MulticlassF1Score=0.9156\n",
      "Batch-60 : CrossEntropyLoss=2.2676 | MulticlassF1Score=0.9170\n",
      "Batch-63 : CrossEntropyLoss=2.2769 | MulticlassF1Score=0.9168\n",
      "\n",
      "Yeah 🎉😄! Model improved.\n",
      "\n",
      "Training   : Mean CrossEntropyLoss = 2.2680 | Mean MulticlassF1Score = 0.9324\n",
      "Validation : Mean CrossEntropyLoss = 2.2736 | Mean MulticlassF1Score = 0.9159\n",
      "================================================================================\n",
      "\n",
      "EPOCH-22\n",
      "Training Step\n"
     ]
    },
    {
     "data": {
      "application/vnd.jupyter.widget-view+json": {
       "model_id": "cee8d6b23d8e481fad6fe1d979fb52c8",
       "version_major": 2,
       "version_minor": 0
      },
      "text/plain": [
       "  0%|          | 0/226 [00:00<?, ?it/s]"
      ]
     },
     "metadata": {},
     "output_type": "display_data"
    },
    {
     "name": "stdout",
     "output_type": "stream",
     "text": [
      "Batch-15 : CrossEntropyLoss=2.2672 | MulticlassF1Score=0.9316\n",
      "Batch-30 : CrossEntropyLoss=2.2665 | MulticlassF1Score=0.9352\n",
      "Batch-45 : CrossEntropyLoss=2.2695 | MulticlassF1Score=0.9356\n",
      "Batch-60 : CrossEntropyLoss=2.2660 | MulticlassF1Score=0.9357\n",
      "Batch-75 : CrossEntropyLoss=2.2663 | MulticlassF1Score=0.9358\n",
      "Batch-90 : CrossEntropyLoss=2.2709 | MulticlassF1Score=0.9362\n",
      "Batch-105: CrossEntropyLoss=2.2675 | MulticlassF1Score=0.9358\n",
      "Batch-120: CrossEntropyLoss=2.2640 | MulticlassF1Score=0.9361\n",
      "Batch-135: CrossEntropyLoss=2.2684 | MulticlassF1Score=0.9363\n",
      "Batch-150: CrossEntropyLoss=2.2625 | MulticlassF1Score=0.9364\n",
      "Batch-165: CrossEntropyLoss=2.2661 | MulticlassF1Score=0.9363\n",
      "Batch-180: CrossEntropyLoss=2.2722 | MulticlassF1Score=0.9361\n",
      "Batch-195: CrossEntropyLoss=2.2677 | MulticlassF1Score=0.9362\n",
      "Batch-210: CrossEntropyLoss=2.2725 | MulticlassF1Score=0.9360\n",
      "Batch-225: CrossEntropyLoss=2.2667 | MulticlassF1Score=0.9358\n",
      "Batch-226: CrossEntropyLoss=2.2637 | MulticlassF1Score=0.9359\n",
      "\n",
      "Validation Step\n"
     ]
    },
    {
     "data": {
      "application/vnd.jupyter.widget-view+json": {
       "model_id": "a73c2c37b00245528965ce9db17f2cbb",
       "version_major": 2,
       "version_minor": 0
      },
      "text/plain": [
       "  0%|          | 0/63 [00:00<?, ?it/s]"
      ]
     },
     "metadata": {},
     "output_type": "display_data"
    },
    {
     "name": "stdout",
     "output_type": "stream",
     "text": [
      "Batch-15 : CrossEntropyLoss=2.2760 | MulticlassF1Score=0.9194\n",
      "Batch-30 : CrossEntropyLoss=2.2728 | MulticlassF1Score=0.9191\n",
      "Batch-45 : CrossEntropyLoss=2.2810 | MulticlassF1Score=0.9175\n",
      "Batch-60 : CrossEntropyLoss=2.2678 | MulticlassF1Score=0.9172\n",
      "Batch-63 : CrossEntropyLoss=2.2735 | MulticlassF1Score=0.9169\n",
      "\n",
      "Yeah 🎉😄! Model improved.\n",
      "\n",
      "Training   : Mean CrossEntropyLoss = 2.2673 | Mean MulticlassF1Score = 0.9356\n",
      "Validation : Mean CrossEntropyLoss = 2.2735 | Mean MulticlassF1Score = 0.9196\n",
      "================================================================================\n",
      "\n",
      "EPOCH-23\n",
      "Training Step\n"
     ]
    },
    {
     "data": {
      "application/vnd.jupyter.widget-view+json": {
       "model_id": "e169315b2db64ebc81b7630f86a15ae4",
       "version_major": 2,
       "version_minor": 0
      },
      "text/plain": [
       "  0%|          | 0/226 [00:00<?, ?it/s]"
      ]
     },
     "metadata": {},
     "output_type": "display_data"
    },
    {
     "name": "stdout",
     "output_type": "stream",
     "text": [
      "Batch-15 : CrossEntropyLoss=2.2713 | MulticlassF1Score=0.9345\n",
      "Batch-30 : CrossEntropyLoss=2.2653 | MulticlassF1Score=0.9353\n",
      "Batch-45 : CrossEntropyLoss=2.2663 | MulticlassF1Score=0.9352\n",
      "Batch-60 : CrossEntropyLoss=2.2719 | MulticlassF1Score=0.9349\n",
      "Batch-75 : CrossEntropyLoss=2.2686 | MulticlassF1Score=0.9353\n",
      "Batch-90 : CrossEntropyLoss=2.2695 | MulticlassF1Score=0.9353\n",
      "Batch-105: CrossEntropyLoss=2.2612 | MulticlassF1Score=0.9356\n",
      "Batch-120: CrossEntropyLoss=2.2652 | MulticlassF1Score=0.9359\n",
      "Batch-135: CrossEntropyLoss=2.2671 | MulticlassF1Score=0.9361\n",
      "Batch-150: CrossEntropyLoss=2.2670 | MulticlassF1Score=0.9363\n",
      "Batch-165: CrossEntropyLoss=2.2654 | MulticlassF1Score=0.9364\n",
      "Batch-180: CrossEntropyLoss=2.2667 | MulticlassF1Score=0.9366\n",
      "Batch-195: CrossEntropyLoss=2.2686 | MulticlassF1Score=0.9366\n",
      "Batch-210: CrossEntropyLoss=2.2720 | MulticlassF1Score=0.9364\n",
      "Batch-225: CrossEntropyLoss=2.2681 | MulticlassF1Score=0.9365\n",
      "Batch-226: CrossEntropyLoss=2.2609 | MulticlassF1Score=0.9365\n",
      "\n",
      "Validation Step\n"
     ]
    },
    {
     "data": {
      "application/vnd.jupyter.widget-view+json": {
       "model_id": "d9207ed35f50430d9302f7ebee2a58d6",
       "version_major": 2,
       "version_minor": 0
      },
      "text/plain": [
       "  0%|          | 0/63 [00:00<?, ?it/s]"
      ]
     },
     "metadata": {},
     "output_type": "display_data"
    },
    {
     "name": "stdout",
     "output_type": "stream",
     "text": [
      "Batch-15 : CrossEntropyLoss=2.2735 | MulticlassF1Score=0.9204\n",
      "Batch-30 : CrossEntropyLoss=2.2782 | MulticlassF1Score=0.9176\n",
      "Batch-45 : CrossEntropyLoss=2.2679 | MulticlassF1Score=0.9189\n",
      "Batch-60 : CrossEntropyLoss=2.2728 | MulticlassF1Score=0.9167\n",
      "Batch-63 : CrossEntropyLoss=2.2707 | MulticlassF1Score=0.9171\n",
      "\n",
      "Yeah 🎉😄! Model improved.\n",
      "\n",
      "Training   : Mean CrossEntropyLoss = 2.2671 | Mean MulticlassF1Score = 0.9359\n",
      "Validation : Mean CrossEntropyLoss = 2.2734 | Mean MulticlassF1Score = 0.9186\n",
      "================================================================================\n",
      "\n",
      "EPOCH-24\n",
      "Training Step\n"
     ]
    },
    {
     "data": {
      "application/vnd.jupyter.widget-view+json": {
       "model_id": "03618ddacf2e4670b073649c87be2d7e",
       "version_major": 2,
       "version_minor": 0
      },
      "text/plain": [
       "  0%|          | 0/226 [00:00<?, ?it/s]"
      ]
     },
     "metadata": {},
     "output_type": "display_data"
    },
    {
     "name": "stdout",
     "output_type": "stream",
     "text": [
      "Batch-15 : CrossEntropyLoss=2.2677 | MulticlassF1Score=0.9399\n",
      "Batch-30 : CrossEntropyLoss=2.2718 | MulticlassF1Score=0.9369\n",
      "Batch-45 : CrossEntropyLoss=2.2635 | MulticlassF1Score=0.9373\n",
      "Batch-60 : CrossEntropyLoss=2.2660 | MulticlassF1Score=0.9371\n",
      "Batch-75 : CrossEntropyLoss=2.2675 | MulticlassF1Score=0.9381\n",
      "Batch-90 : CrossEntropyLoss=2.2685 | MulticlassF1Score=0.9373\n",
      "Batch-105: CrossEntropyLoss=2.2649 | MulticlassF1Score=0.9367\n",
      "Batch-120: CrossEntropyLoss=2.2688 | MulticlassF1Score=0.9364\n",
      "Batch-135: CrossEntropyLoss=2.2683 | MulticlassF1Score=0.9366\n",
      "Batch-150: CrossEntropyLoss=2.2699 | MulticlassF1Score=0.9366\n",
      "Batch-165: CrossEntropyLoss=2.2683 | MulticlassF1Score=0.9367\n",
      "Batch-180: CrossEntropyLoss=2.2711 | MulticlassF1Score=0.9368\n",
      "Batch-195: CrossEntropyLoss=2.2630 | MulticlassF1Score=0.9372\n",
      "Batch-210: CrossEntropyLoss=2.2653 | MulticlassF1Score=0.9372\n",
      "Batch-225: CrossEntropyLoss=2.2659 | MulticlassF1Score=0.9370\n",
      "Batch-226: CrossEntropyLoss=2.2596 | MulticlassF1Score=0.9371\n",
      "\n",
      "Validation Step\n"
     ]
    },
    {
     "data": {
      "application/vnd.jupyter.widget-view+json": {
       "model_id": "a8d4cbfbac5c42cfa9cad26ae17f32c5",
       "version_major": 2,
       "version_minor": 0
      },
      "text/plain": [
       "  0%|          | 0/63 [00:00<?, ?it/s]"
      ]
     },
     "metadata": {},
     "output_type": "display_data"
    },
    {
     "name": "stdout",
     "output_type": "stream",
     "text": [
      "Batch-15 : CrossEntropyLoss=2.2765 | MulticlassF1Score=0.9152\n",
      "Batch-30 : CrossEntropyLoss=2.2713 | MulticlassF1Score=0.9157\n",
      "Batch-45 : CrossEntropyLoss=2.2746 | MulticlassF1Score=0.9186\n",
      "Batch-60 : CrossEntropyLoss=2.2752 | MulticlassF1Score=0.9178\n",
      "Batch-63 : CrossEntropyLoss=2.2773 | MulticlassF1Score=0.9172\n",
      "\n",
      "Yeah 🎉😄! Model improved.\n",
      "\n",
      "Training   : Mean CrossEntropyLoss = 2.2669 | Mean MulticlassF1Score = 0.9373\n",
      "Validation : Mean CrossEntropyLoss = 2.2734 | Mean MulticlassF1Score = 0.9168\n",
      "================================================================================\n",
      "\n",
      "EPOCH-25\n",
      "Training Step\n"
     ]
    },
    {
     "data": {
      "application/vnd.jupyter.widget-view+json": {
       "model_id": "cefc031769b04631804356c649d13fd3",
       "version_major": 2,
       "version_minor": 0
      },
      "text/plain": [
       "  0%|          | 0/226 [00:00<?, ?it/s]"
      ]
     },
     "metadata": {},
     "output_type": "display_data"
    },
    {
     "name": "stdout",
     "output_type": "stream",
     "text": [
      "Batch-15 : CrossEntropyLoss=2.2600 | MulticlassF1Score=0.9413\n",
      "Batch-30 : CrossEntropyLoss=2.2676 | MulticlassF1Score=0.9403\n",
      "Batch-45 : CrossEntropyLoss=2.2722 | MulticlassF1Score=0.9396\n",
      "Batch-60 : CrossEntropyLoss=2.2645 | MulticlassF1Score=0.9393\n",
      "Batch-75 : CrossEntropyLoss=2.2674 | MulticlassF1Score=0.9393\n",
      "Batch-90 : CrossEntropyLoss=2.2652 | MulticlassF1Score=0.9393\n",
      "Batch-105: CrossEntropyLoss=2.2656 | MulticlassF1Score=0.9391\n",
      "Batch-120: CrossEntropyLoss=2.2643 | MulticlassF1Score=0.9387\n",
      "Batch-135: CrossEntropyLoss=2.2641 | MulticlassF1Score=0.9387\n",
      "Batch-150: CrossEntropyLoss=2.2665 | MulticlassF1Score=0.9390\n",
      "Batch-165: CrossEntropyLoss=2.2627 | MulticlassF1Score=0.9390\n",
      "Batch-180: CrossEntropyLoss=2.2676 | MulticlassF1Score=0.9388\n",
      "Batch-195: CrossEntropyLoss=2.2656 | MulticlassF1Score=0.9382\n",
      "Batch-210: CrossEntropyLoss=2.2657 | MulticlassF1Score=0.9380\n",
      "Batch-225: CrossEntropyLoss=2.2591 | MulticlassF1Score=0.9379\n",
      "Batch-226: CrossEntropyLoss=2.2661 | MulticlassF1Score=0.9379\n",
      "\n",
      "Validation Step\n"
     ]
    },
    {
     "data": {
      "application/vnd.jupyter.widget-view+json": {
       "model_id": "aa215c108a854608885b820a70e7e6de",
       "version_major": 2,
       "version_minor": 0
      },
      "text/plain": [
       "  0%|          | 0/63 [00:00<?, ?it/s]"
      ]
     },
     "metadata": {},
     "output_type": "display_data"
    },
    {
     "name": "stdout",
     "output_type": "stream",
     "text": [
      "Batch-15 : CrossEntropyLoss=2.2794 | MulticlassF1Score=0.9199\n",
      "Batch-30 : CrossEntropyLoss=2.2715 | MulticlassF1Score=0.9191\n",
      "Batch-45 : CrossEntropyLoss=2.2741 | MulticlassF1Score=0.9186\n",
      "Batch-60 : CrossEntropyLoss=2.2730 | MulticlassF1Score=0.9177\n",
      "Batch-63 : CrossEntropyLoss=2.2794 | MulticlassF1Score=0.9176\n",
      "\n",
      "Yeah 🎉😄! Model improved.\n",
      "\n",
      "Training   : Mean CrossEntropyLoss = 2.2666 | Mean MulticlassF1Score = 0.9390\n",
      "Validation : Mean CrossEntropyLoss = 2.2732 | Mean MulticlassF1Score = 0.9190\n",
      "================================================================================\n",
      "\n",
      "EPOCH-26\n",
      "Training Step\n"
     ]
    },
    {
     "data": {
      "application/vnd.jupyter.widget-view+json": {
       "model_id": "e7aa9a5cf51e4283b954ad8d842c9a4e",
       "version_major": 2,
       "version_minor": 0
      },
      "text/plain": [
       "  0%|          | 0/226 [00:00<?, ?it/s]"
      ]
     },
     "metadata": {},
     "output_type": "display_data"
    },
    {
     "name": "stdout",
     "output_type": "stream",
     "text": [
      "Batch-15 : CrossEntropyLoss=2.2653 | MulticlassF1Score=0.9424\n",
      "Batch-30 : CrossEntropyLoss=2.2703 | MulticlassF1Score=0.9420\n",
      "Batch-45 : CrossEntropyLoss=2.2679 | MulticlassF1Score=0.9409\n",
      "Batch-60 : CrossEntropyLoss=2.2685 | MulticlassF1Score=0.9404\n",
      "Batch-75 : CrossEntropyLoss=2.2656 | MulticlassF1Score=0.9398\n",
      "Batch-90 : CrossEntropyLoss=2.2672 | MulticlassF1Score=0.9390\n",
      "Batch-105: CrossEntropyLoss=2.2682 | MulticlassF1Score=0.9385\n",
      "Batch-120: CrossEntropyLoss=2.2662 | MulticlassF1Score=0.9387\n",
      "Batch-135: CrossEntropyLoss=2.2647 | MulticlassF1Score=0.9389\n",
      "Batch-150: CrossEntropyLoss=2.2636 | MulticlassF1Score=0.9388\n",
      "Batch-165: CrossEntropyLoss=2.2699 | MulticlassF1Score=0.9386\n",
      "Batch-180: CrossEntropyLoss=2.2718 | MulticlassF1Score=0.9388\n",
      "Batch-195: CrossEntropyLoss=2.2657 | MulticlassF1Score=0.9386\n",
      "Batch-210: CrossEntropyLoss=2.2636 | MulticlassF1Score=0.9394\n",
      "Batch-225: CrossEntropyLoss=2.2664 | MulticlassF1Score=0.9404\n",
      "Batch-226: CrossEntropyLoss=2.2614 | MulticlassF1Score=0.9404\n",
      "\n",
      "Validation Step\n"
     ]
    },
    {
     "data": {
      "application/vnd.jupyter.widget-view+json": {
       "model_id": "ab52bee8e8ab488bbb0f9556c384c040",
       "version_major": 2,
       "version_minor": 0
      },
      "text/plain": [
       "  0%|          | 0/63 [00:00<?, ?it/s]"
      ]
     },
     "metadata": {},
     "output_type": "display_data"
    },
    {
     "name": "stdout",
     "output_type": "stream",
     "text": [
      "Batch-15 : CrossEntropyLoss=2.2703 | MulticlassF1Score=0.9341\n",
      "Batch-30 : CrossEntropyLoss=2.2667 | MulticlassF1Score=0.9361\n",
      "Batch-45 : CrossEntropyLoss=2.2672 | MulticlassF1Score=0.9370\n",
      "Batch-60 : CrossEntropyLoss=2.2686 | MulticlassF1Score=0.9364\n",
      "Batch-63 : CrossEntropyLoss=2.2673 | MulticlassF1Score=0.9367\n",
      "\n",
      "Yeah 🎉😄! Model improved.\n",
      "\n",
      "Training   : Mean CrossEntropyLoss = 2.2659 | Mean MulticlassF1Score = 0.9398\n",
      "Validation : Mean CrossEntropyLoss = 2.2674 | Mean MulticlassF1Score = 0.9348\n",
      "================================================================================\n",
      "\n",
      "EPOCH-27\n",
      "Training Step\n"
     ]
    },
    {
     "data": {
      "application/vnd.jupyter.widget-view+json": {
       "model_id": "7f87f0970fdf42caa9c9fa92a7a26354",
       "version_major": 2,
       "version_minor": 0
      },
      "text/plain": [
       "  0%|          | 0/226 [00:00<?, ?it/s]"
      ]
     },
     "metadata": {},
     "output_type": "display_data"
    },
    {
     "name": "stdout",
     "output_type": "stream",
     "text": [
      "Batch-15 : CrossEntropyLoss=2.2591 | MulticlassF1Score=0.9560\n",
      "Batch-30 : CrossEntropyLoss=2.2619 | MulticlassF1Score=0.9556\n",
      "Batch-45 : CrossEntropyLoss=2.2590 | MulticlassF1Score=0.9564\n",
      "Batch-60 : CrossEntropyLoss=2.2589 | MulticlassF1Score=0.9572\n",
      "Batch-75 : CrossEntropyLoss=2.2564 | MulticlassF1Score=0.9580\n",
      "Batch-90 : CrossEntropyLoss=2.2624 | MulticlassF1Score=0.9578\n",
      "Batch-105: CrossEntropyLoss=2.2578 | MulticlassF1Score=0.9580\n",
      "Batch-120: CrossEntropyLoss=2.2618 | MulticlassF1Score=0.9575\n",
      "Batch-135: CrossEntropyLoss=2.2581 | MulticlassF1Score=0.9570\n",
      "Batch-150: CrossEntropyLoss=2.2612 | MulticlassF1Score=0.9571\n",
      "Batch-165: CrossEntropyLoss=2.2630 | MulticlassF1Score=0.9570\n",
      "Batch-180: CrossEntropyLoss=2.2608 | MulticlassF1Score=0.9568\n",
      "Batch-195: CrossEntropyLoss=2.2625 | MulticlassF1Score=0.9569\n",
      "Batch-210: CrossEntropyLoss=2.2629 | MulticlassF1Score=0.9567\n",
      "Batch-225: CrossEntropyLoss=2.2625 | MulticlassF1Score=0.9569\n",
      "Batch-226: CrossEntropyLoss=2.2613 | MulticlassF1Score=0.9569\n",
      "\n",
      "Validation Step\n"
     ]
    },
    {
     "data": {
      "application/vnd.jupyter.widget-view+json": {
       "model_id": "ba9d3185afb84b98ae2579711f2ebe50",
       "version_major": 2,
       "version_minor": 0
      },
      "text/plain": [
       "  0%|          | 0/63 [00:00<?, ?it/s]"
      ]
     },
     "metadata": {},
     "output_type": "display_data"
    },
    {
     "name": "stdout",
     "output_type": "stream",
     "text": [
      "Batch-15 : CrossEntropyLoss=2.2663 | MulticlassF1Score=0.9398\n",
      "Batch-30 : CrossEntropyLoss=2.2676 | MulticlassF1Score=0.9380\n",
      "Batch-45 : CrossEntropyLoss=2.2716 | MulticlassF1Score=0.9373\n",
      "Batch-60 : CrossEntropyLoss=2.2730 | MulticlassF1Score=0.9372\n",
      "Batch-63 : CrossEntropyLoss=2.2675 | MulticlassF1Score=0.9371\n",
      "\n",
      "Yeah 🎉😄! Model improved.\n",
      "\n",
      "Training   : Mean CrossEntropyLoss = 2.2610 | Mean MulticlassF1Score = 0.9571\n",
      "Validation : Mean CrossEntropyLoss = 2.2673 | Mean MulticlassF1Score = 0.9374\n",
      "================================================================================\n",
      "\n",
      "EPOCH-28\n",
      "Training Step\n"
     ]
    },
    {
     "data": {
      "application/vnd.jupyter.widget-view+json": {
       "model_id": "b253e0fb97be4ea7b7bdbb4ef9d46f9e",
       "version_major": 2,
       "version_minor": 0
      },
      "text/plain": [
       "  0%|          | 0/226 [00:00<?, ?it/s]"
      ]
     },
     "metadata": {},
     "output_type": "display_data"
    },
    {
     "name": "stdout",
     "output_type": "stream",
     "text": [
      "Batch-15 : CrossEntropyLoss=2.2569 | MulticlassF1Score=0.9591\n",
      "Batch-30 : CrossEntropyLoss=2.2596 | MulticlassF1Score=0.9584\n",
      "Batch-45 : CrossEntropyLoss=2.2589 | MulticlassF1Score=0.9583\n",
      "Batch-60 : CrossEntropyLoss=2.2605 | MulticlassF1Score=0.9583\n",
      "Batch-75 : CrossEntropyLoss=2.2580 | MulticlassF1Score=0.9585\n",
      "Batch-90 : CrossEntropyLoss=2.2609 | MulticlassF1Score=0.9582\n",
      "Batch-105: CrossEntropyLoss=2.2584 | MulticlassF1Score=0.9584\n",
      "Batch-120: CrossEntropyLoss=2.2609 | MulticlassF1Score=0.9579\n",
      "Batch-135: CrossEntropyLoss=2.2584 | MulticlassF1Score=0.9579\n",
      "Batch-150: CrossEntropyLoss=2.2618 | MulticlassF1Score=0.9577\n",
      "Batch-165: CrossEntropyLoss=2.2598 | MulticlassF1Score=0.9577\n",
      "Batch-180: CrossEntropyLoss=2.2593 | MulticlassF1Score=0.9580\n",
      "Batch-195: CrossEntropyLoss=2.2629 | MulticlassF1Score=0.9578\n",
      "Batch-210: CrossEntropyLoss=2.2622 | MulticlassF1Score=0.9576\n",
      "Batch-225: CrossEntropyLoss=2.2635 | MulticlassF1Score=0.9575\n",
      "Batch-226: CrossEntropyLoss=2.2615 | MulticlassF1Score=0.9575\n",
      "\n",
      "Validation Step\n"
     ]
    },
    {
     "data": {
      "application/vnd.jupyter.widget-view+json": {
       "model_id": "1f7dd8dc759c4b23be432412b5281f82",
       "version_major": 2,
       "version_minor": 0
      },
      "text/plain": [
       "  0%|          | 0/63 [00:00<?, ?it/s]"
      ]
     },
     "metadata": {},
     "output_type": "display_data"
    },
    {
     "name": "stdout",
     "output_type": "stream",
     "text": [
      "Batch-15 : CrossEntropyLoss=2.2713 | MulticlassF1Score=0.9351\n",
      "Batch-30 : CrossEntropyLoss=2.2627 | MulticlassF1Score=0.9371\n",
      "Batch-45 : CrossEntropyLoss=2.2713 | MulticlassF1Score=0.9370\n",
      "Batch-60 : CrossEntropyLoss=2.2654 | MulticlassF1Score=0.9366\n",
      "Batch-63 : CrossEntropyLoss=2.2677 | MulticlassF1Score=0.9370\n",
      "\n",
      "Yeah 🎉😄! Model improved.\n",
      "\n",
      "Training   : Mean CrossEntropyLoss = 2.2607 | Mean MulticlassF1Score = 0.9576\n",
      "Validation : Mean CrossEntropyLoss = 2.2672 | Mean MulticlassF1Score = 0.9373\n",
      "================================================================================\n",
      "\n",
      "EPOCH-29\n",
      "Training Step\n"
     ]
    },
    {
     "data": {
      "application/vnd.jupyter.widget-view+json": {
       "model_id": "b1aeb0735f2f4a65881302ab502cf8e3",
       "version_major": 2,
       "version_minor": 0
      },
      "text/plain": [
       "  0%|          | 0/226 [00:00<?, ?it/s]"
      ]
     },
     "metadata": {},
     "output_type": "display_data"
    },
    {
     "name": "stdout",
     "output_type": "stream",
     "text": [
      "Batch-15 : CrossEntropyLoss=2.2581 | MulticlassF1Score=0.9579\n",
      "Batch-30 : CrossEntropyLoss=2.2583 | MulticlassF1Score=0.9574\n",
      "Batch-45 : CrossEntropyLoss=2.2589 | MulticlassF1Score=0.9586\n",
      "Batch-60 : CrossEntropyLoss=2.2599 | MulticlassF1Score=0.9588\n",
      "Batch-75 : CrossEntropyLoss=2.2633 | MulticlassF1Score=0.9585\n",
      "Batch-90 : CrossEntropyLoss=2.2595 | MulticlassF1Score=0.9584\n",
      "Batch-105: CrossEntropyLoss=2.2607 | MulticlassF1Score=0.9585\n",
      "Batch-120: CrossEntropyLoss=2.2579 | MulticlassF1Score=0.9582\n",
      "Batch-135: CrossEntropyLoss=2.2596 | MulticlassF1Score=0.9581\n",
      "Batch-150: CrossEntropyLoss=2.2581 | MulticlassF1Score=0.9582\n",
      "Batch-165: CrossEntropyLoss=2.2593 | MulticlassF1Score=0.9583\n",
      "Batch-180: CrossEntropyLoss=2.2592 | MulticlassF1Score=0.9582\n",
      "Batch-195: CrossEntropyLoss=2.2611 | MulticlassF1Score=0.9582\n",
      "Batch-210: CrossEntropyLoss=2.2599 | MulticlassF1Score=0.9581\n",
      "Batch-225: CrossEntropyLoss=2.2642 | MulticlassF1Score=0.9578\n",
      "Batch-226: CrossEntropyLoss=2.2676 | MulticlassF1Score=0.9578\n",
      "\n",
      "Validation Step\n"
     ]
    },
    {
     "data": {
      "application/vnd.jupyter.widget-view+json": {
       "model_id": "db026efa116044a3b50fecc0a63fa24c",
       "version_major": 2,
       "version_minor": 0
      },
      "text/plain": [
       "  0%|          | 0/63 [00:00<?, ?it/s]"
      ]
     },
     "metadata": {},
     "output_type": "display_data"
    },
    {
     "name": "stdout",
     "output_type": "stream",
     "text": [
      "Batch-15 : CrossEntropyLoss=2.2639 | MulticlassF1Score=0.9335\n",
      "Batch-30 : CrossEntropyLoss=2.2651 | MulticlassF1Score=0.9345\n",
      "Batch-45 : CrossEntropyLoss=2.2734 | MulticlassF1Score=0.9369\n",
      "Batch-60 : CrossEntropyLoss=2.2640 | MulticlassF1Score=0.9368\n",
      "Batch-63 : CrossEntropyLoss=2.2700 | MulticlassF1Score=0.9366\n",
      "\n",
      "Yeah 🎉😄! Model improved.\n",
      "\n",
      "Training   : Mean CrossEntropyLoss = 2.2606 | Mean MulticlassF1Score = 0.9582\n",
      "Validation : Mean CrossEntropyLoss = 2.2674 | Mean MulticlassF1Score = 0.9347\n",
      "================================================================================\n",
      "\n",
      "EPOCH-30\n",
      "Training Step\n"
     ]
    },
    {
     "data": {
      "application/vnd.jupyter.widget-view+json": {
       "model_id": "a4a2dffd13d94313872352d2a28672a1",
       "version_major": 2,
       "version_minor": 0
      },
      "text/plain": [
       "  0%|          | 0/226 [00:00<?, ?it/s]"
      ]
     },
     "metadata": {},
     "output_type": "display_data"
    },
    {
     "name": "stdout",
     "output_type": "stream",
     "text": [
      "Batch-15 : CrossEntropyLoss=2.2668 | MulticlassF1Score=0.9584\n",
      "Batch-30 : CrossEntropyLoss=2.2573 | MulticlassF1Score=0.9566\n",
      "Batch-45 : CrossEntropyLoss=2.2597 | MulticlassF1Score=0.9577\n",
      "Batch-60 : CrossEntropyLoss=2.2631 | MulticlassF1Score=0.9581\n",
      "Batch-75 : CrossEntropyLoss=2.2639 | MulticlassF1Score=0.9584\n",
      "Batch-90 : CrossEntropyLoss=2.2601 | MulticlassF1Score=0.9589\n",
      "Batch-105: CrossEntropyLoss=2.2584 | MulticlassF1Score=0.9590\n",
      "Batch-120: CrossEntropyLoss=2.2586 | MulticlassF1Score=0.9589\n",
      "Batch-135: CrossEntropyLoss=2.2590 | MulticlassF1Score=0.9587\n",
      "Batch-150: CrossEntropyLoss=2.2593 | MulticlassF1Score=0.9588\n",
      "Batch-165: CrossEntropyLoss=2.2599 | MulticlassF1Score=0.9586\n",
      "Batch-180: CrossEntropyLoss=2.2568 | MulticlassF1Score=0.9589\n",
      "Batch-195: CrossEntropyLoss=2.2580 | MulticlassF1Score=0.9586\n",
      "Batch-210: CrossEntropyLoss=2.2622 | MulticlassF1Score=0.9587\n",
      "Batch-225: CrossEntropyLoss=2.2611 | MulticlassF1Score=0.9584\n",
      "Batch-226: CrossEntropyLoss=2.2568 | MulticlassF1Score=0.9584\n",
      "\n",
      "Validation Step\n"
     ]
    },
    {
     "data": {
      "application/vnd.jupyter.widget-view+json": {
       "model_id": "b3018f5b826444faab9a315f3cee8843",
       "version_major": 2,
       "version_minor": 0
      },
      "text/plain": [
       "  0%|          | 0/63 [00:00<?, ?it/s]"
      ]
     },
     "metadata": {},
     "output_type": "display_data"
    },
    {
     "name": "stdout",
     "output_type": "stream",
     "text": [
      "Batch-15 : CrossEntropyLoss=2.2687 | MulticlassF1Score=0.9348\n",
      "Batch-30 : CrossEntropyLoss=2.2709 | MulticlassF1Score=0.9345\n",
      "Batch-45 : CrossEntropyLoss=2.2696 | MulticlassF1Score=0.9350\n",
      "Batch-60 : CrossEntropyLoss=2.2689 | MulticlassF1Score=0.9361\n",
      "Batch-63 : CrossEntropyLoss=2.2637 | MulticlassF1Score=0.9365\n",
      "\n",
      "Yeah 🎉😄! Model improved.\n",
      "\n",
      "Training   : Mean CrossEntropyLoss = 2.2603 | Mean MulticlassF1Score = 0.9584\n",
      "Validation : Mean CrossEntropyLoss = 2.2674 | Mean MulticlassF1Score = 0.9357\n",
      "================================================================================\n",
      "\n",
      "EPOCH-31\n",
      "Training Step\n"
     ]
    },
    {
     "data": {
      "application/vnd.jupyter.widget-view+json": {
       "model_id": "303168c9f8d2463dbf85a6d6e002775d",
       "version_major": 2,
       "version_minor": 0
      },
      "text/plain": [
       "  0%|          | 0/226 [00:00<?, ?it/s]"
      ]
     },
     "metadata": {},
     "output_type": "display_data"
    },
    {
     "name": "stdout",
     "output_type": "stream",
     "text": [
      "Batch-15 : CrossEntropyLoss=2.2614 | MulticlassF1Score=0.9605\n",
      "Batch-30 : CrossEntropyLoss=2.2637 | MulticlassF1Score=0.9605\n",
      "Batch-45 : CrossEntropyLoss=2.2601 | MulticlassF1Score=0.9604\n",
      "Batch-60 : CrossEntropyLoss=2.2605 | MulticlassF1Score=0.9601\n",
      "Batch-75 : CrossEntropyLoss=2.2628 | MulticlassF1Score=0.9603\n",
      "Batch-90 : CrossEntropyLoss=2.2574 | MulticlassF1Score=0.9605\n",
      "Batch-105: CrossEntropyLoss=2.2621 | MulticlassF1Score=0.9603\n",
      "Batch-120: CrossEntropyLoss=2.2609 | MulticlassF1Score=0.9600\n",
      "Batch-135: CrossEntropyLoss=2.2603 | MulticlassF1Score=0.9597\n",
      "Batch-150: CrossEntropyLoss=2.2602 | MulticlassF1Score=0.9598\n",
      "Batch-165: CrossEntropyLoss=2.2638 | MulticlassF1Score=0.9598\n",
      "Batch-180: CrossEntropyLoss=2.2617 | MulticlassF1Score=0.9598\n",
      "Batch-195: CrossEntropyLoss=2.2629 | MulticlassF1Score=0.9599\n",
      "Batch-210: CrossEntropyLoss=2.2695 | MulticlassF1Score=0.9595\n",
      "Batch-225: CrossEntropyLoss=2.2629 | MulticlassF1Score=0.9594\n",
      "Batch-226: CrossEntropyLoss=2.2605 | MulticlassF1Score=0.9594\n",
      "\n",
      "Validation Step\n"
     ]
    },
    {
     "data": {
      "application/vnd.jupyter.widget-view+json": {
       "model_id": "4cf4b7436e364edfb6155c9143c702c7",
       "version_major": 2,
       "version_minor": 0
      },
      "text/plain": [
       "  0%|          | 0/63 [00:00<?, ?it/s]"
      ]
     },
     "metadata": {},
     "output_type": "display_data"
    },
    {
     "name": "stdout",
     "output_type": "stream",
     "text": [
      "Batch-15 : CrossEntropyLoss=2.2630 | MulticlassF1Score=0.9359\n",
      "Batch-30 : CrossEntropyLoss=2.2652 | MulticlassF1Score=0.9374\n",
      "Batch-45 : CrossEntropyLoss=2.2659 | MulticlassF1Score=0.9365\n",
      "Batch-60 : CrossEntropyLoss=2.2708 | MulticlassF1Score=0.9373\n",
      "Batch-63 : CrossEntropyLoss=2.2711 | MulticlassF1Score=0.9373\n",
      "\n",
      "Yeah 🎉😄! Model improved.\n",
      "\n",
      "Training   : Mean CrossEntropyLoss = 2.2600 | Mean MulticlassF1Score = 0.9600\n",
      "Validation : Mean CrossEntropyLoss = 2.2671 | Mean MulticlassF1Score = 0.9369\n",
      "================================================================================\n",
      "\n",
      "EPOCH-32\n",
      "Training Step\n"
     ]
    },
    {
     "data": {
      "application/vnd.jupyter.widget-view+json": {
       "model_id": "097a244e2eb643999086667c6cac49eb",
       "version_major": 2,
       "version_minor": 0
      },
      "text/plain": [
       "  0%|          | 0/226 [00:00<?, ?it/s]"
      ]
     },
     "metadata": {},
     "output_type": "display_data"
    },
    {
     "name": "stdout",
     "output_type": "stream",
     "text": [
      "Batch-15 : CrossEntropyLoss=2.2601 | MulticlassF1Score=0.9623\n",
      "Batch-30 : CrossEntropyLoss=2.2572 | MulticlassF1Score=0.9610\n",
      "Batch-45 : CrossEntropyLoss=2.2623 | MulticlassF1Score=0.9609\n",
      "Batch-60 : CrossEntropyLoss=2.2588 | MulticlassF1Score=0.9609\n",
      "Batch-75 : CrossEntropyLoss=2.2595 | MulticlassF1Score=0.9610\n",
      "Batch-90 : CrossEntropyLoss=2.2610 | MulticlassF1Score=0.9609\n",
      "Batch-105: CrossEntropyLoss=2.2608 | MulticlassF1Score=0.9603\n",
      "Batch-120: CrossEntropyLoss=2.2560 | MulticlassF1Score=0.9601\n",
      "Batch-135: CrossEntropyLoss=2.2601 | MulticlassF1Score=0.9601\n",
      "Batch-150: CrossEntropyLoss=2.2585 | MulticlassF1Score=0.9601\n",
      "Batch-165: CrossEntropyLoss=2.2575 | MulticlassF1Score=0.9601\n",
      "Batch-180: CrossEntropyLoss=2.2605 | MulticlassF1Score=0.9599\n",
      "Batch-195: CrossEntropyLoss=2.2592 | MulticlassF1Score=0.9598\n",
      "Batch-210: CrossEntropyLoss=2.2616 | MulticlassF1Score=0.9596\n",
      "Batch-225: CrossEntropyLoss=2.2585 | MulticlassF1Score=0.9597\n",
      "Batch-226: CrossEntropyLoss=2.2591 | MulticlassF1Score=0.9597\n",
      "\n",
      "Validation Step\n"
     ]
    },
    {
     "data": {
      "application/vnd.jupyter.widget-view+json": {
       "model_id": "a8d05cd79c174ebfaa45c5eebd9169e7",
       "version_major": 2,
       "version_minor": 0
      },
      "text/plain": [
       "  0%|          | 0/63 [00:00<?, ?it/s]"
      ]
     },
     "metadata": {},
     "output_type": "display_data"
    },
    {
     "name": "stdout",
     "output_type": "stream",
     "text": [
      "Batch-15 : CrossEntropyLoss=2.2695 | MulticlassF1Score=0.9377\n",
      "Batch-30 : CrossEntropyLoss=2.2640 | MulticlassF1Score=0.9366\n",
      "Batch-45 : CrossEntropyLoss=2.2676 | MulticlassF1Score=0.9375\n",
      "Batch-60 : CrossEntropyLoss=2.2669 | MulticlassF1Score=0.9380\n",
      "Batch-63 : CrossEntropyLoss=2.2643 | MulticlassF1Score=0.9375\n",
      "\n",
      "Yeah 🎉😄! Model improved.\n",
      "\n",
      "Training   : Mean CrossEntropyLoss = 2.2599 | Mean MulticlassF1Score = 0.9603\n",
      "Validation : Mean CrossEntropyLoss = 2.2670 | Mean MulticlassF1Score = 0.9370\n",
      "================================================================================\n",
      "\n",
      "EPOCH-33\n",
      "Training Step\n"
     ]
    },
    {
     "data": {
      "application/vnd.jupyter.widget-view+json": {
       "model_id": "ea03b1dca0c944f2a7ce73783c3e048f",
       "version_major": 2,
       "version_minor": 0
      },
      "text/plain": [
       "  0%|          | 0/226 [00:00<?, ?it/s]"
      ]
     },
     "metadata": {},
     "output_type": "display_data"
    },
    {
     "name": "stdout",
     "output_type": "stream",
     "text": [
      "Batch-15 : CrossEntropyLoss=2.2596 | MulticlassF1Score=0.9612\n",
      "Batch-30 : CrossEntropyLoss=2.2610 | MulticlassF1Score=0.9614\n",
      "Batch-45 : CrossEntropyLoss=2.2618 | MulticlassF1Score=0.9607\n",
      "Batch-60 : CrossEntropyLoss=2.2636 | MulticlassF1Score=0.9601\n",
      "Batch-75 : CrossEntropyLoss=2.2597 | MulticlassF1Score=0.9599\n",
      "Batch-90 : CrossEntropyLoss=2.2634 | MulticlassF1Score=0.9593\n",
      "Batch-105: CrossEntropyLoss=2.2608 | MulticlassF1Score=0.9598\n",
      "Batch-120: CrossEntropyLoss=2.2638 | MulticlassF1Score=0.9596\n",
      "Batch-135: CrossEntropyLoss=2.2617 | MulticlassF1Score=0.9599\n",
      "Batch-150: CrossEntropyLoss=2.2566 | MulticlassF1Score=0.9596\n",
      "Batch-165: CrossEntropyLoss=2.2594 | MulticlassF1Score=0.9596\n",
      "Batch-180: CrossEntropyLoss=2.2568 | MulticlassF1Score=0.9597\n",
      "Batch-195: CrossEntropyLoss=2.2569 | MulticlassF1Score=0.9599\n",
      "Batch-210: CrossEntropyLoss=2.2638 | MulticlassF1Score=0.9598\n",
      "Batch-225: CrossEntropyLoss=2.2634 | MulticlassF1Score=0.9599\n",
      "Batch-226: CrossEntropyLoss=2.2605 | MulticlassF1Score=0.9598\n",
      "\n",
      "Validation Step\n"
     ]
    },
    {
     "data": {
      "application/vnd.jupyter.widget-view+json": {
       "model_id": "b3aaa10ce4f54ea3b9bf464374182349",
       "version_major": 2,
       "version_minor": 0
      },
      "text/plain": [
       "  0%|          | 0/63 [00:00<?, ?it/s]"
      ]
     },
     "metadata": {},
     "output_type": "display_data"
    },
    {
     "name": "stdout",
     "output_type": "stream",
     "text": [
      "Batch-15 : CrossEntropyLoss=2.2676 | MulticlassF1Score=0.9346\n",
      "Batch-30 : CrossEntropyLoss=2.2648 | MulticlassF1Score=0.9360\n",
      "Batch-45 : CrossEntropyLoss=2.2662 | MulticlassF1Score=0.9370\n",
      "Batch-60 : CrossEntropyLoss=2.2643 | MulticlassF1Score=0.9373\n",
      "Batch-63 : CrossEntropyLoss=2.2704 | MulticlassF1Score=0.9374\n",
      "\n",
      "Yeah 🎉😄! Model improved.\n",
      "\n",
      "Training   : Mean CrossEntropyLoss = 2.2599 | Mean MulticlassF1Score = 0.9601\n",
      "Validation : Mean CrossEntropyLoss = 2.2671 | Mean MulticlassF1Score = 0.9364\n",
      "================================================================================\n",
      "\n",
      "EPOCH-34\n",
      "Training Step\n"
     ]
    },
    {
     "data": {
      "application/vnd.jupyter.widget-view+json": {
       "model_id": "13b2ffde6ba04839badf9fe787d49df5",
       "version_major": 2,
       "version_minor": 0
      },
      "text/plain": [
       "  0%|          | 0/226 [00:00<?, ?it/s]"
      ]
     },
     "metadata": {},
     "output_type": "display_data"
    },
    {
     "name": "stdout",
     "output_type": "stream",
     "text": [
      "Batch-15 : CrossEntropyLoss=2.2571 | MulticlassF1Score=0.9607\n",
      "Batch-30 : CrossEntropyLoss=2.2599 | MulticlassF1Score=0.9606\n",
      "Batch-45 : CrossEntropyLoss=2.2605 | MulticlassF1Score=0.9595\n",
      "Batch-60 : CrossEntropyLoss=2.2615 | MulticlassF1Score=0.9600\n",
      "Batch-75 : CrossEntropyLoss=2.2574 | MulticlassF1Score=0.9606\n",
      "Batch-90 : CrossEntropyLoss=2.2649 | MulticlassF1Score=0.9601\n",
      "Batch-105: CrossEntropyLoss=2.2596 | MulticlassF1Score=0.9598\n",
      "Batch-120: CrossEntropyLoss=2.2623 | MulticlassF1Score=0.9601\n",
      "Batch-135: CrossEntropyLoss=2.2587 | MulticlassF1Score=0.9599\n",
      "Batch-150: CrossEntropyLoss=2.2631 | MulticlassF1Score=0.9594\n",
      "Batch-165: CrossEntropyLoss=2.2618 | MulticlassF1Score=0.9596\n",
      "Batch-180: CrossEntropyLoss=2.2587 | MulticlassF1Score=0.9596\n",
      "Batch-195: CrossEntropyLoss=2.2580 | MulticlassF1Score=0.9595\n",
      "Batch-210: CrossEntropyLoss=2.2619 | MulticlassF1Score=0.9594\n",
      "Batch-225: CrossEntropyLoss=2.2633 | MulticlassF1Score=0.9594\n",
      "Batch-226: CrossEntropyLoss=2.2616 | MulticlassF1Score=0.9594\n",
      "\n",
      "Validation Step\n"
     ]
    },
    {
     "data": {
      "application/vnd.jupyter.widget-view+json": {
       "model_id": "6ea20fcc1d624d73bc0c524c14db69c3",
       "version_major": 2,
       "version_minor": 0
      },
      "text/plain": [
       "  0%|          | 0/63 [00:00<?, ?it/s]"
      ]
     },
     "metadata": {},
     "output_type": "display_data"
    },
    {
     "name": "stdout",
     "output_type": "stream",
     "text": [
      "Batch-15 : CrossEntropyLoss=2.2662 | MulticlassF1Score=0.9408\n",
      "Batch-30 : CrossEntropyLoss=2.2660 | MulticlassF1Score=0.9389\n",
      "Batch-45 : CrossEntropyLoss=2.2640 | MulticlassF1Score=0.9378\n",
      "Batch-60 : CrossEntropyLoss=2.2731 | MulticlassF1Score=0.9378\n",
      "Batch-63 : CrossEntropyLoss=2.2734 | MulticlassF1Score=0.9375\n",
      "\n",
      "Huft 😥! Model not improved.\n",
      "\n",
      "Training   : Mean CrossEntropyLoss = 2.2600 | Mean MulticlassF1Score = 0.9597\n",
      "Validation : Mean CrossEntropyLoss = 2.2671 | Mean MulticlassF1Score = 0.9390\n",
      "Patience = 2/50❗\n",
      "================================================================================\n",
      "\n",
      "EPOCH-35\n",
      "Training Step\n"
     ]
    },
    {
     "data": {
      "application/vnd.jupyter.widget-view+json": {
       "model_id": "1657edeb68d9473189bc7fd5b10ac56e",
       "version_major": 2,
       "version_minor": 0
      },
      "text/plain": [
       "  0%|          | 0/226 [00:00<?, ?it/s]"
      ]
     },
     "metadata": {},
     "output_type": "display_data"
    },
    {
     "name": "stdout",
     "output_type": "stream",
     "text": [
      "Batch-15 : CrossEntropyLoss=2.2574 | MulticlassF1Score=0.9595\n",
      "Batch-30 : CrossEntropyLoss=2.2589 | MulticlassF1Score=0.9597\n",
      "Batch-45 : CrossEntropyLoss=2.2591 | MulticlassF1Score=0.9600\n",
      "Batch-60 : CrossEntropyLoss=2.2578 | MulticlassF1Score=0.9597\n",
      "Batch-75 : CrossEntropyLoss=2.2615 | MulticlassF1Score=0.9601\n",
      "Batch-90 : CrossEntropyLoss=2.2626 | MulticlassF1Score=0.9599\n",
      "Batch-105: CrossEntropyLoss=2.2575 | MulticlassF1Score=0.9603\n",
      "Batch-120: CrossEntropyLoss=2.2579 | MulticlassF1Score=0.9599\n",
      "Batch-135: CrossEntropyLoss=2.2595 | MulticlassF1Score=0.9600\n",
      "Batch-150: CrossEntropyLoss=2.2568 | MulticlassF1Score=0.9599\n",
      "Batch-165: CrossEntropyLoss=2.2622 | MulticlassF1Score=0.9596\n",
      "Batch-180: CrossEntropyLoss=2.2606 | MulticlassF1Score=0.9598\n",
      "Batch-195: CrossEntropyLoss=2.2612 | MulticlassF1Score=0.9598\n",
      "Batch-210: CrossEntropyLoss=2.2575 | MulticlassF1Score=0.9599\n",
      "Batch-225: CrossEntropyLoss=2.2578 | MulticlassF1Score=0.9599\n",
      "Batch-226: CrossEntropyLoss=2.2572 | MulticlassF1Score=0.9599\n",
      "\n",
      "Validation Step\n"
     ]
    },
    {
     "data": {
      "application/vnd.jupyter.widget-view+json": {
       "model_id": "83689c3bd8a347eba8cfbb27a949630a",
       "version_major": 2,
       "version_minor": 0
      },
      "text/plain": [
       "  0%|          | 0/63 [00:00<?, ?it/s]"
      ]
     },
     "metadata": {},
     "output_type": "display_data"
    },
    {
     "name": "stdout",
     "output_type": "stream",
     "text": [
      "Batch-15 : CrossEntropyLoss=2.2711 | MulticlassF1Score=0.9363\n",
      "Batch-30 : CrossEntropyLoss=2.2687 | MulticlassF1Score=0.9367\n",
      "Batch-45 : CrossEntropyLoss=2.2656 | MulticlassF1Score=0.9373\n",
      "Batch-60 : CrossEntropyLoss=2.2750 | MulticlassF1Score=0.9369\n",
      "Batch-63 : CrossEntropyLoss=2.2616 | MulticlassF1Score=0.9371\n",
      "\n",
      "Yeah 🎉😄! Model improved.\n",
      "\n",
      "Training   : Mean CrossEntropyLoss = 2.2599 | Mean MulticlassF1Score = 0.9597\n",
      "Validation : Mean CrossEntropyLoss = 2.2671 | Mean MulticlassF1Score = 0.9376\n",
      "================================================================================\n",
      "\n",
      "EPOCH-36\n",
      "Training Step\n"
     ]
    },
    {
     "data": {
      "application/vnd.jupyter.widget-view+json": {
       "model_id": "07c5a8f130a6483fbe5a0a246c18b272",
       "version_major": 2,
       "version_minor": 0
      },
      "text/plain": [
       "  0%|          | 0/226 [00:00<?, ?it/s]"
      ]
     },
     "metadata": {},
     "output_type": "display_data"
    },
    {
     "name": "stdout",
     "output_type": "stream",
     "text": [
      "Batch-15 : CrossEntropyLoss=2.2605 | MulticlassF1Score=0.9581\n",
      "Batch-30 : CrossEntropyLoss=2.2655 | MulticlassF1Score=0.9588\n",
      "Batch-45 : CrossEntropyLoss=2.2593 | MulticlassF1Score=0.9594\n",
      "Batch-60 : CrossEntropyLoss=2.2633 | MulticlassF1Score=0.9594\n",
      "Batch-75 : CrossEntropyLoss=2.2590 | MulticlassF1Score=0.9598\n",
      "Batch-90 : CrossEntropyLoss=2.2610 | MulticlassF1Score=0.9600\n",
      "Batch-105: CrossEntropyLoss=2.2617 | MulticlassF1Score=0.9599\n",
      "Batch-120: CrossEntropyLoss=2.2608 | MulticlassF1Score=0.9600\n",
      "Batch-135: CrossEntropyLoss=2.2623 | MulticlassF1Score=0.9599\n",
      "Batch-150: CrossEntropyLoss=2.2556 | MulticlassF1Score=0.9597\n",
      "Batch-165: CrossEntropyLoss=2.2589 | MulticlassF1Score=0.9599\n",
      "Batch-180: CrossEntropyLoss=2.2604 | MulticlassF1Score=0.9601\n",
      "Batch-195: CrossEntropyLoss=2.2623 | MulticlassF1Score=0.9601\n",
      "Batch-210: CrossEntropyLoss=2.2604 | MulticlassF1Score=0.9602\n",
      "Batch-225: CrossEntropyLoss=2.2612 | MulticlassF1Score=0.9605\n",
      "Batch-226: CrossEntropyLoss=2.2632 | MulticlassF1Score=0.9605\n",
      "\n",
      "Validation Step\n"
     ]
    },
    {
     "data": {
      "application/vnd.jupyter.widget-view+json": {
       "model_id": "8e4b42fdc6c84a9faf87d6611532d5d9",
       "version_major": 2,
       "version_minor": 0
      },
      "text/plain": [
       "  0%|          | 0/63 [00:00<?, ?it/s]"
      ]
     },
     "metadata": {},
     "output_type": "display_data"
    },
    {
     "name": "stdout",
     "output_type": "stream",
     "text": [
      "Batch-15 : CrossEntropyLoss=2.2681 | MulticlassF1Score=0.9381\n",
      "Batch-30 : CrossEntropyLoss=2.2682 | MulticlassF1Score=0.9376\n",
      "Batch-45 : CrossEntropyLoss=2.2679 | MulticlassF1Score=0.9379\n",
      "Batch-60 : CrossEntropyLoss=2.2659 | MulticlassF1Score=0.9385\n",
      "Batch-63 : CrossEntropyLoss=2.2695 | MulticlassF1Score=0.9383\n",
      "\n",
      "Yeah 🎉😄! Model improved.\n",
      "\n",
      "Training   : Mean CrossEntropyLoss = 2.2597 | Mean MulticlassF1Score = 0.9597\n",
      "Validation : Mean CrossEntropyLoss = 2.2669 | Mean MulticlassF1Score = 0.9364\n",
      "================================================================================\n",
      "\n",
      "EPOCH-37\n",
      "Training Step\n"
     ]
    },
    {
     "data": {
      "application/vnd.jupyter.widget-view+json": {
       "model_id": "8ae3c38aa58849f38c126e75037912ba",
       "version_major": 2,
       "version_minor": 0
      },
      "text/plain": [
       "  0%|          | 0/226 [00:00<?, ?it/s]"
      ]
     },
     "metadata": {},
     "output_type": "display_data"
    },
    {
     "name": "stdout",
     "output_type": "stream",
     "text": [
      "Batch-15 : CrossEntropyLoss=2.2590 | MulticlassF1Score=0.9599\n",
      "Batch-30 : CrossEntropyLoss=2.2594 | MulticlassF1Score=0.9603\n",
      "Batch-45 : CrossEntropyLoss=2.2588 | MulticlassF1Score=0.9611\n",
      "Batch-60 : CrossEntropyLoss=2.2594 | MulticlassF1Score=0.9605\n",
      "Batch-75 : CrossEntropyLoss=2.2582 | MulticlassF1Score=0.9604\n",
      "Batch-90 : CrossEntropyLoss=2.2571 | MulticlassF1Score=0.9607\n",
      "Batch-105: CrossEntropyLoss=2.2562 | MulticlassF1Score=0.9606\n",
      "Batch-120: CrossEntropyLoss=2.2575 | MulticlassF1Score=0.9608\n",
      "Batch-135: CrossEntropyLoss=2.2587 | MulticlassF1Score=0.9608\n",
      "Batch-150: CrossEntropyLoss=2.2613 | MulticlassF1Score=0.9608\n",
      "Batch-165: CrossEntropyLoss=2.2591 | MulticlassF1Score=0.9609\n",
      "Batch-180: CrossEntropyLoss=2.2591 | MulticlassF1Score=0.9609\n",
      "Batch-195: CrossEntropyLoss=2.2591 | MulticlassF1Score=0.9610\n",
      "Batch-210: CrossEntropyLoss=2.2614 | MulticlassF1Score=0.9608\n",
      "Batch-225: CrossEntropyLoss=2.2632 | MulticlassF1Score=0.9608\n",
      "Batch-226: CrossEntropyLoss=2.2622 | MulticlassF1Score=0.9607\n",
      "\n",
      "Validation Step\n"
     ]
    },
    {
     "data": {
      "application/vnd.jupyter.widget-view+json": {
       "model_id": "8c2453d7865641139b01af68cd7ded62",
       "version_major": 2,
       "version_minor": 0
      },
      "text/plain": [
       "  0%|          | 0/63 [00:00<?, ?it/s]"
      ]
     },
     "metadata": {},
     "output_type": "display_data"
    },
    {
     "name": "stdout",
     "output_type": "stream",
     "text": [
      "Batch-15 : CrossEntropyLoss=2.2699 | MulticlassF1Score=0.9359\n",
      "Batch-30 : CrossEntropyLoss=2.2684 | MulticlassF1Score=0.9355\n",
      "Batch-45 : CrossEntropyLoss=2.2619 | MulticlassF1Score=0.9370\n",
      "Batch-60 : CrossEntropyLoss=2.2668 | MulticlassF1Score=0.9375\n",
      "Batch-63 : CrossEntropyLoss=2.2699 | MulticlassF1Score=0.9377\n",
      "\n",
      "Yeah 🎉😄! Model improved.\n",
      "\n",
      "Training   : Mean CrossEntropyLoss = 2.2596 | Mean MulticlassF1Score = 0.9606\n",
      "Validation : Mean CrossEntropyLoss = 2.2670 | Mean MulticlassF1Score = 0.9371\n",
      "================================================================================\n",
      "\n",
      "EPOCH-38\n",
      "Training Step\n"
     ]
    },
    {
     "data": {
      "application/vnd.jupyter.widget-view+json": {
       "model_id": "8298ad0943ac4fd7818981b814ae2297",
       "version_major": 2,
       "version_minor": 0
      },
      "text/plain": [
       "  0%|          | 0/226 [00:00<?, ?it/s]"
      ]
     },
     "metadata": {},
     "output_type": "display_data"
    },
    {
     "name": "stdout",
     "output_type": "stream",
     "text": [
      "Batch-15 : CrossEntropyLoss=2.2641 | MulticlassF1Score=0.9625\n",
      "Batch-30 : CrossEntropyLoss=2.2617 | MulticlassF1Score=0.9636\n",
      "Batch-45 : CrossEntropyLoss=2.2557 | MulticlassF1Score=0.9626\n",
      "Batch-60 : CrossEntropyLoss=2.2590 | MulticlassF1Score=0.9627\n",
      "Batch-75 : CrossEntropyLoss=2.2564 | MulticlassF1Score=0.9629\n",
      "Batch-90 : CrossEntropyLoss=2.2621 | MulticlassF1Score=0.9622\n",
      "Batch-105: CrossEntropyLoss=2.2573 | MulticlassF1Score=0.9617\n",
      "Batch-120: CrossEntropyLoss=2.2658 | MulticlassF1Score=0.9616\n",
      "Batch-135: CrossEntropyLoss=2.2559 | MulticlassF1Score=0.9616\n",
      "Batch-150: CrossEntropyLoss=2.2596 | MulticlassF1Score=0.9618\n",
      "Batch-165: CrossEntropyLoss=2.2629 | MulticlassF1Score=0.9615\n",
      "Batch-180: CrossEntropyLoss=2.2601 | MulticlassF1Score=0.9612\n",
      "Batch-195: CrossEntropyLoss=2.2596 | MulticlassF1Score=0.9611\n",
      "Batch-210: CrossEntropyLoss=2.2579 | MulticlassF1Score=0.9613\n",
      "Batch-225: CrossEntropyLoss=2.2601 | MulticlassF1Score=0.9609\n",
      "Batch-226: CrossEntropyLoss=2.2612 | MulticlassF1Score=0.9609\n",
      "\n",
      "Validation Step\n"
     ]
    },
    {
     "data": {
      "application/vnd.jupyter.widget-view+json": {
       "model_id": "9dd7f86842b4446b89a6743bfae358ca",
       "version_major": 2,
       "version_minor": 0
      },
      "text/plain": [
       "  0%|          | 0/63 [00:00<?, ?it/s]"
      ]
     },
     "metadata": {},
     "output_type": "display_data"
    },
    {
     "name": "stdout",
     "output_type": "stream",
     "text": [
      "Batch-15 : CrossEntropyLoss=2.2633 | MulticlassF1Score=0.9345\n",
      "Batch-30 : CrossEntropyLoss=2.2702 | MulticlassF1Score=0.9343\n",
      "Batch-45 : CrossEntropyLoss=2.2664 | MulticlassF1Score=0.9354\n",
      "Batch-60 : CrossEntropyLoss=2.2713 | MulticlassF1Score=0.9360\n",
      "Batch-63 : CrossEntropyLoss=2.2619 | MulticlassF1Score=0.9364\n",
      "\n",
      "Yeah 🎉😄! Model improved.\n",
      "\n",
      "Training   : Mean CrossEntropyLoss = 2.2595 | Mean MulticlassF1Score = 0.9620\n",
      "Validation : Mean CrossEntropyLoss = 2.2672 | Mean MulticlassF1Score = 0.9347\n",
      "================================================================================\n",
      "\n",
      "EPOCH-39\n",
      "Training Step\n"
     ]
    },
    {
     "data": {
      "application/vnd.jupyter.widget-view+json": {
       "model_id": "dddcc1551efe41febdfc1f39441c42d2",
       "version_major": 2,
       "version_minor": 0
      },
      "text/plain": [
       "  0%|          | 0/226 [00:00<?, ?it/s]"
      ]
     },
     "metadata": {},
     "output_type": "display_data"
    },
    {
     "name": "stdout",
     "output_type": "stream",
     "text": [
      "Batch-15 : CrossEntropyLoss=2.2603 | MulticlassF1Score=0.9618\n",
      "Batch-30 : CrossEntropyLoss=2.2577 | MulticlassF1Score=0.9616\n",
      "Batch-45 : CrossEntropyLoss=2.2597 | MulticlassF1Score=0.9604\n",
      "Batch-60 : CrossEntropyLoss=2.2610 | MulticlassF1Score=0.9607\n",
      "Batch-75 : CrossEntropyLoss=2.2609 | MulticlassF1Score=0.9613\n",
      "Batch-90 : CrossEntropyLoss=2.2585 | MulticlassF1Score=0.9614\n",
      "Batch-105: CrossEntropyLoss=2.2628 | MulticlassF1Score=0.9611\n",
      "Batch-120: CrossEntropyLoss=2.2593 | MulticlassF1Score=0.9610\n",
      "Batch-135: CrossEntropyLoss=2.2572 | MulticlassF1Score=0.9610\n",
      "Batch-150: CrossEntropyLoss=2.2574 | MulticlassF1Score=0.9611\n",
      "Batch-165: CrossEntropyLoss=2.2614 | MulticlassF1Score=0.9612\n",
      "Batch-180: CrossEntropyLoss=2.2628 | MulticlassF1Score=0.9608\n",
      "Batch-195: CrossEntropyLoss=2.2596 | MulticlassF1Score=0.9612\n",
      "Batch-210: CrossEntropyLoss=2.2554 | MulticlassF1Score=0.9612\n",
      "Batch-225: CrossEntropyLoss=2.2576 | MulticlassF1Score=0.9612\n",
      "Batch-226: CrossEntropyLoss=2.2597 | MulticlassF1Score=0.9612\n",
      "\n",
      "Validation Step\n"
     ]
    },
    {
     "data": {
      "application/vnd.jupyter.widget-view+json": {
       "model_id": "2418183b61db4484a5d91a787d43bd99",
       "version_major": 2,
       "version_minor": 0
      },
      "text/plain": [
       "  0%|          | 0/63 [00:00<?, ?it/s]"
      ]
     },
     "metadata": {},
     "output_type": "display_data"
    },
    {
     "name": "stdout",
     "output_type": "stream",
     "text": [
      "Batch-15 : CrossEntropyLoss=2.2668 | MulticlassF1Score=0.9352\n",
      "Batch-30 : CrossEntropyLoss=2.2647 | MulticlassF1Score=0.9372\n",
      "Batch-45 : CrossEntropyLoss=2.2656 | MulticlassF1Score=0.9377\n",
      "Batch-60 : CrossEntropyLoss=2.2676 | MulticlassF1Score=0.9371\n",
      "Batch-63 : CrossEntropyLoss=2.2640 | MulticlassF1Score=0.9372\n",
      "\n",
      "Yeah 🎉😄! Model improved.\n",
      "\n",
      "Training   : Mean CrossEntropyLoss = 2.2594 | Mean MulticlassF1Score = 0.9613\n",
      "Validation : Mean CrossEntropyLoss = 2.2672 | Mean MulticlassF1Score = 0.9367\n",
      "================================================================================\n",
      "\n",
      "EPOCH-40\n",
      "Training Step\n"
     ]
    },
    {
     "data": {
      "application/vnd.jupyter.widget-view+json": {
       "model_id": "4e81d4a377784b5182cbabd6e67a73db",
       "version_major": 2,
       "version_minor": 0
      },
      "text/plain": [
       "  0%|          | 0/226 [00:00<?, ?it/s]"
      ]
     },
     "metadata": {},
     "output_type": "display_data"
    },
    {
     "name": "stdout",
     "output_type": "stream",
     "text": [
      "Batch-15 : CrossEntropyLoss=2.2546 | MulticlassF1Score=0.9635\n",
      "Batch-30 : CrossEntropyLoss=2.2613 | MulticlassF1Score=0.9640\n",
      "Batch-45 : CrossEntropyLoss=2.2554 | MulticlassF1Score=0.9630\n",
      "Batch-60 : CrossEntropyLoss=2.2625 | MulticlassF1Score=0.9628\n",
      "Batch-75 : CrossEntropyLoss=2.2569 | MulticlassF1Score=0.9626\n",
      "Batch-90 : CrossEntropyLoss=2.2626 | MulticlassF1Score=0.9626\n",
      "Batch-105: CrossEntropyLoss=2.2587 | MulticlassF1Score=0.9620\n",
      "Batch-120: CrossEntropyLoss=2.2587 | MulticlassF1Score=0.9616\n",
      "Batch-135: CrossEntropyLoss=2.2559 | MulticlassF1Score=0.9616\n",
      "Batch-150: CrossEntropyLoss=2.2560 | MulticlassF1Score=0.9618\n",
      "Batch-165: CrossEntropyLoss=2.2596 | MulticlassF1Score=0.9618\n",
      "Batch-180: CrossEntropyLoss=2.2610 | MulticlassF1Score=0.9616\n",
      "Batch-195: CrossEntropyLoss=2.2636 | MulticlassF1Score=0.9614\n",
      "Batch-210: CrossEntropyLoss=2.2620 | MulticlassF1Score=0.9612\n",
      "Batch-225: CrossEntropyLoss=2.2551 | MulticlassF1Score=0.9613\n",
      "Batch-226: CrossEntropyLoss=2.2636 | MulticlassF1Score=0.9613\n",
      "\n",
      "Validation Step\n"
     ]
    },
    {
     "data": {
      "application/vnd.jupyter.widget-view+json": {
       "model_id": "0238613504a54a27a1ce7a87aeaaa2d2",
       "version_major": 2,
       "version_minor": 0
      },
      "text/plain": [
       "  0%|          | 0/63 [00:00<?, ?it/s]"
      ]
     },
     "metadata": {},
     "output_type": "display_data"
    },
    {
     "name": "stdout",
     "output_type": "stream",
     "text": [
      "Batch-15 : CrossEntropyLoss=2.2668 | MulticlassF1Score=0.9344\n",
      "Batch-30 : CrossEntropyLoss=2.2661 | MulticlassF1Score=0.9368\n",
      "Batch-45 : CrossEntropyLoss=2.2672 | MulticlassF1Score=0.9378\n",
      "Batch-60 : CrossEntropyLoss=2.2673 | MulticlassF1Score=0.9376\n",
      "Batch-63 : CrossEntropyLoss=2.2662 | MulticlassF1Score=0.9377\n",
      "\n",
      "Yeah 🎉😄! Model improved.\n",
      "\n",
      "Training   : Mean CrossEntropyLoss = 2.2594 | Mean MulticlassF1Score = 0.9622\n",
      "Validation : Mean CrossEntropyLoss = 2.2670 | Mean MulticlassF1Score = 0.9361\n",
      "================================================================================\n",
      "\n",
      "EPOCH-41\n",
      "Training Step\n"
     ]
    },
    {
     "data": {
      "application/vnd.jupyter.widget-view+json": {
       "model_id": "437ab4336d02403288857f7a29132b3d",
       "version_major": 2,
       "version_minor": 0
      },
      "text/plain": [
       "  0%|          | 0/226 [00:00<?, ?it/s]"
      ]
     },
     "metadata": {},
     "output_type": "display_data"
    },
    {
     "name": "stdout",
     "output_type": "stream",
     "text": [
      "Batch-15 : CrossEntropyLoss=2.2586 | MulticlassF1Score=0.9644\n",
      "Batch-30 : CrossEntropyLoss=2.2594 | MulticlassF1Score=0.9621\n",
      "Batch-45 : CrossEntropyLoss=2.2583 | MulticlassF1Score=0.9611\n",
      "Batch-60 : CrossEntropyLoss=2.2577 | MulticlassF1Score=0.9615\n",
      "Batch-75 : CrossEntropyLoss=2.2538 | MulticlassF1Score=0.9622\n",
      "Batch-90 : CrossEntropyLoss=2.2541 | MulticlassF1Score=0.9625\n",
      "Batch-105: CrossEntropyLoss=2.2601 | MulticlassF1Score=0.9619\n",
      "Batch-120: CrossEntropyLoss=2.2617 | MulticlassF1Score=0.9620\n",
      "Batch-135: CrossEntropyLoss=2.2643 | MulticlassF1Score=0.9617\n",
      "Batch-150: CrossEntropyLoss=2.2576 | MulticlassF1Score=0.9617\n",
      "Batch-165: CrossEntropyLoss=2.2563 | MulticlassF1Score=0.9617\n",
      "Batch-180: CrossEntropyLoss=2.2572 | MulticlassF1Score=0.9618\n",
      "Batch-195: CrossEntropyLoss=2.2575 | MulticlassF1Score=0.9618\n",
      "Batch-210: CrossEntropyLoss=2.2574 | MulticlassF1Score=0.9620\n",
      "Batch-225: CrossEntropyLoss=2.2607 | MulticlassF1Score=0.9618\n",
      "Batch-226: CrossEntropyLoss=2.2582 | MulticlassF1Score=0.9618\n",
      "\n",
      "Validation Step\n"
     ]
    },
    {
     "data": {
      "application/vnd.jupyter.widget-view+json": {
       "model_id": "ad2bbbe49d6b42dd8dcfd86798e9631d",
       "version_major": 2,
       "version_minor": 0
      },
      "text/plain": [
       "  0%|          | 0/63 [00:00<?, ?it/s]"
      ]
     },
     "metadata": {},
     "output_type": "display_data"
    },
    {
     "name": "stdout",
     "output_type": "stream",
     "text": [
      "Batch-15 : CrossEntropyLoss=2.2605 | MulticlassF1Score=0.9370\n",
      "Batch-30 : CrossEntropyLoss=2.2712 | MulticlassF1Score=0.9380\n",
      "Batch-45 : CrossEntropyLoss=2.2670 | MulticlassF1Score=0.9382\n",
      "Batch-60 : CrossEntropyLoss=2.2671 | MulticlassF1Score=0.9372\n",
      "Batch-63 : CrossEntropyLoss=2.2708 | MulticlassF1Score=0.9370\n",
      "\n",
      "Yeah 🎉😄! Model improved.\n",
      "\n",
      "Training   : Mean CrossEntropyLoss = 2.2592 | Mean MulticlassF1Score = 0.9621\n",
      "Validation : Mean CrossEntropyLoss = 2.2671 | Mean MulticlassF1Score = 0.9370\n",
      "================================================================================\n",
      "\n",
      "EPOCH-42\n",
      "Training Step\n"
     ]
    },
    {
     "data": {
      "application/vnd.jupyter.widget-view+json": {
       "model_id": "38a03feb0ab94f389ed4c875a8baef17",
       "version_major": 2,
       "version_minor": 0
      },
      "text/plain": [
       "  0%|          | 0/226 [00:00<?, ?it/s]"
      ]
     },
     "metadata": {},
     "output_type": "display_data"
    },
    {
     "name": "stdout",
     "output_type": "stream",
     "text": [
      "Batch-15 : CrossEntropyLoss=2.2569 | MulticlassF1Score=0.9612\n",
      "Batch-30 : CrossEntropyLoss=2.2579 | MulticlassF1Score=0.9623\n",
      "Batch-45 : CrossEntropyLoss=2.2579 | MulticlassF1Score=0.9621\n",
      "Batch-60 : CrossEntropyLoss=2.2582 | MulticlassF1Score=0.9615\n",
      "Batch-75 : CrossEntropyLoss=2.2612 | MulticlassF1Score=0.9615\n",
      "Batch-90 : CrossEntropyLoss=2.2579 | MulticlassF1Score=0.9619\n",
      "Batch-105: CrossEntropyLoss=2.2619 | MulticlassF1Score=0.9616\n",
      "Batch-120: CrossEntropyLoss=2.2606 | MulticlassF1Score=0.9621\n",
      "Batch-135: CrossEntropyLoss=2.2596 | MulticlassF1Score=0.9621\n",
      "Batch-150: CrossEntropyLoss=2.2607 | MulticlassF1Score=0.9619\n",
      "Batch-165: CrossEntropyLoss=2.2613 | MulticlassF1Score=0.9618\n",
      "Batch-180: CrossEntropyLoss=2.2638 | MulticlassF1Score=0.9618\n",
      "Batch-195: CrossEntropyLoss=2.2547 | MulticlassF1Score=0.9620\n",
      "Batch-210: CrossEntropyLoss=2.2587 | MulticlassF1Score=0.9619\n",
      "Batch-225: CrossEntropyLoss=2.2565 | MulticlassF1Score=0.9618\n",
      "Batch-226: CrossEntropyLoss=2.2590 | MulticlassF1Score=0.9618\n",
      "\n",
      "Validation Step\n"
     ]
    },
    {
     "data": {
      "application/vnd.jupyter.widget-view+json": {
       "model_id": "9591235f8bf94189b6d64a19f3138de4",
       "version_major": 2,
       "version_minor": 0
      },
      "text/plain": [
       "  0%|          | 0/63 [00:00<?, ?it/s]"
      ]
     },
     "metadata": {},
     "output_type": "display_data"
    },
    {
     "name": "stdout",
     "output_type": "stream",
     "text": [
      "Batch-15 : CrossEntropyLoss=2.2639 | MulticlassF1Score=0.9395\n",
      "Batch-30 : CrossEntropyLoss=2.2627 | MulticlassF1Score=0.9388\n",
      "Batch-45 : CrossEntropyLoss=2.2653 | MulticlassF1Score=0.9375\n",
      "Batch-60 : CrossEntropyLoss=2.2741 | MulticlassF1Score=0.9377\n",
      "Batch-63 : CrossEntropyLoss=2.2662 | MulticlassF1Score=0.9377\n",
      "\n",
      "Huft 😥! Model not improved.\n",
      "\n",
      "Training   : Mean CrossEntropyLoss = 2.2592 | Mean MulticlassF1Score = 0.9618\n",
      "Validation : Mean CrossEntropyLoss = 2.2669 | Mean MulticlassF1Score = 0.9379\n",
      "Patience = 3/50❗\n",
      "================================================================================\n",
      "\n",
      "EPOCH-43\n",
      "Training Step\n"
     ]
    },
    {
     "data": {
      "application/vnd.jupyter.widget-view+json": {
       "model_id": "5112e505d9374b218095d7fdbaba2ea1",
       "version_major": 2,
       "version_minor": 0
      },
      "text/plain": [
       "  0%|          | 0/226 [00:00<?, ?it/s]"
      ]
     },
     "metadata": {},
     "output_type": "display_data"
    },
    {
     "name": "stdout",
     "output_type": "stream",
     "text": [
      "Batch-15 : CrossEntropyLoss=2.2599 | MulticlassF1Score=0.9615\n",
      "Batch-30 : CrossEntropyLoss=2.2605 | MulticlassF1Score=0.9617\n",
      "Batch-45 : CrossEntropyLoss=2.2569 | MulticlassF1Score=0.9620\n",
      "Batch-60 : CrossEntropyLoss=2.2588 | MulticlassF1Score=0.9617\n",
      "Batch-75 : CrossEntropyLoss=2.2610 | MulticlassF1Score=0.9605\n",
      "Batch-90 : CrossEntropyLoss=2.2608 | MulticlassF1Score=0.9608\n",
      "Batch-105: CrossEntropyLoss=2.2575 | MulticlassF1Score=0.9605\n",
      "Batch-120: CrossEntropyLoss=2.2586 | MulticlassF1Score=0.9602\n",
      "Batch-135: CrossEntropyLoss=2.2578 | MulticlassF1Score=0.9605\n",
      "Batch-150: CrossEntropyLoss=2.2607 | MulticlassF1Score=0.9608\n",
      "Batch-165: CrossEntropyLoss=2.2560 | MulticlassF1Score=0.9608\n",
      "Batch-180: CrossEntropyLoss=2.2617 | MulticlassF1Score=0.9612\n",
      "Batch-195: CrossEntropyLoss=2.2621 | MulticlassF1Score=0.9612\n",
      "Batch-210: CrossEntropyLoss=2.2598 | MulticlassF1Score=0.9614\n",
      "Batch-225: CrossEntropyLoss=2.2579 | MulticlassF1Score=0.9615\n",
      "Batch-226: CrossEntropyLoss=2.2557 | MulticlassF1Score=0.9616\n",
      "\n",
      "Validation Step\n"
     ]
    },
    {
     "data": {
      "application/vnd.jupyter.widget-view+json": {
       "model_id": "e841cf46b1f04229ba6464f697e56402",
       "version_major": 2,
       "version_minor": 0
      },
      "text/plain": [
       "  0%|          | 0/63 [00:00<?, ?it/s]"
      ]
     },
     "metadata": {},
     "output_type": "display_data"
    },
    {
     "name": "stdout",
     "output_type": "stream",
     "text": [
      "Batch-15 : CrossEntropyLoss=2.2625 | MulticlassF1Score=0.9425\n",
      "Batch-30 : CrossEntropyLoss=2.2677 | MulticlassF1Score=0.9385\n",
      "Batch-45 : CrossEntropyLoss=2.2660 | MulticlassF1Score=0.9385\n",
      "Batch-60 : CrossEntropyLoss=2.2650 | MulticlassF1Score=0.9377\n",
      "Batch-63 : CrossEntropyLoss=2.2711 | MulticlassF1Score=0.9375\n",
      "\n",
      "Huft 😥! Model not improved.\n",
      "\n",
      "Training   : Mean CrossEntropyLoss = 2.2593 | Mean MulticlassF1Score = 0.9612\n",
      "Validation : Mean CrossEntropyLoss = 2.2670 | Mean MulticlassF1Score = 0.9390\n",
      "Patience = 4/50❗\n",
      "================================================================================\n",
      "\n",
      "EPOCH-44\n",
      "Training Step\n"
     ]
    },
    {
     "data": {
      "application/vnd.jupyter.widget-view+json": {
       "model_id": "326e9045c26f42c7b4804e02a565ccb6",
       "version_major": 2,
       "version_minor": 0
      },
      "text/plain": [
       "  0%|          | 0/226 [00:00<?, ?it/s]"
      ]
     },
     "metadata": {},
     "output_type": "display_data"
    },
    {
     "name": "stdout",
     "output_type": "stream",
     "text": [
      "Batch-15 : CrossEntropyLoss=2.2590 | MulticlassF1Score=0.9606\n",
      "Batch-30 : CrossEntropyLoss=2.2567 | MulticlassF1Score=0.9623\n",
      "Batch-45 : CrossEntropyLoss=2.2595 | MulticlassF1Score=0.9621\n",
      "Batch-60 : CrossEntropyLoss=2.2597 | MulticlassF1Score=0.9615\n",
      "Batch-75 : CrossEntropyLoss=2.2589 | MulticlassF1Score=0.9624\n",
      "Batch-90 : CrossEntropyLoss=2.2614 | MulticlassF1Score=0.9623\n",
      "Batch-105: CrossEntropyLoss=2.2577 | MulticlassF1Score=0.9626\n"
     ]
    }
   ],
   "source": [
    "now = datetime.now(pytz.timezone(\"Asia/Ujung_Pandang\"))\n",
    "path_name = now.strftime(\"%m-%d-%Y_%H-%M-%S\")\n",
    "root_path = f\"../../logs/zero/fold_{hyperparams.fold}/{path_name}\"\n",
    "os.makedirs(root_path)\n",
    "\n",
    "def looping_step(train_dataloader, val_dataloader, model, optimizer, criterion, train_metric, val_metric, n_epoch=hyperparams.n_epoch, patience=hyperparams.patience, monitor=\"loss\"):    \n",
    "    start_time = time()\n",
    "    \n",
    "    epoch_training_losses = []\n",
    "    epoch_training_metric_scores = []\n",
    "    epoch_val_losses = []\n",
    "    epoch_val_metric_scores = []\n",
    "    patience_counter = 0\n",
    "    \n",
    "    # Hyperparameters\n",
    "    with open(f\"{root_path}/training_history.txt\", \"a\") as f:\n",
    "        f.write(f\"HYPERPARAMETERS\\n\")\n",
    "        f.write(f\"{'-' * 80}\\n\")\n",
    "        for name, value in vars(hyperparams).items():\n",
    "            f.write(f\"{name}: {value}\\n\")\n",
    "        \n",
    "        f.write(\"\\n\\nTRAINING PROGRESS\\n\")\n",
    "        f.write(f\"{'-' * 80}\\n\")\n",
    "    \n",
    "    # Training Progress\n",
    "    for epoch in range(1, n_epoch + 1):\n",
    "        print(f\"EPOCH-{epoch}\")\n",
    "        with open(f\"{root_path}/training_history.txt\", \"a\") as f:\n",
    "            f.write(f\"EPOCH-{epoch}\\n\")\n",
    "            f.write(f\"Training Step\\n\")\n",
    "            \n",
    "        # Training Step\n",
    "        print(\"Training Step\")\n",
    "        batch_training_losses, batch_training_metric_scores = training_step(train_dataloader, model, optimizer, criterion, train_metric, scheduler=None)\n",
    "        epoch_training_loss = torch.mean(torch.FloatTensor(batch_training_losses))\n",
    "\n",
    "        epoch_training_loss = torch.mean(torch.FloatTensor(batch_training_losses))\n",
    "        epoch_training_losses.append(epoch_training_loss.item())\n",
    "\n",
    "        epoch_training_metric_score = torch.mean(torch.FloatTensor(batch_training_metric_scores))\n",
    "        epoch_training_metric_scores.append(epoch_training_metric_score.item())\n",
    "        \n",
    "        # Validation Step\n",
    "        with open(f\"{root_path}/training_history.txt\", \"a\") as f:\n",
    "            f.write(f\"\\nValidation Step\\n\")\n",
    "            \n",
    "        print(\"\\nValidation Step\")\n",
    "        batch_val_losses, batch_val_metric_scores = validation_step(val_dataloader, model, criterion, val_metric)\n",
    "        epoch_val_loss = torch.mean(torch.FloatTensor(batch_val_losses))\n",
    "\n",
    "        epoch_val_loss = torch.mean(torch.FloatTensor(batch_val_losses))\n",
    "        epoch_val_losses.append(epoch_val_loss.item())\n",
    "\n",
    "        epoch_val_metric_score = torch.mean(torch.FloatTensor(batch_val_metric_scores))\n",
    "        epoch_val_metric_scores.append(epoch_val_metric_score.item())\n",
    "        \n",
    "        with open(f\"{root_path}/training_history.txt\", \"a\") as f:\n",
    "            if monitor == \"loss\":\n",
    "                if epoch == 1:\n",
    "                    best_state_dict = model.state_dict()\n",
    "                    best_training_loss = epoch_training_loss\n",
    "                    best_training_metric = epoch_training_metric_score\n",
    "                    best_val_loss = epoch_val_loss\n",
    "                    best_val_metric = epoch_val_metric_score\n",
    "                    \n",
    "                    print(f\"\\nTraining   : Mean {str(criterion).split('(')[0]} = {(epoch_training_loss):.4f} | Mean {str(train_metric).split('(')[0]} = {(epoch_training_metric_score):.4f}\")\n",
    "                    print(f\"Validation : Mean {str(criterion).split('(')[0]} = {(epoch_val_loss):.4f} | Mean {str(val_metric).split('(')[0]} = {(epoch_val_metric_score):.4f}\")\n",
    "                    \n",
    "                    f.write(f\"\\nTraining   : Mean {str(criterion).split('(')[0]} = {(epoch_training_loss):.4f} | Mean {str(train_metric).split('(')[0]} = {(epoch_training_metric_score):.4f}\\n\")\n",
    "                    f.write(f\"Validation : Mean {str(criterion).split('(')[0]} = {(epoch_val_loss):.4f} | Mean {str(val_metric).split('(')[0]} = {(epoch_val_metric_score):.4f}\\n\")\n",
    "                elif epoch_training_losses[-1] < epoch_training_losses[-2]:\n",
    "                    best_state_dict = model.state_dict()\n",
    "                    best_training_loss = epoch_training_loss\n",
    "                    best_training_metric = epoch_training_metric_score\n",
    "                    best_val_loss = epoch_val_loss\n",
    "                    best_val_metric = epoch_val_metric_score\n",
    "                    \n",
    "                    print(\"\\nYeah 🎉😄! Model improved.\")\n",
    "                    print(f\"\\nTraining   : Mean {str(criterion).split('(')[0]} = {(epoch_training_loss):.4f} | Mean {str(train_metric).split('(')[0]} = {(epoch_training_metric_score):.4f}\")\n",
    "                    print(f\"Validation : Mean {str(criterion).split('(')[0]} = {(epoch_val_loss):.4f} | Mean {str(val_metric).split('(')[0]} = {(epoch_val_metric_score):.4f}\")\n",
    "                    \n",
    "                    f.write(\"\\nYeah 🎉😄! Model improved.\\n\")\n",
    "                    f.write(f\"\\nTraining   : Mean {str(criterion).split('(')[0]} = {(epoch_training_loss):.4f} | Mean {str(train_metric).split('(')[0]} = {(epoch_training_metric_score):.4f}\\n\")\n",
    "                    f.write(f\"Validation : Mean {str(criterion).split('(')[0]} = {(epoch_val_loss):.4f} | Mean {str(val_metric).split('(')[0]} = {(epoch_val_metric_score):.4f}\\n\")\n",
    "                else:\n",
    "                    patience_counter += 1\n",
    "                    \n",
    "                    print(\"\\nHuft 😥! Model not improved.\")\n",
    "                    print(f\"\\nTraining   : Mean {str(criterion).split('(')[0]} = {(epoch_training_loss):.4f} | Mean {str(train_metric).split('(')[0]} = {(epoch_training_metric_score):.4f}\")\n",
    "                    print(f\"Validation : Mean {str(criterion).split('(')[0]} = {(epoch_val_loss):.4f} | Mean {str(val_metric).split('(')[0]} = {(epoch_val_metric_score):.4f}\")\n",
    "                    print(f\"Patience = {patience_counter}/{patience}❗\")\n",
    "                    \n",
    "                    f.write(\"\\nHuft 😥! Model not improved.\\n\")\n",
    "                    f.write(f\"\\nTraining   : Mean {str(criterion).split('(')[0]} = {(epoch_training_loss):.4f} | Mean {str(train_metric).split('(')[0]} = {(epoch_training_metric_score):.4f}\\n\")\n",
    "                    f.write(f\"Validation : Mean {str(criterion).split('(')[0]} = {(epoch_val_loss):.4f} | Mean {str(val_metric).split('(')[0]} = {(epoch_val_metric_score):.4f}\\n\")\n",
    "                    f.write(f\"Patience = {patience_counter}/{patience}❗\\n\")\n",
    "            else:\n",
    "                if epoch == 1:\n",
    "                    best_state_dict = model.state_dict()\n",
    "                    best_training_loss = epoch_training_loss\n",
    "                    best_training_metric = epoch_training_metric_score\n",
    "                    best_val_loss = epoch_val_loss\n",
    "                    best_val_metric = epoch_val_metric_score\n",
    "                    \n",
    "                    print(f\"\\nTraining   : Mean {str(criterion).split('(')[0]} = {(epoch_training_loss):.4f} | Mean {str(train_metric).split('(')[0]} = {(epoch_training_metric_score):.4f}\")\n",
    "                    print(f\"Validation : Mean {str(criterion).split('(')[0]} = {(epoch_val_loss):.4f} | Mean {str(val_metric).split('(')[0]} = {(epoch_val_metric_score):.4f}\")\n",
    "                    \n",
    "                    f.write(f\"\\nTraining   : Mean {str(criterion).split('(')[0]} = {(epoch_training_loss):.4f} | Mean {str(train_metric).split('(')[0]} = {(epoch_training_metric_score):.4f}\\n\")\n",
    "                    f.write(f\"Validation : Mean {str(criterion).split('(')[0]} = {(epoch_val_loss):.4f} | Mean {str(val_metric).split('(')[0]} = {(epoch_val_metric_score):.4f}\\n\")\n",
    "                elif epoch_training_metric_scores[-1] > epoch_training_metric_scores[-2]:\n",
    "                    best_state_dict = model.state_dict()\n",
    "                    best_training_loss = epoch_training_loss\n",
    "                    best_training_metric = epoch_training_metric_score\n",
    "                    best_val_loss = epoch_val_loss\n",
    "                    best_val_metric = epoch_val_metric_score\n",
    "                    \n",
    "                    print(\"\\nYeah 🎉😄! Model improved.\")\n",
    "                    print(f\"\\nTraining   : Mean {str(criterion).split('(')[0]} = {(epoch_training_loss):.4f} | Mean {str(train_metric).split('(')[0]} = {(epoch_training_metric_score):.4f}\")\n",
    "                    print(f\"Validation : Mean {str(criterion).split('(')[0]} = {(epoch_val_loss):.4f} | Mean {str(val_metric).split('(')[0]} = {(epoch_val_metric_score):.4f}\")\n",
    "                    \n",
    "                    f.write(\"\\nYeah 🎉😄! Model improved.\\n\")\n",
    "                    f.write(f\"\\nTraining   : Mean {str(criterion).split('(')[0]} = {(epoch_training_loss):.4f} | Mean {str(train_metric).split('(')[0]} = {(epoch_training_metric_score):.4f}\\n\")\n",
    "                    f.write(f\"Validation : Mean {str(criterion).split('(')[0]} = {(epoch_val_loss):.4f} | Mean {str(val_metric).split('(')[0]} = {(epoch_val_metric_score):.4f}\\n\")\n",
    "                else:\n",
    "                    patience_counter += 1\n",
    "                    \n",
    "                    print(\"\\nHuft 😥! Model not improved.\")\n",
    "                    print(f\"\\nTraining   : Mean {str(criterion).split('(')[0]} = {(epoch_training_loss):.4f} | Mean {str(train_metric).split('(')[0]} = {(epoch_training_metric_score):.4f}\")\n",
    "                    print(f\"Validation : Mean {str(criterion).split('(')[0]} = {(epoch_val_loss):.4f} | Mean {str(val_metric).split('(')[0]} = {(epoch_val_metric_score):.4f}\")\n",
    "                    print(f\"Patience = {patience_counter}/{patience}❗\\n\")\n",
    "                    \n",
    "                    f.write(\"\\nHuft 😥! Model not improved.\\n\")\n",
    "                    f.write(f\"\\nTraining   : Mean {str(criterion).split('(')[0]} = {(epoch_training_loss):.4f} | Mean {str(train_metric).split('(')[0]} = {(epoch_training_metric_score):.4f}\\n\")\n",
    "                    f.write(f\"Validation : Mean {str(criterion).split('(')[0]} = {(epoch_val_loss):.4f} | Mean {str(val_metric).split('(')[0]} = {(epoch_val_metric_score):.4f}\\n\")\n",
    "                    f.write(f\"Patience = {patience_counter}/{patience}❗\\n\")\n",
    "                    \n",
    "            print(\"=\" * 80, end=\"\\n\\n\")\n",
    "            \n",
    "            f.write(f\"{'=' * 80}\\n\\n\")\n",
    "            \n",
    "            if patience_counter == patience:\n",
    "                print(f\"Early stopping, patience = {patience_counter}/{patience}❗\\n\")\n",
    "                \n",
    "                f.write(f\"Early stopping, patience = {patience_counter}/{patience}❗\\n\")\n",
    "                break\n",
    "        \n",
    "        train_metric.reset()\n",
    "        val_metric.reset()\n",
    "        \n",
    "    finish_time = time()\n",
    "    \n",
    "    # Training plot \n",
    "    fig, (ax_loss, ax_metric_score) = plt.subplots(nrows=1, ncols=2, figsize=(15, 5))\n",
    "\n",
    "    fig.suptitle(f\"Training with oov embedding = zero\")\n",
    "\n",
    "    ax_loss.set_title(\"Loss\")\n",
    "    ax_loss.set_xlabel(\"Epoch\")\n",
    "    ax_loss.set_ylabel(\"Score\")\n",
    "    ax_loss.plot(epoch_training_losses, \"green\", label=\"Training\")\n",
    "    ax_loss.plot(epoch_val_losses, \"orange\", label=\"Validation\")\n",
    "    ax_loss.legend()\n",
    "    ax_loss.grid()\n",
    "\n",
    "    ax_metric_score.set_title(\"F1 Score\")\n",
    "    ax_metric_score.set_xlabel(\"Epoch\")\n",
    "    ax_metric_score.set_ylabel(\"Score\")\n",
    "    ax_metric_score.plot(epoch_training_metric_scores, \"green\", label=\"Training\")\n",
    "    ax_metric_score.plot(epoch_val_metric_scores, \"orange\", label=\"Validation\")\n",
    "    ax_metric_score.legend()\n",
    "    ax_metric_score.grid()\n",
    "\n",
    "    plt.savefig(f\"{root_path}/training_plot.jpg\", dpi=200)                        \n",
    "    \n",
    "    print(\"TRAINING SUMMARY\")\n",
    "    name_best_training_loss = f\"Best {str(criterion).split('(')[0]} training\".ljust(34)\n",
    "    name_best_training_metric = f\"Best {str(train_metric).split('(')[0]} validation\".ljust(34)\n",
    "    name_best_validation_loss = f\"Best {str(criterion).split('(')[0]} training\".ljust(34)\n",
    "    name_best_validation_metric = f\"Best {str(val_metric).split('(')[0]} validation\".ljust(34)\n",
    "    name_training_time = f\"Training duration\".ljust(34)\n",
    "    name_training_date = f\"Training date\".ljust(34)\n",
    "    \n",
    "    print(f\"{name_best_training_loss}: {best_training_loss:.4f}\")\n",
    "    print(f\"{name_best_validation_loss}: {best_val_loss:.4f}\")\n",
    "    print(f\"{name_best_training_metric}: {best_training_metric:.4f}\")\n",
    "    print(f\"{name_best_validation_metric}: {best_val_metric:.4f}\")\n",
    "    print(f\"{name_training_time}: {((finish_time - start_time) / 60):.4f} minutes.\")\n",
    "    print(f\"{name_training_date}: {now}\")\n",
    "    \n",
    "    with open(f\"{root_path}/training_history.txt\", \"a\") as f:\n",
    "        f.write(\"\\nTRAINING SUMMARY\\n\")\n",
    "        f.write(f\"{'-' * 80}\\n\")\n",
    "        f.write(f\"{name_best_training_loss}: {best_training_loss:.4f}\\n\")\n",
    "        f.write(f\"{name_best_validation_loss}: {best_val_loss:.4f}\\n\")\n",
    "        f.write(f\"{name_best_training_metric}: {best_training_metric:.4f}\\n\")\n",
    "        f.write(f\"{name_best_validation_metric}: {best_val_metric:.4f}\\n\")\n",
    "        f.write(f\"{name_training_time}: {((finish_time - start_time) / 60):.4f} minutes.\\n\")\n",
    "        f.write(f\"{name_training_date}: {now}\\n\")\n",
    "    \n",
    "    # Save epoch losses, epoch metric scores, model, state dict, and oov embedding dict\n",
    "    pd.DataFrame({\n",
    "        \"epoch\": list(range(1, hyperparams.n_epoch + 1)),\n",
    "        \"loss\": epoch_training_losses\n",
    "    }).to_csv(f\"{root_path}/training_losses.csv\", index=False)\n",
    "    \n",
    "    pd.DataFrame({\n",
    "        \"epoch\": list(range(1, hyperparams.n_epoch + 1)),\n",
    "        \"f1_score\": epoch_training_metric_scores\n",
    "    }).to_csv(f\"{root_path}/training_metric_scores.csv\", index=False)\n",
    "    \n",
    "    pd.DataFrame({\n",
    "        \"epoch\": list(range(1, hyperparams.n_epoch + 1)),\n",
    "        \"loss\": epoch_val_losses\n",
    "    }).to_csv(f\"{root_path}/val_losses.csv\", index=False)\n",
    "    \n",
    "    pd.DataFrame({\n",
    "        \"epoch\": list(range(1, hyperparams.n_epoch + 1)),\n",
    "        \"f1_score\": epoch_val_metric_scores\n",
    "    }).to_csv(f\"{root_path}/val_metric_scores.csv\", index=False)    \n",
    "    \n",
    "    filename_model_params = f\"{root_path}/model_params.pth\"\n",
    "    torch.save(best_state_dict, filename_model_params)\n",
    "    \n",
    "    return epoch_training_losses, epoch_training_metric_scores, epoch_val_losses, epoch_val_metric_scores\n",
    "\n",
    "epoch_training_losses, epoch_training_metric_scores, epoch_val_losses, epoch_val_metric_scores = looping_step(train_dataloader, val_dataloader, model, optimizer, criterion, train_metric, val_metric)"
   ]
  },
  {
   "cell_type": "markdown",
   "id": "39c1ab00-060c-492c-b731-b5b78bc10bc0",
   "metadata": {},
   "source": [
    "## End Training"
   ]
  },
  {
   "cell_type": "markdown",
   "id": "dd1d19df-0c5b-42c0-9619-f3409774cf4b",
   "metadata": {},
   "source": [
    "# Evaluation"
   ]
  },
  {
   "cell_type": "code",
   "execution_count": null,
   "id": "8aa68954-9917-497d-9be1-15bafefe7a68",
   "metadata": {},
   "outputs": [],
   "source": [
    "def evaluation(dataloader, model, criterion, metric):\n",
    "    model.eval()\n",
    "    \n",
    "    with torch.inference_mode():\n",
    "        for batch, (feature, actual_label) in enumerate(tqdm(dataloader), 1):\n",
    "            # Forward Propagation\n",
    "            feature = rearrange(feature, \"n s -> s n\")\n",
    "            actual_label = rearrange(actual_label, \"n s -> s n\")\n",
    "            embedding = word_embeddings(feature)\n",
    "\n",
    "            prob = model(\n",
    "                embedding.to(hyperparams.device),\n",
    "                actual_label.to(hyperparams.device)\n",
    "            )\n",
    "\n",
    "            prob = prob.reshape(-1, prob.shape[-1])\n",
    "            actual_label = actual_label.reshape(-1)\n",
    "            pred = rearrange(prob.argmax(dim=1).reshape(feature.shape[0], len(dataloader.dataset)), \"s n -> n s\")\n",
    "\n",
    "            loss = criterion(prob, actual_label.to(hyperparams.device))\n",
    "            metric_score = metric(prob.argmax(dim=1), actual_label.to(hyperparams.device))\n",
    "            metric_score = metric.compute()\n",
    "\n",
    "    return loss, metric_score, pred\n",
    "\n",
    "train_dataloader = DataLoader(train_dataset, batch_size=len(train_dataset))\n",
    "val_dataloader = DataLoader(val_dataset, batch_size=len(val_dataset))\n",
    "test_dataloader = DataLoader(test_dataset, batch_size=len(test_dataset))\n",
    "\n",
    "criterion = nn.CrossEntropyLoss().to(hyperparams.device)\n",
    "metric = MulticlassF1Score(average=\"micro\", num_classes=24, mdmc_average=\"samplewise\", multiclass=True, ignore_index=label_to_idx[\"<PAD>\"]).to(hyperparams.device)\n",
    "train_loss, train_f1_score, train_pred_label = evaluation(train_dataloader, model, criterion, metric)\n",
    "\n",
    "criterion = nn.CrossEntropyLoss().to(hyperparams.device)\n",
    "metric = MulticlassF1Score(average=\"micro\", num_classes=24, mdmc_average=\"samplewise\", multiclass=True, ignore_index=label_to_idx[\"<PAD>\"]).to(hyperparams.device)\n",
    "val_loss, val_f1_score, val_pred_label = evaluation(val_dataloader, model, criterion, metric)\n",
    "\n",
    "criterion = nn.CrossEntropyLoss().to(hyperparams.device)\n",
    "metric = MulticlassF1Score(average=\"micro\", num_classes=24, mdmc_average=\"samplewise\", multiclass=True, ignore_index=label_to_idx[\"<PAD>\"]).to(hyperparams.device)\n",
    "test_loss, test_f1_score, test_pred_label = evaluation(test_dataloader, model, criterion, metric)"
   ]
  },
  {
   "cell_type": "code",
   "execution_count": null,
   "id": "bf283357-3263-43eb-88e0-b3726c41fa47",
   "metadata": {},
   "outputs": [],
   "source": [
    "train_f1_score, val_f1_score, test_f1_score"
   ]
  },
  {
   "cell_type": "code",
   "execution_count": null,
   "id": "61d776c1-f3d8-48ce-9092-d5919ef6c645",
   "metadata": {},
   "outputs": [],
   "source": [
    "train_f1_score, val_f1_score, test_f1_score"
   ]
  },
  {
   "cell_type": "markdown",
   "id": "3fee85a3-646f-4e0b-8dfa-8b89f3e0a473",
   "metadata": {},
   "source": [
    "## Heatmap"
   ]
  },
  {
   "cell_type": "code",
   "execution_count": null,
   "id": "8948cb64-711c-4407-bdd6-78bf02161505",
   "metadata": {},
   "outputs": [],
   "source": [
    "import seaborn as sns\n",
    "\n",
    "def viz_evaluation(pred_label, actual_label, title):\n",
    "    plt.figure(figsize=(15, 7), dpi=200)\n",
    "    sns.heatmap(pred_label.detach().cpu() == actual_label, cbar=True, cmap=\"binary_r\")\n",
    "    plt.xlabel(\"Sentence Length\")\n",
    "    plt.ylabel(\"Sentence\")\n",
    "    plt.title(title)\n",
    "    plt.savefig(f\"{root_path}/heatmap_{title.lower()}.jpg\", dpi=200)\n",
    "    plt.show()\n",
    "\n",
    "train_actual_label = train_dataloader.dataset.tensors[1]\n",
    "val_actual_label = val_dataloader.dataset.tensors[1]\n",
    "test_actual_label = test_dataloader.dataset.tensors[1]\n",
    "\n",
    "viz_evaluation(train_pred_label, train_actual_label, f\"Training (F1-Score: {(train_f1_score):.4f})\")\n",
    "viz_evaluation(val_pred_label, val_actual_label, f\"Validation (F1-Score: {(val_f1_score):.4f})\")\n",
    "viz_evaluation(test_pred_label, test_actual_label, f\"Test (F1-Score: {(test_f1_score):.4f})\")"
   ]
  },
  {
   "cell_type": "markdown",
   "id": "e88a7dca-8191-47cc-a4be-45abd1a9b1d1",
   "metadata": {},
   "source": [
    "## Confusion Matrix"
   ]
  },
  {
   "cell_type": "code",
   "execution_count": null,
   "id": "4d68452f-f3ad-4899-868b-8aff317e0eda",
   "metadata": {},
   "outputs": [],
   "source": [
    "def confusion_matrix(pred_class, actual_class, title, normalize=None):\n",
    "    conf_mat = MulticlassConfusionMatrix(num_classes=24, normalize=normalize)\n",
    "    plt.figure(figsize=(20, 10), dpi=200)\n",
    "    sns.heatmap(conf_mat(pred_class.detach().cpu(), actual_class), annot=True, fmt=\".2g\", xticklabels=list(label_to_idx.keys()), yticklabels=list(label_to_idx.keys()));\n",
    "    plt.yticks(rotation=0)\n",
    "    plt.title(title)\n",
    "    plt.xlabel(\"Actual Class\")\n",
    "    plt.ylabel(\"Predict Class\")\n",
    "    plt.savefig(f\"{root_path}/conf_matrix_{title.lower()}.jpg\", dpi=200)\n",
    "\n",
    "confusion_matrix(train_pred_label, train_actual_label, \"Training\", \"pred\")\n",
    "confusion_matrix(val_pred_label,val_actual_label, \"Validation\", \"pred\")\n",
    "confusion_matrix(test_pred_label, test_actual_label, \"Test\", \"pred\")"
   ]
  },
  {
   "cell_type": "markdown",
   "id": "ada17c56-345a-4eba-914a-b093ce956d27",
   "metadata": {},
   "source": [
    "## Prediction Table"
   ]
  },
  {
   "cell_type": "code",
   "execution_count": null,
   "id": "3467f514-d6a6-46e4-b9bb-295686c5a572",
   "metadata": {},
   "outputs": [],
   "source": [
    "def number_wrong_pred_each_class(pred_class, actual_class):\n",
    "    classes, count_class = actual_class.flatten().unique(return_counts=True)\n",
    "    conf_mat = MulticlassConfusionMatrix(num_classes=24, normalize=\"none\")\n",
    "    correct_pred_count_class = conf_mat(pred_class.detach().cpu(), actual_class).diag()\n",
    "    \n",
    "    correct_pred = {idx_to_label[label.item()]: count.item() for label, count in zip(classes, (correct_pred_count_class))}\n",
    "    wrong_pred = {idx_to_label[label.item()]: count.item() for label, count in zip(classes, (count_class - correct_pred_count_class))}\n",
    "    \n",
    "    return correct_pred, wrong_pred\n",
    "\n",
    "correct_pred, wrong_pred = number_wrong_pred_each_class(train_pred_label, train_actual_label)\n",
    "print(f\"| {'Number class'.ljust(14)} | {'Correct prediction'.ljust(12)} | {'Wrong prediction'.ljust(12)} |\")\n",
    "for (label_correct_pred, count_correct_pred), (label_wrong_pred, count_wrong_pred) in zip(correct_pred.items(), wrong_pred.items()):\n",
    "    print(f\"| {str(label_correct_pred).ljust(6)}: {str(count_correct_pred + count_wrong_pred).ljust(7)}| {label_correct_pred.ljust(6)}: {str(count_correct_pred).ljust(10)} | {label_wrong_pred.ljust(6)}: {str(count_wrong_pred).ljust(8)} |\")"
   ]
  },
  {
   "cell_type": "code",
   "execution_count": null,
   "id": "4bc2b172-d261-42d3-b9c3-69f67cd0d622",
   "metadata": {},
   "outputs": [],
   "source": [
    "train_actual_label[308], train_pred_label[308]"
   ]
  },
  {
   "cell_type": "code",
   "execution_count": null,
   "id": "925c3a3f-2f10-44f8-b394-bedaf19e2540",
   "metadata": {},
   "outputs": [],
   "source": [
    "train_actual_label[308].detach().cpu() == train_pred_label[308].detach().cpu()"
   ]
  },
  {
   "cell_type": "markdown",
   "id": "77f44bd5-cd73-4184-9078-63d2b5718078",
   "metadata": {},
   "source": [
    "## OOV prediction is correct "
   ]
  },
  {
   "cell_type": "code",
   "execution_count": null,
   "id": "c4a4df60-901f-49d3-8dfb-b37fab4773be",
   "metadata": {},
   "outputs": [],
   "source": [
    "def oov_flag_token(sentences, max_seq_len=hyperparams.max_seq_len):\n",
    "    sent_copy = deepcopy(sentences)\n",
    "    sent = []\n",
    "    oov_flag = []\n",
    "    \n",
    "    for sentence in tqdm(sent_copy):\n",
    "        for token in sentence:\n",
    "            sent.append(token[2])\n",
    "        \n",
    "        for _ in range(max_seq_len- len(sentence)):\n",
    "            sent.append(False)\n",
    "        \n",
    "        oov_flag.append(sent)\n",
    "        sent = []\n",
    "        \n",
    "    return np.array(oov_flag)\n",
    "\n",
    "train_oov_flag = oov_flag_token(train_sentences, max_seq_len=hyperparams.max_seq_len)\n",
    "val_oov_flag = oov_flag_token(val_sentences, max_seq_len=hyperparams.max_seq_len)\n",
    "test_oov_flag = oov_flag_token(test_sentences, max_seq_len=hyperparams.max_seq_len)\n",
    "\n",
    "def pencentage_oov_pred_correct(pred_oov_flag, oov_flag_tensor):\n",
    "    oov_correct_counter = 0\n",
    "    oov_wrong_counter = 0\n",
    "\n",
    "    for pred, oov_label in tqdm(zip(pred_oov_flag, oov_flag_tensor)):\n",
    "        if pred == True and oov_label == True:\n",
    "            oov_correct_counter += 1\n",
    "        elif pred == False and oov_label == True:\n",
    "            oov_wrong_counter += 1\n",
    "        else:\n",
    "            continue\n",
    "            \n",
    "    return oov_correct_counter, oov_wrong_counter\n",
    "\n",
    "train_pred_oov_flag = (train_actual_label == train_pred_label.detach().cpu()).flatten()\n",
    "val_pred_oov_flag = (val_actual_label == val_pred_label.detach().cpu()).flatten()\n",
    "test_pred_oov_flag = (test_actual_label == test_pred_label.detach().cpu()).flatten()\n",
    "train_oov_flag_tensor = torch.tensor(train_oov_flag).flatten()\n",
    "val_oov_flag_tensor = torch.tensor(val_oov_flag).flatten()\n",
    "test_oov_flag_tensor = torch.tensor(test_oov_flag).flatten()\n",
    "\n",
    "train_oov_correct_counter, train_oov_wrong_counter = pencentage_oov_pred_correct(train_pred_oov_flag, train_oov_flag_tensor)\n",
    "val_oov_correct_counter, val_oov_wrong_counter = pencentage_oov_pred_correct(val_pred_oov_flag, val_oov_flag_tensor)\n",
    "test_oov_correct_counter, test_oov_wrong_counter = pencentage_oov_pred_correct(test_pred_oov_flag, test_oov_flag_tensor)"
   ]
  },
  {
   "cell_type": "code",
   "execution_count": null,
   "id": "1e59490d-6b9f-4c4d-833b-28eaf624d445",
   "metadata": {},
   "outputs": [],
   "source": [
    "def print_percentage_pred_oov(title, oov_correct_counter, oov_wrong_counter):\n",
    "    print(f\"{title}\")\n",
    "    print(f\"Number OOV token            : {oov_correct_counter + oov_wrong_counter}\")\n",
    "    print(f\"Correct prediction          : {oov_correct_counter}\")\n",
    "    print(f\"Wrong prediction            : {oov_wrong_counter}\")\n",
    "    print(f\"Percentage correct oov pred : {oov_correct_counter / (oov_correct_counter + oov_wrong_counter) * 100}\\n\")\n",
    "    \n",
    "    with open(f\"{root_path}/oov_summary.txt\", \"a\") as f:\n",
    "        f.write(f\"{title}\\n\")\n",
    "        f.write(f\"Number OOV token            : {oov_correct_counter + oov_wrong_counter}\\n\")\n",
    "        f.write(f\"Correct prediction          : {oov_correct_counter}\\n\")\n",
    "        f.write(f\"Wrong prediction            : {oov_wrong_counter}\\n\")\n",
    "        f.write(f\"Percentage correct oov pred : {oov_correct_counter / (oov_correct_counter + oov_wrong_counter) * 100}\\n\\n\")"
   ]
  },
  {
   "cell_type": "code",
   "execution_count": null,
   "id": "c6cda2e3-0629-4e3c-8459-4324b513ddaa",
   "metadata": {},
   "outputs": [],
   "source": [
    "print_percentage_pred_oov(\"Training\", train_oov_correct_counter, train_oov_wrong_counter)\n",
    "print_percentage_pred_oov(\"Validation\", val_oov_correct_counter, val_oov_wrong_counter)\n",
    "print_percentage_pred_oov(\"Test\", test_oov_correct_counter, test_oov_wrong_counter)"
   ]
  },
  {
   "cell_type": "code",
   "execution_count": null,
   "id": "4efce585-5e19-45eb-8781-6818b8369819",
   "metadata": {},
   "outputs": [],
   "source": [
    "plt.figure(figsize=(15, 7))\n",
    "sns.heatmap(train_oov_flag, cmap=plt.cm.binary_r);"
   ]
  },
  {
   "cell_type": "code",
   "execution_count": null,
   "id": "97963f81-d9bf-4239-842d-ef30df0dfb51",
   "metadata": {},
   "outputs": [],
   "source": [
    "plt.figure(figsize=(15, 7))\n",
    "sns.heatmap(val_oov_flag, cmap=plt.cm.binary_r);"
   ]
  },
  {
   "cell_type": "code",
   "execution_count": null,
   "id": "3674a992-1715-4d50-892d-bb7df050aeac",
   "metadata": {},
   "outputs": [],
   "source": [
    "plt.figure(figsize=(15, 7))\n",
    "sns.heatmap(test_oov_flag, cmap=plt.cm.binary_r);"
   ]
  },
  {
   "cell_type": "code",
   "execution_count": null,
   "id": "15fc95b3-4ee0-4cc1-b7d9-40a3e8150c8f",
   "metadata": {},
   "outputs": [],
   "source": []
  },
  {
   "cell_type": "code",
   "execution_count": null,
   "id": "b4828bfc-586d-4f3f-999f-cea4c114d2e3",
   "metadata": {},
   "outputs": [],
   "source": []
  }
 ],
 "metadata": {
  "kernelspec": {
   "display_name": "default:Python",
   "language": "python",
   "name": "conda-env-default-py"
  },
  "language_info": {
   "codemirror_mode": {
    "name": "ipython",
    "version": 3
   },
   "file_extension": ".py",
   "mimetype": "text/x-python",
   "name": "python",
   "nbconvert_exporter": "python",
   "pygments_lexer": "ipython3",
   "version": "3.9.13"
  }
 },
 "nbformat": 4,
 "nbformat_minor": 5
}
