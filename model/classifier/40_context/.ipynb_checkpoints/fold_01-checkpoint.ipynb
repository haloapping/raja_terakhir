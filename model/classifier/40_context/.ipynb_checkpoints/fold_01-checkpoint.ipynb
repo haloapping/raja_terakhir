{
 "cells": [
  {
   "cell_type": "markdown",
   "id": "8319205c-12ab-4314-8558-cfae2ca2d1bb",
   "metadata": {},
   "source": [
    "# Import modules"
   ]
  },
  {
   "cell_type": "code",
   "execution_count": 1,
   "id": "41f1e2d8-ccca-4f8b-97e8-4ab8bf6c5886",
   "metadata": {},
   "outputs": [],
   "source": [
    "import csv\n",
    "import os\n",
    "import pickle\n",
    "import pytz\n",
    "import torch\n",
    "import timeit\n",
    "import matplotlib.pyplot as plt\n",
    "import numpy as np\n",
    "import pandas as pd\n",
    "\n",
    "from copy import deepcopy\n",
    "from datetime import datetime\n",
    "from einops import rearrange\n",
    "from itertools import chain\n",
    "from time import time\n",
    "from torch import nn, optim\n",
    "from torchmetrics.classification import MulticlassAccuracy, MulticlassF1Score, MulticlassConfusionMatrix\n",
    "from torch.optim import lr_scheduler\n",
    "from tqdm.notebook import tqdm\n",
    "from torch.utils.data import TensorDataset, DataLoader\n",
    "from polyglot.mapping import Embedding, CaseExpander, DigitExpander"
   ]
  },
  {
   "cell_type": "markdown",
   "id": "3015ead4-c615-4dbc-aa8c-c7e611c3b76e",
   "metadata": {},
   "source": [
    "# Hyperparameters"
   ]
  },
  {
   "cell_type": "code",
   "execution_count": 2,
   "id": "ecab9839-baf2-480b-a00d-53dc81c66ea0",
   "metadata": {},
   "outputs": [],
   "source": [
    "class Hyperparams:\n",
    "     def __init__(\n",
    "        self,\n",
    "        context_size=40,\n",
    "        fold=1,\n",
    "        max_seq_len=82,\n",
    "        input_size=64,\n",
    "        batch_size=32,\n",
    "        num_hidden_layer=1,\n",
    "        hidden_size=128,\n",
    "        dropout=0,\n",
    "        bias=True,\n",
    "        output_size=24,\n",
    "        shuffle=True,\n",
    "        lr=0.005,\n",
    "        batch_first=False,\n",
    "        bidirectional=True,\n",
    "        init_wb_with_kaiming_normal=True,\n",
    "        n_epoch=50,\n",
    "        patience=50,\n",
    "        device=\"cuda\" if torch.cuda.is_available() else \"cpu\"\n",
    "    ):\n",
    "        self.context_size = context_size\n",
    "        self.fold = fold\n",
    "        self.input_size = input_size\n",
    "        self.max_seq_len = max_seq_len\n",
    "        self.batch_size = batch_size\n",
    "        self.num_hidden_layer = num_hidden_layer\n",
    "        self.hidden_size = hidden_size\n",
    "        self.dropout = dropout\n",
    "        self.bias = bias\n",
    "        self.output_size = output_size\n",
    "        self.shuffle = shuffle\n",
    "        self.lr = lr\n",
    "        self.batch_first = batch_first\n",
    "        self.bidirectional = bidirectional\n",
    "        self.init_wb_with_kaiming_normal = init_wb_with_kaiming_normal\n",
    "        self.n_epoch = n_epoch\n",
    "        self.patience = patience\n",
    "        self.device = device\n",
    "\n",
    "hyperparams = Hyperparams()"
   ]
  },
  {
   "cell_type": "markdown",
   "id": "3651614b-b4a1-4968-88a1-ac38e4dc8323",
   "metadata": {},
   "source": [
    "# Dataset"
   ]
  },
  {
   "cell_type": "code",
   "execution_count": 3,
   "id": "6d70aa1f-c03c-4ec8-b720-0eca1d63020b",
   "metadata": {},
   "outputs": [],
   "source": [
    "id_pos_tag = pd.read_csv(\"../../../datasets/raw/Indonesian_Manually_Tagged_Corpus.tsv\", sep=\"\\t\", header=None, names=[\"token\", \"tag\"], quoting=csv.QUOTE_NONE, skip_blank_lines=False) \n",
    "train = pd.read_csv(f\"../../../datasets/raw/cv/train/train.0{hyperparams.fold}.tsv\", sep=\"\\t\", header=None, names=[\"token\", \"tag\"], quoting=csv.QUOTE_NONE, skip_blank_lines=False)\n",
    "val = pd.read_csv(f\"../../../datasets/raw/cv/val/val.0{hyperparams.fold}.tsv\", sep=\"\\t\", header=None, names=[\"token\", \"tag\"], quoting=csv.QUOTE_NONE, skip_blank_lines=False)\n",
    "test = pd.read_csv(f\"../../../datasets/raw/cv/test/test.0{hyperparams.fold}.tsv\", sep=\"\\t\", header=None, names=[\"token\", \"tag\"], quoting=csv.QUOTE_NONE, skip_blank_lines=False)"
   ]
  },
  {
   "cell_type": "markdown",
   "id": "5f7ce54d-7e46-4d41-aa8e-1dd7f33b8fa4",
   "metadata": {},
   "source": [
    "# Pre-trained Word Embedding"
   ]
  },
  {
   "cell_type": "code",
   "execution_count": 4,
   "id": "39c6717c-8302-45dd-acfc-625c92530a4d",
   "metadata": {},
   "outputs": [],
   "source": [
    "embeddings = Embedding.load(\"../../../word_embeddings/polyglot/idn_embeddings.tar.bz2\")\n",
    "embeddings.apply_expansion(DigitExpander)\n",
    "embeddings.apply_expansion(CaseExpander)\n",
    "\n",
    "oov_embeddings = pickle.load(open(f\"../../../logs/comick/{hyperparams.context_size}_contexts/10-11-2022_13-47-43/oov_embedding_dict.pkl\", \"rb\"))"
   ]
  },
  {
   "cell_type": "markdown",
   "id": "158ed87f-c18d-4a59-a47b-c4e874b951bb",
   "metadata": {},
   "source": [
    "# Data Preprocessing"
   ]
  },
  {
   "cell_type": "markdown",
   "id": "7d29837c-9113-4d5d-b835-351bce316e07",
   "metadata": {},
   "source": [
    "## Add OOV Flag"
   ]
  },
  {
   "cell_type": "code",
   "execution_count": 5,
   "id": "08aeabff-e02c-4d83-bdee-ca428d401eaa",
   "metadata": {},
   "outputs": [
    {
     "data": {
      "application/vnd.jupyter.widget-view+json": {
       "model_id": "f6582dc6ce5a47ba9939f0654151696d",
       "version_major": 2,
       "version_minor": 0
      },
      "text/plain": [
       "  0%|          | 0/266652 [00:00<?, ?it/s]"
      ]
     },
     "metadata": {},
     "output_type": "display_data"
    },
    {
     "data": {
      "application/vnd.jupyter.widget-view+json": {
       "model_id": "c723ab0c299b4b1c99b7dc8f11136a4c",
       "version_major": 2,
       "version_minor": 0
      },
      "text/plain": [
       "  0%|          | 0/191567 [00:00<?, ?it/s]"
      ]
     },
     "metadata": {},
     "output_type": "display_data"
    },
    {
     "data": {
      "application/vnd.jupyter.widget-view+json": {
       "model_id": "9a148661272e4cfe91090e6c734b9ede",
       "version_major": 2,
       "version_minor": 0
      },
      "text/plain": [
       "  0%|          | 0/21461 [00:00<?, ?it/s]"
      ]
     },
     "metadata": {},
     "output_type": "display_data"
    },
    {
     "data": {
      "application/vnd.jupyter.widget-view+json": {
       "model_id": "f35642b1c90c447c9f67bce5310f96fd",
       "version_major": 2,
       "version_minor": 0
      },
      "text/plain": [
       "  0%|          | 0/53624 [00:00<?, ?it/s]"
      ]
     },
     "metadata": {},
     "output_type": "display_data"
    }
   ],
   "source": [
    "def add_oov_flag(tokens, embeddings):\n",
    "    oov_flags = []\n",
    "    \n",
    "    for token in tqdm(tokens):\n",
    "        try:\n",
    "            if token not in embeddings:\n",
    "                oov_flags.append(True)\n",
    "            else:\n",
    "                oov_flags.append(False)\n",
    "        except:\n",
    "            oov_flags.append(False)\n",
    "        \n",
    "    return pd.DataFrame(oov_flags, columns=[\"is_oov\"])\n",
    "\n",
    "id_pos_tag_oov_flags = add_oov_flag(id_pos_tag[\"token\"].values, embeddings)\n",
    "train_oov_flags = add_oov_flag(train[\"token\"].values, embeddings)\n",
    "val_oov_flags = add_oov_flag(val[\"token\"].values, embeddings)\n",
    "test_oov_flags = add_oov_flag(test[\"token\"].values, embeddings)"
   ]
  },
  {
   "cell_type": "markdown",
   "id": "0c1a6631-74de-483c-b03d-a4176880b8af",
   "metadata": {},
   "source": [
    "## Concate OOV Flag"
   ]
  },
  {
   "cell_type": "code",
   "execution_count": 6,
   "id": "97cddb08-c462-4fd0-b348-44f5464cbb0d",
   "metadata": {},
   "outputs": [],
   "source": [
    "id_pos_tag_df = pd.concat([id_pos_tag, id_pos_tag_oov_flags], axis=1)\n",
    "train_df = pd.concat([train, train_oov_flags], axis=1)\n",
    "val_df = pd.concat([val, val_oov_flags], axis=1)\n",
    "test_df = pd.concat([test, test_oov_flags], axis=1)"
   ]
  },
  {
   "cell_type": "markdown",
   "id": "8183be89-5b99-42f8-bedf-8061a990d8b1",
   "metadata": {},
   "source": [
    "## Lowercase OOV Token"
   ]
  },
  {
   "cell_type": "code",
   "execution_count": 7,
   "id": "441d0127-b999-49e3-ae3d-73d01c5cb9fd",
   "metadata": {},
   "outputs": [],
   "source": [
    "id_pos_tag_df['token'] = np.where(id_pos_tag_df['is_oov'] == True, id_pos_tag_df['token'].str.lower(), id_pos_tag_df['token'])\n",
    "train_df['token'] = np.where(train_df['is_oov'] == True, train_df['token'].str.lower(), train_df['token'])\n",
    "val_df['token'] = np.where(val_df['is_oov'] == True, val_df['token'].str.lower(), val_df['token'])\n",
    "test_df['token'] = np.where(test_df['is_oov'] == True, test_df['token'].str.lower(), test_df['token'])"
   ]
  },
  {
   "cell_type": "markdown",
   "id": "4d866169-d378-495d-9af7-c1939feaae40",
   "metadata": {},
   "source": [
    "## Embedding Dict, Index to Token and Token to Index"
   ]
  },
  {
   "cell_type": "code",
   "execution_count": 8,
   "id": "3130fc5d-3e7e-480d-9f47-b5af4b2ce3d4",
   "metadata": {},
   "outputs": [],
   "source": [
    "tokens = list(id_pos_tag_df[[\"token\", \"tag\", \"is_oov\"]].itertuples(index=False, name=None))\n",
    "\n",
    "def embedding_dict(tokens, embeddings, oov_embeddings):\n",
    "    embedding = {}\n",
    "    \n",
    "    for token in tokens:\n",
    "        if token[0] is not np.nan:\n",
    "            if token[2] == False or token[0] in embeddings:\n",
    "                embedding[token[0]] = embeddings[token[0]]\n",
    "            else:\n",
    "                embedding[token[0]] = oov_embeddings[token[0].lower()]\n",
    "\n",
    "    return embedding\n",
    "\n",
    "embedding_dict = embedding_dict(tokens, embeddings, oov_embeddings)\n",
    "embedding_dict[\"<PAD>\"] = embeddings[\"<PAD>\"]\n",
    "word_embeddings = nn.Embedding.from_pretrained(torch.FloatTensor(np.array(list(embedding_dict.values()))), padding_idx=list(embedding_dict.keys()).index(\"<PAD>\"), freeze=True)\n",
    "\n",
    "idx_to_token = {idx: token for idx, token in enumerate(list(embedding_dict.keys()))}\n",
    "token_to_idx = {token: idx for idx, token in enumerate(list(embedding_dict.keys()))}"
   ]
  },
  {
   "cell_type": "markdown",
   "id": "6ab92441-64b9-430e-a8d6-4b4df859cefc",
   "metadata": {},
   "source": [
    "## Token to Sentence"
   ]
  },
  {
   "cell_type": "code",
   "execution_count": 9,
   "id": "c3703497-9ee3-43b9-9705-fcfd2a3f1d94",
   "metadata": {},
   "outputs": [
    {
     "data": {
      "application/vnd.jupyter.widget-view+json": {
       "model_id": "22bc3a918ce2417e99cd8e4302ffd626",
       "version_major": 2,
       "version_minor": 0
      },
      "text/plain": [
       "  0%|          | 0/266652 [00:00<?, ?it/s]"
      ]
     },
     "metadata": {},
     "output_type": "display_data"
    },
    {
     "data": {
      "application/vnd.jupyter.widget-view+json": {
       "model_id": "bf37330ccb014099aea1307d52d9cbb5",
       "version_major": 2,
       "version_minor": 0
      },
      "text/plain": [
       "  0%|          | 0/191567 [00:00<?, ?it/s]"
      ]
     },
     "metadata": {},
     "output_type": "display_data"
    },
    {
     "data": {
      "application/vnd.jupyter.widget-view+json": {
       "model_id": "3dc809f25df748708d48dfba97f1fe57",
       "version_major": 2,
       "version_minor": 0
      },
      "text/plain": [
       "  0%|          | 0/53624 [00:00<?, ?it/s]"
      ]
     },
     "metadata": {},
     "output_type": "display_data"
    },
    {
     "data": {
      "application/vnd.jupyter.widget-view+json": {
       "model_id": "ed8df1bd0f1944dc85fb45883e020852",
       "version_major": 2,
       "version_minor": 0
      },
      "text/plain": [
       "  0%|          | 0/21461 [00:00<?, ?it/s]"
      ]
     },
     "metadata": {},
     "output_type": "display_data"
    }
   ],
   "source": [
    "def make_sentence(tokens, max_length_sentence=hyperparams.max_seq_len):\n",
    "    sentence = []\n",
    "    sentences = []\n",
    "\n",
    "    for token in tqdm(tokens):\n",
    "        if token[0] is not np.nan:\n",
    "            sentence.append(token)\n",
    "        else:\n",
    "            sentences.append(sentence[:max_length_sentence])\n",
    "            sentence = []\n",
    "\n",
    "    return sentences\n",
    "\n",
    "all_sentence = make_sentence(list(id_pos_tag_df[[\"token\", \"tag\", \"is_oov\"]].itertuples(index=False, name=None)))\n",
    "train_sentences = make_sentence(list(train_df[[\"token\", \"tag\", \"is_oov\"]].itertuples(index=False, name=None)))\n",
    "val_sentences = make_sentence(list(test_df[[\"token\", \"tag\", \"is_oov\"]].itertuples(index=False, name=None)))\n",
    "test_sentences = make_sentence(list(val_df[[\"token\", \"tag\", \"is_oov\"]].itertuples(index=False, name=None)))"
   ]
  },
  {
   "cell_type": "markdown",
   "id": "220e44ae-dae4-421f-b35e-97e23727e90c",
   "metadata": {},
   "source": [
    "## Word Token, Padding, and Word token to Index "
   ]
  },
  {
   "cell_type": "code",
   "execution_count": 10,
   "id": "43f0cf3b-695c-4abe-b462-f5aed832efc3",
   "metadata": {},
   "outputs": [
    {
     "data": {
      "application/vnd.jupyter.widget-view+json": {
       "model_id": "52491caa5f2740efadefe41465cf3c69",
       "version_major": 2,
       "version_minor": 0
      },
      "text/plain": [
       "  0%|          | 0/7222 [00:00<?, ?it/s]"
      ]
     },
     "metadata": {},
     "output_type": "display_data"
    },
    {
     "data": {
      "application/vnd.jupyter.widget-view+json": {
       "model_id": "c33d162f8eb949cf8375444ac83370c4",
       "version_major": 2,
       "version_minor": 0
      },
      "text/plain": [
       "  0%|          | 0/7222 [00:00<?, ?it/s]"
      ]
     },
     "metadata": {},
     "output_type": "display_data"
    },
    {
     "data": {
      "application/vnd.jupyter.widget-view+json": {
       "model_id": "1af7de2bb8294733bcb6b0b396a80d94",
       "version_major": 2,
       "version_minor": 0
      },
      "text/plain": [
       "  0%|          | 0/7222 [00:00<?, ?it/s]"
      ]
     },
     "metadata": {},
     "output_type": "display_data"
    },
    {
     "data": {
      "application/vnd.jupyter.widget-view+json": {
       "model_id": "2b4eb43b167e4a888904902d4e0a3c97",
       "version_major": 2,
       "version_minor": 0
      },
      "text/plain": [
       "  0%|          | 0/2006 [00:00<?, ?it/s]"
      ]
     },
     "metadata": {},
     "output_type": "display_data"
    },
    {
     "data": {
      "application/vnd.jupyter.widget-view+json": {
       "model_id": "83b3f41aaf3e4b358ab6eafd5926bdcc",
       "version_major": 2,
       "version_minor": 0
      },
      "text/plain": [
       "  0%|          | 0/2006 [00:00<?, ?it/s]"
      ]
     },
     "metadata": {},
     "output_type": "display_data"
    },
    {
     "data": {
      "application/vnd.jupyter.widget-view+json": {
       "model_id": "0313303e2a0446ada14afa35c339bae1",
       "version_major": 2,
       "version_minor": 0
      },
      "text/plain": [
       "  0%|          | 0/2006 [00:00<?, ?it/s]"
      ]
     },
     "metadata": {},
     "output_type": "display_data"
    },
    {
     "data": {
      "application/vnd.jupyter.widget-view+json": {
       "model_id": "db9816101246453cb4ca5307519c879b",
       "version_major": 2,
       "version_minor": 0
      },
      "text/plain": [
       "  0%|          | 0/802 [00:00<?, ?it/s]"
      ]
     },
     "metadata": {},
     "output_type": "display_data"
    },
    {
     "data": {
      "application/vnd.jupyter.widget-view+json": {
       "model_id": "6a6186dd6a8a4b22b2df82946c852879",
       "version_major": 2,
       "version_minor": 0
      },
      "text/plain": [
       "  0%|          | 0/802 [00:00<?, ?it/s]"
      ]
     },
     "metadata": {},
     "output_type": "display_data"
    },
    {
     "data": {
      "application/vnd.jupyter.widget-view+json": {
       "model_id": "f90c8377e417474fb5318794a6ee2530",
       "version_major": 2,
       "version_minor": 0
      },
      "text/plain": [
       "  0%|          | 0/802 [00:00<?, ?it/s]"
      ]
     },
     "metadata": {},
     "output_type": "display_data"
    }
   ],
   "source": [
    "def tokenize_docs(docs, idx_token):\n",
    "    new_sentence = []\n",
    "    sentences = []\n",
    "    \n",
    "    for sentence in tqdm(docs):\n",
    "        for token in sentence:\n",
    "            new_sentence.append(token[idx_token])\n",
    "        sentences.append(new_sentence)\n",
    "        new_sentence = []\n",
    "\n",
    "    return sentences\n",
    "\n",
    "def padding(docs, max_seq_len=hyperparams.max_seq_len, mode=\"post\", val_pad=\"<PAD>\"):\n",
    "    docs = deepcopy(docs)\n",
    "    doc_with_pad = []\n",
    "    docs_with_pad = []\n",
    "\n",
    "    for doc in tqdm(docs):\n",
    "        if mode == \"pre\":\n",
    "            for _ in range(max_seq_len - len(doc)):\n",
    "                doc.insert(0, val_pad)\n",
    "        elif mode == \"post\":\n",
    "            for _ in range(max_seq_len - len(doc)):\n",
    "                doc.append(val_pad)\n",
    "        else:\n",
    "            return f\"Mode {mode} is not available, use instead 'pre' or 'post'.\"\n",
    "        \n",
    "        docs_with_pad.append(doc)\n",
    "        \n",
    "    return np.array(docs_with_pad)\n",
    "\n",
    "def sent_to_idx(docs, token_to_idx):\n",
    "    new_sentence = []\n",
    "    sentences = []\n",
    "    \n",
    "    for sentence in tqdm(docs):\n",
    "        for token in sentence:\n",
    "            new_sentence.append(token_to_idx[token])\n",
    "        sentences.append(new_sentence)\n",
    "        new_sentence = []\n",
    "\n",
    "    return np.array(sentences)\n",
    "\n",
    "def convert_feature_to_idx(docs, idx_token, token_to_idx, max_seq_len):\n",
    "    sentences = tokenize_docs(docs, idx_token)\n",
    "    sentences_with_pad = padding(sentences, max_seq_len=max_seq_len, mode=\"post\", val_pad=\"<PAD>\")\n",
    "    sentences_to_idx = sent_to_idx(sentences_with_pad, token_to_idx)\n",
    "    \n",
    "    return sentences_to_idx\n",
    "\n",
    "train_sentence_idxs = convert_feature_to_idx(train_sentences, 0, token_to_idx, hyperparams.max_seq_len)\n",
    "val_sentence_idxs = convert_feature_to_idx(val_sentences, 0, token_to_idx, hyperparams.max_seq_len)\n",
    "test_sentence_idxs = convert_feature_to_idx(test_sentences, 0, token_to_idx, hyperparams.max_seq_len)"
   ]
  },
  {
   "cell_type": "markdown",
   "id": "26c2d150-0276-4ea8-a844-1a06b0b911c6",
   "metadata": {},
   "source": [
    "## Encode Class"
   ]
  },
  {
   "cell_type": "code",
   "execution_count": 11,
   "id": "76c9be34-f098-4b1e-8a4e-d8d06e43e96f",
   "metadata": {},
   "outputs": [
    {
     "data": {
      "application/vnd.jupyter.widget-view+json": {
       "model_id": "bdca5e2cd1f944deb036c48a4291cf5f",
       "version_major": 2,
       "version_minor": 0
      },
      "text/plain": [
       "  0%|          | 0/7222 [00:00<?, ?it/s]"
      ]
     },
     "metadata": {},
     "output_type": "display_data"
    },
    {
     "data": {
      "application/vnd.jupyter.widget-view+json": {
       "model_id": "ef7b7b29ba8e497b90683431fd225796",
       "version_major": 2,
       "version_minor": 0
      },
      "text/plain": [
       "  0%|          | 0/2006 [00:00<?, ?it/s]"
      ]
     },
     "metadata": {},
     "output_type": "display_data"
    },
    {
     "data": {
      "application/vnd.jupyter.widget-view+json": {
       "model_id": "305ed5efea864394b55752125c8118fa",
       "version_major": 2,
       "version_minor": 0
      },
      "text/plain": [
       "  0%|          | 0/802 [00:00<?, ?it/s]"
      ]
     },
     "metadata": {},
     "output_type": "display_data"
    },
    {
     "name": "stdout",
     "output_type": "stream",
     "text": [
      "Training shape   : ((7222, 82), (7222, 82))\n",
      "validation shape : ((2006, 82), (2006, 82))\n",
      "Test shape       : ((802, 82), (802, 82))\n"
     ]
    }
   ],
   "source": [
    "classes = sorted(np.delete(id_pos_tag_df[\"tag\"].unique(), 3))\n",
    "idx_to_label = {idx: label for idx, label in enumerate(classes + [\"<PAD>\"])}\n",
    "label_to_idx = {label: idx for idx, label in enumerate(classes + [\"<PAD>\"])}\n",
    "\n",
    "def encode_class(docs, label_to_idx, seq_len=hyperparams.max_seq_len):\n",
    "    class_idxs = []\n",
    "    classes = []\n",
    "    \n",
    "    for sentence in tqdm(docs):\n",
    "        for token in sentence:\n",
    "            class_idxs.append(label_to_idx[token[1]])\n",
    "            \n",
    "        for _ in range(seq_len - len(sentence)):\n",
    "            class_idxs.append(label_to_idx[\"<PAD>\"])\n",
    "                \n",
    "        classes.append(class_idxs)\n",
    "        class_idxs = []\n",
    "\n",
    "    return np.array(classes)\n",
    "        \n",
    "train_class_idxs = encode_class(train_sentences, label_to_idx)\n",
    "val_class_idxs = encode_class(val_sentences, label_to_idx)\n",
    "test_class_idxs = encode_class(test_sentences, label_to_idx)\n",
    "\n",
    "print(f\"Training shape   : {train_sentence_idxs.shape, train_class_idxs.shape}\")\n",
    "print(f\"validation shape : {val_class_idxs.shape, val_class_idxs.shape}\")\n",
    "print(f\"Test shape       : {test_sentence_idxs.shape, test_class_idxs.shape}\")"
   ]
  },
  {
   "cell_type": "markdown",
   "id": "e1d6d808-0ee8-4979-bcee-43b5020ac96f",
   "metadata": {
    "tags": []
   },
   "source": [
    "## Note\n",
    "\n",
    "- Number of sentences = 10030\n",
    "- Train : 72% (7222)\n",
    "- Val   : 8% (802)\n",
    "- Test  : 20% (2006)"
   ]
  },
  {
   "cell_type": "markdown",
   "id": "33573647-a8e8-474e-9c88-beee03332ec6",
   "metadata": {},
   "source": [
    "# Build Model"
   ]
  },
  {
   "cell_type": "markdown",
   "id": "535f0ccc-e2ca-4aa7-b1c3-d782696a3fab",
   "metadata": {},
   "source": [
    "## Feature and Actual Class"
   ]
  },
  {
   "cell_type": "code",
   "execution_count": 12,
   "id": "8927d980-8ee5-4a78-870a-7bef385dbbb3",
   "metadata": {},
   "outputs": [],
   "source": [
    "train_feature = torch.LongTensor(train_sentence_idxs)\n",
    "val_feature = torch.LongTensor(val_sentence_idxs)\n",
    "test_feature = torch.LongTensor(test_sentence_idxs)\n",
    "\n",
    "train_class = torch.LongTensor(train_class_idxs)\n",
    "val_class = torch.LongTensor(val_class_idxs)\n",
    "test_class = torch.LongTensor(test_class_idxs)"
   ]
  },
  {
   "cell_type": "code",
   "execution_count": 13,
   "id": "438bf817-b692-48d7-b7ac-3e96f4fcc6e6",
   "metadata": {},
   "outputs": [
    {
     "data": {
      "text/plain": [
       "(torch.Size([7222, 82]), torch.Size([2006, 82]), torch.Size([802, 82]))"
      ]
     },
     "execution_count": 13,
     "metadata": {},
     "output_type": "execute_result"
    }
   ],
   "source": [
    "train_feature.shape, val_feature.shape, test_feature.shape"
   ]
  },
  {
   "cell_type": "code",
   "execution_count": 14,
   "id": "dd249179-151f-4197-b90b-3b3cd4bcb15b",
   "metadata": {},
   "outputs": [
    {
     "data": {
      "text/plain": [
       "(torch.Size([7222, 82]), torch.Size([2006, 82]), torch.Size([802, 82]))"
      ]
     },
     "execution_count": 14,
     "metadata": {},
     "output_type": "execute_result"
    }
   ],
   "source": [
    "train_class.shape, val_class.shape, test_class.shape"
   ]
  },
  {
   "cell_type": "markdown",
   "id": "3c681e53-f708-4c1f-864d-ab93f19412c2",
   "metadata": {},
   "source": [
    "## Tensor Dataset"
   ]
  },
  {
   "cell_type": "code",
   "execution_count": 15,
   "id": "0ae72c8a-6bac-4736-9148-75953831a786",
   "metadata": {},
   "outputs": [],
   "source": [
    "train_dataset = TensorDataset(train_feature, train_class)\n",
    "val_dataset = TensorDataset(val_feature, val_class)\n",
    "test_dataset = TensorDataset(test_feature, test_class)"
   ]
  },
  {
   "cell_type": "markdown",
   "id": "d6a20687-dcce-432c-bcab-eda007eb35c7",
   "metadata": {},
   "source": [
    "## Dataloader"
   ]
  },
  {
   "cell_type": "code",
   "execution_count": 16,
   "id": "454a5731-663c-4776-b855-ae1b6be2cb13",
   "metadata": {},
   "outputs": [],
   "source": [
    "train_dataloader = DataLoader(train_dataset, batch_size=hyperparams.batch_size, shuffle=hyperparams.shuffle)\n",
    "val_dataloader = DataLoader(val_dataset, batch_size=hyperparams.batch_size, shuffle=hyperparams.shuffle)\n",
    "test_dataloader = DataLoader(test_dataset, batch_size=hyperparams.batch_size, shuffle=hyperparams.shuffle)"
   ]
  },
  {
   "cell_type": "markdown",
   "id": "5d1b71ac-f59f-45d3-a06a-54602ded7e95",
   "metadata": {},
   "source": [
    "## Model"
   ]
  },
  {
   "cell_type": "code",
   "execution_count": 17,
   "id": "a8bc8230-8e64-4f59-b284-da8cced683f2",
   "metadata": {},
   "outputs": [
    {
     "data": {
      "text/plain": [
       "POSTagger(\n",
       "  (feature): LSTM(64, 128, bidirectional=True)\n",
       "  (classifier): Sequential(\n",
       "    (0): Linear(in_features=256, out_features=24, bias=True)\n",
       "    (1): Softmax(dim=-1)\n",
       "  )\n",
       ")"
      ]
     },
     "execution_count": 17,
     "metadata": {},
     "output_type": "execute_result"
    }
   ],
   "source": [
    "class POSTagger(nn.Module):\n",
    "    def __init__(\n",
    "        self,\n",
    "        input_size=hyperparams.input_size,\n",
    "        hidden_size=hyperparams.hidden_size,\n",
    "        dropout=hyperparams.dropout,\n",
    "        bias=hyperparams.bias,\n",
    "        num_layers=hyperparams.num_hidden_layer,\n",
    "        output_size=hyperparams.output_size,\n",
    "        batch_first=hyperparams.batch_first,\n",
    "        bidirectional=hyperparams.bidirectional,\n",
    "        init_wb_with_kaiming_normal=hyperparams.init_wb_with_kaiming_normal\n",
    "    ):\n",
    "        super(POSTagger, self).__init__()\n",
    "        \n",
    "        self.input_size = input_size\n",
    "        self.hidden_size = hidden_size\n",
    "        self.dropout = dropout\n",
    "        self.bias = bias\n",
    "        self.num_layers = num_layers\n",
    "        self.output_size = output_size\n",
    "        self.batch_first = batch_first\n",
    "        self.bidirectional = bidirectional\n",
    "                \n",
    "        self.feature = nn.LSTM(\n",
    "            input_size = self.input_size,\n",
    "            hidden_size = self.hidden_size,\n",
    "            bias = self.bias,\n",
    "            dropout = self.dropout,\n",
    "            num_layers = self.num_layers,\n",
    "            batch_first = self.batch_first,\n",
    "            bidirectional = self.bidirectional\n",
    "        )\n",
    "        \n",
    "        self.classifier = nn.Sequential(\n",
    "            nn.Linear(in_features=2 * self.hidden_size if hyperparams.bidirectional else self.hidden_size, out_features=self.output_size, bias=self.bias),\n",
    "            nn.Softmax(dim=-1)\n",
    "        )\n",
    "        \n",
    "        if init_wb_with_kaiming_normal:\n",
    "            self.init_wb()\n",
    "\n",
    "    def init_wb(self):\n",
    "        for module in self.modules():\n",
    "            if isinstance(module, (nn.Linear, nn.LSTM)):\n",
    "                for name, param in module.named_parameters():\n",
    "                    if \"weight\" in name:\n",
    "                        nn.init.kaiming_normal_(param)\n",
    "                    else:\n",
    "                        nn.init.kaiming_normal_(param.reshape(1, -1))\n",
    "        \n",
    "    def forward(self, feature, hidden=None):\n",
    "        output, (hidden, memory) = self.feature(feature, None)\n",
    "        prob = self.classifier(output)\n",
    "\n",
    "        return prob\n",
    "    \n",
    "model = POSTagger().to(hyperparams.device)\n",
    "model"
   ]
  },
  {
   "cell_type": "markdown",
   "id": "d9d72bd6-f2e6-4f44-8b36-702e5acede59",
   "metadata": {},
   "source": [
    "## Optimizer, Criterion, and Metric"
   ]
  },
  {
   "cell_type": "code",
   "execution_count": 18,
   "id": "bfcc4414-fa93-4518-a4bf-872de25c47c6",
   "metadata": {},
   "outputs": [],
   "source": [
    "optimizer = optim.Adam(model.parameters(), lr=hyperparams.lr)\n",
    "criterion = nn.CrossEntropyLoss().to(hyperparams.device)\n",
    "train_metric = MulticlassF1Score(average=\"micro\", num_classes=24, mdmc_average=\"global\", multiclass=True, ignore_index=label_to_idx[\"<PAD>\"]).to(hyperparams.device)\n",
    "val_metric = MulticlassF1Score(average=\"micro\", num_classes=24, mdmc_average=\"global\", multiclass=True, ignore_index=label_to_idx[\"<PAD>\"]).to(hyperparams.device)\n",
    "scheduler = lr_scheduler.ReduceLROnPlateau(optimizer, mode=\"min\", verbose=True, factor=0.5)"
   ]
  },
  {
   "cell_type": "code",
   "execution_count": 19,
   "id": "0591ed5b-e957-43aa-a3d5-4735852fac96",
   "metadata": {},
   "outputs": [
    {
     "data": {
      "text/plain": [
       "204824"
      ]
     },
     "execution_count": 19,
     "metadata": {},
     "output_type": "execute_result"
    }
   ],
   "source": [
    "sum(param.numel() for param in model.parameters() if param.requires_grad)"
   ]
  },
  {
   "cell_type": "markdown",
   "id": "3b5bdeea-d9c3-41ca-95c0-c2752215f2d8",
   "metadata": {},
   "source": [
    "## Training Step"
   ]
  },
  {
   "cell_type": "code",
   "execution_count": 20,
   "id": "c5d9bdc1-f6c2-41b1-8d3f-e4bfadd2aae0",
   "metadata": {},
   "outputs": [],
   "source": [
    "def training_step(dataloader, model, optimizer, criterion, metric, scheduler=None):\n",
    "    model.train()\n",
    "    \n",
    "    batch_losses = []\n",
    "    batch_metric_scores = []\n",
    "    \n",
    "    for batch, (feature, actual_label) in enumerate(tqdm(dataloader), 1):\n",
    "        # Forward Propagation\n",
    "        feature = rearrange(feature, \"n s -> s n\")\n",
    "        actual_label = rearrange(actual_label, \"n s -> s n\")\n",
    "        embedding = word_embeddings(feature)\n",
    "        \n",
    "        prob = model(\n",
    "            embedding.to(hyperparams.device),\n",
    "            actual_label.to(hyperparams.device)\n",
    "        )\n",
    "        \n",
    "        prob = prob.reshape(-1, prob.shape[-1])\n",
    "        actual_label = actual_label.reshape(-1)\n",
    "\n",
    "        loss = criterion(prob, actual_label.to(hyperparams.device))\n",
    "        metric_score = metric(prob, actual_label.to(hyperparams.device))\n",
    "        metric_score = metric.compute()\n",
    "                \n",
    "        if scheduler is not None:\n",
    "            scheduler.step(loss)\n",
    "        \n",
    "        batch_losses.append(loss.item())\n",
    "        batch_metric_scores.append(metric_score)\n",
    "        \n",
    "        if len(dataloader) < 10:\n",
    "            if batch % 1 == 0 or batch == len(dataloader):\n",
    "                batch_name = \"Batch-\" + str(batch)\n",
    "                print(f\"{batch_name.ljust(9)}: {str(criterion).split('(')[0]}={(loss.item()):.4f} | {str(metric).split('(')[0]}={(metric_score):.4f}\")\n",
    "                with open(f\"../../../logs/classifier/{hyperparams.context_size}_contexts/{root_path}/training_history.txt\", \"a\") as f:\n",
    "                    f.write(f\"{batch_name.ljust(9)}: {str(criterion).split('(')[0]}={(loss.item()):.4f} | {str(metric).split('(')[0]}={(metric_score):.4f}\\n\")\n",
    "        else:\n",
    "            if batch % 15 == 0 or batch == len(dataloader):\n",
    "                batch_name = \"Batch-\" + str(batch)\n",
    "                print(f\"{batch_name.ljust(9)}: {str(criterion).split('(')[0]}={(loss.item()):.4f} | {str(metric).split('(')[0]}={(metric_score):.4f}\")\n",
    "                with open(f\"../../../logs/classifier/{hyperparams.context_size}_contexts/{root_path}/training_history.txt\", \"a\") as f:\n",
    "                    f.write(f\"{batch_name.ljust(9)}: {str(criterion).split('(')[0]}={(loss.item()):.4f} | {str(metric).split('(')[0]}={(metric_score):.4f}\\n\")\n",
    "            \n",
    "        # Backward Propagation\n",
    "        optimizer.zero_grad()\n",
    "        loss.backward()\n",
    "        optimizer.step()\n",
    "    \n",
    "    return batch_losses, batch_metric_scores"
   ]
  },
  {
   "cell_type": "markdown",
   "id": "659ead5e-da1c-44ec-ac87-48c4891f19cb",
   "metadata": {},
   "source": [
    "## Validation Step"
   ]
  },
  {
   "cell_type": "code",
   "execution_count": 21,
   "id": "0310cd28-75cb-433e-938b-ed4e4989eaec",
   "metadata": {},
   "outputs": [],
   "source": [
    "def validation_step(dataloader, model, criterion, metric):\n",
    "    model.eval()\n",
    "    \n",
    "    batch_losses = []\n",
    "    batch_metric_scores = []\n",
    "    \n",
    "    with torch.inference_mode():\n",
    "        for batch, (feature, actual_label) in enumerate(tqdm(dataloader), 1):\n",
    "            # Forward Propagation\n",
    "            feature = rearrange(feature, \"n s -> s n\")\n",
    "            actual_label = rearrange(actual_label, \"n s -> s n\")\n",
    "            embedding = word_embeddings(feature)\n",
    "\n",
    "            prob = model(\n",
    "                embedding.to(hyperparams.device),\n",
    "                actual_label.to(hyperparams.device)\n",
    "            )\n",
    "\n",
    "            prob = prob.reshape(-1, prob.shape[-1])\n",
    "            actual_label = actual_label.reshape(-1)\n",
    "\n",
    "            loss = criterion(prob, actual_label.to(hyperparams.device))\n",
    "            metric_score = metric(prob, actual_label.to(hyperparams.device))\n",
    "            metric_score = metric.compute()\n",
    "\n",
    "            batch_losses.append(loss.item())\n",
    "            batch_metric_scores.append(metric_score)\n",
    "            \n",
    "            if len(dataloader) < 10 and (batch % 1 == 0 or batch == len(dataloader)):\n",
    "                batch_name = \"Batch-\" + str(batch)\n",
    "                print(f\"{batch_name.ljust(9)}: {str(criterion).split('(')[0]}={(loss.item()):.4f} | {str(metric).split('(')[0]}={(metric_score):.4f}\")\n",
    "                with open(f\"../../../logs/classifier/{hyperparams.context_size}_contexts/{root_path}/training_history.txt\", \"a\") as f:\n",
    "                    f.write(f\"{batch_name.ljust(9)}: {str(criterion).split('(')[0]}={(loss.item()):.4f} | {str(metric).split('(')[0]}={(metric_score):.4f}\\n\")\n",
    "            else:\n",
    "                if batch % 15 == 0 or batch == len(dataloader):\n",
    "                    batch_name = \"Batch-\" + str(batch)\n",
    "                    print(f\"{batch_name.ljust(9)}: {str(criterion).split('(')[0]}={(loss.item()):.4f} | {str(metric).split('(')[0]}={(metric_score):.4f}\")\n",
    "                    with open(f\"../../../logs/classifier/{hyperparams.context_size}_contexts/{root_path}/training_history.txt\", \"a\") as f:\n",
    "                        f.write(f\"{batch_name.ljust(9)}: {str(criterion).split('(')[0]}={(loss.item()):.4f} | {str(metric).split('(')[0]}={(metric_score):.4f}\\n\")\n",
    "    \n",
    "    return batch_losses, batch_metric_scores"
   ]
  },
  {
   "cell_type": "markdown",
   "id": "a97e1189-3368-496b-83ea-a9a98a30826e",
   "metadata": {},
   "source": [
    "## Looping Step"
   ]
  },
  {
   "cell_type": "code",
   "execution_count": null,
   "id": "d929b35d-23fc-411b-9352-187dbb4ca310",
   "metadata": {},
   "outputs": [
    {
     "name": "stdout",
     "output_type": "stream",
     "text": [
      "EPOCH-1\n",
      "Training Step\n"
     ]
    },
    {
     "data": {
      "application/vnd.jupyter.widget-view+json": {
       "model_id": "010f8734bb314b8290e8b3a0dbe9e01f",
       "version_major": 2,
       "version_minor": 0
      },
      "text/plain": [
       "  0%|          | 0/226 [00:00<?, ?it/s]"
      ]
     },
     "metadata": {},
     "output_type": "display_data"
    },
    {
     "name": "stdout",
     "output_type": "stream",
     "text": [
      "Batch-15 : CrossEntropyLoss=2.5223 | MulticlassF1Score=0.0648\n",
      "Batch-30 : CrossEntropyLoss=2.4565 | MulticlassF1Score=0.1575\n",
      "Batch-45 : CrossEntropyLoss=2.4654 | MulticlassF1Score=0.1899\n",
      "Batch-60 : CrossEntropyLoss=2.4763 | MulticlassF1Score=0.2084\n",
      "Batch-75 : CrossEntropyLoss=2.4533 | MulticlassF1Score=0.2178\n",
      "Batch-90 : CrossEntropyLoss=2.5065 | MulticlassF1Score=0.2242\n",
      "Batch-105: CrossEntropyLoss=2.4593 | MulticlassF1Score=0.2300\n",
      "Batch-120: CrossEntropyLoss=2.4622 | MulticlassF1Score=0.2339\n",
      "Batch-135: CrossEntropyLoss=2.4855 | MulticlassF1Score=0.2363\n",
      "Batch-150: CrossEntropyLoss=2.4669 | MulticlassF1Score=0.2398\n",
      "Batch-165: CrossEntropyLoss=2.4463 | MulticlassF1Score=0.2495\n",
      "Batch-180: CrossEntropyLoss=2.4646 | MulticlassF1Score=0.2590\n",
      "Batch-195: CrossEntropyLoss=2.4619 | MulticlassF1Score=0.2682\n",
      "Batch-210: CrossEntropyLoss=2.4333 | MulticlassF1Score=0.2765\n",
      "Batch-225: CrossEntropyLoss=2.4150 | MulticlassF1Score=0.2890\n",
      "Batch-226: CrossEntropyLoss=2.4502 | MulticlassF1Score=0.2896\n",
      "\n",
      "Validation Step\n"
     ]
    },
    {
     "data": {
      "application/vnd.jupyter.widget-view+json": {
       "model_id": "bf6f9f5a8b7648ac82924772fedae9d3",
       "version_major": 2,
       "version_minor": 0
      },
      "text/plain": [
       "  0%|          | 0/63 [00:00<?, ?it/s]"
      ]
     },
     "metadata": {},
     "output_type": "display_data"
    },
    {
     "name": "stdout",
     "output_type": "stream",
     "text": [
      "Batch-15 : CrossEntropyLoss=2.4305 | MulticlassF1Score=0.4722\n",
      "Batch-30 : CrossEntropyLoss=2.3984 | MulticlassF1Score=0.4705\n",
      "Batch-45 : CrossEntropyLoss=2.4005 | MulticlassF1Score=0.4731\n",
      "Batch-60 : CrossEntropyLoss=2.4101 | MulticlassF1Score=0.4727\n",
      "Batch-63 : CrossEntropyLoss=2.4192 | MulticlassF1Score=0.4725\n",
      "\n",
      "Training   : Mean CrossEntropyLoss = 2.4757 | Mean MulticlassF1Score = 0.2159\n",
      "Validation : Mean CrossEntropyLoss = 2.4134 | Mean MulticlassF1Score = 0.4717\n",
      "================================================================================\n",
      "\n",
      "EPOCH-2\n",
      "Training Step\n"
     ]
    },
    {
     "data": {
      "application/vnd.jupyter.widget-view+json": {
       "model_id": "1f858b0c2f0942a996e4831f13227eb1",
       "version_major": 2,
       "version_minor": 0
      },
      "text/plain": [
       "  0%|          | 0/226 [00:00<?, ?it/s]"
      ]
     },
     "metadata": {},
     "output_type": "display_data"
    },
    {
     "name": "stdout",
     "output_type": "stream",
     "text": [
      "Batch-15 : CrossEntropyLoss=2.4024 | MulticlassF1Score=0.4783\n",
      "Batch-30 : CrossEntropyLoss=2.4103 | MulticlassF1Score=0.4770\n",
      "Batch-45 : CrossEntropyLoss=2.4166 | MulticlassF1Score=0.4744\n",
      "Batch-60 : CrossEntropyLoss=2.4114 | MulticlassF1Score=0.4750\n",
      "Batch-75 : CrossEntropyLoss=2.4297 | MulticlassF1Score=0.4766\n",
      "Batch-90 : CrossEntropyLoss=2.3742 | MulticlassF1Score=0.4902\n",
      "Batch-105: CrossEntropyLoss=2.3744 | MulticlassF1Score=0.5041\n",
      "Batch-120: CrossEntropyLoss=2.3709 | MulticlassF1Score=0.5134\n",
      "Batch-135: CrossEntropyLoss=2.3797 | MulticlassF1Score=0.5227\n",
      "Batch-150: CrossEntropyLoss=2.3888 | MulticlassF1Score=0.5301\n",
      "Batch-165: CrossEntropyLoss=2.3640 | MulticlassF1Score=0.5366\n",
      "Batch-180: CrossEntropyLoss=2.3819 | MulticlassF1Score=0.5412\n",
      "Batch-195: CrossEntropyLoss=2.3412 | MulticlassF1Score=0.5458\n",
      "Batch-210: CrossEntropyLoss=2.3579 | MulticlassF1Score=0.5547\n",
      "Batch-225: CrossEntropyLoss=2.3512 | MulticlassF1Score=0.5621\n",
      "Batch-226: CrossEntropyLoss=2.3496 | MulticlassF1Score=0.5622\n",
      "\n",
      "Validation Step\n"
     ]
    },
    {
     "data": {
      "application/vnd.jupyter.widget-view+json": {
       "model_id": "ff4fde783ab642fd8eae6e751946910e",
       "version_major": 2,
       "version_minor": 0
      },
      "text/plain": [
       "  0%|          | 0/63 [00:00<?, ?it/s]"
      ]
     },
     "metadata": {},
     "output_type": "display_data"
    },
    {
     "name": "stdout",
     "output_type": "stream",
     "text": [
      "Batch-15 : CrossEntropyLoss=2.3510 | MulticlassF1Score=0.6646\n",
      "Batch-30 : CrossEntropyLoss=2.3514 | MulticlassF1Score=0.6661\n",
      "Batch-45 : CrossEntropyLoss=2.3496 | MulticlassF1Score=0.6695\n",
      "Batch-60 : CrossEntropyLoss=2.3426 | MulticlassF1Score=0.6689\n",
      "Batch-63 : CrossEntropyLoss=2.3441 | MulticlassF1Score=0.6697\n",
      "\n",
      "Yeah 🎉😄! Model improved.\n",
      "\n",
      "Training   : Mean CrossEntropyLoss = 2.3840 | Mean MulticlassF1Score = 0.5095\n",
      "Validation : Mean CrossEntropyLoss = 2.3516 | Mean MulticlassF1Score = 0.6677\n",
      "================================================================================\n",
      "\n",
      "EPOCH-3\n",
      "Training Step\n"
     ]
    },
    {
     "data": {
      "application/vnd.jupyter.widget-view+json": {
       "model_id": "347ad4affc394474a229b6b788165daf",
       "version_major": 2,
       "version_minor": 0
      },
      "text/plain": [
       "  0%|          | 0/226 [00:00<?, ?it/s]"
      ]
     },
     "metadata": {},
     "output_type": "display_data"
    },
    {
     "name": "stdout",
     "output_type": "stream",
     "text": [
      "Batch-15 : CrossEntropyLoss=2.3412 | MulticlassF1Score=0.6756\n",
      "Batch-30 : CrossEntropyLoss=2.3581 | MulticlassF1Score=0.6745\n",
      "Batch-45 : CrossEntropyLoss=2.3408 | MulticlassF1Score=0.6754\n",
      "Batch-60 : CrossEntropyLoss=2.3667 | MulticlassF1Score=0.6771\n",
      "Batch-75 : CrossEntropyLoss=2.3678 | MulticlassF1Score=0.6764\n",
      "Batch-90 : CrossEntropyLoss=2.3476 | MulticlassF1Score=0.6791\n",
      "Batch-105: CrossEntropyLoss=2.3368 | MulticlassF1Score=0.6868\n",
      "Batch-120: CrossEntropyLoss=2.3187 | MulticlassF1Score=0.6941\n",
      "Batch-135: CrossEntropyLoss=2.3174 | MulticlassF1Score=0.7028\n",
      "Batch-150: CrossEntropyLoss=2.3303 | MulticlassF1Score=0.7105\n",
      "Batch-165: CrossEntropyLoss=2.3135 | MulticlassF1Score=0.7177\n",
      "Batch-180: CrossEntropyLoss=2.3211 | MulticlassF1Score=0.7233\n",
      "Batch-195: CrossEntropyLoss=2.3164 | MulticlassF1Score=0.7287\n",
      "Batch-210: CrossEntropyLoss=2.3148 | MulticlassF1Score=0.7333\n",
      "Batch-225: CrossEntropyLoss=2.3147 | MulticlassF1Score=0.7371\n",
      "Batch-226: CrossEntropyLoss=2.3121 | MulticlassF1Score=0.7373\n",
      "\n",
      "Validation Step\n"
     ]
    },
    {
     "data": {
      "application/vnd.jupyter.widget-view+json": {
       "model_id": "f1bbd4901ea44a2aac80e30f8b2764c2",
       "version_major": 2,
       "version_minor": 0
      },
      "text/plain": [
       "  0%|          | 0/63 [00:00<?, ?it/s]"
      ]
     },
     "metadata": {},
     "output_type": "display_data"
    },
    {
     "name": "stdout",
     "output_type": "stream",
     "text": [
      "Batch-15 : CrossEntropyLoss=2.3113 | MulticlassF1Score=0.7885\n",
      "Batch-30 : CrossEntropyLoss=2.3344 | MulticlassF1Score=0.7865\n",
      "Batch-45 : CrossEntropyLoss=2.3087 | MulticlassF1Score=0.7880\n",
      "Batch-60 : CrossEntropyLoss=2.3144 | MulticlassF1Score=0.7902\n",
      "Batch-63 : CrossEntropyLoss=2.3188 | MulticlassF1Score=0.7898\n",
      "\n",
      "Yeah 🎉😄! Model improved.\n",
      "\n",
      "Training   : Mean CrossEntropyLoss = 2.3300 | Mean MulticlassF1Score = 0.6977\n",
      "Validation : Mean CrossEntropyLoss = 2.3139 | Mean MulticlassF1Score = 0.7893\n",
      "================================================================================\n",
      "\n",
      "EPOCH-4\n",
      "Training Step\n"
     ]
    },
    {
     "data": {
      "application/vnd.jupyter.widget-view+json": {
       "model_id": "873f131b5f2d4680a37d193853863114",
       "version_major": 2,
       "version_minor": 0
      },
      "text/plain": [
       "  0%|          | 0/226 [00:00<?, ?it/s]"
      ]
     },
     "metadata": {},
     "output_type": "display_data"
    },
    {
     "name": "stdout",
     "output_type": "stream",
     "text": [
      "Batch-15 : CrossEntropyLoss=2.3142 | MulticlassF1Score=0.7930\n",
      "Batch-30 : CrossEntropyLoss=2.3104 | MulticlassF1Score=0.7932\n",
      "Batch-45 : CrossEntropyLoss=2.3155 | MulticlassF1Score=0.7923\n",
      "Batch-60 : CrossEntropyLoss=2.3091 | MulticlassF1Score=0.7933\n",
      "Batch-75 : CrossEntropyLoss=2.3033 | MulticlassF1Score=0.7927\n",
      "Batch-90 : CrossEntropyLoss=2.3181 | MulticlassF1Score=0.7912\n",
      "Batch-105: CrossEntropyLoss=2.3056 | MulticlassF1Score=0.7916\n",
      "Batch-120: CrossEntropyLoss=2.3103 | MulticlassF1Score=0.7915\n",
      "Batch-135: CrossEntropyLoss=2.3196 | MulticlassF1Score=0.7930\n",
      "Batch-150: CrossEntropyLoss=2.3163 | MulticlassF1Score=0.7935\n",
      "Batch-165: CrossEntropyLoss=2.2968 | MulticlassF1Score=0.7940\n",
      "Batch-180: CrossEntropyLoss=2.3183 | MulticlassF1Score=0.7939\n",
      "Batch-195: CrossEntropyLoss=2.3103 | MulticlassF1Score=0.7942\n",
      "Batch-210: CrossEntropyLoss=2.3179 | MulticlassF1Score=0.7944\n",
      "Batch-225: CrossEntropyLoss=2.3165 | MulticlassF1Score=0.7942\n",
      "Batch-226: CrossEntropyLoss=2.3160 | MulticlassF1Score=0.7941\n",
      "\n",
      "Validation Step\n"
     ]
    },
    {
     "data": {
      "application/vnd.jupyter.widget-view+json": {
       "model_id": "f82eea5d26b048cabe9e043ab2ac930c",
       "version_major": 2,
       "version_minor": 0
      },
      "text/plain": [
       "  0%|          | 0/63 [00:00<?, ?it/s]"
      ]
     },
     "metadata": {},
     "output_type": "display_data"
    },
    {
     "name": "stdout",
     "output_type": "stream",
     "text": [
      "Batch-15 : CrossEntropyLoss=2.3161 | MulticlassF1Score=0.7875\n",
      "Batch-30 : CrossEntropyLoss=2.3115 | MulticlassF1Score=0.7918\n",
      "Batch-45 : CrossEntropyLoss=2.3101 | MulticlassF1Score=0.7932\n",
      "Batch-60 : CrossEntropyLoss=2.3235 | MulticlassF1Score=0.7929\n",
      "Batch-63 : CrossEntropyLoss=2.2976 | MulticlassF1Score=0.7936\n",
      "\n",
      "Yeah 🎉😄! Model improved.\n",
      "\n",
      "Training   : Mean CrossEntropyLoss = 2.3119 | Mean MulticlassF1Score = 0.7934\n",
      "Validation : Mean CrossEntropyLoss = 2.3122 | Mean MulticlassF1Score = 0.7899\n",
      "================================================================================\n",
      "\n",
      "EPOCH-5\n",
      "Training Step\n"
     ]
    },
    {
     "data": {
      "application/vnd.jupyter.widget-view+json": {
       "model_id": "33a058ec468e43cdb03347a2b7c409e8",
       "version_major": 2,
       "version_minor": 0
      },
      "text/plain": [
       "  0%|          | 0/226 [00:00<?, ?it/s]"
      ]
     },
     "metadata": {},
     "output_type": "display_data"
    },
    {
     "name": "stdout",
     "output_type": "stream",
     "text": [
      "Batch-15 : CrossEntropyLoss=2.3164 | MulticlassF1Score=0.7974\n",
      "Batch-30 : CrossEntropyLoss=2.3111 | MulticlassF1Score=0.7983\n",
      "Batch-45 : CrossEntropyLoss=2.3104 | MulticlassF1Score=0.7986\n",
      "Batch-60 : CrossEntropyLoss=2.3053 | MulticlassF1Score=0.7983\n",
      "Batch-75 : CrossEntropyLoss=2.3020 | MulticlassF1Score=0.7979\n",
      "Batch-90 : CrossEntropyLoss=2.3120 | MulticlassF1Score=0.7984\n",
      "Batch-105: CrossEntropyLoss=2.2986 | MulticlassF1Score=0.7983\n",
      "Batch-120: CrossEntropyLoss=2.3051 | MulticlassF1Score=0.7982\n",
      "Batch-135: CrossEntropyLoss=2.3045 | MulticlassF1Score=0.7975\n",
      "Batch-150: CrossEntropyLoss=2.3097 | MulticlassF1Score=0.7980\n",
      "Batch-165: CrossEntropyLoss=2.3150 | MulticlassF1Score=0.7990\n",
      "Batch-180: CrossEntropyLoss=2.3043 | MulticlassF1Score=0.8001\n",
      "Batch-195: CrossEntropyLoss=2.3007 | MulticlassF1Score=0.8011\n",
      "Batch-210: CrossEntropyLoss=2.3142 | MulticlassF1Score=0.8013\n",
      "Batch-225: CrossEntropyLoss=2.3092 | MulticlassF1Score=0.8019\n",
      "Batch-226: CrossEntropyLoss=2.3029 | MulticlassF1Score=0.8020\n",
      "\n",
      "Validation Step\n"
     ]
    },
    {
     "data": {
      "application/vnd.jupyter.widget-view+json": {
       "model_id": "1bba911e2d744c89954e2466e3ccb521",
       "version_major": 2,
       "version_minor": 0
      },
      "text/plain": [
       "  0%|          | 0/63 [00:00<?, ?it/s]"
      ]
     },
     "metadata": {},
     "output_type": "display_data"
    },
    {
     "name": "stdout",
     "output_type": "stream",
     "text": [
      "Batch-15 : CrossEntropyLoss=2.3092 | MulticlassF1Score=0.8011\n",
      "Batch-30 : CrossEntropyLoss=2.3131 | MulticlassF1Score=0.8021\n",
      "Batch-45 : CrossEntropyLoss=2.3035 | MulticlassF1Score=0.8046\n",
      "Batch-60 : CrossEntropyLoss=2.3101 | MulticlassF1Score=0.8069\n",
      "Batch-63 : CrossEntropyLoss=2.3059 | MulticlassF1Score=0.8071\n",
      "\n",
      "Yeah 🎉😄! Model improved.\n",
      "\n",
      "Training   : Mean CrossEntropyLoss = 2.3092 | Mean MulticlassF1Score = 0.7984\n",
      "Validation : Mean CrossEntropyLoss = 2.3079 | Mean MulticlassF1Score = 0.8019\n",
      "================================================================================\n",
      "\n",
      "EPOCH-6\n",
      "Training Step\n"
     ]
    },
    {
     "data": {
      "application/vnd.jupyter.widget-view+json": {
       "model_id": "2bbac1a01c2a4fc9941fd1a880919885",
       "version_major": 2,
       "version_minor": 0
      },
      "text/plain": [
       "  0%|          | 0/226 [00:00<?, ?it/s]"
      ]
     },
     "metadata": {},
     "output_type": "display_data"
    },
    {
     "name": "stdout",
     "output_type": "stream",
     "text": [
      "Batch-15 : CrossEntropyLoss=2.2980 | MulticlassF1Score=0.8161\n",
      "Batch-30 : CrossEntropyLoss=2.3068 | MulticlassF1Score=0.8164\n",
      "Batch-45 : CrossEntropyLoss=2.3059 | MulticlassF1Score=0.8141\n",
      "Batch-60 : CrossEntropyLoss=2.3108 | MulticlassF1Score=0.8121\n",
      "Batch-75 : CrossEntropyLoss=2.3044 | MulticlassF1Score=0.8111\n",
      "Batch-90 : CrossEntropyLoss=2.3006 | MulticlassF1Score=0.8124\n",
      "Batch-105: CrossEntropyLoss=2.3112 | MulticlassF1Score=0.8130\n",
      "Batch-120: CrossEntropyLoss=2.2935 | MulticlassF1Score=0.8152\n",
      "Batch-135: CrossEntropyLoss=2.2988 | MulticlassF1Score=0.8155\n",
      "Batch-150: CrossEntropyLoss=2.3015 | MulticlassF1Score=0.8156\n",
      "Batch-165: CrossEntropyLoss=2.3035 | MulticlassF1Score=0.8161\n",
      "Batch-180: CrossEntropyLoss=2.3047 | MulticlassF1Score=0.8162\n",
      "Batch-195: CrossEntropyLoss=2.2965 | MulticlassF1Score=0.8158\n",
      "Batch-210: CrossEntropyLoss=2.3049 | MulticlassF1Score=0.8159\n",
      "Batch-225: CrossEntropyLoss=2.3156 | MulticlassF1Score=0.8157\n",
      "Batch-226: CrossEntropyLoss=2.3126 | MulticlassF1Score=0.8157\n",
      "\n",
      "Validation Step\n"
     ]
    },
    {
     "data": {
      "application/vnd.jupyter.widget-view+json": {
       "model_id": "637b9ad61c0f4aedba2ce971040592ee",
       "version_major": 2,
       "version_minor": 0
      },
      "text/plain": [
       "  0%|          | 0/63 [00:00<?, ?it/s]"
      ]
     },
     "metadata": {},
     "output_type": "display_data"
    },
    {
     "name": "stdout",
     "output_type": "stream",
     "text": [
      "Batch-15 : CrossEntropyLoss=2.3159 | MulticlassF1Score=0.8120\n",
      "Batch-30 : CrossEntropyLoss=2.3020 | MulticlassF1Score=0.8120\n",
      "Batch-45 : CrossEntropyLoss=2.3083 | MulticlassF1Score=0.8129\n",
      "Batch-60 : CrossEntropyLoss=2.3038 | MulticlassF1Score=0.8153\n",
      "Batch-63 : CrossEntropyLoss=2.3157 | MulticlassF1Score=0.8152\n",
      "\n",
      "Yeah 🎉😄! Model improved.\n",
      "\n",
      "Training   : Mean CrossEntropyLoss = 2.3047 | Mean MulticlassF1Score = 0.8148\n",
      "Validation : Mean CrossEntropyLoss = 2.3055 | Mean MulticlassF1Score = 0.8134\n",
      "================================================================================\n",
      "\n",
      "EPOCH-7\n",
      "Training Step\n"
     ]
    },
    {
     "data": {
      "application/vnd.jupyter.widget-view+json": {
       "model_id": "5115fa7d67264fb1926459cdaa884ab6",
       "version_major": 2,
       "version_minor": 0
      },
      "text/plain": [
       "  0%|          | 0/226 [00:00<?, ?it/s]"
      ]
     },
     "metadata": {},
     "output_type": "display_data"
    },
    {
     "name": "stdout",
     "output_type": "stream",
     "text": [
      "Batch-15 : CrossEntropyLoss=2.3140 | MulticlassF1Score=0.8210\n",
      "Batch-30 : CrossEntropyLoss=2.3109 | MulticlassF1Score=0.8201\n",
      "Batch-45 : CrossEntropyLoss=2.2926 | MulticlassF1Score=0.8224\n",
      "Batch-60 : CrossEntropyLoss=2.2885 | MulticlassF1Score=0.8259\n",
      "Batch-75 : CrossEntropyLoss=2.3028 | MulticlassF1Score=0.8285\n",
      "Batch-90 : CrossEntropyLoss=2.2956 | MulticlassF1Score=0.8297\n",
      "Batch-105: CrossEntropyLoss=2.3033 | MulticlassF1Score=0.8310\n",
      "Batch-120: CrossEntropyLoss=2.3026 | MulticlassF1Score=0.8316\n",
      "Batch-135: CrossEntropyLoss=2.2903 | MulticlassF1Score=0.8326\n",
      "Batch-150: CrossEntropyLoss=2.3015 | MulticlassF1Score=0.8332\n",
      "Batch-165: CrossEntropyLoss=2.2970 | MulticlassF1Score=0.8337\n",
      "Batch-180: CrossEntropyLoss=2.2948 | MulticlassF1Score=0.8342\n",
      "Batch-195: CrossEntropyLoss=2.3006 | MulticlassF1Score=0.8351\n",
      "Batch-210: CrossEntropyLoss=2.2905 | MulticlassF1Score=0.8359\n",
      "Batch-225: CrossEntropyLoss=2.2983 | MulticlassF1Score=0.8362\n",
      "Batch-226: CrossEntropyLoss=2.2853 | MulticlassF1Score=0.8363\n",
      "\n",
      "Validation Step\n"
     ]
    },
    {
     "data": {
      "application/vnd.jupyter.widget-view+json": {
       "model_id": "0af00b90e43b419db104e26ee0949285",
       "version_major": 2,
       "version_minor": 0
      },
      "text/plain": [
       "  0%|          | 0/63 [00:00<?, ?it/s]"
      ]
     },
     "metadata": {},
     "output_type": "display_data"
    },
    {
     "name": "stdout",
     "output_type": "stream",
     "text": [
      "Batch-15 : CrossEntropyLoss=2.3030 | MulticlassF1Score=0.8315\n",
      "Batch-30 : CrossEntropyLoss=2.3044 | MulticlassF1Score=0.8333\n",
      "Batch-45 : CrossEntropyLoss=2.2936 | MulticlassF1Score=0.8353\n",
      "Batch-60 : CrossEntropyLoss=2.3068 | MulticlassF1Score=0.8351\n",
      "Batch-63 : CrossEntropyLoss=2.2959 | MulticlassF1Score=0.8358\n",
      "\n",
      "Yeah 🎉😄! Model improved.\n",
      "\n",
      "Training   : Mean CrossEntropyLoss = 2.2984 | Mean MulticlassF1Score = 0.8300\n",
      "Validation : Mean CrossEntropyLoss = 2.2989 | Mean MulticlassF1Score = 0.8329\n",
      "================================================================================\n",
      "\n",
      "EPOCH-8\n",
      "Training Step\n"
     ]
    },
    {
     "data": {
      "application/vnd.jupyter.widget-view+json": {
       "model_id": "98fa8823ee13488bb8ae40cc2d8e4ca5",
       "version_major": 2,
       "version_minor": 0
      },
      "text/plain": [
       "  0%|          | 0/226 [00:00<?, ?it/s]"
      ]
     },
     "metadata": {},
     "output_type": "display_data"
    },
    {
     "name": "stdout",
     "output_type": "stream",
     "text": [
      "Batch-15 : CrossEntropyLoss=2.3040 | MulticlassF1Score=0.8478\n",
      "Batch-30 : CrossEntropyLoss=2.2940 | MulticlassF1Score=0.8451\n",
      "Batch-45 : CrossEntropyLoss=2.2925 | MulticlassF1Score=0.8415\n",
      "Batch-60 : CrossEntropyLoss=2.3004 | MulticlassF1Score=0.8426\n",
      "Batch-75 : CrossEntropyLoss=2.2911 | MulticlassF1Score=0.8429\n",
      "Batch-90 : CrossEntropyLoss=2.2897 | MulticlassF1Score=0.8438\n",
      "Batch-105: CrossEntropyLoss=2.2856 | MulticlassF1Score=0.8440\n",
      "Batch-120: CrossEntropyLoss=2.2957 | MulticlassF1Score=0.8440\n",
      "Batch-135: CrossEntropyLoss=2.2986 | MulticlassF1Score=0.8448\n",
      "Batch-150: CrossEntropyLoss=2.2967 | MulticlassF1Score=0.8457\n",
      "Batch-165: CrossEntropyLoss=2.2937 | MulticlassF1Score=0.8457\n",
      "Batch-180: CrossEntropyLoss=2.2986 | MulticlassF1Score=0.8455\n",
      "Batch-195: CrossEntropyLoss=2.2889 | MulticlassF1Score=0.8448\n",
      "Batch-210: CrossEntropyLoss=2.2952 | MulticlassF1Score=0.8448\n",
      "Batch-225: CrossEntropyLoss=2.3037 | MulticlassF1Score=0.8446\n",
      "Batch-226: CrossEntropyLoss=2.2949 | MulticlassF1Score=0.8446\n",
      "\n",
      "Validation Step\n"
     ]
    },
    {
     "data": {
      "application/vnd.jupyter.widget-view+json": {
       "model_id": "07969aac6b154ce988aecc0432b0324e",
       "version_major": 2,
       "version_minor": 0
      },
      "text/plain": [
       "  0%|          | 0/63 [00:00<?, ?it/s]"
      ]
     },
     "metadata": {},
     "output_type": "display_data"
    },
    {
     "name": "stdout",
     "output_type": "stream",
     "text": [
      "Batch-15 : CrossEntropyLoss=2.2955 | MulticlassF1Score=0.8401\n",
      "Batch-30 : CrossEntropyLoss=2.2909 | MulticlassF1Score=0.8419\n",
      "Batch-45 : CrossEntropyLoss=2.2995 | MulticlassF1Score=0.8416\n",
      "Batch-60 : CrossEntropyLoss=2.2957 | MulticlassF1Score=0.8412\n",
      "Batch-63 : CrossEntropyLoss=2.2926 | MulticlassF1Score=0.8408\n",
      "\n",
      "Yeah 🎉😄! Model improved.\n",
      "\n",
      "Training   : Mean CrossEntropyLoss = 2.2958 | Mean MulticlassF1Score = 0.8450\n",
      "Validation : Mean CrossEntropyLoss = 2.2973 | Mean MulticlassF1Score = 0.8408\n",
      "================================================================================\n",
      "\n",
      "EPOCH-9\n",
      "Training Step\n"
     ]
    },
    {
     "data": {
      "application/vnd.jupyter.widget-view+json": {
       "model_id": "a01df76f26564bbd9918834f0be8d29d",
       "version_major": 2,
       "version_minor": 0
      },
      "text/plain": [
       "  0%|          | 0/226 [00:00<?, ?it/s]"
      ]
     },
     "metadata": {},
     "output_type": "display_data"
    },
    {
     "name": "stdout",
     "output_type": "stream",
     "text": [
      "Batch-15 : CrossEntropyLoss=2.2887 | MulticlassF1Score=0.8432\n",
      "Batch-30 : CrossEntropyLoss=2.2953 | MulticlassF1Score=0.8459\n",
      "Batch-45 : CrossEntropyLoss=2.2964 | MulticlassF1Score=0.8478\n",
      "Batch-60 : CrossEntropyLoss=2.3020 | MulticlassF1Score=0.8485\n",
      "Batch-75 : CrossEntropyLoss=2.2939 | MulticlassF1Score=0.8488\n",
      "Batch-90 : CrossEntropyLoss=2.2846 | MulticlassF1Score=0.8498\n",
      "Batch-105: CrossEntropyLoss=2.2951 | MulticlassF1Score=0.8509\n",
      "Batch-120: CrossEntropyLoss=2.2867 | MulticlassF1Score=0.8522\n",
      "Batch-135: CrossEntropyLoss=2.2907 | MulticlassF1Score=0.8537\n",
      "Batch-150: CrossEntropyLoss=2.2906 | MulticlassF1Score=0.8545\n",
      "Batch-165: CrossEntropyLoss=2.2897 | MulticlassF1Score=0.8553\n",
      "Batch-180: CrossEntropyLoss=2.2862 | MulticlassF1Score=0.8562\n",
      "Batch-195: CrossEntropyLoss=2.2838 | MulticlassF1Score=0.8568\n",
      "Batch-210: CrossEntropyLoss=2.2875 | MulticlassF1Score=0.8567\n",
      "Batch-225: CrossEntropyLoss=2.2874 | MulticlassF1Score=0.8573\n",
      "Batch-226: CrossEntropyLoss=2.2842 | MulticlassF1Score=0.8574\n",
      "\n",
      "Validation Step\n"
     ]
    },
    {
     "data": {
      "application/vnd.jupyter.widget-view+json": {
       "model_id": "af226a549d0e4495993d25e38b109875",
       "version_major": 2,
       "version_minor": 0
      },
      "text/plain": [
       "  0%|          | 0/63 [00:00<?, ?it/s]"
      ]
     },
     "metadata": {},
     "output_type": "display_data"
    },
    {
     "name": "stdout",
     "output_type": "stream",
     "text": [
      "Batch-15 : CrossEntropyLoss=2.2944 | MulticlassF1Score=0.8547\n",
      "Batch-30 : CrossEntropyLoss=2.2892 | MulticlassF1Score=0.8564\n",
      "Batch-45 : CrossEntropyLoss=2.2952 | MulticlassF1Score=0.8577\n",
      "Batch-60 : CrossEntropyLoss=2.2935 | MulticlassF1Score=0.8577\n",
      "Batch-63 : CrossEntropyLoss=2.2861 | MulticlassF1Score=0.8587\n",
      "\n",
      "Yeah 🎉😄! Model improved.\n",
      "\n",
      "Training   : Mean CrossEntropyLoss = 2.2920 | Mean MulticlassF1Score = 0.8516\n",
      "Validation : Mean CrossEntropyLoss = 2.2920 | Mean MulticlassF1Score = 0.8588\n",
      "================================================================================\n",
      "\n",
      "EPOCH-10\n",
      "Training Step\n"
     ]
    },
    {
     "data": {
      "application/vnd.jupyter.widget-view+json": {
       "model_id": "9ec7e6de4a274ee5942b55b2442d9f10",
       "version_major": 2,
       "version_minor": 0
      },
      "text/plain": [
       "  0%|          | 0/226 [00:00<?, ?it/s]"
      ]
     },
     "metadata": {},
     "output_type": "display_data"
    },
    {
     "name": "stdout",
     "output_type": "stream",
     "text": [
      "Batch-15 : CrossEntropyLoss=2.2966 | MulticlassF1Score=0.8615\n",
      "Batch-30 : CrossEntropyLoss=2.2899 | MulticlassF1Score=0.8645\n",
      "Batch-45 : CrossEntropyLoss=2.2866 | MulticlassF1Score=0.8658\n",
      "Batch-60 : CrossEntropyLoss=2.2947 | MulticlassF1Score=0.8652\n",
      "Batch-75 : CrossEntropyLoss=2.2912 | MulticlassF1Score=0.8658\n",
      "Batch-90 : CrossEntropyLoss=2.2900 | MulticlassF1Score=0.8659\n",
      "Batch-105: CrossEntropyLoss=2.2912 | MulticlassF1Score=0.8662\n",
      "Batch-120: CrossEntropyLoss=2.2875 | MulticlassF1Score=0.8660\n",
      "Batch-135: CrossEntropyLoss=2.2967 | MulticlassF1Score=0.8659\n",
      "Batch-150: CrossEntropyLoss=2.2906 | MulticlassF1Score=0.8651\n",
      "Batch-165: CrossEntropyLoss=2.2934 | MulticlassF1Score=0.8651\n",
      "Batch-180: CrossEntropyLoss=2.2953 | MulticlassF1Score=0.8651\n",
      "Batch-195: CrossEntropyLoss=2.2865 | MulticlassF1Score=0.8648\n",
      "Batch-210: CrossEntropyLoss=2.2925 | MulticlassF1Score=0.8650\n",
      "Batch-225: CrossEntropyLoss=2.2914 | MulticlassF1Score=0.8655\n",
      "Batch-226: CrossEntropyLoss=2.2828 | MulticlassF1Score=0.8656\n",
      "\n",
      "Validation Step\n"
     ]
    },
    {
     "data": {
      "application/vnd.jupyter.widget-view+json": {
       "model_id": "b39bac3fb29b493695b532b4c8b62e67",
       "version_major": 2,
       "version_minor": 0
      },
      "text/plain": [
       "  0%|          | 0/63 [00:00<?, ?it/s]"
      ]
     },
     "metadata": {},
     "output_type": "display_data"
    },
    {
     "name": "stdout",
     "output_type": "stream",
     "text": [
      "Batch-15 : CrossEntropyLoss=2.2914 | MulticlassF1Score=0.8592\n",
      "Batch-30 : CrossEntropyLoss=2.2997 | MulticlassF1Score=0.8559\n",
      "Batch-45 : CrossEntropyLoss=2.2929 | MulticlassF1Score=0.8570\n",
      "Batch-60 : CrossEntropyLoss=2.2813 | MulticlassF1Score=0.8591\n",
      "Batch-63 : CrossEntropyLoss=2.2949 | MulticlassF1Score=0.8593\n",
      "\n",
      "Yeah 🎉😄! Model improved.\n",
      "\n",
      "Training   : Mean CrossEntropyLoss = 2.2893 | Mean MulticlassF1Score = 0.8650\n",
      "Validation : Mean CrossEntropyLoss = 2.2916 | Mean MulticlassF1Score = 0.8578\n",
      "================================================================================\n",
      "\n",
      "EPOCH-11\n",
      "Training Step\n"
     ]
    },
    {
     "data": {
      "application/vnd.jupyter.widget-view+json": {
       "model_id": "59cf8c2a65444514bd250f45bc18a2e2",
       "version_major": 2,
       "version_minor": 0
      },
      "text/plain": [
       "  0%|          | 0/226 [00:00<?, ?it/s]"
      ]
     },
     "metadata": {},
     "output_type": "display_data"
    },
    {
     "name": "stdout",
     "output_type": "stream",
     "text": [
      "Batch-15 : CrossEntropyLoss=2.2863 | MulticlassF1Score=0.8721\n",
      "Batch-30 : CrossEntropyLoss=2.2902 | MulticlassF1Score=0.8703\n",
      "Batch-45 : CrossEntropyLoss=2.2928 | MulticlassF1Score=0.8682\n",
      "Batch-60 : CrossEntropyLoss=2.2814 | MulticlassF1Score=0.8679\n",
      "Batch-75 : CrossEntropyLoss=2.2880 | MulticlassF1Score=0.8679\n",
      "Batch-90 : CrossEntropyLoss=2.2934 | MulticlassF1Score=0.8671\n",
      "Batch-105: CrossEntropyLoss=2.2920 | MulticlassF1Score=0.8671\n",
      "Batch-120: CrossEntropyLoss=2.2934 | MulticlassF1Score=0.8664\n",
      "Batch-135: CrossEntropyLoss=2.2877 | MulticlassF1Score=0.8668\n",
      "Batch-150: CrossEntropyLoss=2.2886 | MulticlassF1Score=0.8663\n",
      "Batch-165: CrossEntropyLoss=2.2863 | MulticlassF1Score=0.8664\n",
      "Batch-180: CrossEntropyLoss=2.2834 | MulticlassF1Score=0.8670\n",
      "Batch-195: CrossEntropyLoss=2.2896 | MulticlassF1Score=0.8670\n",
      "Batch-210: CrossEntropyLoss=2.2868 | MulticlassF1Score=0.8667\n",
      "Batch-225: CrossEntropyLoss=2.2925 | MulticlassF1Score=0.8670\n",
      "Batch-226: CrossEntropyLoss=2.2783 | MulticlassF1Score=0.8671\n",
      "\n",
      "Validation Step\n"
     ]
    },
    {
     "data": {
      "application/vnd.jupyter.widget-view+json": {
       "model_id": "e902997d4ba64a0bb13357c519baeb9d",
       "version_major": 2,
       "version_minor": 0
      },
      "text/plain": [
       "  0%|          | 0/63 [00:00<?, ?it/s]"
      ]
     },
     "metadata": {},
     "output_type": "display_data"
    },
    {
     "name": "stdout",
     "output_type": "stream",
     "text": [
      "Batch-15 : CrossEntropyLoss=2.2950 | MulticlassF1Score=0.8608\n",
      "Batch-30 : CrossEntropyLoss=2.2967 | MulticlassF1Score=0.8591\n",
      "Batch-45 : CrossEntropyLoss=2.2898 | MulticlassF1Score=0.8584\n",
      "Batch-60 : CrossEntropyLoss=2.2914 | MulticlassF1Score=0.8586\n",
      "Batch-63 : CrossEntropyLoss=2.2913 | MulticlassF1Score=0.8584\n",
      "\n",
      "Yeah 🎉😄! Model improved.\n",
      "\n",
      "Training   : Mean CrossEntropyLoss = 2.2888 | Mean MulticlassF1Score = 0.8680\n",
      "Validation : Mean CrossEntropyLoss = 2.2918 | Mean MulticlassF1Score = 0.8596\n",
      "================================================================================\n",
      "\n",
      "EPOCH-12\n",
      "Training Step\n"
     ]
    },
    {
     "data": {
      "application/vnd.jupyter.widget-view+json": {
       "model_id": "fd97ddd0f6f8403786ab107cad80c9ad",
       "version_major": 2,
       "version_minor": 0
      },
      "text/plain": [
       "  0%|          | 0/226 [00:00<?, ?it/s]"
      ]
     },
     "metadata": {},
     "output_type": "display_data"
    },
    {
     "name": "stdout",
     "output_type": "stream",
     "text": [
      "Batch-15 : CrossEntropyLoss=2.2879 | MulticlassF1Score=0.8655\n",
      "Batch-30 : CrossEntropyLoss=2.2855 | MulticlassF1Score=0.8640\n",
      "Batch-45 : CrossEntropyLoss=2.2904 | MulticlassF1Score=0.8650\n",
      "Batch-60 : CrossEntropyLoss=2.2883 | MulticlassF1Score=0.8661\n",
      "Batch-75 : CrossEntropyLoss=2.2814 | MulticlassF1Score=0.8684\n",
      "Batch-90 : CrossEntropyLoss=2.2853 | MulticlassF1Score=0.8672\n",
      "Batch-105: CrossEntropyLoss=2.2907 | MulticlassF1Score=0.8675\n",
      "Batch-120: CrossEntropyLoss=2.2934 | MulticlassF1Score=0.8676\n",
      "Batch-135: CrossEntropyLoss=2.2939 | MulticlassF1Score=0.8676\n",
      "Batch-150: CrossEntropyLoss=2.2836 | MulticlassF1Score=0.8675\n",
      "Batch-165: CrossEntropyLoss=2.2839 | MulticlassF1Score=0.8678\n",
      "Batch-180: CrossEntropyLoss=2.2878 | MulticlassF1Score=0.8679\n",
      "Batch-195: CrossEntropyLoss=2.2870 | MulticlassF1Score=0.8679\n",
      "Batch-210: CrossEntropyLoss=2.2974 | MulticlassF1Score=0.8679\n",
      "Batch-225: CrossEntropyLoss=2.2845 | MulticlassF1Score=0.8683\n",
      "Batch-226: CrossEntropyLoss=2.2860 | MulticlassF1Score=0.8683\n",
      "\n",
      "Validation Step\n"
     ]
    },
    {
     "data": {
      "application/vnd.jupyter.widget-view+json": {
       "model_id": "f72518959941457a8b9a2bda6187941e",
       "version_major": 2,
       "version_minor": 0
      },
      "text/plain": [
       "  0%|          | 0/63 [00:00<?, ?it/s]"
      ]
     },
     "metadata": {},
     "output_type": "display_data"
    },
    {
     "name": "stdout",
     "output_type": "stream",
     "text": [
      "Batch-15 : CrossEntropyLoss=2.3009 | MulticlassF1Score=0.8596\n",
      "Batch-30 : CrossEntropyLoss=2.2929 | MulticlassF1Score=0.8593\n",
      "Batch-45 : CrossEntropyLoss=2.2828 | MulticlassF1Score=0.8594\n",
      "Batch-60 : CrossEntropyLoss=2.2950 | MulticlassF1Score=0.8600\n",
      "Batch-63 : CrossEntropyLoss=2.2803 | MulticlassF1Score=0.8599\n",
      "\n",
      "Yeah 🎉😄! Model improved.\n",
      "\n",
      "Training   : Mean CrossEntropyLoss = 2.2884 | Mean MulticlassF1Score = 0.8667\n",
      "Validation : Mean CrossEntropyLoss = 2.2912 | Mean MulticlassF1Score = 0.8609\n",
      "================================================================================\n",
      "\n",
      "EPOCH-13\n",
      "Training Step\n"
     ]
    },
    {
     "data": {
      "application/vnd.jupyter.widget-view+json": {
       "model_id": "65042416cf064bed836f4c4f156b1ef9",
       "version_major": 2,
       "version_minor": 0
      },
      "text/plain": [
       "  0%|          | 0/226 [00:00<?, ?it/s]"
      ]
     },
     "metadata": {},
     "output_type": "display_data"
    },
    {
     "name": "stdout",
     "output_type": "stream",
     "text": [
      "Batch-15 : CrossEntropyLoss=2.2916 | MulticlassF1Score=0.8695\n",
      "Batch-30 : CrossEntropyLoss=2.2898 | MulticlassF1Score=0.8688\n",
      "Batch-45 : CrossEntropyLoss=2.2862 | MulticlassF1Score=0.8680\n",
      "Batch-60 : CrossEntropyLoss=2.2906 | MulticlassF1Score=0.8686\n",
      "Batch-75 : CrossEntropyLoss=2.2906 | MulticlassF1Score=0.8685\n",
      "Batch-90 : CrossEntropyLoss=2.2915 | MulticlassF1Score=0.8686\n",
      "Batch-105: CrossEntropyLoss=2.2912 | MulticlassF1Score=0.8688\n",
      "Batch-120: CrossEntropyLoss=2.2803 | MulticlassF1Score=0.8690\n",
      "Batch-135: CrossEntropyLoss=2.2897 | MulticlassF1Score=0.8686\n",
      "Batch-150: CrossEntropyLoss=2.2860 | MulticlassF1Score=0.8683\n",
      "Batch-165: CrossEntropyLoss=2.2830 | MulticlassF1Score=0.8684\n",
      "Batch-180: CrossEntropyLoss=2.2813 | MulticlassF1Score=0.8687\n",
      "Batch-195: CrossEntropyLoss=2.2886 | MulticlassF1Score=0.8687\n",
      "Batch-210: CrossEntropyLoss=2.2863 | MulticlassF1Score=0.8693\n",
      "Batch-225: CrossEntropyLoss=2.2838 | MulticlassF1Score=0.8696\n",
      "Batch-226: CrossEntropyLoss=2.2892 | MulticlassF1Score=0.8696\n",
      "\n",
      "Validation Step\n"
     ]
    },
    {
     "data": {
      "application/vnd.jupyter.widget-view+json": {
       "model_id": "d469781cd83f4a30b7cdc7bd9786cf1a",
       "version_major": 2,
       "version_minor": 0
      },
      "text/plain": [
       "  0%|          | 0/63 [00:00<?, ?it/s]"
      ]
     },
     "metadata": {},
     "output_type": "display_data"
    },
    {
     "name": "stdout",
     "output_type": "stream",
     "text": [
      "Batch-15 : CrossEntropyLoss=2.2896 | MulticlassF1Score=0.8618\n",
      "Batch-30 : CrossEntropyLoss=2.2878 | MulticlassF1Score=0.8601\n",
      "Batch-45 : CrossEntropyLoss=2.2926 | MulticlassF1Score=0.8598\n",
      "Batch-60 : CrossEntropyLoss=2.2965 | MulticlassF1Score=0.8606\n",
      "Batch-63 : CrossEntropyLoss=2.2925 | MulticlassF1Score=0.8605\n",
      "\n",
      "Yeah 🎉😄! Model improved.\n",
      "\n",
      "Training   : Mean CrossEntropyLoss = 2.2879 | Mean MulticlassF1Score = 0.8683\n",
      "Validation : Mean CrossEntropyLoss = 2.2911 | Mean MulticlassF1Score = 0.8616\n",
      "================================================================================\n",
      "\n",
      "EPOCH-14\n",
      "Training Step\n"
     ]
    },
    {
     "data": {
      "application/vnd.jupyter.widget-view+json": {
       "model_id": "1b72ccd4b2e94b3890e5734ae3f0180f",
       "version_major": 2,
       "version_minor": 0
      },
      "text/plain": [
       "  0%|          | 0/226 [00:00<?, ?it/s]"
      ]
     },
     "metadata": {},
     "output_type": "display_data"
    },
    {
     "name": "stdout",
     "output_type": "stream",
     "text": [
      "Batch-15 : CrossEntropyLoss=2.2800 | MulticlassF1Score=0.8733\n",
      "Batch-30 : CrossEntropyLoss=2.2860 | MulticlassF1Score=0.8822\n",
      "Batch-45 : CrossEntropyLoss=2.2786 | MulticlassF1Score=0.8869\n",
      "Batch-60 : CrossEntropyLoss=2.2798 | MulticlassF1Score=0.8908\n",
      "Batch-75 : CrossEntropyLoss=2.2866 | MulticlassF1Score=0.8908\n",
      "Batch-90 : CrossEntropyLoss=2.2949 | MulticlassF1Score=0.8918\n",
      "Batch-105: CrossEntropyLoss=2.2753 | MulticlassF1Score=0.8927\n",
      "Batch-120: CrossEntropyLoss=2.2762 | MulticlassF1Score=0.8929\n",
      "Batch-135: CrossEntropyLoss=2.2806 | MulticlassF1Score=0.8931\n",
      "Batch-150: CrossEntropyLoss=2.2845 | MulticlassF1Score=0.8936\n",
      "Batch-165: CrossEntropyLoss=2.2780 | MulticlassF1Score=0.8939\n",
      "Batch-180: CrossEntropyLoss=2.2818 | MulticlassF1Score=0.8944\n",
      "Batch-195: CrossEntropyLoss=2.2793 | MulticlassF1Score=0.8946\n",
      "Batch-210: CrossEntropyLoss=2.2737 | MulticlassF1Score=0.8950\n",
      "Batch-225: CrossEntropyLoss=2.2744 | MulticlassF1Score=0.8952\n",
      "Batch-226: CrossEntropyLoss=2.2769 | MulticlassF1Score=0.8952\n",
      "\n",
      "Validation Step\n"
     ]
    },
    {
     "data": {
      "application/vnd.jupyter.widget-view+json": {
       "model_id": "b53ea5dd01e744faa34e5465a6818074",
       "version_major": 2,
       "version_minor": 0
      },
      "text/plain": [
       "  0%|          | 0/63 [00:00<?, ?it/s]"
      ]
     },
     "metadata": {},
     "output_type": "display_data"
    },
    {
     "name": "stdout",
     "output_type": "stream",
     "text": [
      "Batch-15 : CrossEntropyLoss=2.2834 | MulticlassF1Score=0.8933\n",
      "Batch-30 : CrossEntropyLoss=2.2870 | MulticlassF1Score=0.8883\n",
      "Batch-45 : CrossEntropyLoss=2.2833 | MulticlassF1Score=0.8888\n",
      "Batch-60 : CrossEntropyLoss=2.2777 | MulticlassF1Score=0.8886\n",
      "Batch-63 : CrossEntropyLoss=2.2802 | MulticlassF1Score=0.8888\n",
      "\n",
      "Yeah 🎉😄! Model improved.\n",
      "\n",
      "Training   : Mean CrossEntropyLoss = 2.2804 | Mean MulticlassF1Score = 0.8900\n",
      "Validation : Mean CrossEntropyLoss = 2.2825 | Mean MulticlassF1Score = 0.8912\n",
      "================================================================================\n",
      "\n",
      "EPOCH-15\n",
      "Training Step\n"
     ]
    },
    {
     "data": {
      "application/vnd.jupyter.widget-view+json": {
       "model_id": "4f93b838801f4962ae938d53c814dcc0",
       "version_major": 2,
       "version_minor": 0
      },
      "text/plain": [
       "  0%|          | 0/226 [00:00<?, ?it/s]"
      ]
     },
     "metadata": {},
     "output_type": "display_data"
    },
    {
     "name": "stdout",
     "output_type": "stream",
     "text": [
      "Batch-15 : CrossEntropyLoss=2.2743 | MulticlassF1Score=0.9047\n",
      "Batch-30 : CrossEntropyLoss=2.2746 | MulticlassF1Score=0.9038\n",
      "Batch-45 : CrossEntropyLoss=2.2873 | MulticlassF1Score=0.9028\n",
      "Batch-60 : CrossEntropyLoss=2.2847 | MulticlassF1Score=0.9030\n",
      "Batch-75 : CrossEntropyLoss=2.2787 | MulticlassF1Score=0.9021\n",
      "Batch-90 : CrossEntropyLoss=2.2726 | MulticlassF1Score=0.9015\n",
      "Batch-105: CrossEntropyLoss=2.2784 | MulticlassF1Score=0.9019\n",
      "Batch-120: CrossEntropyLoss=2.2759 | MulticlassF1Score=0.9013\n",
      "Batch-135: CrossEntropyLoss=2.2758 | MulticlassF1Score=0.9009\n",
      "Batch-150: CrossEntropyLoss=2.2803 | MulticlassF1Score=0.9007\n",
      "Batch-165: CrossEntropyLoss=2.2829 | MulticlassF1Score=0.9007\n",
      "Batch-180: CrossEntropyLoss=2.2800 | MulticlassF1Score=0.9007\n",
      "Batch-195: CrossEntropyLoss=2.2788 | MulticlassF1Score=0.9006\n",
      "Batch-210: CrossEntropyLoss=2.2828 | MulticlassF1Score=0.9007\n",
      "Batch-225: CrossEntropyLoss=2.2873 | MulticlassF1Score=0.9003\n",
      "Batch-226: CrossEntropyLoss=2.2739 | MulticlassF1Score=0.9003\n",
      "\n",
      "Validation Step\n"
     ]
    },
    {
     "data": {
      "application/vnd.jupyter.widget-view+json": {
       "model_id": "6e3a796efc554573b5941507e063bd59",
       "version_major": 2,
       "version_minor": 0
      },
      "text/plain": [
       "  0%|          | 0/63 [00:00<?, ?it/s]"
      ]
     },
     "metadata": {},
     "output_type": "display_data"
    },
    {
     "name": "stdout",
     "output_type": "stream",
     "text": [
      "Batch-15 : CrossEntropyLoss=2.2743 | MulticlassF1Score=0.8898\n",
      "Batch-30 : CrossEntropyLoss=2.2826 | MulticlassF1Score=0.8889\n",
      "Batch-45 : CrossEntropyLoss=2.2777 | MulticlassF1Score=0.8903\n",
      "Batch-60 : CrossEntropyLoss=2.2850 | MulticlassF1Score=0.8905\n",
      "Batch-63 : CrossEntropyLoss=2.2777 | MulticlassF1Score=0.8905\n",
      "\n",
      "Yeah 🎉😄! Model improved.\n",
      "\n",
      "Training   : Mean CrossEntropyLoss = 2.2787 | Mean MulticlassF1Score = 0.9015\n",
      "Validation : Mean CrossEntropyLoss = 2.2819 | Mean MulticlassF1Score = 0.8890\n",
      "================================================================================\n",
      "\n",
      "EPOCH-16\n",
      "Training Step\n"
     ]
    },
    {
     "data": {
      "application/vnd.jupyter.widget-view+json": {
       "model_id": "e00619789afd449db0d32c5a8983c1bf",
       "version_major": 2,
       "version_minor": 0
      },
      "text/plain": [
       "  0%|          | 0/226 [00:00<?, ?it/s]"
      ]
     },
     "metadata": {},
     "output_type": "display_data"
    },
    {
     "name": "stdout",
     "output_type": "stream",
     "text": [
      "Batch-15 : CrossEntropyLoss=2.2783 | MulticlassF1Score=0.9010\n",
      "Batch-30 : CrossEntropyLoss=2.2871 | MulticlassF1Score=0.9002\n",
      "Batch-45 : CrossEntropyLoss=2.2824 | MulticlassF1Score=0.9007\n",
      "Batch-60 : CrossEntropyLoss=2.2839 | MulticlassF1Score=0.9023\n",
      "Batch-75 : CrossEntropyLoss=2.2727 | MulticlassF1Score=0.9020\n",
      "Batch-90 : CrossEntropyLoss=2.2762 | MulticlassF1Score=0.9022\n",
      "Batch-105: CrossEntropyLoss=2.2799 | MulticlassF1Score=0.9018\n",
      "Batch-120: CrossEntropyLoss=2.2750 | MulticlassF1Score=0.9015\n",
      "Batch-135: CrossEntropyLoss=2.2821 | MulticlassF1Score=0.9017\n",
      "Batch-150: CrossEntropyLoss=2.2680 | MulticlassF1Score=0.9016\n",
      "Batch-165: CrossEntropyLoss=2.2740 | MulticlassF1Score=0.9016\n",
      "Batch-180: CrossEntropyLoss=2.2771 | MulticlassF1Score=0.9017\n",
      "Batch-195: CrossEntropyLoss=2.2754 | MulticlassF1Score=0.9018\n",
      "Batch-210: CrossEntropyLoss=2.2797 | MulticlassF1Score=0.9022\n",
      "Batch-225: CrossEntropyLoss=2.2789 | MulticlassF1Score=0.9022\n",
      "Batch-226: CrossEntropyLoss=2.2745 | MulticlassF1Score=0.9022\n",
      "\n",
      "Validation Step\n"
     ]
    },
    {
     "data": {
      "application/vnd.jupyter.widget-view+json": {
       "model_id": "c91ac2c19c1247cc9b8cecb12a2ecef5",
       "version_major": 2,
       "version_minor": 0
      },
      "text/plain": [
       "  0%|          | 0/63 [00:00<?, ?it/s]"
      ]
     },
     "metadata": {},
     "output_type": "display_data"
    },
    {
     "name": "stdout",
     "output_type": "stream",
     "text": [
      "Batch-15 : CrossEntropyLoss=2.2803 | MulticlassF1Score=0.8921\n",
      "Batch-30 : CrossEntropyLoss=2.2854 | MulticlassF1Score=0.8888\n",
      "Batch-45 : CrossEntropyLoss=2.2780 | MulticlassF1Score=0.8911\n",
      "Batch-60 : CrossEntropyLoss=2.2814 | MulticlassF1Score=0.8909\n",
      "Batch-63 : CrossEntropyLoss=2.2899 | MulticlassF1Score=0.8907\n",
      "\n",
      "Yeah 🎉😄! Model improved.\n",
      "\n",
      "Training   : Mean CrossEntropyLoss = 2.2780 | Mean MulticlassF1Score = 0.9017\n",
      "Validation : Mean CrossEntropyLoss = 2.2818 | Mean MulticlassF1Score = 0.8911\n",
      "================================================================================\n",
      "\n",
      "EPOCH-17\n",
      "Training Step\n"
     ]
    },
    {
     "data": {
      "application/vnd.jupyter.widget-view+json": {
       "model_id": "e157678dae6e4633af24291150b6dd5a",
       "version_major": 2,
       "version_minor": 0
      },
      "text/plain": [
       "  0%|          | 0/226 [00:00<?, ?it/s]"
      ]
     },
     "metadata": {},
     "output_type": "display_data"
    },
    {
     "name": "stdout",
     "output_type": "stream",
     "text": [
      "Batch-15 : CrossEntropyLoss=2.2757 | MulticlassF1Score=0.9061\n",
      "Batch-30 : CrossEntropyLoss=2.2847 | MulticlassF1Score=0.9035\n",
      "Batch-45 : CrossEntropyLoss=2.2694 | MulticlassF1Score=0.9041\n",
      "Batch-60 : CrossEntropyLoss=2.2739 | MulticlassF1Score=0.9053\n",
      "Batch-75 : CrossEntropyLoss=2.2793 | MulticlassF1Score=0.9051\n",
      "Batch-90 : CrossEntropyLoss=2.2823 | MulticlassF1Score=0.9052\n",
      "Batch-105: CrossEntropyLoss=2.2786 | MulticlassF1Score=0.9048\n",
      "Batch-120: CrossEntropyLoss=2.2770 | MulticlassF1Score=0.9051\n",
      "Batch-135: CrossEntropyLoss=2.2791 | MulticlassF1Score=0.9043\n",
      "Batch-150: CrossEntropyLoss=2.2802 | MulticlassF1Score=0.9037\n",
      "Batch-165: CrossEntropyLoss=2.2720 | MulticlassF1Score=0.9043\n",
      "Batch-180: CrossEntropyLoss=2.2759 | MulticlassF1Score=0.9044\n",
      "Batch-195: CrossEntropyLoss=2.2734 | MulticlassF1Score=0.9042\n",
      "Batch-210: CrossEntropyLoss=2.2827 | MulticlassF1Score=0.9042\n",
      "Batch-225: CrossEntropyLoss=2.2797 | MulticlassF1Score=0.9041\n",
      "Batch-226: CrossEntropyLoss=2.2768 | MulticlassF1Score=0.9042\n",
      "\n",
      "Validation Step\n"
     ]
    },
    {
     "data": {
      "application/vnd.jupyter.widget-view+json": {
       "model_id": "20a1c0518ebb4f28810a6fa5c34fde84",
       "version_major": 2,
       "version_minor": 0
      },
      "text/plain": [
       "  0%|          | 0/63 [00:00<?, ?it/s]"
      ]
     },
     "metadata": {},
     "output_type": "display_data"
    },
    {
     "name": "stdout",
     "output_type": "stream",
     "text": [
      "Batch-15 : CrossEntropyLoss=2.2780 | MulticlassF1Score=0.8958\n",
      "Batch-30 : CrossEntropyLoss=2.2854 | MulticlassF1Score=0.8921\n",
      "Batch-45 : CrossEntropyLoss=2.2822 | MulticlassF1Score=0.8911\n",
      "Batch-60 : CrossEntropyLoss=2.2740 | MulticlassF1Score=0.8917\n",
      "Batch-63 : CrossEntropyLoss=2.2813 | MulticlassF1Score=0.8914\n",
      "\n",
      "Yeah 🎉😄! Model improved.\n",
      "\n",
      "Training   : Mean CrossEntropyLoss = 2.2774 | Mean MulticlassF1Score = 0.9046\n",
      "Validation : Mean CrossEntropyLoss = 2.2815 | Mean MulticlassF1Score = 0.8929\n",
      "================================================================================\n",
      "\n",
      "EPOCH-18\n",
      "Training Step\n"
     ]
    },
    {
     "data": {
      "application/vnd.jupyter.widget-view+json": {
       "model_id": "03c96da044b44832b976f84842b7a6c0",
       "version_major": 2,
       "version_minor": 0
      },
      "text/plain": [
       "  0%|          | 0/226 [00:00<?, ?it/s]"
      ]
     },
     "metadata": {},
     "output_type": "display_data"
    },
    {
     "name": "stdout",
     "output_type": "stream",
     "text": [
      "Batch-15 : CrossEntropyLoss=2.2823 | MulticlassF1Score=0.9059\n",
      "Batch-30 : CrossEntropyLoss=2.2781 | MulticlassF1Score=0.9078\n",
      "Batch-45 : CrossEntropyLoss=2.2779 | MulticlassF1Score=0.9062\n",
      "Batch-60 : CrossEntropyLoss=2.2822 | MulticlassF1Score=0.9055\n",
      "Batch-75 : CrossEntropyLoss=2.2721 | MulticlassF1Score=0.9062\n",
      "Batch-90 : CrossEntropyLoss=2.2761 | MulticlassF1Score=0.9063\n",
      "Batch-105: CrossEntropyLoss=2.2746 | MulticlassF1Score=0.9058\n",
      "Batch-120: CrossEntropyLoss=2.2749 | MulticlassF1Score=0.9059\n",
      "Batch-135: CrossEntropyLoss=2.2773 | MulticlassF1Score=0.9056\n",
      "Batch-150: CrossEntropyLoss=2.2781 | MulticlassF1Score=0.9054\n",
      "Batch-165: CrossEntropyLoss=2.2760 | MulticlassF1Score=0.9054\n",
      "Batch-180: CrossEntropyLoss=2.2759 | MulticlassF1Score=0.9059\n",
      "Batch-195: CrossEntropyLoss=2.2811 | MulticlassF1Score=0.9056\n",
      "Batch-210: CrossEntropyLoss=2.2760 | MulticlassF1Score=0.9059\n",
      "Batch-225: CrossEntropyLoss=2.2758 | MulticlassF1Score=0.9055\n",
      "Batch-226: CrossEntropyLoss=2.2767 | MulticlassF1Score=0.9056\n",
      "\n",
      "Validation Step\n"
     ]
    },
    {
     "data": {
      "application/vnd.jupyter.widget-view+json": {
       "model_id": "292c559c2b58472db998054832cb6d6f",
       "version_major": 2,
       "version_minor": 0
      },
      "text/plain": [
       "  0%|          | 0/63 [00:00<?, ?it/s]"
      ]
     },
     "metadata": {},
     "output_type": "display_data"
    },
    {
     "name": "stdout",
     "output_type": "stream",
     "text": [
      "Batch-15 : CrossEntropyLoss=2.2780 | MulticlassF1Score=0.8891\n",
      "Batch-30 : CrossEntropyLoss=2.2808 | MulticlassF1Score=0.8923\n",
      "Batch-45 : CrossEntropyLoss=2.2805 | MulticlassF1Score=0.8930\n",
      "Batch-60 : CrossEntropyLoss=2.2773 | MulticlassF1Score=0.8921\n",
      "Batch-63 : CrossEntropyLoss=2.2912 | MulticlassF1Score=0.8921\n",
      "\n",
      "Yeah 🎉😄! Model improved.\n",
      "\n",
      "Training   : Mean CrossEntropyLoss = 2.2769 | Mean MulticlassF1Score = 0.9058\n",
      "Validation : Mean CrossEntropyLoss = 2.2813 | Mean MulticlassF1Score = 0.8918\n",
      "================================================================================\n",
      "\n",
      "EPOCH-19\n",
      "Training Step\n"
     ]
    },
    {
     "data": {
      "application/vnd.jupyter.widget-view+json": {
       "model_id": "721b154888e24aeebe6f8880f22a257b",
       "version_major": 2,
       "version_minor": 0
      },
      "text/plain": [
       "  0%|          | 0/226 [00:00<?, ?it/s]"
      ]
     },
     "metadata": {},
     "output_type": "display_data"
    },
    {
     "name": "stdout",
     "output_type": "stream",
     "text": [
      "Batch-15 : CrossEntropyLoss=2.2789 | MulticlassF1Score=0.9054\n",
      "Batch-30 : CrossEntropyLoss=2.2820 | MulticlassF1Score=0.9047\n",
      "Batch-45 : CrossEntropyLoss=2.2764 | MulticlassF1Score=0.9061\n",
      "Batch-60 : CrossEntropyLoss=2.2910 | MulticlassF1Score=0.9063\n",
      "Batch-75 : CrossEntropyLoss=2.2824 | MulticlassF1Score=0.9065\n",
      "Batch-90 : CrossEntropyLoss=2.2842 | MulticlassF1Score=0.9063\n",
      "Batch-105: CrossEntropyLoss=2.2774 | MulticlassF1Score=0.9064\n",
      "Batch-120: CrossEntropyLoss=2.2754 | MulticlassF1Score=0.9063\n",
      "Batch-135: CrossEntropyLoss=2.2731 | MulticlassF1Score=0.9064\n",
      "Batch-150: CrossEntropyLoss=2.2763 | MulticlassF1Score=0.9066\n",
      "Batch-165: CrossEntropyLoss=2.2711 | MulticlassF1Score=0.9067\n",
      "Batch-180: CrossEntropyLoss=2.2719 | MulticlassF1Score=0.9066\n",
      "Batch-195: CrossEntropyLoss=2.2780 | MulticlassF1Score=0.9067\n",
      "Batch-210: CrossEntropyLoss=2.2751 | MulticlassF1Score=0.9068\n",
      "Batch-225: CrossEntropyLoss=2.2764 | MulticlassF1Score=0.9069\n",
      "Batch-226: CrossEntropyLoss=2.2726 | MulticlassF1Score=0.9069\n",
      "\n",
      "Validation Step\n"
     ]
    },
    {
     "data": {
      "application/vnd.jupyter.widget-view+json": {
       "model_id": "1217654c02ab492eb092657b212fe5d2",
       "version_major": 2,
       "version_minor": 0
      },
      "text/plain": [
       "  0%|          | 0/63 [00:00<?, ?it/s]"
      ]
     },
     "metadata": {},
     "output_type": "display_data"
    },
    {
     "name": "stdout",
     "output_type": "stream",
     "text": [
      "Batch-15 : CrossEntropyLoss=2.2835 | MulticlassF1Score=0.8864\n",
      "Batch-30 : CrossEntropyLoss=2.2790 | MulticlassF1Score=0.8895\n",
      "Batch-45 : CrossEntropyLoss=2.2772 | MulticlassF1Score=0.8923\n",
      "Batch-60 : CrossEntropyLoss=2.2781 | MulticlassF1Score=0.8913\n",
      "Batch-63 : CrossEntropyLoss=2.2852 | MulticlassF1Score=0.8917\n",
      "\n",
      "Yeah 🎉😄! Model improved.\n",
      "\n",
      "Training   : Mean CrossEntropyLoss = 2.2764 | Mean MulticlassF1Score = 0.9063\n",
      "Validation : Mean CrossEntropyLoss = 2.2815 | Mean MulticlassF1Score = 0.8893\n",
      "================================================================================\n",
      "\n",
      "EPOCH-20\n",
      "Training Step\n"
     ]
    },
    {
     "data": {
      "application/vnd.jupyter.widget-view+json": {
       "model_id": "b140de6beadc421196dcc3c0d895b57c",
       "version_major": 2,
       "version_minor": 0
      },
      "text/plain": [
       "  0%|          | 0/226 [00:00<?, ?it/s]"
      ]
     },
     "metadata": {},
     "output_type": "display_data"
    },
    {
     "name": "stdout",
     "output_type": "stream",
     "text": [
      "Batch-15 : CrossEntropyLoss=2.2751 | MulticlassF1Score=0.9088\n",
      "Batch-30 : CrossEntropyLoss=2.2751 | MulticlassF1Score=0.9078\n",
      "Batch-45 : CrossEntropyLoss=2.2776 | MulticlassF1Score=0.9069\n",
      "Batch-60 : CrossEntropyLoss=2.2795 | MulticlassF1Score=0.9073\n",
      "Batch-75 : CrossEntropyLoss=2.2785 | MulticlassF1Score=0.9079\n",
      "Batch-90 : CrossEntropyLoss=2.2751 | MulticlassF1Score=0.9077\n",
      "Batch-105: CrossEntropyLoss=2.2750 | MulticlassF1Score=0.9082\n",
      "Batch-120: CrossEntropyLoss=2.2723 | MulticlassF1Score=0.9080\n",
      "Batch-135: CrossEntropyLoss=2.2744 | MulticlassF1Score=0.9079\n",
      "Batch-150: CrossEntropyLoss=2.2685 | MulticlassF1Score=0.9078\n",
      "Batch-165: CrossEntropyLoss=2.2758 | MulticlassF1Score=0.9077\n",
      "Batch-180: CrossEntropyLoss=2.2785 | MulticlassF1Score=0.9077\n",
      "Batch-195: CrossEntropyLoss=2.2791 | MulticlassF1Score=0.9076\n",
      "Batch-210: CrossEntropyLoss=2.2793 | MulticlassF1Score=0.9073\n",
      "Batch-225: CrossEntropyLoss=2.2725 | MulticlassF1Score=0.9074\n",
      "Batch-226: CrossEntropyLoss=2.2812 | MulticlassF1Score=0.9074\n",
      "\n",
      "Validation Step\n"
     ]
    },
    {
     "data": {
      "application/vnd.jupyter.widget-view+json": {
       "model_id": "50aae6290d124d838da816c442689b74",
       "version_major": 2,
       "version_minor": 0
      },
      "text/plain": [
       "  0%|          | 0/63 [00:00<?, ?it/s]"
      ]
     },
     "metadata": {},
     "output_type": "display_data"
    },
    {
     "name": "stdout",
     "output_type": "stream",
     "text": [
      "Batch-15 : CrossEntropyLoss=2.2838 | MulticlassF1Score=0.8904\n",
      "Batch-30 : CrossEntropyLoss=2.2842 | MulticlassF1Score=0.8914\n",
      "Batch-45 : CrossEntropyLoss=2.2758 | MulticlassF1Score=0.8918\n",
      "Batch-60 : CrossEntropyLoss=2.2825 | MulticlassF1Score=0.8913\n",
      "Batch-63 : CrossEntropyLoss=2.2753 | MulticlassF1Score=0.8919\n",
      "\n",
      "Yeah 🎉😄! Model improved.\n",
      "\n",
      "Training   : Mean CrossEntropyLoss = 2.2763 | Mean MulticlassF1Score = 0.9079\n",
      "Validation : Mean CrossEntropyLoss = 2.2813 | Mean MulticlassF1Score = 0.8920\n",
      "================================================================================\n",
      "\n",
      "EPOCH-21\n",
      "Training Step\n"
     ]
    },
    {
     "data": {
      "application/vnd.jupyter.widget-view+json": {
       "model_id": "ef0186505bd74db4baf946375d3271cb",
       "version_major": 2,
       "version_minor": 0
      },
      "text/plain": [
       "  0%|          | 0/226 [00:00<?, ?it/s]"
      ]
     },
     "metadata": {},
     "output_type": "display_data"
    },
    {
     "name": "stdout",
     "output_type": "stream",
     "text": [
      "Batch-15 : CrossEntropyLoss=2.2789 | MulticlassF1Score=0.9099\n",
      "Batch-30 : CrossEntropyLoss=2.2724 | MulticlassF1Score=0.9090\n",
      "Batch-45 : CrossEntropyLoss=2.2740 | MulticlassF1Score=0.9101\n",
      "Batch-60 : CrossEntropyLoss=2.2783 | MulticlassF1Score=0.9099\n",
      "Batch-75 : CrossEntropyLoss=2.2749 | MulticlassF1Score=0.9107\n",
      "Batch-90 : CrossEntropyLoss=2.2758 | MulticlassF1Score=0.9101\n",
      "Batch-105: CrossEntropyLoss=2.2751 | MulticlassF1Score=0.9099\n",
      "Batch-120: CrossEntropyLoss=2.2802 | MulticlassF1Score=0.9090\n",
      "Batch-135: CrossEntropyLoss=2.2882 | MulticlassF1Score=0.9075\n",
      "Batch-150: CrossEntropyLoss=2.2685 | MulticlassF1Score=0.9077\n",
      "Batch-165: CrossEntropyLoss=2.2746 | MulticlassF1Score=0.9079\n",
      "Batch-180: CrossEntropyLoss=2.2774 | MulticlassF1Score=0.9077\n",
      "Batch-195: CrossEntropyLoss=2.2708 | MulticlassF1Score=0.9077\n",
      "Batch-210: CrossEntropyLoss=2.2767 | MulticlassF1Score=0.9078\n",
      "Batch-225: CrossEntropyLoss=2.2752 | MulticlassF1Score=0.9080\n",
      "Batch-226: CrossEntropyLoss=2.2680 | MulticlassF1Score=0.9081\n",
      "\n",
      "Validation Step\n"
     ]
    },
    {
     "data": {
      "application/vnd.jupyter.widget-view+json": {
       "model_id": "48b07994d76a4ff78fd74512001525c4",
       "version_major": 2,
       "version_minor": 0
      },
      "text/plain": [
       "  0%|          | 0/63 [00:00<?, ?it/s]"
      ]
     },
     "metadata": {},
     "output_type": "display_data"
    },
    {
     "name": "stdout",
     "output_type": "stream",
     "text": [
      "Batch-15 : CrossEntropyLoss=2.2833 | MulticlassF1Score=0.8931\n",
      "Batch-30 : CrossEntropyLoss=2.2823 | MulticlassF1Score=0.8928\n",
      "Batch-45 : CrossEntropyLoss=2.2834 | MulticlassF1Score=0.8913\n",
      "Batch-60 : CrossEntropyLoss=2.2799 | MulticlassF1Score=0.8917\n",
      "Batch-63 : CrossEntropyLoss=2.2756 | MulticlassF1Score=0.8921\n",
      "\n",
      "Yeah 🎉😄! Model improved.\n",
      "\n",
      "Training   : Mean CrossEntropyLoss = 2.2760 | Mean MulticlassF1Score = 0.9090\n",
      "Validation : Mean CrossEntropyLoss = 2.2812 | Mean MulticlassF1Score = 0.8923\n",
      "================================================================================\n",
      "\n",
      "EPOCH-22\n",
      "Training Step\n"
     ]
    },
    {
     "data": {
      "application/vnd.jupyter.widget-view+json": {
       "model_id": "3a4a5113810a46778031254a14d265ee",
       "version_major": 2,
       "version_minor": 0
      },
      "text/plain": [
       "  0%|          | 0/226 [00:00<?, ?it/s]"
      ]
     },
     "metadata": {},
     "output_type": "display_data"
    },
    {
     "name": "stdout",
     "output_type": "stream",
     "text": [
      "Batch-15 : CrossEntropyLoss=2.2719 | MulticlassF1Score=0.9117\n",
      "Batch-30 : CrossEntropyLoss=2.2781 | MulticlassF1Score=0.9089\n",
      "Batch-45 : CrossEntropyLoss=2.2759 | MulticlassF1Score=0.9075\n",
      "Batch-60 : CrossEntropyLoss=2.2706 | MulticlassF1Score=0.9099\n",
      "Batch-75 : CrossEntropyLoss=2.2744 | MulticlassF1Score=0.9105\n",
      "Batch-90 : CrossEntropyLoss=2.2687 | MulticlassF1Score=0.9133\n",
      "Batch-105: CrossEntropyLoss=2.2699 | MulticlassF1Score=0.9159\n",
      "Batch-120: CrossEntropyLoss=2.2652 | MulticlassF1Score=0.9174\n",
      "Batch-135: CrossEntropyLoss=2.2659 | MulticlassF1Score=0.9194\n",
      "Batch-150: CrossEntropyLoss=2.2761 | MulticlassF1Score=0.9206\n",
      "Batch-165: CrossEntropyLoss=2.2675 | MulticlassF1Score=0.9216\n",
      "Batch-180: CrossEntropyLoss=2.2664 | MulticlassF1Score=0.9224\n",
      "Batch-195: CrossEntropyLoss=2.2711 | MulticlassF1Score=0.9231\n",
      "Batch-210: CrossEntropyLoss=2.2693 | MulticlassF1Score=0.9238\n",
      "Batch-225: CrossEntropyLoss=2.2700 | MulticlassF1Score=0.9244\n",
      "Batch-226: CrossEntropyLoss=2.2644 | MulticlassF1Score=0.9244\n",
      "\n",
      "Validation Step\n"
     ]
    },
    {
     "data": {
      "application/vnd.jupyter.widget-view+json": {
       "model_id": "2ce919efcdf5421bb4fccdb3d77eae70",
       "version_major": 2,
       "version_minor": 0
      },
      "text/plain": [
       "  0%|          | 0/63 [00:00<?, ?it/s]"
      ]
     },
     "metadata": {},
     "output_type": "display_data"
    },
    {
     "name": "stdout",
     "output_type": "stream",
     "text": [
      "Batch-15 : CrossEntropyLoss=2.2769 | MulticlassF1Score=0.9190\n",
      "Batch-30 : CrossEntropyLoss=2.2735 | MulticlassF1Score=0.9188\n",
      "Batch-45 : CrossEntropyLoss=2.2721 | MulticlassF1Score=0.9197\n",
      "Batch-60 : CrossEntropyLoss=2.2813 | MulticlassF1Score=0.9203\n",
      "Batch-63 : CrossEntropyLoss=2.2713 | MulticlassF1Score=0.9202\n",
      "\n",
      "Yeah 🎉😄! Model improved.\n",
      "\n",
      "Training   : Mean CrossEntropyLoss = 2.2711 | Mean MulticlassF1Score = 0.9163\n",
      "Validation : Mean CrossEntropyLoss = 2.2729 | Mean MulticlassF1Score = 0.9197\n",
      "================================================================================\n",
      "\n",
      "EPOCH-23\n",
      "Training Step\n"
     ]
    },
    {
     "data": {
      "application/vnd.jupyter.widget-view+json": {
       "model_id": "72282e4416374525b1831f0277969a6f",
       "version_major": 2,
       "version_minor": 0
      },
      "text/plain": [
       "  0%|          | 0/226 [00:00<?, ?it/s]"
      ]
     },
     "metadata": {},
     "output_type": "display_data"
    },
    {
     "name": "stdout",
     "output_type": "stream",
     "text": [
      "Batch-15 : CrossEntropyLoss=2.2725 | MulticlassF1Score=0.9354\n",
      "Batch-30 : CrossEntropyLoss=2.2649 | MulticlassF1Score=0.9385\n",
      "Batch-45 : CrossEntropyLoss=2.2653 | MulticlassF1Score=0.9384\n",
      "Batch-60 : CrossEntropyLoss=2.2704 | MulticlassF1Score=0.9374\n",
      "Batch-75 : CrossEntropyLoss=2.2671 | MulticlassF1Score=0.9372\n",
      "Batch-90 : CrossEntropyLoss=2.2677 | MulticlassF1Score=0.9373\n",
      "Batch-105: CrossEntropyLoss=2.2683 | MulticlassF1Score=0.9372\n",
      "Batch-120: CrossEntropyLoss=2.2664 | MulticlassF1Score=0.9372\n",
      "Batch-135: CrossEntropyLoss=2.2665 | MulticlassF1Score=0.9369\n",
      "Batch-150: CrossEntropyLoss=2.2675 | MulticlassF1Score=0.9369\n",
      "Batch-165: CrossEntropyLoss=2.2678 | MulticlassF1Score=0.9369\n",
      "Batch-180: CrossEntropyLoss=2.2677 | MulticlassF1Score=0.9373\n",
      "Batch-195: CrossEntropyLoss=2.2701 | MulticlassF1Score=0.9376\n",
      "Batch-210: CrossEntropyLoss=2.2665 | MulticlassF1Score=0.9372\n",
      "Batch-225: CrossEntropyLoss=2.2660 | MulticlassF1Score=0.9371\n",
      "Batch-226: CrossEntropyLoss=2.2652 | MulticlassF1Score=0.9371\n",
      "\n",
      "Validation Step\n"
     ]
    },
    {
     "data": {
      "application/vnd.jupyter.widget-view+json": {
       "model_id": "c16bd3a9da854d52a67d66dff993e561",
       "version_major": 2,
       "version_minor": 0
      },
      "text/plain": [
       "  0%|          | 0/63 [00:00<?, ?it/s]"
      ]
     },
     "metadata": {},
     "output_type": "display_data"
    },
    {
     "name": "stdout",
     "output_type": "stream",
     "text": [
      "Batch-15 : CrossEntropyLoss=2.2737 | MulticlassF1Score=0.9162\n",
      "Batch-30 : CrossEntropyLoss=2.2701 | MulticlassF1Score=0.9196\n",
      "Batch-45 : CrossEntropyLoss=2.2787 | MulticlassF1Score=0.9219\n",
      "Batch-60 : CrossEntropyLoss=2.2698 | MulticlassF1Score=0.9225\n",
      "Batch-63 : CrossEntropyLoss=2.2736 | MulticlassF1Score=0.9223\n",
      "\n",
      "Yeah 🎉😄! Model improved.\n",
      "\n",
      "Training   : Mean CrossEntropyLoss = 2.2672 | Mean MulticlassF1Score = 0.9373\n",
      "Validation : Mean CrossEntropyLoss = 2.2720 | Mean MulticlassF1Score = 0.9198\n",
      "================================================================================\n",
      "\n",
      "EPOCH-24\n",
      "Training Step\n"
     ]
    },
    {
     "data": {
      "application/vnd.jupyter.widget-view+json": {
       "model_id": "7c5e122f2c2442138842fb5c33cb4c2b",
       "version_major": 2,
       "version_minor": 0
      },
      "text/plain": [
       "  0%|          | 0/226 [00:00<?, ?it/s]"
      ]
     },
     "metadata": {},
     "output_type": "display_data"
    },
    {
     "name": "stdout",
     "output_type": "stream",
     "text": [
      "Batch-15 : CrossEntropyLoss=2.2678 | MulticlassF1Score=0.9402\n",
      "Batch-30 : CrossEntropyLoss=2.2656 | MulticlassF1Score=0.9381\n",
      "Batch-45 : CrossEntropyLoss=2.2615 | MulticlassF1Score=0.9387\n",
      "Batch-60 : CrossEntropyLoss=2.2695 | MulticlassF1Score=0.9394\n",
      "Batch-75 : CrossEntropyLoss=2.2685 | MulticlassF1Score=0.9382\n",
      "Batch-90 : CrossEntropyLoss=2.2724 | MulticlassF1Score=0.9378\n",
      "Batch-105: CrossEntropyLoss=2.2649 | MulticlassF1Score=0.9380\n",
      "Batch-120: CrossEntropyLoss=2.2644 | MulticlassF1Score=0.9380\n",
      "Batch-135: CrossEntropyLoss=2.2611 | MulticlassF1Score=0.9379\n",
      "Batch-150: CrossEntropyLoss=2.2631 | MulticlassF1Score=0.9381\n",
      "Batch-165: CrossEntropyLoss=2.2652 | MulticlassF1Score=0.9385\n",
      "Batch-180: CrossEntropyLoss=2.2656 | MulticlassF1Score=0.9385\n",
      "Batch-195: CrossEntropyLoss=2.2677 | MulticlassF1Score=0.9389\n",
      "Batch-210: CrossEntropyLoss=2.2659 | MulticlassF1Score=0.9389\n",
      "Batch-225: CrossEntropyLoss=2.2681 | MulticlassF1Score=0.9388\n",
      "Batch-226: CrossEntropyLoss=2.2631 | MulticlassF1Score=0.9389\n",
      "\n",
      "Validation Step\n"
     ]
    },
    {
     "data": {
      "application/vnd.jupyter.widget-view+json": {
       "model_id": "405da2bdd94140bc8c8926c81bc21fa9",
       "version_major": 2,
       "version_minor": 0
      },
      "text/plain": [
       "  0%|          | 0/63 [00:00<?, ?it/s]"
      ]
     },
     "metadata": {},
     "output_type": "display_data"
    },
    {
     "name": "stdout",
     "output_type": "stream",
     "text": [
      "Batch-15 : CrossEntropyLoss=2.2728 | MulticlassF1Score=0.9280\n",
      "Batch-30 : CrossEntropyLoss=2.2720 | MulticlassF1Score=0.9247\n",
      "Batch-45 : CrossEntropyLoss=2.2699 | MulticlassF1Score=0.9229\n",
      "Batch-60 : CrossEntropyLoss=2.2697 | MulticlassF1Score=0.9225\n",
      "Batch-63 : CrossEntropyLoss=2.2700 | MulticlassF1Score=0.9227\n",
      "\n",
      "Yeah 🎉😄! Model improved.\n",
      "\n",
      "Training   : Mean CrossEntropyLoss = 2.2665 | Mean MulticlassF1Score = 0.9386\n",
      "Validation : Mean CrossEntropyLoss = 2.2717 | Mean MulticlassF1Score = 0.9261\n",
      "================================================================================\n",
      "\n",
      "EPOCH-25\n",
      "Training Step\n"
     ]
    },
    {
     "data": {
      "application/vnd.jupyter.widget-view+json": {
       "model_id": "3e73a2e6502742a3af26d453d8dbb7bf",
       "version_major": 2,
       "version_minor": 0
      },
      "text/plain": [
       "  0%|          | 0/226 [00:00<?, ?it/s]"
      ]
     },
     "metadata": {},
     "output_type": "display_data"
    },
    {
     "name": "stdout",
     "output_type": "stream",
     "text": [
      "Batch-15 : CrossEntropyLoss=2.2753 | MulticlassF1Score=0.9394\n",
      "Batch-30 : CrossEntropyLoss=2.2645 | MulticlassF1Score=0.9403\n",
      "Batch-45 : CrossEntropyLoss=2.2644 | MulticlassF1Score=0.9411\n",
      "Batch-60 : CrossEntropyLoss=2.2698 | MulticlassF1Score=0.9402\n",
      "Batch-75 : CrossEntropyLoss=2.2694 | MulticlassF1Score=0.9402\n",
      "Batch-90 : CrossEntropyLoss=2.2643 | MulticlassF1Score=0.9400\n",
      "Batch-105: CrossEntropyLoss=2.2646 | MulticlassF1Score=0.9399\n",
      "Batch-120: CrossEntropyLoss=2.2655 | MulticlassF1Score=0.9404\n",
      "Batch-135: CrossEntropyLoss=2.2662 | MulticlassF1Score=0.9399\n",
      "Batch-150: CrossEntropyLoss=2.2721 | MulticlassF1Score=0.9398\n",
      "Batch-165: CrossEntropyLoss=2.2677 | MulticlassF1Score=0.9398\n",
      "Batch-180: CrossEntropyLoss=2.2670 | MulticlassF1Score=0.9398\n",
      "Batch-195: CrossEntropyLoss=2.2618 | MulticlassF1Score=0.9399\n",
      "Batch-210: CrossEntropyLoss=2.2629 | MulticlassF1Score=0.9399\n",
      "Batch-225: CrossEntropyLoss=2.2644 | MulticlassF1Score=0.9400\n",
      "Batch-226: CrossEntropyLoss=2.2674 | MulticlassF1Score=0.9400\n",
      "\n",
      "Validation Step\n"
     ]
    },
    {
     "data": {
      "application/vnd.jupyter.widget-view+json": {
       "model_id": "683527cdcd8b43faa056c7844d6c383e",
       "version_major": 2,
       "version_minor": 0
      },
      "text/plain": [
       "  0%|          | 0/63 [00:00<?, ?it/s]"
      ]
     },
     "metadata": {},
     "output_type": "display_data"
    },
    {
     "name": "stdout",
     "output_type": "stream",
     "text": [
      "Batch-15 : CrossEntropyLoss=2.2696 | MulticlassF1Score=0.9211\n",
      "Batch-30 : CrossEntropyLoss=2.2710 | MulticlassF1Score=0.9225\n",
      "Batch-45 : CrossEntropyLoss=2.2686 | MulticlassF1Score=0.9222\n",
      "Batch-60 : CrossEntropyLoss=2.2672 | MulticlassF1Score=0.9233\n",
      "Batch-63 : CrossEntropyLoss=2.2748 | MulticlassF1Score=0.9230\n",
      "\n",
      "Yeah 🎉😄! Model improved.\n",
      "\n",
      "Training   : Mean CrossEntropyLoss = 2.2662 | Mean MulticlassF1Score = 0.9401\n",
      "Validation : Mean CrossEntropyLoss = 2.2716 | Mean MulticlassF1Score = 0.9211\n",
      "================================================================================\n",
      "\n",
      "EPOCH-26\n",
      "Training Step\n"
     ]
    },
    {
     "data": {
      "application/vnd.jupyter.widget-view+json": {
       "model_id": "a2437364fbfc46b6bf99a69e0d4044db",
       "version_major": 2,
       "version_minor": 0
      },
      "text/plain": [
       "  0%|          | 0/226 [00:00<?, ?it/s]"
      ]
     },
     "metadata": {},
     "output_type": "display_data"
    },
    {
     "name": "stdout",
     "output_type": "stream",
     "text": [
      "Batch-15 : CrossEntropyLoss=2.2678 | MulticlassF1Score=0.9412\n",
      "Batch-30 : CrossEntropyLoss=2.2683 | MulticlassF1Score=0.9416\n",
      "Batch-45 : CrossEntropyLoss=2.2654 | MulticlassF1Score=0.9416\n",
      "Batch-60 : CrossEntropyLoss=2.2637 | MulticlassF1Score=0.9413\n",
      "Batch-75 : CrossEntropyLoss=2.2635 | MulticlassF1Score=0.9409\n",
      "Batch-90 : CrossEntropyLoss=2.2672 | MulticlassF1Score=0.9405\n",
      "Batch-105: CrossEntropyLoss=2.2675 | MulticlassF1Score=0.9403\n",
      "Batch-120: CrossEntropyLoss=2.2645 | MulticlassF1Score=0.9407\n",
      "Batch-135: CrossEntropyLoss=2.2704 | MulticlassF1Score=0.9408\n",
      "Batch-150: CrossEntropyLoss=2.2671 | MulticlassF1Score=0.9411\n",
      "Batch-165: CrossEntropyLoss=2.2639 | MulticlassF1Score=0.9408\n",
      "Batch-180: CrossEntropyLoss=2.2661 | MulticlassF1Score=0.9409\n",
      "Batch-195: CrossEntropyLoss=2.2657 | MulticlassF1Score=0.9410\n",
      "Batch-210: CrossEntropyLoss=2.2634 | MulticlassF1Score=0.9410\n",
      "Batch-225: CrossEntropyLoss=2.2667 | MulticlassF1Score=0.9408\n",
      "Batch-226: CrossEntropyLoss=2.2611 | MulticlassF1Score=0.9409\n",
      "\n",
      "Validation Step\n"
     ]
    },
    {
     "data": {
      "application/vnd.jupyter.widget-view+json": {
       "model_id": "ba5e7d4be4ae4ac8940c3421df2a76ae",
       "version_major": 2,
       "version_minor": 0
      },
      "text/plain": [
       "  0%|          | 0/63 [00:00<?, ?it/s]"
      ]
     },
     "metadata": {},
     "output_type": "display_data"
    },
    {
     "name": "stdout",
     "output_type": "stream",
     "text": [
      "Batch-15 : CrossEntropyLoss=2.2744 | MulticlassF1Score=0.9213\n",
      "Batch-30 : CrossEntropyLoss=2.2692 | MulticlassF1Score=0.9211\n",
      "Batch-45 : CrossEntropyLoss=2.2712 | MulticlassF1Score=0.9221\n",
      "Batch-60 : CrossEntropyLoss=2.2712 | MulticlassF1Score=0.9221\n",
      "Batch-63 : CrossEntropyLoss=2.2672 | MulticlassF1Score=0.9224\n",
      "\n",
      "Yeah 🎉😄! Model improved.\n",
      "\n",
      "Training   : Mean CrossEntropyLoss = 2.2658 | Mean MulticlassF1Score = 0.9411\n",
      "Validation : Mean CrossEntropyLoss = 2.2718 | Mean MulticlassF1Score = 0.9215\n",
      "================================================================================\n",
      "\n",
      "EPOCH-27\n",
      "Training Step\n"
     ]
    },
    {
     "data": {
      "application/vnd.jupyter.widget-view+json": {
       "model_id": "83c5cd7a23f54e47be3f2122572a4afc",
       "version_major": 2,
       "version_minor": 0
      },
      "text/plain": [
       "  0%|          | 0/226 [00:00<?, ?it/s]"
      ]
     },
     "metadata": {},
     "output_type": "display_data"
    },
    {
     "name": "stdout",
     "output_type": "stream",
     "text": [
      "Batch-15 : CrossEntropyLoss=2.2707 | MulticlassF1Score=0.9380\n",
      "Batch-30 : CrossEntropyLoss=2.2653 | MulticlassF1Score=0.9392\n",
      "Batch-45 : CrossEntropyLoss=2.2660 | MulticlassF1Score=0.9400\n",
      "Batch-60 : CrossEntropyLoss=2.2634 | MulticlassF1Score=0.9413\n",
      "Batch-75 : CrossEntropyLoss=2.2628 | MulticlassF1Score=0.9417\n",
      "Batch-90 : CrossEntropyLoss=2.2627 | MulticlassF1Score=0.9413\n",
      "Batch-105: CrossEntropyLoss=2.2624 | MulticlassF1Score=0.9418\n",
      "Batch-120: CrossEntropyLoss=2.2630 | MulticlassF1Score=0.9413\n",
      "Batch-135: CrossEntropyLoss=2.2657 | MulticlassF1Score=0.9415\n",
      "Batch-150: CrossEntropyLoss=2.2649 | MulticlassF1Score=0.9416\n",
      "Batch-165: CrossEntropyLoss=2.2605 | MulticlassF1Score=0.9417\n",
      "Batch-180: CrossEntropyLoss=2.2663 | MulticlassF1Score=0.9417\n",
      "Batch-195: CrossEntropyLoss=2.2664 | MulticlassF1Score=0.9419\n",
      "Batch-210: CrossEntropyLoss=2.2655 | MulticlassF1Score=0.9418\n",
      "Batch-225: CrossEntropyLoss=2.2626 | MulticlassF1Score=0.9417\n",
      "Batch-226: CrossEntropyLoss=2.2709 | MulticlassF1Score=0.9417\n",
      "\n",
      "Validation Step\n"
     ]
    },
    {
     "data": {
      "application/vnd.jupyter.widget-view+json": {
       "model_id": "ab5fbd75e81e4bde83b55711858515c0",
       "version_major": 2,
       "version_minor": 0
      },
      "text/plain": [
       "  0%|          | 0/63 [00:00<?, ?it/s]"
      ]
     },
     "metadata": {},
     "output_type": "display_data"
    },
    {
     "name": "stdout",
     "output_type": "stream",
     "text": [
      "Batch-15 : CrossEntropyLoss=2.2707 | MulticlassF1Score=0.9242\n",
      "Batch-30 : CrossEntropyLoss=2.2748 | MulticlassF1Score=0.9257\n",
      "Batch-45 : CrossEntropyLoss=2.2705 | MulticlassF1Score=0.9246\n",
      "Batch-60 : CrossEntropyLoss=2.2733 | MulticlassF1Score=0.9236\n",
      "Batch-63 : CrossEntropyLoss=2.2657 | MulticlassF1Score=0.9241\n",
      "\n",
      "Yeah 🎉😄! Model improved.\n",
      "\n",
      "Training   : Mean CrossEntropyLoss = 2.2656 | Mean MulticlassF1Score = 0.9409\n",
      "Validation : Mean CrossEntropyLoss = 2.2712 | Mean MulticlassF1Score = 0.9249\n",
      "================================================================================\n",
      "\n",
      "EPOCH-28\n",
      "Training Step\n"
     ]
    },
    {
     "data": {
      "application/vnd.jupyter.widget-view+json": {
       "model_id": "ae46089350714645b6d586e2c500cd3d",
       "version_major": 2,
       "version_minor": 0
      },
      "text/plain": [
       "  0%|          | 0/226 [00:00<?, ?it/s]"
      ]
     },
     "metadata": {},
     "output_type": "display_data"
    },
    {
     "name": "stdout",
     "output_type": "stream",
     "text": [
      "Batch-15 : CrossEntropyLoss=2.2708 | MulticlassF1Score=0.9421\n",
      "Batch-30 : CrossEntropyLoss=2.2616 | MulticlassF1Score=0.9414\n",
      "Batch-45 : CrossEntropyLoss=2.2718 | MulticlassF1Score=0.9420\n",
      "Batch-60 : CrossEntropyLoss=2.2632 | MulticlassF1Score=0.9424\n",
      "Batch-75 : CrossEntropyLoss=2.2707 | MulticlassF1Score=0.9419\n",
      "Batch-90 : CrossEntropyLoss=2.2632 | MulticlassF1Score=0.9421\n",
      "Batch-105: CrossEntropyLoss=2.2662 | MulticlassF1Score=0.9419\n",
      "Batch-120: CrossEntropyLoss=2.2622 | MulticlassF1Score=0.9419\n",
      "Batch-135: CrossEntropyLoss=2.2642 | MulticlassF1Score=0.9425\n",
      "Batch-150: CrossEntropyLoss=2.2602 | MulticlassF1Score=0.9429\n",
      "Batch-165: CrossEntropyLoss=2.2683 | MulticlassF1Score=0.9428\n",
      "Batch-180: CrossEntropyLoss=2.2704 | MulticlassF1Score=0.9430\n",
      "Batch-195: CrossEntropyLoss=2.2621 | MulticlassF1Score=0.9428\n",
      "Batch-210: CrossEntropyLoss=2.2663 | MulticlassF1Score=0.9427\n",
      "Batch-225: CrossEntropyLoss=2.2639 | MulticlassF1Score=0.9423\n",
      "Batch-226: CrossEntropyLoss=2.2613 | MulticlassF1Score=0.9423\n",
      "\n",
      "Validation Step\n"
     ]
    },
    {
     "data": {
      "application/vnd.jupyter.widget-view+json": {
       "model_id": "e33513aea906459f95fe202e2d774575",
       "version_major": 2,
       "version_minor": 0
      },
      "text/plain": [
       "  0%|          | 0/63 [00:00<?, ?it/s]"
      ]
     },
     "metadata": {},
     "output_type": "display_data"
    },
    {
     "name": "stdout",
     "output_type": "stream",
     "text": [
      "Batch-15 : CrossEntropyLoss=2.2691 | MulticlassF1Score=0.9218\n",
      "Batch-30 : CrossEntropyLoss=2.2740 | MulticlassF1Score=0.9227\n",
      "Batch-45 : CrossEntropyLoss=2.2677 | MulticlassF1Score=0.9227\n",
      "Batch-60 : CrossEntropyLoss=2.2711 | MulticlassF1Score=0.9234\n",
      "Batch-63 : CrossEntropyLoss=2.2688 | MulticlassF1Score=0.9236\n",
      "\n",
      "Yeah 🎉😄! Model improved.\n",
      "\n",
      "Training   : Mean CrossEntropyLoss = 2.2653 | Mean MulticlassF1Score = 0.9426\n",
      "Validation : Mean CrossEntropyLoss = 2.2713 | Mean MulticlassF1Score = 0.9212\n",
      "================================================================================\n",
      "\n",
      "EPOCH-29\n",
      "Training Step\n"
     ]
    },
    {
     "data": {
      "application/vnd.jupyter.widget-view+json": {
       "model_id": "ea0d51fef59b4db6a291a813747b65cd",
       "version_major": 2,
       "version_minor": 0
      },
      "text/plain": [
       "  0%|          | 0/226 [00:00<?, ?it/s]"
      ]
     },
     "metadata": {},
     "output_type": "display_data"
    },
    {
     "name": "stdout",
     "output_type": "stream",
     "text": [
      "Batch-15 : CrossEntropyLoss=2.2679 | MulticlassF1Score=0.9420\n",
      "Batch-30 : CrossEntropyLoss=2.2652 | MulticlassF1Score=0.9440\n",
      "Batch-45 : CrossEntropyLoss=2.2637 | MulticlassF1Score=0.9445\n",
      "Batch-60 : CrossEntropyLoss=2.2589 | MulticlassF1Score=0.9444\n",
      "Batch-75 : CrossEntropyLoss=2.2668 | MulticlassF1Score=0.9436\n",
      "Batch-90 : CrossEntropyLoss=2.2741 | MulticlassF1Score=0.9436\n",
      "Batch-105: CrossEntropyLoss=2.2691 | MulticlassF1Score=0.9436\n",
      "Batch-120: CrossEntropyLoss=2.2653 | MulticlassF1Score=0.9441\n",
      "Batch-135: CrossEntropyLoss=2.2700 | MulticlassF1Score=0.9435\n",
      "Batch-150: CrossEntropyLoss=2.2633 | MulticlassF1Score=0.9431\n",
      "Batch-165: CrossEntropyLoss=2.2643 | MulticlassF1Score=0.9426\n",
      "Batch-180: CrossEntropyLoss=2.2663 | MulticlassF1Score=0.9426\n",
      "Batch-195: CrossEntropyLoss=2.2633 | MulticlassF1Score=0.9422\n",
      "Batch-210: CrossEntropyLoss=2.2649 | MulticlassF1Score=0.9421\n",
      "Batch-225: CrossEntropyLoss=2.2623 | MulticlassF1Score=0.9421\n",
      "Batch-226: CrossEntropyLoss=2.2751 | MulticlassF1Score=0.9420\n",
      "\n",
      "Validation Step\n"
     ]
    },
    {
     "data": {
      "application/vnd.jupyter.widget-view+json": {
       "model_id": "41ac0f986c7d48a0adc01d9dc82fdf80",
       "version_major": 2,
       "version_minor": 0
      },
      "text/plain": [
       "  0%|          | 0/63 [00:00<?, ?it/s]"
      ]
     },
     "metadata": {},
     "output_type": "display_data"
    },
    {
     "name": "stdout",
     "output_type": "stream",
     "text": [
      "Batch-15 : CrossEntropyLoss=2.2685 | MulticlassF1Score=0.9263\n",
      "Batch-30 : CrossEntropyLoss=2.2759 | MulticlassF1Score=0.9239\n",
      "Batch-45 : CrossEntropyLoss=2.2664 | MulticlassF1Score=0.9234\n",
      "Batch-60 : CrossEntropyLoss=2.2727 | MulticlassF1Score=0.9237\n",
      "Batch-63 : CrossEntropyLoss=2.2744 | MulticlassF1Score=0.9237\n",
      "\n",
      "Huft 😥! Model not improved.\n",
      "\n",
      "Training   : Mean CrossEntropyLoss = 2.2654 | Mean MulticlassF1Score = 0.9431\n",
      "Validation : Mean CrossEntropyLoss = 2.2714 | Mean MulticlassF1Score = 0.9244\n",
      "Patience = 1/50❗\n",
      "================================================================================\n",
      "\n",
      "EPOCH-30\n",
      "Training Step\n"
     ]
    },
    {
     "data": {
      "application/vnd.jupyter.widget-view+json": {
       "model_id": "3761f4d3ee3c485798c93edbce07e644",
       "version_major": 2,
       "version_minor": 0
      },
      "text/plain": [
       "  0%|          | 0/226 [00:00<?, ?it/s]"
      ]
     },
     "metadata": {},
     "output_type": "display_data"
    }
   ],
   "source": [
    "now = datetime.now(pytz.timezone(\"Asia/Ujung_Pandang\"))\n",
    "path_name = now.strftime(\"%m-%d-%Y_%H-%M-%S\")\n",
    "root_path = f\"../../../logs/classifier/{hyperparams.context_size}_contexts/fold_0{hyperparams.fold}/{path_name}\"\n",
    "os.makedirs(root_path)\n",
    "\n",
    "def looping_step(train_dataloader, val_dataloader, model, optimizer, criterion, train_metric, val_metric, n_epoch=hyperparams.n_epoch, patience=hyperparams.patience, monitor=\"loss\"):    \n",
    "    start_time = time()\n",
    "    \n",
    "    epoch_training_losses = []\n",
    "    epoch_training_metric_scores = []\n",
    "    epoch_val_losses = []\n",
    "    epoch_val_metric_scores = []\n",
    "    patience_counter = 0\n",
    "    \n",
    "    # Hyperparameters\n",
    "    with open(f\"{root_path}/training_history.txt\", \"a\") as f:\n",
    "        f.write(f\"HYPERPARAMETERS\\n\")\n",
    "        f.write(f\"{'-' * 80}\\n\")\n",
    "        for name, value in vars(hyperparams).items():\n",
    "            f.write(f\"{name}: {value}\\n\")\n",
    "        \n",
    "        f.write(\"\\n\\nTRAINING PROGRESS\\n\")\n",
    "        f.write(f\"{'-' * 80}\\n\")\n",
    "    \n",
    "    # Training Progress\n",
    "    for epoch in range(1, n_epoch + 1):\n",
    "        print(f\"EPOCH-{epoch}\")\n",
    "        with open(f\"{root_path}/training_history.txt\", \"a\") as f:\n",
    "            f.write(f\"EPOCH-{epoch}\\n\")\n",
    "            f.write(f\"Training Step\\n\")\n",
    "            \n",
    "        # Training Step\n",
    "        print(\"Training Step\")\n",
    "        batch_training_losses, batch_training_metric_scores = training_step(train_dataloader, model, optimizer, criterion, train_metric, scheduler=None)\n",
    "        epoch_training_loss = torch.mean(torch.FloatTensor(batch_training_losses))\n",
    "\n",
    "        epoch_training_loss = torch.mean(torch.FloatTensor(batch_training_losses))\n",
    "        epoch_training_losses.append(epoch_training_loss.item())\n",
    "\n",
    "        epoch_training_metric_score = torch.mean(torch.FloatTensor(batch_training_metric_scores))\n",
    "        epoch_training_metric_scores.append(epoch_training_metric_score.item())\n",
    "        \n",
    "        # Validation Step\n",
    "        with open(f\"{root_path}/training_history.txt\", \"a\") as f:\n",
    "            f.write(f\"\\nValidation Step\\n\")\n",
    "            \n",
    "        print(\"\\nValidation Step\")\n",
    "        batch_val_losses, batch_val_metric_scores = validation_step(val_dataloader, model, criterion, val_metric)\n",
    "        epoch_val_loss = torch.mean(torch.FloatTensor(batch_val_losses))\n",
    "\n",
    "        epoch_val_loss = torch.mean(torch.FloatTensor(batch_val_losses))\n",
    "        epoch_val_losses.append(epoch_val_loss.item())\n",
    "\n",
    "        epoch_val_metric_score = torch.mean(torch.FloatTensor(batch_val_metric_scores))\n",
    "        epoch_val_metric_scores.append(epoch_val_metric_score.item())\n",
    "        \n",
    "        with open(f\"{root_path}/training_history.txt\", \"a\") as f:\n",
    "            if monitor == \"loss\":\n",
    "                if epoch == 1:\n",
    "                    best_state_dict = model.state_dict()\n",
    "                    best_training_loss = epoch_training_loss\n",
    "                    best_training_metric = epoch_training_metric_score\n",
    "                    best_val_loss = epoch_val_loss\n",
    "                    best_val_metric = epoch_val_metric_score\n",
    "                    \n",
    "                    print(f\"\\nTraining   : Mean {str(criterion).split('(')[0]} = {(epoch_training_loss):.4f} | Mean {str(train_metric).split('(')[0]} = {(epoch_training_metric_score):.4f}\")\n",
    "                    print(f\"Validation : Mean {str(criterion).split('(')[0]} = {(epoch_val_loss):.4f} | Mean {str(val_metric).split('(')[0]} = {(epoch_val_metric_score):.4f}\")\n",
    "                    \n",
    "                    f.write(f\"\\nTraining   : Mean {str(criterion).split('(')[0]} = {(epoch_training_loss):.4f} | Mean {str(train_metric).split('(')[0]} = {(epoch_training_metric_score):.4f}\\n\")\n",
    "                    f.write(f\"Validation : Mean {str(criterion).split('(')[0]} = {(epoch_val_loss):.4f} | Mean {str(val_metric).split('(')[0]} = {(epoch_val_metric_score):.4f}\\n\")\n",
    "                elif epoch_training_losses[-1] < epoch_training_losses[-2]:\n",
    "                    best_state_dict = model.state_dict()\n",
    "                    best_training_loss = epoch_training_loss\n",
    "                    best_training_metric = epoch_training_metric_score\n",
    "                    best_val_loss = epoch_val_loss\n",
    "                    best_val_metric = epoch_val_metric_score\n",
    "                    \n",
    "                    print(\"\\nYeah 🎉😄! Model improved.\")\n",
    "                    print(f\"\\nTraining   : Mean {str(criterion).split('(')[0]} = {(epoch_training_loss):.4f} | Mean {str(train_metric).split('(')[0]} = {(epoch_training_metric_score):.4f}\")\n",
    "                    print(f\"Validation : Mean {str(criterion).split('(')[0]} = {(epoch_val_loss):.4f} | Mean {str(val_metric).split('(')[0]} = {(epoch_val_metric_score):.4f}\")\n",
    "                    \n",
    "                    f.write(\"\\nYeah 🎉😄! Model improved.\\n\")\n",
    "                    f.write(f\"\\nTraining   : Mean {str(criterion).split('(')[0]} = {(epoch_training_loss):.4f} | Mean {str(train_metric).split('(')[0]} = {(epoch_training_metric_score):.4f}\\n\")\n",
    "                    f.write(f\"Validation : Mean {str(criterion).split('(')[0]} = {(epoch_val_loss):.4f} | Mean {str(val_metric).split('(')[0]} = {(epoch_val_metric_score):.4f}\\n\")\n",
    "                else:\n",
    "                    patience_counter += 1\n",
    "                    \n",
    "                    print(\"\\nHuft 😥! Model not improved.\")\n",
    "                    print(f\"\\nTraining   : Mean {str(criterion).split('(')[0]} = {(epoch_training_loss):.4f} | Mean {str(train_metric).split('(')[0]} = {(epoch_training_metric_score):.4f}\")\n",
    "                    print(f\"Validation : Mean {str(criterion).split('(')[0]} = {(epoch_val_loss):.4f} | Mean {str(val_metric).split('(')[0]} = {(epoch_val_metric_score):.4f}\")\n",
    "                    print(f\"Patience = {patience_counter}/{patience}❗\")\n",
    "                    \n",
    "                    f.write(\"\\nHuft 😥! Model not improved.\\n\")\n",
    "                    f.write(f\"\\nTraining   : Mean {str(criterion).split('(')[0]} = {(epoch_training_loss):.4f} | Mean {str(train_metric).split('(')[0]} = {(epoch_training_metric_score):.4f}\\n\")\n",
    "                    f.write(f\"Validation : Mean {str(criterion).split('(')[0]} = {(epoch_val_loss):.4f} | Mean {str(val_metric).split('(')[0]} = {(epoch_val_metric_score):.4f}\\n\")\n",
    "                    f.write(f\"Patience = {patience_counter}/{patience}❗\\n\")\n",
    "            else:\n",
    "                if epoch == 1:\n",
    "                    best_state_dict = model.state_dict()\n",
    "                    best_training_loss = epoch_training_loss\n",
    "                    best_training_metric = epoch_training_metric_score\n",
    "                    best_val_loss = epoch_val_loss\n",
    "                    best_val_metric = epoch_val_metric_score\n",
    "                    \n",
    "                    print(f\"\\nTraining   : Mean {str(criterion).split('(')[0]} = {(epoch_training_loss):.4f} | Mean {str(train_metric).split('(')[0]} = {(epoch_training_metric_score):.4f}\")\n",
    "                    print(f\"Validation : Mean {str(criterion).split('(')[0]} = {(epoch_val_loss):.4f} | Mean {str(val_metric).split('(')[0]} = {(epoch_val_metric_score):.4f}\")\n",
    "                    \n",
    "                    f.write(f\"\\nTraining   : Mean {str(criterion).split('(')[0]} = {(epoch_training_loss):.4f} | Mean {str(train_metric).split('(')[0]} = {(epoch_training_metric_score):.4f}\\n\")\n",
    "                    f.write(f\"Validation : Mean {str(criterion).split('(')[0]} = {(epoch_val_loss):.4f} | Mean {str(val_metric).split('(')[0]} = {(epoch_val_metric_score):.4f}\\n\")\n",
    "                elif epoch_training_metric_scores[-1] > epoch_training_metric_scores[-2]:\n",
    "                    best_state_dict = model.state_dict()\n",
    "                    best_training_loss = epoch_training_loss\n",
    "                    best_training_metric = epoch_training_metric_score\n",
    "                    best_val_loss = epoch_val_loss\n",
    "                    best_val_metric = epoch_val_metric_score\n",
    "                    \n",
    "                    print(\"\\nYeah 🎉😄! Model improved.\")\n",
    "                    print(f\"\\nTraining   : Mean {str(criterion).split('(')[0]} = {(epoch_training_loss):.4f} | Mean {str(train_metric).split('(')[0]} = {(epoch_training_metric_score):.4f}\")\n",
    "                    print(f\"Validation : Mean {str(criterion).split('(')[0]} = {(epoch_val_loss):.4f} | Mean {str(val_metric).split('(')[0]} = {(epoch_val_metric_score):.4f}\")\n",
    "                    \n",
    "                    f.write(\"\\nYeah 🎉😄! Model improved.\\n\")\n",
    "                    f.write(f\"\\nTraining   : Mean {str(criterion).split('(')[0]} = {(epoch_training_loss):.4f} | Mean {str(train_metric).split('(')[0]} = {(epoch_training_metric_score):.4f}\\n\")\n",
    "                    f.write(f\"Validation : Mean {str(criterion).split('(')[0]} = {(epoch_val_loss):.4f} | Mean {str(val_metric).split('(')[0]} = {(epoch_val_metric_score):.4f}\\n\")\n",
    "                else:\n",
    "                    patience_counter += 1\n",
    "                    \n",
    "                    print(\"\\nHuft 😥! Model not improved.\")\n",
    "                    print(f\"\\nTraining   : Mean {str(criterion).split('(')[0]} = {(epoch_training_loss):.4f} | Mean {str(train_metric).split('(')[0]} = {(epoch_training_metric_score):.4f}\")\n",
    "                    print(f\"Validation : Mean {str(criterion).split('(')[0]} = {(epoch_val_loss):.4f} | Mean {str(val_metric).split('(')[0]} = {(epoch_val_metric_score):.4f}\")\n",
    "                    print(f\"Patience = {patience_counter}/{patience}❗\\n\")\n",
    "                    \n",
    "                    f.write(\"\\nHuft 😥! Model not improved.\\n\")\n",
    "                    f.write(f\"\\nTraining   : Mean {str(criterion).split('(')[0]} = {(epoch_training_loss):.4f} | Mean {str(train_metric).split('(')[0]} = {(epoch_training_metric_score):.4f}\\n\")\n",
    "                    f.write(f\"Validation : Mean {str(criterion).split('(')[0]} = {(epoch_val_loss):.4f} | Mean {str(val_metric).split('(')[0]} = {(epoch_val_metric_score):.4f}\\n\")\n",
    "                    f.write(f\"Patience = {patience_counter}/{patience}❗\\n\")\n",
    "                    \n",
    "            print(\"=\" * 80, end=\"\\n\\n\")\n",
    "            \n",
    "            f.write(f\"{'=' * 80}\\n\\n\")\n",
    "            \n",
    "            if patience_counter == patience:\n",
    "                print(f\"Early stopping, patience = {patience_counter}/{patience}❗\\n\")\n",
    "                \n",
    "                f.write(f\"Early stopping, patience = {patience_counter}/{patience}❗\\n\")\n",
    "                break\n",
    "        \n",
    "        train_metric.reset()\n",
    "        val_metric.reset()\n",
    "        \n",
    "    finish_time = time()\n",
    "    \n",
    "    # Training plot \n",
    "    fig, (ax_loss, ax_metric_score) = plt.subplots(nrows=1, ncols=2, figsize=(15, 5))\n",
    "\n",
    "    fig.suptitle(f\"Training with context size = {hyperparams.context_size}\")\n",
    "\n",
    "    ax_loss.set_title(\"Loss\")\n",
    "    ax_loss.set_xlabel(\"Epoch\")\n",
    "    ax_loss.set_ylabel(\"Score\")\n",
    "    ax_loss.plot(epoch_training_losses, \"green\", label=\"Training\")\n",
    "    ax_loss.plot(epoch_val_losses, \"orange\", label=\"Validation\")\n",
    "    ax_loss.legend()\n",
    "    ax_loss.grid()\n",
    "\n",
    "    ax_metric_score.set_title(\"F1 Score\")\n",
    "    ax_metric_score.set_xlabel(\"Epoch\")\n",
    "    ax_metric_score.set_ylabel(\"Score\")\n",
    "    ax_metric_score.plot(epoch_training_metric_scores, \"green\", label=\"Training\")\n",
    "    ax_metric_score.plot(epoch_val_metric_scores, \"orange\", label=\"Validation\")\n",
    "    ax_metric_score.legend()\n",
    "    ax_metric_score.grid()\n",
    "\n",
    "    plt.savefig(f\"{root_path}/training_plot.jpg\", dpi=200)                        \n",
    "    \n",
    "    print(\"TRAINING SUMMARY\")\n",
    "    name_best_training_loss = f\"Best {str(criterion).split('(')[0]} training\".ljust(34)\n",
    "    name_best_training_metric = f\"Best {str(train_metric).split('(')[0]} validation\".ljust(34)\n",
    "    name_best_validation_loss = f\"Best {str(criterion).split('(')[0]} training\".ljust(34)\n",
    "    name_best_validation_metric = f\"Best {str(val_metric).split('(')[0]} validation\".ljust(34)\n",
    "    name_training_time = f\"Training duration\".ljust(34)\n",
    "    name_training_date = f\"Training date\".ljust(34)\n",
    "    \n",
    "    print(f\"{name_best_training_loss}: {best_training_loss:.4f}\")\n",
    "    print(f\"{name_best_validation_loss}: {best_val_loss:.4f}\")\n",
    "    print(f\"{name_best_training_metric}: {best_training_metric:.4f}\")\n",
    "    print(f\"{name_best_validation_metric}: {best_val_metric:.4f}\")\n",
    "    print(f\"{name_training_time}: {((finish_time - start_time) / 60):.4f} minutes.\")\n",
    "    print(f\"{name_training_date}: {now}\")\n",
    "    \n",
    "    with open(f\"{root_path}/training_history.txt\", \"a\") as f:\n",
    "        f.write(\"\\nTRAINING SUMMARY\\n\")\n",
    "        f.write(f\"{'-' * 80}\\n\")\n",
    "        f.write(f\"{name_best_training_loss}: {best_training_loss:.4f}\\n\")\n",
    "        f.write(f\"{name_best_validation_loss}: {best_val_loss:.4f}\\n\")\n",
    "        f.write(f\"{name_best_training_metric}: {best_training_metric:.4f}\\n\")\n",
    "        f.write(f\"{name_best_validation_metric}: {best_val_metric:.4f}\\n\")\n",
    "        f.write(f\"{name_training_time}: {((finish_time - start_time) / 60):.4f} minutes.\\n\")\n",
    "        f.write(f\"{name_training_date}: {now}\\n\")\n",
    "    \n",
    "    # Save epoch losses, epoch metric scores, model, state dict, and oov embedding dict\n",
    "    pd.DataFrame({\n",
    "        \"epoch\": list(range(1, hyperparams.n_epoch + 1)),\n",
    "        \"loss\": epoch_training_losses\n",
    "    }).to_csv(f\"{root_path}/training_losses.csv\", index=False)\n",
    "    \n",
    "    pd.DataFrame({\n",
    "        \"epoch\": list(range(1, hyperparams.n_epoch + 1)),\n",
    "        \"f1_score\": epoch_training_metric_scores\n",
    "    }).to_csv(f\"{root_path}/training_metric_scores.csv\", index=False)\n",
    "    \n",
    "    pd.DataFrame({\n",
    "        \"epoch\": list(range(1, hyperparams.n_epoch + 1)),\n",
    "        \"loss\": epoch_val_losses\n",
    "    }).to_csv(f\"{root_path}/val_losses.csv\", index=False)\n",
    "    \n",
    "    pd.DataFrame({\n",
    "        \"epoch\": list(range(1, hyperparams.n_epoch + 1)),\n",
    "        \"f1_score\": epoch_val_metric_scores\n",
    "    }).to_csv(f\"{root_path}/val_metric_scores.csv\", index=False)    \n",
    "    \n",
    "    filename_model_params = f\"{root_path}/model_params.pth\"\n",
    "    torch.save(best_state_dict, filename_model_params)\n",
    "    \n",
    "    return epoch_training_losses, epoch_training_metric_scores, epoch_val_losses, epoch_val_metric_scores\n",
    "\n",
    "epoch_training_losses, epoch_training_metric_scores, epoch_val_losses, epoch_val_metric_scores = looping_step(train_dataloader, val_dataloader, model, optimizer, criterion, train_metric, val_metric)"
   ]
  },
  {
   "cell_type": "markdown",
   "id": "39c1ab00-060c-492c-b731-b5b78bc10bc0",
   "metadata": {},
   "source": [
    "## End Training"
   ]
  },
  {
   "cell_type": "markdown",
   "id": "dd1d19df-0c5b-42c0-9619-f3409774cf4b",
   "metadata": {},
   "source": [
    "# Evaluation"
   ]
  },
  {
   "cell_type": "code",
   "execution_count": null,
   "id": "8aa68954-9917-497d-9be1-15bafefe7a68",
   "metadata": {},
   "outputs": [],
   "source": [
    "def evaluation(dataloader, model, criterion, metric):\n",
    "    model.eval()\n",
    "    \n",
    "    with torch.inference_mode():\n",
    "        for batch, (feature, actual_label) in enumerate(tqdm(dataloader), 1):\n",
    "            # Forward Propagation\n",
    "            feature = rearrange(feature, \"n s -> s n\")\n",
    "            actual_label = rearrange(actual_label, \"n s -> s n\")\n",
    "            embedding = word_embeddings(feature)\n",
    "\n",
    "            prob = model(\n",
    "                embedding.to(hyperparams.device),\n",
    "                actual_label.to(hyperparams.device)\n",
    "            )\n",
    "\n",
    "            prob = prob.reshape(-1, prob.shape[-1])\n",
    "            actual_label = actual_label.reshape(-1)\n",
    "            pred = rearrange(prob.argmax(dim=1).reshape(feature.shape[0], len(dataloader.dataset)), \"s n -> n s\")\n",
    "\n",
    "            loss = criterion(prob, actual_label.to(hyperparams.device))\n",
    "            metric_score = metric(prob.argmax(dim=1), actual_label.to(hyperparams.device))\n",
    "            metric_score = metric.compute()\n",
    "\n",
    "    return loss, metric_score, pred\n",
    "\n",
    "train_dataloader = DataLoader(train_dataset, batch_size=len(train_dataset))\n",
    "val_dataloader = DataLoader(val_dataset, batch_size=len(val_dataset))\n",
    "test_dataloader = DataLoader(test_dataset, batch_size=len(test_dataset))\n",
    "\n",
    "criterion = nn.CrossEntropyLoss().to(hyperparams.device)\n",
    "metric = MulticlassF1Score(average=\"micro\", num_classes=24, mdmc_average=\"samplewise\", multiclass=True, ignore_index=label_to_idx[\"<PAD>\"]).to(hyperparams.device)\n",
    "train_loss, train_f1_score, train_pred_label = evaluation(train_dataloader, model, criterion, metric)\n",
    "\n",
    "criterion = nn.CrossEntropyLoss().to(hyperparams.device)\n",
    "metric = MulticlassF1Score(average=\"micro\", num_classes=24, mdmc_average=\"samplewise\", multiclass=True, ignore_index=label_to_idx[\"<PAD>\"]).to(hyperparams.device)\n",
    "val_loss, val_f1_score, val_pred_label = evaluation(val_dataloader, model, criterion, metric)\n",
    "\n",
    "criterion = nn.CrossEntropyLoss().to(hyperparams.device)\n",
    "metric = MulticlassF1Score(average=\"micro\", num_classes=24, mdmc_average=\"samplewise\", multiclass=True, ignore_index=label_to_idx[\"<PAD>\"]).to(hyperparams.device)\n",
    "test_loss, test_f1_score, test_pred_label = evaluation(test_dataloader, model, criterion, metric)"
   ]
  },
  {
   "cell_type": "code",
   "execution_count": null,
   "id": "bf283357-3263-43eb-88e0-b3726c41fa47",
   "metadata": {},
   "outputs": [],
   "source": [
    "train_f1_score, val_f1_score, test_f1_score"
   ]
  },
  {
   "cell_type": "code",
   "execution_count": null,
   "id": "61d776c1-f3d8-48ce-9092-d5919ef6c645",
   "metadata": {},
   "outputs": [],
   "source": [
    "train_f1_score, val_f1_score, test_f1_score"
   ]
  },
  {
   "cell_type": "markdown",
   "id": "3fee85a3-646f-4e0b-8dfa-8b89f3e0a473",
   "metadata": {},
   "source": [
    "## Heatmap"
   ]
  },
  {
   "cell_type": "code",
   "execution_count": null,
   "id": "8948cb64-711c-4407-bdd6-78bf02161505",
   "metadata": {},
   "outputs": [],
   "source": [
    "import seaborn as sns\n",
    "\n",
    "def viz_evaluation(pred_label, actual_label, title):\n",
    "    plt.figure(figsize=(15, 7), dpi=200)\n",
    "    sns.heatmap(pred_label.detach().cpu() == actual_label, cbar=True, cmap=\"binary_r\")\n",
    "    plt.xlabel(\"Sentence Length\")\n",
    "    plt.ylabel(\"Sentence\")\n",
    "    plt.title(title)\n",
    "    plt.savefig(f\"{root_path}/heatmap_{title.lower()}.jpg\", dpi=200)\n",
    "    plt.show()\n",
    "\n",
    "train_actual_label = train_dataloader.dataset.tensors[1]\n",
    "val_actual_label = val_dataloader.dataset.tensors[1]\n",
    "test_actual_label = test_dataloader.dataset.tensors[1]\n",
    "\n",
    "viz_evaluation(train_pred_label, train_actual_label, f\"Training (F1-Score: {(train_f1_score):.4f})\")\n",
    "viz_evaluation(val_pred_label, val_actual_label, f\"Validation (F1-Score: {(val_f1_score):.4f})\")\n",
    "viz_evaluation(test_pred_label, test_actual_label, f\"Test (F1-Score: {(test_f1_score):.4f})\")"
   ]
  },
  {
   "cell_type": "markdown",
   "id": "e88a7dca-8191-47cc-a4be-45abd1a9b1d1",
   "metadata": {},
   "source": [
    "## Confusion Matrix"
   ]
  },
  {
   "cell_type": "code",
   "execution_count": null,
   "id": "4d68452f-f3ad-4899-868b-8aff317e0eda",
   "metadata": {},
   "outputs": [],
   "source": [
    "def confusion_matrix(pred_class, actual_class, title, normalize=None):\n",
    "    conf_mat = MulticlassConfusionMatrix(num_classes=24, normalize=normalize)\n",
    "    plt.figure(figsize=(20, 10), dpi=200)\n",
    "    sns.heatmap(conf_mat(pred_class.detach().cpu(), actual_class), annot=True, fmt=\".2g\", xticklabels=list(label_to_idx.keys()), yticklabels=list(label_to_idx.keys()));\n",
    "    plt.yticks(rotation=0)\n",
    "    plt.title(title)\n",
    "    plt.xlabel(\"Actual Class\")\n",
    "    plt.ylabel(\"Predict Class\")\n",
    "    plt.savefig(f\"{root_path}/conf_matrix_{title.lower()}.jpg\", dpi=200)\n",
    "\n",
    "confusion_matrix(train_pred_label, train_actual_label, \"Training\", \"pred\")\n",
    "confusion_matrix(val_pred_label,val_actual_label, \"Validation\", \"pred\")\n",
    "confusion_matrix(test_pred_label, test_actual_label, \"Test\", \"pred\")"
   ]
  },
  {
   "cell_type": "markdown",
   "id": "ada17c56-345a-4eba-914a-b093ce956d27",
   "metadata": {},
   "source": [
    "## Prediction Table"
   ]
  },
  {
   "cell_type": "code",
   "execution_count": null,
   "id": "3467f514-d6a6-46e4-b9bb-295686c5a572",
   "metadata": {},
   "outputs": [],
   "source": [
    "def number_wrong_pred_each_class(pred_class, actual_class):\n",
    "    classes, count_class = actual_class.flatten().unique(return_counts=True)\n",
    "    conf_mat = MulticlassConfusionMatrix(num_classes=24, normalize=\"none\")\n",
    "    correct_pred_count_class = conf_mat(pred_class.detach().cpu(), actual_class).diag()\n",
    "    \n",
    "    correct_pred = {idx_to_label[label.item()]: count.item() for label, count in zip(classes, (correct_pred_count_class))}\n",
    "    wrong_pred = {idx_to_label[label.item()]: count.item() for label, count in zip(classes, (count_class - correct_pred_count_class))}\n",
    "    \n",
    "    return correct_pred, wrong_pred\n",
    "\n",
    "correct_pred, wrong_pred = number_wrong_pred_each_class(train_pred_label, train_actual_label)\n",
    "print(f\"| {'Number class'.ljust(14)} | {'Correct prediction'.ljust(12)} | {'Wrong prediction'.ljust(12)} |\")\n",
    "for (label_correct_pred, count_correct_pred), (label_wrong_pred, count_wrong_pred) in zip(correct_pred.items(), wrong_pred.items()):\n",
    "    print(f\"| {str(label_correct_pred).ljust(6)}: {str(count_correct_pred + count_wrong_pred).ljust(7)}| {label_correct_pred.ljust(6)}: {str(count_correct_pred).ljust(10)} | {label_wrong_pred.ljust(6)}: {str(count_wrong_pred).ljust(8)} |\")"
   ]
  },
  {
   "cell_type": "code",
   "execution_count": null,
   "id": "4bc2b172-d261-42d3-b9c3-69f67cd0d622",
   "metadata": {},
   "outputs": [],
   "source": [
    "train_actual_label[308], train_pred_label[308]"
   ]
  },
  {
   "cell_type": "code",
   "execution_count": null,
   "id": "925c3a3f-2f10-44f8-b394-bedaf19e2540",
   "metadata": {},
   "outputs": [],
   "source": [
    "train_actual_label[308].detach().cpu() == train_pred_label[308].detach().cpu()"
   ]
  },
  {
   "cell_type": "markdown",
   "id": "77f44bd5-cd73-4184-9078-63d2b5718078",
   "metadata": {},
   "source": [
    "## OOV prediction is correct "
   ]
  },
  {
   "cell_type": "code",
   "execution_count": null,
   "id": "c4a4df60-901f-49d3-8dfb-b37fab4773be",
   "metadata": {},
   "outputs": [],
   "source": [
    "def oov_flag_token(sentences, max_seq_len=hyperparams.max_seq_len):\n",
    "    sent_copy = deepcopy(sentences)\n",
    "    sent = []\n",
    "    oov_flag = []\n",
    "    \n",
    "    for sentence in tqdm(sent_copy):\n",
    "        for token in sentence:\n",
    "            sent.append(token[2])\n",
    "        \n",
    "        for _ in range(max_seq_len- len(sentence)):\n",
    "            sent.append(False)\n",
    "        \n",
    "        oov_flag.append(sent)\n",
    "        sent = []\n",
    "        \n",
    "    return np.array(oov_flag)\n",
    "\n",
    "train_oov_flag = oov_flag_token(train_sentences, max_seq_len=hyperparams.max_seq_len)\n",
    "val_oov_flag = oov_flag_token(val_sentences, max_seq_len=hyperparams.max_seq_len)\n",
    "test_oov_flag = oov_flag_token(test_sentences, max_seq_len=hyperparams.max_seq_len)\n",
    "\n",
    "def pencentage_oov_pred_correct(pred_oov_flag, oov_flag_tensor):\n",
    "    oov_correct_counter = 0\n",
    "    oov_wrong_counter = 0\n",
    "\n",
    "    for pred, oov_label in tqdm(zip(pred_oov_flag, oov_flag_tensor)):\n",
    "        if pred == True and oov_label == True:\n",
    "            oov_correct_counter += 1\n",
    "        elif pred == False and oov_label == True:\n",
    "            oov_wrong_counter += 1\n",
    "        else:\n",
    "            continue\n",
    "            \n",
    "    return oov_correct_counter, oov_wrong_counter\n",
    "\n",
    "train_pred_oov_flag = (train_actual_label == train_pred_label.detach().cpu()).flatten()\n",
    "val_pred_oov_flag = (val_actual_label == val_pred_label.detach().cpu()).flatten()\n",
    "test_pred_oov_flag = (test_actual_label == test_pred_label.detach().cpu()).flatten()\n",
    "train_oov_flag_tensor = torch.tensor(train_oov_flag).flatten()\n",
    "val_oov_flag_tensor = torch.tensor(val_oov_flag).flatten()\n",
    "test_oov_flag_tensor = torch.tensor(test_oov_flag).flatten()\n",
    "\n",
    "train_oov_correct_counter, train_oov_wrong_counter = pencentage_oov_pred_correct(train_pred_oov_flag, train_oov_flag_tensor)\n",
    "val_oov_correct_counter, val_oov_wrong_counter = pencentage_oov_pred_correct(val_pred_oov_flag, val_oov_flag_tensor)\n",
    "test_oov_correct_counter, test_oov_wrong_counter = pencentage_oov_pred_correct(test_pred_oov_flag, test_oov_flag_tensor)"
   ]
  },
  {
   "cell_type": "code",
   "execution_count": null,
   "id": "1e59490d-6b9f-4c4d-833b-28eaf624d445",
   "metadata": {},
   "outputs": [],
   "source": [
    "def print_percentage_pred_oov(title, oov_correct_counter, oov_wrong_counter):\n",
    "    print(f\"{title}\")\n",
    "    print(f\"Number OOV token            : {oov_correct_counter + oov_wrong_counter}\")\n",
    "    print(f\"Correct prediction          : {oov_correct_counter}\")\n",
    "    print(f\"Wrong prediction            : {oov_wrong_counter}\")\n",
    "    print(f\"Percentage correct oov pred : {oov_correct_counter / (oov_correct_counter + oov_wrong_counter) * 100}\\n\")\n",
    "    \n",
    "    with open(f\"{root_path}/oov_summary.txt\", \"a\") as f:\n",
    "        f.write(f\"{title}\\n\")\n",
    "        f.write(f\"Number OOV token            : {oov_correct_counter + oov_wrong_counter}\\n\")\n",
    "        f.write(f\"Correct prediction          : {oov_correct_counter}\\n\")\n",
    "        f.write(f\"Wrong prediction            : {oov_wrong_counter}\\n\")\n",
    "        f.write(f\"Percentage correct oov pred : {oov_correct_counter / (oov_correct_counter + oov_wrong_counter) * 100}\\n\\n\")"
   ]
  },
  {
   "cell_type": "code",
   "execution_count": null,
   "id": "c6cda2e3-0629-4e3c-8459-4324b513ddaa",
   "metadata": {},
   "outputs": [],
   "source": [
    "print_percentage_pred_oov(\"Training\", train_oov_correct_counter, train_oov_wrong_counter)\n",
    "print_percentage_pred_oov(\"Validation\", val_oov_correct_counter, val_oov_wrong_counter)\n",
    "print_percentage_pred_oov(\"Test\", test_oov_correct_counter, test_oov_wrong_counter)"
   ]
  },
  {
   "cell_type": "code",
   "execution_count": null,
   "id": "4efce585-5e19-45eb-8781-6818b8369819",
   "metadata": {},
   "outputs": [],
   "source": [
    "plt.figure(figsize=(15, 7))\n",
    "sns.heatmap(train_oov_flag, cmap=plt.cm.binary_r);"
   ]
  },
  {
   "cell_type": "code",
   "execution_count": null,
   "id": "97963f81-d9bf-4239-842d-ef30df0dfb51",
   "metadata": {},
   "outputs": [],
   "source": [
    "plt.figure(figsize=(15, 7))\n",
    "sns.heatmap(val_oov_flag, cmap=plt.cm.binary_r);"
   ]
  },
  {
   "cell_type": "code",
   "execution_count": null,
   "id": "3674a992-1715-4d50-892d-bb7df050aeac",
   "metadata": {},
   "outputs": [],
   "source": [
    "plt.figure(figsize=(15, 7))\n",
    "sns.heatmap(test_oov_flag, cmap=plt.cm.binary_r);"
   ]
  },
  {
   "cell_type": "code",
   "execution_count": null,
   "id": "15fc95b3-4ee0-4cc1-b7d9-40a3e8150c8f",
   "metadata": {},
   "outputs": [],
   "source": []
  },
  {
   "cell_type": "code",
   "execution_count": null,
   "id": "b4828bfc-586d-4f3f-999f-cea4c114d2e3",
   "metadata": {},
   "outputs": [],
   "source": []
  }
 ],
 "metadata": {
  "kernelspec": {
   "display_name": "default:Python",
   "language": "python",
   "name": "conda-env-default-py"
  },
  "language_info": {
   "codemirror_mode": {
    "name": "ipython",
    "version": 3
   },
   "file_extension": ".py",
   "mimetype": "text/x-python",
   "name": "python",
   "nbconvert_exporter": "python",
   "pygments_lexer": "ipython3",
   "version": "3.9.13"
  }
 },
 "nbformat": 4,
 "nbformat_minor": 5
}
